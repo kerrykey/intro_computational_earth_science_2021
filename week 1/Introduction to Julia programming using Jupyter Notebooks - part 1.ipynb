{
 "cells": [
  {
   "cell_type": "markdown",
   "metadata": {},
   "source": [
    "# Introduction to Julia programming using Jupyter Notebooks - part 1\n",
    "\n",
    "## Learning goals\n",
    "- learn how to use Jupyter Notebooks\n",
    "- learn basic Julia commands\n",
    "- learn how to create and manipulate data arrays\n",
    "- learn to import and use Julia packages to extend Julia's capabilities\n",
    "- learn how to make plots using the `Plots` package.\n",
    "\n",
    "## Overview\n",
    "This lesson is designed to give you an introduction to Julia programming language with a goal of teaching you commands we will throughout the course. Everything you need to know to complete the homework assignments will be taugh the lecture notes and Jupyter notebooks, but I encourage you to also look at some of the Julia tutorials online. As with any programming language, there are almost always multiple ways to accomplish a certain programming task, and some methods are much better than others, so it is often helpful to learn from more than one source.\n",
    "\n",
    "Here is the official [Get Started with Julia](https://julialang.org/learning/) page.\n",
    "\n",
    " \n",
    "## Jupyter Notebooks\n",
    "There are two main ways to run Julia. You can write a sequence of Julia commands in a text file and then run them by passing the contents of the text file to Julia using a command window (also referred to as a terminal or shell). The other way, which we will use for this class, is to run an interactive Julia session in a Jupyter Notebook (like this one). Jupyter Notebooks were introduced only a few years ago for interactive coding in the Julia, Python and R languages (and hence the name *Ju Pyt e R*. They have primarily been used for Python coding, and hence why our Jupyter notebook file names end with the extension  _.ipynb_, which is stands for interactive Python notebook.  \n",
    "\n",
    "Notebooks are great for teaching, tutorials, and documenting the flow of data analysis or model simulations as part of a research project. \n",
    "\n",
    "You can execute code *blocks* line by line, display figures inline, and you can intersperse  Julia commands with formatted text sections (like this one). You can also embedded mathematical expressions. For example,  here is the formula for the graviational acceleration  at distance $r$ due to a sphere with mass $M$:\n",
    "\n",
    " $\\LARGE g = \\frac{G M}{r^2}  $\n",
    "\n",
    "\n"
   ]
  },
  {
   "cell_type": "markdown",
   "metadata": {},
   "source": [
    "###  Notebook Option 1 (what we use in this course): Run Jupyter notebooks in the cloud using a JupyterHub server\n",
    "For this course, I setup a JupyterHub server where all the course work can be performed via a web broswer: [https://eesc3400jupyter.org](https://eesc3400jupyter.org)\n",
    "\n",
    "You should be able to login using your columiba UNI email login (e.g. your_UNI.columbia.edu). If you have any issues logging in, contact me asap. \n",
    "\n",
    "This JupyterHub server runs on the Google Cloud Platform, so you will be cloud-computing in this course! \n",
    "\n",
    "All Julia commands are entered into a Jupyter notebook's via a web page loaded on your laptop or desktop computer, but when you execute a cell,  the corresponding computations are run in the JupyterHub server on computers somewhere in Google's cloud platform.\n",
    "\n",
    "\n",
    "###   Notebook Option 2 (more advanced and not required for this course): Run Jupyter notebooks locally on your computer\n",
    "1. [Download and install Julia](https://julialang.org/downloads/).\n",
    "2. Startup the Julia application and it will open a terminal shell.\n",
    "3. Install the interactive Julia package `IJulia` by typing these commands into the Julia terminal:\n",
    "\n",
    "```julia\n",
    "julia> import Pkg; Pkg.add(\"IJulia\")\n",
    "```\n",
    "\n",
    "Make sure your computer is connected to the internet for this step as Julia will need to download IJulia from Julia's General Registry for shared packages (more on this later in the course).\n",
    "You only need to add the IJulia package once and it will remain installed for your future Julia sessions.\n",
    "4. Launch the Jupyter notebook server by typing these commands into the Julia shell: \n",
    "\n",
    "```julia\n",
    "julia> using IJulia\n",
    "julia> jupyterlab()\n",
    "```\n",
    "\n",
    "Note that if you don't have Python installed on your computer, this step may ask you to also download the package `Conda.jl` for a minimal Python+jupyter distribution. More information is available [here](https://julialang.github.io/IJulia.jl/dev/manual/running/#Running-IJulia).\n",
    "\n",
    "## Create a new notebook\n",
    "\n",
    "Click on the _Julia_ button in the Notebook section of the Launcher tab to create a new notebook file. The number after the Julia name coresponds to the version number of Julia (e.g. _Julia 1.6.1_).\n",
    "\n",
    "## Cells\n",
    "Notebooks are simply a collection of cells. Each cell has a format as either _code_ where you can enter Julia commands, or the cell can contain text (like this cell). You can select the cell format using the drop down menu located at the top of the notebook. The text can be formatted as either _raw_, meaning plain ascii text without any formatting, or it can be formatted using the _markdown_ language as done for this cell. _markdown_ is a simple text formatting language. In additional to text formatting, _markdown_ allows you to enter equations using _Latex_ syntax so you can have formatted equations like this: $e^{i\\pi} + 1 = 0$ and $\\frac{\\sin(x)}{x}$. Here is a quick [cheatsheet for markdown commands](https://www.markdownguide.org/cheat-sheet).\n",
    "\n",
    "## Entering Commands\n",
    "\n",
    "The notebook works by entering commands into cells. You then hit \"shift-return\" to tell Jupyter to execute the commands in the currently selected cell.  \n",
    "\n",
    "By default cells are *Code* cells, where Jupyter expects the cell to contain Julia commands. \n",
    "\n",
    "On a Mac, you can type \"option-return\" in a cell and a new cell will be made below.  There are many more options, all of which can be found by exploring the menu bar items at the top of your notebook.\n",
    "\n",
    "---\n",
    "## Simple Math\n",
    "You can use a cell as a calculator. For example:"
   ]
  },
  {
   "cell_type": "code",
   "execution_count": 1,
   "metadata": {},
   "outputs": [
    {
     "data": {
      "text/plain": [
       "3"
      ]
     },
     "execution_count": 1,
     "metadata": {},
     "output_type": "execute_result"
    }
   ],
   "source": [
    "1+2"
   ]
  },
  {
   "cell_type": "code",
   "execution_count": 2,
   "metadata": {},
   "outputs": [
    {
     "data": {
      "text/plain": [
       "-1"
      ]
     },
     "execution_count": 2,
     "metadata": {},
     "output_type": "execute_result"
    }
   ],
   "source": [
    "# addition\n",
    "1+2-4"
   ]
  },
  {
   "cell_type": "code",
   "execution_count": 3,
   "metadata": {},
   "outputs": [],
   "source": [
    "# Note that anything to the right of a # symbol is considered a code comment and will be ignored by Julia.\n",
    "# For example both of these lines are comment lines. Note that code comments are green and displayed in italics."
   ]
  },
  {
   "cell_type": "code",
   "execution_count": 4,
   "metadata": {},
   "outputs": [
    {
     "data": {
      "text/plain": [
       "6"
      ]
     },
     "execution_count": 4,
     "metadata": {},
     "output_type": "execute_result"
    }
   ],
   "source": [
    "# Multiplication \n",
    "2*3"
   ]
  },
  {
   "cell_type": "code",
   "execution_count": 5,
   "metadata": {},
   "outputs": [
    {
     "data": {
      "text/plain": [
       "0.3333333333333333"
      ]
     },
     "execution_count": 5,
     "metadata": {},
     "output_type": "execute_result"
    }
   ],
   "source": [
    "# Division\n",
    "1/3"
   ]
  },
  {
   "cell_type": "markdown",
   "metadata": {},
   "source": [
    "Julia  strictly follows the mathematical order of operations. Remember _PEMDAS_ for the order of operations (from first to last):\n",
    "- Parentheses\n",
    "- Exponents\n",
    "- Multiplication and Division\n",
    "- Addition and Subtraction\n",
    "\n",
    "For example:"
   ]
  },
  {
   "cell_type": "code",
   "execution_count": 6,
   "metadata": {},
   "outputs": [
    {
     "data": {
      "text/plain": [
       "17"
      ]
     },
     "execution_count": 6,
     "metadata": {},
     "output_type": "execute_result"
    }
   ],
   "source": [
    "4+5*3-2"
   ]
  },
  {
   "cell_type": "code",
   "execution_count": 7,
   "metadata": {},
   "outputs": [
    {
     "data": {
      "text/plain": [
       "9"
      ]
     },
     "execution_count": 7,
     "metadata": {},
     "output_type": "execute_result"
    }
   ],
   "source": [
    "4+5*(3-2)"
   ]
  },
  {
   "cell_type": "markdown",
   "metadata": {},
   "source": [
    "Julia ignores spaced between the values and the operators. For example, the command below produces the same answer as the command above, despite the heinously large and annoying spaces between the values an operators."
   ]
  },
  {
   "cell_type": "code",
   "execution_count": 8,
   "metadata": {},
   "outputs": [
    {
     "data": {
      "text/plain": [
       "9"
      ]
     },
     "execution_count": 8,
     "metadata": {},
     "output_type": "execute_result"
    }
   ],
   "source": [
    "4     + 5 *          (3 -                             2)"
   ]
  },
  {
   "cell_type": "markdown",
   "metadata": {},
   "source": [
    "You can  break up a long equation into more than one line using by ending each line with an operator. When Julia sees this, it knows to continue on to the next line. For example"
   ]
  },
  {
   "cell_type": "code",
   "execution_count": 9,
   "metadata": {},
   "outputs": [
    {
     "data": {
      "text/plain": [
       "9"
      ]
     },
     "execution_count": 9,
     "metadata": {},
     "output_type": "execute_result"
    }
   ],
   "source": [
    "4 + 5*\n",
    "(3-2)"
   ]
  },
  {
   "cell_type": "markdown",
   "metadata": {},
   "source": [
    "and similarly, if the expression on one line is not complete, Julia will look to the next line. Here the left parentheses \"(\" is not closed on the first line, so Julia looks to the next line for the ending right parentheses )."
   ]
  },
  {
   "cell_type": "code",
   "execution_count": 10,
   "metadata": {},
   "outputs": [
    {
     "data": {
      "text/plain": [
       "9"
      ]
     },
     "execution_count": 10,
     "metadata": {},
     "output_type": "execute_result"
    }
   ],
   "source": [
    "4 + 5*(3\n",
    "-2)"
   ]
  },
  {
   "cell_type": "markdown",
   "metadata": {},
   "source": [
    "But notice how this cell results in a different result, since the first line can be evaulated on its own."
   ]
  },
  {
   "cell_type": "code",
   "execution_count": 11,
   "metadata": {},
   "outputs": [
    {
     "data": {
      "text/plain": [
       "1"
      ]
     },
     "execution_count": 11,
     "metadata": {},
     "output_type": "execute_result"
    }
   ],
   "source": [
    "4 + 5\n",
    "*(3-2)"
   ]
  },
  {
   "cell_type": "markdown",
   "metadata": {},
   "source": [
    "Exponents (or powers) are specified using the caret (also called circumflex) symbol ^.  For example, to raise two to the power 3, i.e. $2^3$:"
   ]
  },
  {
   "cell_type": "code",
   "execution_count": 12,
   "metadata": {},
   "outputs": [
    {
     "data": {
      "text/plain": [
       "8"
      ]
     },
     "execution_count": 12,
     "metadata": {},
     "output_type": "execute_result"
    }
   ],
   "source": [
    "2^3"
   ]
  },
  {
   "cell_type": "markdown",
   "metadata": {},
   "source": [
    "You can also use decimal exponents. For example to compute $25^{\\frac{1}{2}}$:"
   ]
  },
  {
   "cell_type": "code",
   "execution_count": 13,
   "metadata": {},
   "outputs": [
    {
     "data": {
      "text/plain": [
       "5.0"
      ]
     },
     "execution_count": 13,
     "metadata": {},
     "output_type": "execute_result"
    }
   ],
   "source": [
    "25^0.5"
   ]
  },
  {
   "cell_type": "code",
   "execution_count": 14,
   "metadata": {},
   "outputs": [
    {
     "data": {
      "text/plain": [
       "12.5"
      ]
     },
     "execution_count": 14,
     "metadata": {},
     "output_type": "execute_result"
    }
   ],
   "source": [
    "# Be careful when using fractions as exponents\n",
    "25^1/2"
   ]
  },
  {
   "cell_type": "code",
   "execution_count": 15,
   "metadata": {},
   "outputs": [
    {
     "data": {
      "text/plain": [
       "5.0"
      ]
     },
     "execution_count": 15,
     "metadata": {},
     "output_type": "execute_result"
    }
   ],
   "source": [
    "# that was not intended! Remember PEMDAS. The exponent is computed before the division \n",
    "# so Julia thinkss this is 25 to the power 1, then divides that by 2.\n",
    "# Use parentheses instead to get the intended square root:\n",
    "25^(1/2)"
   ]
  },
  {
   "cell_type": "code",
   "execution_count": 16,
   "metadata": {},
   "outputs": [],
   "source": [
    "# in this case, you could also use the sqrt() function:"
   ]
  },
  {
   "cell_type": "code",
   "execution_count": 17,
   "metadata": {},
   "outputs": [
    {
     "data": {
      "text/plain": [
       "5.0"
      ]
     },
     "execution_count": 17,
     "metadata": {},
     "output_type": "execute_result"
    }
   ],
   "source": [
    "sqrt(25)"
   ]
  },
  {
   "cell_type": "code",
   "execution_count": 18,
   "metadata": {},
   "outputs": [
    {
     "data": {
      "text/plain": [
       "1.0"
      ]
     },
     "execution_count": 18,
     "metadata": {},
     "output_type": "execute_result"
    }
   ],
   "source": [
    "# you can round numbers to the nearest integer using:\n",
    "round(2/3)"
   ]
  },
  {
   "cell_type": "markdown",
   "metadata": {},
   "source": [
    "## Scientific notation"
   ]
  },
  {
   "cell_type": "markdown",
   "metadata": {},
   "source": [
    "In addition entering numbers as integers or decimals, it can often be more convenient to use scientific notation, particularly for very large or very small values. In most programming languages, the character e (or E) is shorthand for ten to some power, such as $10^x$. For example,  $10^6$ can be entered as 1e6."
   ]
  },
  {
   "cell_type": "code",
   "execution_count": 19,
   "metadata": {},
   "outputs": [
    {
     "data": {
      "text/plain": [
       "1.0e6"
      ]
     },
     "execution_count": 19,
     "metadata": {},
     "output_type": "execute_result"
    }
   ],
   "source": [
    "1e6"
   ]
  },
  {
   "cell_type": "code",
   "execution_count": 20,
   "metadata": {},
   "outputs": [
    {
     "data": {
      "text/plain": [
       "1.0e6"
      ]
     },
     "execution_count": 20,
     "metadata": {},
     "output_type": "execute_result"
    }
   ],
   "source": [
    "1E6"
   ]
  },
  {
   "cell_type": "code",
   "execution_count": 21,
   "metadata": {},
   "outputs": [
    {
     "data": {
      "text/plain": [
       "1000000"
      ]
     },
     "execution_count": 21,
     "metadata": {},
     "output_type": "execute_result"
    }
   ],
   "source": [
    "# or you could use this syntax, but it requires a typing three more characters than the line above:\n",
    "10^6"
   ]
  },
  {
   "cell_type": "code",
   "execution_count": 22,
   "metadata": {},
   "outputs": [
    {
     "data": {
      "text/plain": [
       "7.45189124981e11"
      ]
     },
     "execution_count": 22,
     "metadata": {},
     "output_type": "execute_result"
    }
   ],
   "source": [
    "# or the more complicated number 745,189,124,981:\n",
    ".745189124981e12"
   ]
  },
  {
   "cell_type": "code",
   "execution_count": 23,
   "metadata": {},
   "outputs": [
    {
     "data": {
      "text/plain": [
       "8.85418782e-12"
      ]
     },
     "execution_count": 23,
     "metadata": {},
     "output_type": "execute_result"
    }
   ],
   "source": [
    "# Scientific notation is also helpful for very small numbers:\n",
    "8.85418782e-12"
   ]
  },
  {
   "cell_type": "code",
   "execution_count": 24,
   "metadata": {},
   "outputs": [
    {
     "data": {
      "text/plain": [
       "1.234e-21"
      ]
     },
     "execution_count": 24,
     "metadata": {},
     "output_type": "execute_result"
    }
   ],
   "source": [
    "# if you enter a decimal number that is more compactly represented using scientific notation, Julia will do so. \n",
    "# for example:\n",
    "0.000000000000000000001234"
   ]
  },
  {
   "cell_type": "markdown",
   "metadata": {},
   "source": [
    "**Tip**: A not uncommon mistake for new programmers is to accidentiall mix exponent ^ and e notation. For example, the  1,000,000 is not:"
   ]
  },
  {
   "cell_type": "code",
   "execution_count": 25,
   "metadata": {},
   "outputs": [
    {
     "data": {
      "text/plain": [
       "1.0e7"
      ]
     },
     "execution_count": 25,
     "metadata": {},
     "output_type": "execute_result"
    }
   ],
   "source": [
    "10e6"
   ]
  },
  {
   "cell_type": "markdown",
   "metadata": {},
   "source": [
    "but rather should entered using either of these two ways:"
   ]
  },
  {
   "cell_type": "code",
   "execution_count": 26,
   "metadata": {},
   "outputs": [
    {
     "data": {
      "text/plain": [
       "1.0e6"
      ]
     },
     "execution_count": 26,
     "metadata": {},
     "output_type": "execute_result"
    }
   ],
   "source": [
    "1e6"
   ]
  },
  {
   "cell_type": "code",
   "execution_count": 27,
   "metadata": {},
   "outputs": [
    {
     "data": {
      "text/plain": [
       "1000000"
      ]
     },
     "execution_count": 27,
     "metadata": {},
     "output_type": "execute_result"
    }
   ],
   "source": [
    "10^6"
   ]
  },
  {
   "cell_type": "markdown",
   "metadata": {},
   "source": [
    "---\n",
    "## Number Variables\n",
    "In computer programming, a variable is used to store data, usually as numbers or characters.  "
   ]
  },
  {
   "cell_type": "code",
   "execution_count": 28,
   "metadata": {},
   "outputs": [
    {
     "data": {
      "text/plain": [
       "10"
      ]
     },
     "execution_count": 28,
     "metadata": {},
     "output_type": "execute_result"
    }
   ],
   "source": [
    "# Here we create variables a and b and assign them some values:\n",
    "a = 4\n",
    "b = 10"
   ]
  },
  {
   "cell_type": "code",
   "execution_count": 29,
   "metadata": {},
   "outputs": [
    {
     "data": {
      "text/plain": [
       "40"
      ]
     },
     "execution_count": 29,
     "metadata": {},
     "output_type": "execute_result"
    }
   ],
   "source": [
    "# then we can use the variables in calculations:\n",
    "a*b"
   ]
  },
  {
   "cell_type": "code",
   "execution_count": 30,
   "metadata": {},
   "outputs": [
    {
     "data": {
      "text/plain": [
       "9"
      ]
     },
     "execution_count": 30,
     "metadata": {},
     "output_type": "execute_result"
    }
   ],
   "source": [
    "a=4; b=5; c=3; d=2\n",
    "a+b*(c-d)"
   ]
  },
  {
   "cell_type": "code",
   "execution_count": 31,
   "metadata": {},
   "outputs": [
    {
     "data": {
      "text/plain": [
       "20"
      ]
     },
     "execution_count": 31,
     "metadata": {},
     "output_type": "execute_result"
    }
   ],
   "source": [
    "# you can also define a variable using other variables:\n",
    "c = a*b"
   ]
  },
  {
   "cell_type": "code",
   "execution_count": 32,
   "metadata": {},
   "outputs": [
    {
     "name": "stdout",
     "output_type": "stream",
     "text": [
      "20"
     ]
    }
   ],
   "source": [
    "# Use the print function to see the value of c:\n",
    "print(c)"
   ]
  },
  {
   "cell_type": "code",
   "execution_count": 33,
   "metadata": {},
   "outputs": [
    {
     "data": {
      "text/plain": [
       "2.0"
      ]
     },
     "execution_count": 33,
     "metadata": {},
     "output_type": "execute_result"
    }
   ],
   "source": [
    "# You can reassign existing variables:\n",
    "a = 1.\n",
    "b = 2\n",
    "a*b"
   ]
  },
  {
   "cell_type": "code",
   "execution_count": 34,
   "metadata": {},
   "outputs": [
    {
     "data": {
      "text/latex": [
       "\\begin{tabular}\n",
       "{l | r | l}\n",
       "name & size & summary \\\\\n",
       "\\hline\n",
       "Base &  & Module \\\\\n",
       "Core &  & Module \\\\\n",
       "Main &  & Module \\\\\n",
       "a & 8 bytes & Float64 \\\\\n",
       "b & 8 bytes & Int64 \\\\\n",
       "c & 8 bytes & Int64 \\\\\n",
       "d & 8 bytes & Int64 \\\\\n",
       "\\end{tabular}\n"
      ],
      "text/markdown": [
       "| name |    size | summary |\n",
       "|:---- | -------:|:------- |\n",
       "| Base |         | Module  |\n",
       "| Core |         | Module  |\n",
       "| Main |         | Module  |\n",
       "| a    | 8 bytes | Float64 |\n",
       "| b    | 8 bytes | Int64   |\n",
       "| c    | 8 bytes | Int64   |\n",
       "| d    | 8 bytes | Int64   |\n"
      ],
      "text/plain": [
       "  name    size summary\n",
       "  –––– ––––––– –––––––\n",
       "  Base         Module \n",
       "  Core         Module \n",
       "  Main         Module \n",
       "  a    8 bytes Float64\n",
       "  b    8 bytes Int64  \n",
       "  c    8 bytes Int64  \n",
       "  d    8 bytes Int64  "
      ]
     },
     "execution_count": 34,
     "metadata": {},
     "output_type": "execute_result"
    }
   ],
   "source": [
    "# Use the varinfo() command to see what variables currently exist in  Julia's memory workspace:\n",
    "varinfo()"
   ]
  },
  {
   "cell_type": "code",
   "execution_count": 35,
   "metadata": {},
   "outputs": [
    {
     "name": "stdout",
     "output_type": "stream",
     "text": [
      "11"
     ]
    }
   ],
   "source": [
    "# You can also update the value of a variable using its current value along with \n",
    "# one or more mathematical operations: \n",
    "i = 10\n",
    "i = i + 1\n",
    "print(i)"
   ]
  },
  {
   "cell_type": "markdown",
   "metadata": {},
   "source": [
    "**Tip:** In computer programming, the `=` sign means *assignment* and not equivalence. So you can think of the expression `i = i + 1` as `i` is assigned to be the value of `i` plus `1`. If instead the equal sign meant equivalence, |`i` could be eliminated from both sides, leading to the invalid expression `0 = 1`!"
   ]
  },
  {
   "cell_type": "markdown",
   "metadata": {},
   "source": [
    "---\n",
    "## Variable names ###\n",
    "Variable names must begin with a letter and not a number, but after the first character they can have any combinations of letters and numbers, as well as underscores _ and other symbols, so long as those symbols are not operators like `+,-,*,/,%`.  \n",
    "\n",
    "In general, it's a good idea to pick variable names that will help you understand what your code is doing. This is especially important when you have tens to hundreds of variables in a code or when your code may be hundreds to thousands of lines long, so that keeping track of what each variable does could be challenging; having an informative variable name can offer a helpful clue when you are trying to follow the flow of a code.\n",
    "\n",
    "Although upper case characters are allowed, the [Julia style guide](https://docs.julialang.org/en/v1/manual/variables/#Allowed-Variable-Names) recommends using lower case characters for variable names.\n",
    "\n",
    "**Good variable names:**\n",
    "\n",
    "- soundspeed\n",
    "- initialtemperature\n",
    "- t0\n",
    "- oceandepth\n",
    "- timeofday\n",
    "- a\n",
    "- b\n",
    "- c\n",
    "\n",
    "**Allowed but not recommended by the Julia style guide**\n",
    "- camelCase\n",
    "- timeOfDay\n",
    "- time_of_day\n",
    "- CaptialCaseVariable\n",
    "\n",
    "\n",
    "**Bad or possibly confusing variable names:**\n",
    "\n",
    "- soSp\n",
    "- in_tem\n",
    "- od\n",
    "- a13492\n",
    "- variablenamesthatarereallyreallyreallyreallyreallylong\n",
    "\n",
    "\n",
    "\n",
    "**Illegal variable names:**\n",
    "\n",
    "- 1alpha\n",
    "- .nope\n",
    "- #NotGoingToWork\n",
    "- I.am.an.illegal.variable\n",
    "- *a\n",
    "\n",
    "Despite the Julia style guide's recommendation for using lower case letters for variable names, in some instances it may makes sense to use upper case variable names. For example, for physics variable such as for temperature, an upper case  `T` might make sense over the longer variable name `temperature`. Converseley, a lower case `t` often denotes the variable for time."
   ]
  },
  {
   "cell_type": "markdown",
   "metadata": {},
   "source": [
    "Note that variable names are also case sensitive. *A* is a different variable than *a*:"
   ]
  },
  {
   "cell_type": "code",
   "execution_count": 36,
   "metadata": {},
   "outputs": [
    {
     "ename": "LoadError",
     "evalue": "UndefVarError: A not defined",
     "output_type": "error",
     "traceback": [
      "UndefVarError: A not defined",
      "",
      "Stacktrace:",
      " [1] top-level scope",
      "   @ :0",
      " [2] eval",
      "   @ ./boot.jl:360 [inlined]",
      " [3] include_string(mapexpr::typeof(REPL.softscope), mod::Module, code::String, filename::String)",
      "   @ Base ./loading.jl:1116"
     ]
    }
   ],
   "source": [
    "A"
   ]
  },
  {
   "cell_type": "markdown",
   "metadata": {},
   "source": [
    "Julia also has unicode support that allows you to use greek symbols for variable names ([more info here](https://docs.julialang.org/en/v1/manual/variables/#man-variables))."
   ]
  },
  {
   "cell_type": "code",
   "execution_count": 37,
   "metadata": {},
   "outputs": [
    {
     "data": {
      "text/plain": [
       "1.0"
      ]
     },
     "execution_count": 37,
     "metadata": {},
     "output_type": "execute_result"
    }
   ],
   "source": [
    "λ = a\n",
    "Δ = a - b\n",
    "δ = a^2"
   ]
  },
  {
   "cell_type": "markdown",
   "metadata": {},
   "source": [
    "---\n",
    "## String Variables \n",
    "A string variable holds one or more characters. You can think of them as a continous sequence of characters, where even the spaces are a stored as a character. String variables are defined by enclosing the characters using double quotes \"\" only (note that some other programming languages allow strings to be defined using single quotes '').  "
   ]
  },
  {
   "cell_type": "code",
   "execution_count": 38,
   "metadata": {},
   "outputs": [
    {
     "data": {
      "text/plain": [
       "\"Kerry\""
      ]
     },
     "execution_count": 38,
     "metadata": {},
     "output_type": "execute_result"
    }
   ],
   "source": [
    "name = \"Kerry\""
   ]
  },
  {
   "cell_type": "code",
   "execution_count": 39,
   "metadata": {},
   "outputs": [
    {
     "data": {
      "text/plain": [
       "\"New York\""
      ]
     },
     "execution_count": 39,
     "metadata": {},
     "output_type": "execute_result"
    }
   ],
   "source": [
    "city = \"New York\""
   ]
  },
  {
   "cell_type": "code",
   "execution_count": 40,
   "metadata": {},
   "outputs": [
    {
     "name": "stdout",
     "output_type": "stream",
     "text": [
      "KerryNew York"
     ]
    }
   ],
   "source": [
    "# Print them using the print() function:\n",
    "print(name)\n",
    "print(city)"
   ]
  },
  {
   "cell_type": "code",
   "execution_count": 41,
   "metadata": {},
   "outputs": [
    {
     "name": "stdout",
     "output_type": "stream",
     "text": [
      "Kerry\n",
      "New York\n"
     ]
    }
   ],
   "source": [
    "# use the println() function to create a newline with each print statement:\n",
    "println(name)\n",
    "println(city)"
   ]
  },
  {
   "cell_type": "code",
   "execution_count": 42,
   "metadata": {},
   "outputs": [
    {
     "name": "stdout",
     "output_type": "stream",
     "text": [
      "Hello World"
     ]
    }
   ],
   "source": [
    "# You can also directly print text by enclosing it inside the print() function:\n",
    "print(\"Hello World\")"
   ]
  },
  {
   "cell_type": "code",
   "execution_count": 43,
   "metadata": {},
   "outputs": [
    {
     "name": "stdout",
     "output_type": "stream",
     "text": [
      "Kerry lives in New York"
     ]
    }
   ],
   "source": [
    "# You can also combine variables in a print statement:\n",
    "print(name,\" lives in \", city)"
   ]
  },
  {
   "cell_type": "code",
   "execution_count": 44,
   "metadata": {},
   "outputs": [
    {
     "name": "stdout",
     "output_type": "stream",
     "text": [
      "My name is Kerry"
     ]
    }
   ],
   "source": [
    "# Here's another way to use a print statement:\n",
    "print(\"My name is \",name)"
   ]
  },
  {
   "cell_type": "code",
   "execution_count": 45,
   "metadata": {},
   "outputs": [
    {
     "data": {
      "text/plain": [
       "\"abcdef\""
      ]
     },
     "execution_count": 45,
     "metadata": {},
     "output_type": "execute_result"
    }
   ],
   "source": [
    "# You can also combine (aka concatenate) strings using the * operator:\n",
    "part1 = \"abc\"\n",
    "part2 = \"def\"\n",
    "part1 * part2"
   ]
  },
  {
   "cell_type": "markdown",
   "metadata": {},
   "source": [
    "Note that this is different than python, which concatenates strings using the `+` operator."
   ]
  },
  {
   "cell_type": "code",
   "execution_count": 46,
   "metadata": {},
   "outputs": [
    {
     "name": "stdout",
     "output_type": "stream",
     "text": [
      "don't"
     ]
    }
   ],
   "source": [
    "# Since strings are defined using double quotes, a single quote can be used as an apostrophe inside a string:\n",
    "do_not = \"don't\"\n",
    "print(do_not)"
   ]
  },
  {
   "cell_type": "code",
   "execution_count": 47,
   "metadata": {},
   "outputs": [
    {
     "name": "stdout",
     "output_type": "stream",
     "text": [
      " \"Most good programmers do programming not because \n",
      "  they expect to get paid or get adulation by the public,\n",
      "  but because it is fun to program.\" \n",
      "\n",
      "- Linus Torvalds "
     ]
    }
   ],
   "source": [
    "# Long character strings can be broken up into multiple lines using triple quotes\n",
    "quote_string = \"\"\" \"Most good programmers do programming not because \n",
    "    they expect to get paid or get adulation by the public,\n",
    "    but because it is fun to program.\" \n",
    "\n",
    "  - Linus Torvalds \"\"\"\n",
    "print(quote_string)"
   ]
  },
  {
   "cell_type": "markdown",
   "metadata": {},
   "source": [
    " ---\n",
    "## Math functions in Julia\n",
    "The Julia language was developed specifically with scientific computing in mind and thus most common mathematical functions are built-in to the language and do not require loading external packages."
   ]
  },
  {
   "cell_type": "code",
   "execution_count": 48,
   "metadata": {},
   "outputs": [
    {
     "data": {
      "text/plain": [
       "9.0"
      ]
     },
     "execution_count": 48,
     "metadata": {},
     "output_type": "execute_result"
    }
   ],
   "source": [
    "sqrt(81)"
   ]
  },
  {
   "cell_type": "code",
   "execution_count": 49,
   "metadata": {},
   "outputs": [
    {
     "data": {
      "text/plain": [
       "2.1"
      ]
     },
     "execution_count": 49,
     "metadata": {},
     "output_type": "execute_result"
    }
   ],
   "source": [
    "# absolute value:\n",
    "abs(-2.1)"
   ]
  },
  {
   "cell_type": "markdown",
   "metadata": {},
   "source": [
    "Exponentiation  $e^x$:"
   ]
  },
  {
   "cell_type": "code",
   "execution_count": 50,
   "metadata": {},
   "outputs": [
    {
     "data": {
      "text/plain": [
       "2.718281828459045"
      ]
     },
     "execution_count": 50,
     "metadata": {},
     "output_type": "execute_result"
    }
   ],
   "source": [
    "exp(1)"
   ]
  },
  {
   "cell_type": "code",
   "execution_count": 51,
   "metadata": {},
   "outputs": [
    {
     "data": {
      "text/plain": [
       "0.6931471805599453"
      ]
     },
     "execution_count": 51,
     "metadata": {},
     "output_type": "execute_result"
    }
   ],
   "source": [
    "# logarithm, base exp(1)\n",
    "log(2)"
   ]
  },
  {
   "cell_type": "code",
   "execution_count": 52,
   "metadata": {},
   "outputs": [
    {
     "data": {
      "text/plain": [
       "2.0"
      ]
     },
     "execution_count": 52,
     "metadata": {},
     "output_type": "execute_result"
    }
   ],
   "source": [
    "# logarithm, base 10:\n",
    "log10(100)"
   ]
  },
  {
   "cell_type": "code",
   "execution_count": 53,
   "metadata": {},
   "outputs": [
    {
     "data": {
      "text/plain": [
       "π = 3.1415926535897..."
      ]
     },
     "execution_count": 53,
     "metadata": {},
     "output_type": "execute_result"
    }
   ],
   "source": [
    "# You can get the value of pi using the built-in value for pi:\n",
    "pi"
   ]
  },
  {
   "cell_type": "code",
   "execution_count": 54,
   "metadata": {},
   "outputs": [
    {
     "data": {
      "text/plain": [
       "1.0"
      ]
     },
     "execution_count": 54,
     "metadata": {},
     "output_type": "execute_result"
    }
   ],
   "source": [
    "# sine:\n",
    "sin(pi/2)"
   ]
  },
  {
   "cell_type": "code",
   "execution_count": 55,
   "metadata": {},
   "outputs": [
    {
     "data": {
      "text/plain": [
       "-1.0"
      ]
     },
     "execution_count": 55,
     "metadata": {},
     "output_type": "execute_result"
    }
   ],
   "source": [
    "# cosine:\n",
    "cos(pi)"
   ]
  },
  {
   "cell_type": "markdown",
   "metadata": {},
   "source": [
    "**Tip: the standard trigonometric functions expect their arguments to be in radians, not degrees.**  If you want to use input values as degrees, you need to use the special versions of the trigonometric functions that have the \n",
    "letter \"d\" added to their names:"
   ]
  },
  {
   "cell_type": "code",
   "execution_count": 56,
   "metadata": {},
   "outputs": [
    {
     "data": {
      "text/plain": [
       "1.0"
      ]
     },
     "execution_count": 56,
     "metadata": {},
     "output_type": "execute_result"
    }
   ],
   "source": [
    "sind(90)"
   ]
  },
  {
   "cell_type": "code",
   "execution_count": 57,
   "metadata": {},
   "outputs": [
    {
     "data": {
      "text/plain": [
       "-1.0"
      ]
     },
     "execution_count": 57,
     "metadata": {},
     "output_type": "execute_result"
    }
   ],
   "source": [
    "cosd(180)"
   ]
  },
  {
   "cell_type": "markdown",
   "metadata": {},
   "source": [
    "Alternatively, if you want to convert from degrees to radians and vice-versa, use the `rad2deg` and `deg2rad` functions:"
   ]
  },
  {
   "cell_type": "code",
   "execution_count": 58,
   "metadata": {},
   "outputs": [
    {
     "data": {
      "text/plain": [
       "3.141592653589793"
      ]
     },
     "execution_count": 58,
     "metadata": {},
     "output_type": "execute_result"
    }
   ],
   "source": [
    "# degrees to radians:\n",
    "deg2rad(180)"
   ]
  },
  {
   "cell_type": "code",
   "execution_count": 59,
   "metadata": {},
   "outputs": [
    {
     "data": {
      "text/plain": [
       "180.0"
      ]
     },
     "execution_count": 59,
     "metadata": {},
     "output_type": "execute_result"
    }
   ],
   "source": [
    "# radians to degrees:\n",
    "rad2deg(pi)"
   ]
  },
  {
   "cell_type": "code",
   "execution_count": 60,
   "metadata": {},
   "outputs": [
    {
     "data": {
      "text/plain": [
       "1.0"
      ]
     },
     "execution_count": 60,
     "metadata": {},
     "output_type": "execute_result"
    }
   ],
   "source": [
    "# By nesting the deg2rad function inside the sin() function, we can mimic the sind() function:\n",
    "sin(deg2rad(90))"
   ]
  },
  {
   "cell_type": "code",
   "execution_count": 61,
   "metadata": {},
   "outputs": [
    {
     "data": {
      "text/plain": [
       "0.9999999999999999"
      ]
     },
     "execution_count": 61,
     "metadata": {},
     "output_type": "execute_result"
    }
   ],
   "source": [
    "# tangent:\n",
    "tan(pi/4)"
   ]
  },
  {
   "cell_type": "markdown",
   "metadata": {},
   "source": [
    "What's going on here? On my laptop tan(pi/4) returned 0.9999999999999999, rather than the expected value of 1.0. This is because modern computers and programming languages represent floating point numbers using 16 digits of precision and the `tan()` function resulted in a tiny rounding error when computing `tan(pi/4)`. But for all practical purposes, 0.9999999999999999 is basically the same as 1.0."
   ]
  },
  {
   "cell_type": "code",
   "execution_count": 62,
   "metadata": {},
   "outputs": [
    {
     "data": {
      "text/plain": [
       "1.5707963267948966"
      ]
     },
     "execution_count": 62,
     "metadata": {},
     "output_type": "execute_result"
    }
   ],
   "source": [
    "# inverse sine or arcsine: \n",
    "asin(1)"
   ]
  },
  {
   "cell_type": "code",
   "execution_count": 63,
   "metadata": {},
   "outputs": [
    {
     "data": {
      "text/plain": [
       "90.0"
      ]
     },
     "execution_count": 63,
     "metadata": {},
     "output_type": "execute_result"
    }
   ],
   "source": [
    "# or use the version that returns the value in degrees rather than radians:\n",
    "asind(1)"
   ]
  },
  {
   "cell_type": "markdown",
   "metadata": {},
   "source": [
    "---\n",
    "### One-dimensional(1D) Arrays\n",
    " Arrays are long lists of numbers stored as row vectors, column vectors or as a matrix of two or more dimensions. "
   ]
  },
  {
   "cell_type": "code",
   "execution_count": 64,
   "metadata": {},
   "outputs": [
    {
     "data": {
      "text/plain": [
       "6-element Vector{Int64}:\n",
       " 1\n",
       " 2\n",
       " 3\n",
       " 4\n",
       " 5\n",
       " 6"
      ]
     },
     "execution_count": 64,
     "metadata": {},
     "output_type": "execute_result"
    }
   ],
   "source": [
    "# define an array of some numbers\n",
    "[1,2,3,4,5,6]"
   ]
  },
  {
   "cell_type": "code",
   "execution_count": 65,
   "metadata": {},
   "outputs": [
    {
     "data": {
      "text/plain": [
       "6-element Vector{Int64}:\n",
       " 1\n",
       " 2\n",
       " 3\n",
       " 4\n",
       " 5\n",
       " 6"
      ]
     },
     "execution_count": 65,
     "metadata": {},
     "output_type": "execute_result"
    }
   ],
   "source": [
    "# store array as a variable:\n",
    "a = [1,2,3,4,5,6]"
   ]
  },
  {
   "cell_type": "code",
   "execution_count": 66,
   "metadata": {},
   "outputs": [
    {
     "data": {
      "text/plain": [
       "Vector{Int64} (alias for Array{Int64, 1})"
      ]
     },
     "execution_count": 66,
     "metadata": {},
     "output_type": "execute_result"
    }
   ],
   "source": [
    "# use the typeof() function to see what a variable is:\n",
    "typeof(a)"
   ]
  },
  {
   "cell_type": "code",
   "execution_count": 67,
   "metadata": {},
   "outputs": [
    {
     "data": {
      "text/plain": [
       "1"
      ]
     },
     "execution_count": 67,
     "metadata": {},
     "output_type": "execute_result"
    }
   ],
   "source": [
    "# you can access elements of an array using index notation. \n",
    "# Note for python programmers: Julia indexes start with 1 rather than 0. So the first element is at index 1.\n",
    "a[1]"
   ]
  },
  {
   "cell_type": "code",
   "execution_count": 68,
   "metadata": {},
   "outputs": [
    {
     "data": {
      "text/plain": [
       "3"
      ]
     },
     "execution_count": 68,
     "metadata": {},
     "output_type": "execute_result"
    }
   ],
   "source": [
    "a[3]"
   ]
  },
  {
   "cell_type": "code",
   "execution_count": 69,
   "metadata": {},
   "outputs": [
    {
     "data": {
      "text/plain": [
       "3-element Vector{Int64}:\n",
       " 2\n",
       " 3\n",
       " 4"
      ]
     },
     "execution_count": 69,
     "metadata": {},
     "output_type": "execute_result"
    }
   ],
   "source": [
    "# you can use colon notation to retrieve multiple elements from an array. \n",
    "# for example, let's retrieve elements 2 through 4:\n",
    "a[2:4]"
   ]
  },
  {
   "cell_type": "markdown",
   "metadata": {},
   "source": [
    "Note that the colon notation is `array[start:stop]`. This retrieves the values from index `start` up to and including index `stop`.  "
   ]
  },
  {
   "cell_type": "code",
   "execution_count": 70,
   "metadata": {},
   "outputs": [
    {
     "data": {
      "text/plain": [
       "1×6 Matrix{Int64}:\n",
       " 1  2  3  4  5  6"
      ]
     },
     "execution_count": 70,
     "metadata": {},
     "output_type": "execute_result"
    }
   ],
   "source": [
    "# You can also define a 1D array as a row vector rather than a column vector by using spaces between values rather\n",
    "# than commas:\n",
    "[1 2 3 4 5 6]"
   ]
  },
  {
   "cell_type": "markdown",
   "metadata": {
    "tags": []
   },
   "source": [
    "#### Length of a 1D array:\n",
    "You can obtain the length of a vector (1D array) using the `length()` function"
   ]
  },
  {
   "cell_type": "code",
   "execution_count": 71,
   "metadata": {},
   "outputs": [
    {
     "data": {
      "text/plain": [
       "6"
      ]
     },
     "execution_count": 71,
     "metadata": {},
     "output_type": "execute_result"
    }
   ],
   "source": [
    "length(a)"
   ]
  },
  {
   "cell_type": "markdown",
   "metadata": {},
   "source": [
    "### Operations on arrays \n",
    "A major advantage of arrays, is that you can apply mathematical operations to the array values all at once. \n",
    "\n",
    "**You can perform operations element-by-element to the values in an array by placing a `.` before the operator.** \n",
    "\n",
    "For example to square each element in array `a`:"
   ]
  },
  {
   "cell_type": "code",
   "execution_count": 72,
   "metadata": {},
   "outputs": [
    {
     "data": {
      "text/plain": [
       "6-element Vector{Int64}:\n",
       "  1\n",
       "  4\n",
       "  9\n",
       " 16\n",
       " 25\n",
       " 36"
      ]
     },
     "execution_count": 72,
     "metadata": {},
     "output_type": "execute_result"
    }
   ],
   "source": [
    "a.^2"
   ]
  },
  {
   "cell_type": "code",
   "execution_count": 73,
   "metadata": {},
   "outputs": [
    {
     "data": {
      "text/plain": [
       "6-element Vector{Float64}:\n",
       " 1.0\n",
       " 1.4142135623730951\n",
       " 1.7320508075688772\n",
       " 2.0\n",
       " 2.23606797749979\n",
       " 2.449489742783178"
      ]
     },
     "execution_count": 73,
     "metadata": {},
     "output_type": "execute_result"
    }
   ],
   "source": [
    "sqrt.(a)"
   ]
  },
  {
   "cell_type": "markdown",
   "metadata": {},
   "source": [
    "### 2D Arrays ###\n",
    "You can create a two-dimensional (2D) array by separating each row of the array by a semicolon. \n",
    "If you aren't familiar with 2D arrays, think of them like a rectangular grid of cells with a value \n",
    "stored in each cell."
   ]
  },
  {
   "cell_type": "code",
   "execution_count": 74,
   "metadata": {},
   "outputs": [
    {
     "data": {
      "text/plain": [
       "2×4 Matrix{Int64}:\n",
       " 0  1  2  3\n",
       " 4  5  6  7"
      ]
     },
     "execution_count": 74,
     "metadata": {},
     "output_type": "execute_result"
    }
   ],
   "source": [
    "b = [ 0 1 2 3;  4 5 6 7 ]"
   ]
  },
  {
   "cell_type": "markdown",
   "metadata": {},
   "source": [
    "You can access elements in a 2D array using the notation `array[row indices,row indices]`."
   ]
  },
  {
   "cell_type": "code",
   "execution_count": 75,
   "metadata": {},
   "outputs": [
    {
     "data": {
      "text/plain": [
       "2"
      ]
     },
     "execution_count": 75,
     "metadata": {},
     "output_type": "execute_result"
    }
   ],
   "source": [
    "b[1,3]"
   ]
  },
  {
   "cell_type": "code",
   "execution_count": 76,
   "metadata": {},
   "outputs": [
    {
     "data": {
      "text/plain": [
       "3-element Vector{Int64}:\n",
       " 1\n",
       " 2\n",
       " 3"
      ]
     },
     "execution_count": 76,
     "metadata": {},
     "output_type": "execute_result"
    }
   ],
   "source": [
    "# Using colon notation you can access many elements. \n",
    "# Rember you only get up to, but not including the stop index.\n",
    "b[1,2:4]"
   ]
  },
  {
   "cell_type": "markdown",
   "metadata": {},
   "source": [
    "You can use a colon on its own to extract a _slice_ of an array:"
   ]
  },
  {
   "cell_type": "code",
   "execution_count": 77,
   "metadata": {},
   "outputs": [
    {
     "data": {
      "text/plain": [
       "2-element Vector{Int64}:\n",
       " 0\n",
       " 4"
      ]
     },
     "execution_count": 77,
     "metadata": {},
     "output_type": "execute_result"
    }
   ],
   "source": [
    "# extract the first column of the array:\n",
    "b[:,1]"
   ]
  },
  {
   "cell_type": "code",
   "execution_count": 78,
   "metadata": {},
   "outputs": [
    {
     "data": {
      "text/plain": [
       "4-element Vector{Int64}:\n",
       " 4\n",
       " 5\n",
       " 6\n",
       " 7"
      ]
     },
     "execution_count": 78,
     "metadata": {},
     "output_type": "execute_result"
    }
   ],
   "source": [
    "# extract the 2nd row of the array:\n",
    "b[2,:]"
   ]
  },
  {
   "cell_type": "code",
   "execution_count": 79,
   "metadata": {},
   "outputs": [
    {
     "data": {
      "text/plain": [
       "(2, 4)"
      ]
     },
     "execution_count": 79,
     "metadata": {},
     "output_type": "execute_result"
    }
   ],
   "source": [
    "# The size function tells you how many total elements there are in an array:\n",
    "size(b)"
   ]
  },
  {
   "cell_type": "code",
   "execution_count": 80,
   "metadata": {},
   "outputs": [
    {
     "data": {
      "text/plain": [
       "2"
      ]
     },
     "execution_count": 80,
     "metadata": {},
     "output_type": "execute_result"
    }
   ],
   "source": [
    "# or you can just get the number of rows using the dimension index as the second input to the size function:\n",
    "size(b,1)"
   ]
  },
  {
   "cell_type": "code",
   "execution_count": 81,
   "metadata": {},
   "outputs": [
    {
     "data": {
      "text/plain": [
       "4"
      ]
     },
     "execution_count": 81,
     "metadata": {},
     "output_type": "execute_result"
    }
   ],
   "source": [
    "#number of columns:\n",
    "size(b,2)"
   ]
  },
  {
   "cell_type": "markdown",
   "metadata": {},
   "source": [
    "Julia makes it easy to enter arrays using the simple square bracket notation. There are more advanced ways to create arrays using the `Arrays()` function. For example, if you wanted to make an array of Float64 floating point values rather than Int64 integers, you could use this command:"
   ]
  },
  {
   "cell_type": "code",
   "execution_count": 82,
   "metadata": {},
   "outputs": [
    {
     "data": {
      "text/plain": [
       "6-element Vector{Float64}:\n",
       " 1.0\n",
       " 2.0\n",
       " 3.0\n",
       " 4.0\n",
       " 5.0\n",
       " 6.0"
      ]
     },
     "execution_count": 82,
     "metadata": {},
     "output_type": "execute_result"
    }
   ],
   "source": [
    "a = Array{Float64}([1,2,3,4,5,6])"
   ]
  },
  {
   "cell_type": "markdown",
   "metadata": {},
   "source": [
    "Although, a simpler way to obtain a floating point array is to make sure at\n",
    "least one of the entries is a floating point value (i.e. add a dot to one more more of the values):"
   ]
  },
  {
   "cell_type": "code",
   "execution_count": 83,
   "metadata": {},
   "outputs": [
    {
     "data": {
      "text/plain": [
       "6-element Vector{Float64}:\n",
       " 1.0\n",
       " 2.0\n",
       " 3.0\n",
       " 4.0\n",
       " 5.0\n",
       " 6.0"
      ]
     },
     "execution_count": 83,
     "metadata": {},
     "output_type": "execute_result"
    }
   ],
   "source": [
    "a = [1.,2,3,4,5,6]"
   ]
  },
  {
   "cell_type": "markdown",
   "metadata": {},
   "source": [
    "### More array creation \n",
    "You can create a linearly spaced array of numbers using the `range()` function. The syntax is `range(start_point,end_point,number_of_values)`. Linspace will create evenly spaced numbers over a specified interval, _including_ the end_point."
   ]
  },
  {
   "cell_type": "code",
   "execution_count": 84,
   "metadata": {},
   "outputs": [
    {
     "data": {
      "text/plain": [
       "0.0:1.0:10.0"
      ]
     },
     "execution_count": 84,
     "metadata": {},
     "output_type": "execute_result"
    }
   ],
   "source": [
    "r = range(0, 10, length=11)"
   ]
  },
  {
   "cell_type": "code",
   "execution_count": 85,
   "metadata": {},
   "outputs": [
    {
     "data": {
      "text/plain": [
       "11-element Vector{Float64}:\n",
       "  0.0\n",
       "  1.0\n",
       "  2.0\n",
       "  3.0\n",
       "  4.0\n",
       "  5.0\n",
       "  6.0\n",
       "  7.0\n",
       "  8.0\n",
       "  9.0\n",
       " 10.0"
      ]
     },
     "execution_count": 85,
     "metadata": {},
     "output_type": "execute_result"
    }
   ],
   "source": [
    "collect(r)"
   ]
  },
  {
   "cell_type": "markdown",
   "metadata": {},
   "source": [
    "You can also make ranges in reverse order, here with decreasing value:"
   ]
  },
  {
   "cell_type": "code",
   "execution_count": 86,
   "metadata": {},
   "outputs": [
    {
     "data": {
      "text/plain": [
       "10.0:-2.0:-10.0"
      ]
     },
     "execution_count": 86,
     "metadata": {},
     "output_type": "execute_result"
    }
   ],
   "source": [
    "reverse = range(10, -10, length=11)"
   ]
  },
  {
   "cell_type": "code",
   "execution_count": 87,
   "metadata": {},
   "outputs": [
    {
     "data": {
      "text/plain": [
       "201-element Vector{Float64}:\n",
       "  0.0\n",
       "  0.05\n",
       "  0.1\n",
       "  0.15\n",
       "  0.2\n",
       "  0.25\n",
       "  0.3\n",
       "  0.35\n",
       "  0.4\n",
       "  0.45\n",
       "  0.5\n",
       "  0.55\n",
       "  0.6\n",
       "  ⋮\n",
       "  9.45\n",
       "  9.5\n",
       "  9.55\n",
       "  9.6\n",
       "  9.65\n",
       "  9.7\n",
       "  9.75\n",
       "  9.8\n",
       "  9.85\n",
       "  9.9\n",
       "  9.95\n",
       " 10.0"
      ]
     },
     "execution_count": 87,
     "metadata": {},
     "output_type": "execute_result"
    }
   ],
   "source": [
    "collect(range(0, 10, length=201))"
   ]
  },
  {
   "cell_type": "markdown",
   "metadata": {},
   "source": [
    "Ranges are highly useful for evaluating a function at  evenly spaced values. For example, suppose we want to know the value of the sine function from 0 to 360º with a finely sampled interval using 50 values:"
   ]
  },
  {
   "cell_type": "code",
   "execution_count": 88,
   "metadata": {},
   "outputs": [
    {
     "data": {
      "text/plain": [
       "50-element Vector{Float64}:\n",
       "  0.0\n",
       "  0.12787716168450602\n",
       "  0.2536545839095074\n",
       "  0.37526700487937414\n",
       "  0.4907175520039379\n",
       "  0.598110530491216\n",
       "  0.6956825506034864\n",
       "  0.7818314824680298\n",
       "  0.8551427630053462\n",
       "  0.9144126230158125\n",
       "  0.9586678530366607\n",
       "  0.9871817834144502\n",
       "  0.9994862162006879\n",
       "  ⋮\n",
       " -0.9871817834144501\n",
       " -0.9586678530366607\n",
       " -0.9144126230158123\n",
       " -0.8551427630053461\n",
       " -0.78183148246803\n",
       " -0.6956825506034862\n",
       " -0.598110530491216\n",
       " -0.4907175520039383\n",
       " -0.375267004879374\n",
       " -0.2536545839095076\n",
       " -0.12787716168450564\n",
       "  0.0"
      ]
     },
     "execution_count": 88,
     "metadata": {},
     "output_type": "execute_result"
    }
   ],
   "source": [
    "# here we use a sensible variable name \"degs\", which reminds us these values have units of degrees.\n",
    "degs = range(0,360,length=50) \n",
    "sind.(degs)  # note the required \".\" after sin, since it is operating on array \"degs\""
   ]
  },
  {
   "cell_type": "code",
   "execution_count": 89,
   "metadata": {},
   "outputs": [
    {
     "data": {
      "text/plain": [
       "50-element Vector{Float64}:\n",
       "  0.0\n",
       "  0.12787716168450602\n",
       "  0.2536545839095074\n",
       "  0.37526700487937414\n",
       "  0.4907175520039379\n",
       "  0.598110530491216\n",
       "  0.6956825506034864\n",
       "  0.7818314824680298\n",
       "  0.8551427630053462\n",
       "  0.9144126230158125\n",
       "  0.9586678530366607\n",
       "  0.9871817834144502\n",
       "  0.9994862162006879\n",
       "  ⋮\n",
       " -0.9871817834144501\n",
       " -0.9586678530366607\n",
       " -0.9144126230158123\n",
       " -0.8551427630053461\n",
       " -0.78183148246803\n",
       " -0.6956825506034862\n",
       " -0.598110530491216\n",
       " -0.4907175520039383\n",
       " -0.375267004879374\n",
       " -0.2536545839095076\n",
       " -0.12787716168450564\n",
       "  0.0"
      ]
     },
     "execution_count": 89,
     "metadata": {},
     "output_type": "execute_result"
    }
   ],
   "source": [
    "# This could also be accomplished using a single line of nested commands:\n",
    "sind.(range(0,360,length=50))"
   ]
  },
  {
   "cell_type": "markdown",
   "metadata": {},
   "source": [
    "---\n",
    "\n",
    "## Making plots\n",
    "Julia doesn't have a default plotting package and so instead we will use the external package `Plots` to make some figures. This package is already installed on our JupyterHub server so you can simply start using it. \n",
    "\n",
    "Conversely, if you are running jupyter using the method in Option 2 above you will need to first install the package to make it available:"
   ]
  },
  {
   "cell_type": "markdown",
   "metadata": {},
   "source": [
    "```julia\n",
    "julia> import Pkg; Pkg.add(\"Plots\")\n",
    "```"
   ]
  },
  {
   "cell_type": "markdown",
   "metadata": {},
   "source": [
    "We will just cover a few basics of making plots here. Check out the exampls and tutorials at the [Plots.jl package documentation](http://docs.juliaplots.org/latest/) \n",
    "to learn more. "
   ]
  },
  {
   "cell_type": "markdown",
   "metadata": {},
   "source": [
    "First we need to tell Julia that we want to use the `Plots` package:"
   ]
  },
  {
   "cell_type": "code",
   "execution_count": 90,
   "metadata": {},
   "outputs": [],
   "source": [
    "using Plots"
   ]
  },
  {
   "cell_type": "code",
   "execution_count": 91,
   "metadata": {},
   "outputs": [
    {
     "data": {
      "image/svg+xml": [
       "<?xml version=\"1.0\" encoding=\"utf-8\"?>\n",
       "<svg xmlns=\"http://www.w3.org/2000/svg\" xmlns:xlink=\"http://www.w3.org/1999/xlink\" width=\"600\" height=\"400\" viewBox=\"0 0 2400 1600\">\n",
       "<defs>\n",
       "  <clipPath id=\"clip180\">\n",
       "    <rect x=\"0\" y=\"0\" width=\"2400\" height=\"1600\"/>\n",
       "  </clipPath>\n",
       "</defs>\n",
       "<path clip-path=\"url(#clip180)\" d=\"\n",
       "M0 1600 L2400 1600 L2400 0 L0 0  Z\n",
       "  \" fill=\"#ffffff\" fill-rule=\"evenodd\" fill-opacity=\"1\"/>\n",
       "<defs>\n",
       "  <clipPath id=\"clip181\">\n",
       "    <rect x=\"480\" y=\"0\" width=\"1681\" height=\"1600\"/>\n",
       "  </clipPath>\n",
       "</defs>\n",
       "<path clip-path=\"url(#clip180)\" d=\"\n",
       "M169.121 1486.45 L2352.76 1486.45 L2352.76 47.2441 L169.121 47.2441  Z\n",
       "  \" fill=\"#ffffff\" fill-rule=\"evenodd\" fill-opacity=\"1\"/>\n",
       "<defs>\n",
       "  <clipPath id=\"clip182\">\n",
       "    <rect x=\"169\" y=\"47\" width=\"2185\" height=\"1440\"/>\n",
       "  </clipPath>\n",
       "</defs>\n",
       "<polyline clip-path=\"url(#clip182)\" style=\"stroke:#000000; stroke-linecap:butt; stroke-linejoin:round; stroke-width:2; stroke-opacity:0.1; fill:none\" points=\"\n",
       "  459.815,1486.45 459.815,47.2441 \n",
       "  \"/>\n",
       "<polyline clip-path=\"url(#clip182)\" style=\"stroke:#000000; stroke-linecap:butt; stroke-linejoin:round; stroke-width:2; stroke-opacity:0.1; fill:none\" points=\"\n",
       "  917.6,1486.45 917.6,47.2441 \n",
       "  \"/>\n",
       "<polyline clip-path=\"url(#clip182)\" style=\"stroke:#000000; stroke-linecap:butt; stroke-linejoin:round; stroke-width:2; stroke-opacity:0.1; fill:none\" points=\"\n",
       "  1375.38,1486.45 1375.38,47.2441 \n",
       "  \"/>\n",
       "<polyline clip-path=\"url(#clip182)\" style=\"stroke:#000000; stroke-linecap:butt; stroke-linejoin:round; stroke-width:2; stroke-opacity:0.1; fill:none\" points=\"\n",
       "  1833.17,1486.45 1833.17,47.2441 \n",
       "  \"/>\n",
       "<polyline clip-path=\"url(#clip182)\" style=\"stroke:#000000; stroke-linecap:butt; stroke-linejoin:round; stroke-width:2; stroke-opacity:0.1; fill:none\" points=\"\n",
       "  2290.95,1486.45 2290.95,47.2441 \n",
       "  \"/>\n",
       "<polyline clip-path=\"url(#clip180)\" style=\"stroke:#000000; stroke-linecap:butt; stroke-linejoin:round; stroke-width:4; stroke-opacity:1; fill:none\" points=\"\n",
       "  169.121,1486.45 2352.76,1486.45 \n",
       "  \"/>\n",
       "<polyline clip-path=\"url(#clip180)\" style=\"stroke:#000000; stroke-linecap:butt; stroke-linejoin:round; stroke-width:4; stroke-opacity:1; fill:none\" points=\"\n",
       "  459.815,1486.45 459.815,1467.55 \n",
       "  \"/>\n",
       "<polyline clip-path=\"url(#clip180)\" style=\"stroke:#000000; stroke-linecap:butt; stroke-linejoin:round; stroke-width:4; stroke-opacity:1; fill:none\" points=\"\n",
       "  917.6,1486.45 917.6,1467.55 \n",
       "  \"/>\n",
       "<polyline clip-path=\"url(#clip180)\" style=\"stroke:#000000; stroke-linecap:butt; stroke-linejoin:round; stroke-width:4; stroke-opacity:1; fill:none\" points=\"\n",
       "  1375.38,1486.45 1375.38,1467.55 \n",
       "  \"/>\n",
       "<polyline clip-path=\"url(#clip180)\" style=\"stroke:#000000; stroke-linecap:butt; stroke-linejoin:round; stroke-width:4; stroke-opacity:1; fill:none\" points=\"\n",
       "  1833.17,1486.45 1833.17,1467.55 \n",
       "  \"/>\n",
       "<polyline clip-path=\"url(#clip180)\" style=\"stroke:#000000; stroke-linecap:butt; stroke-linejoin:round; stroke-width:4; stroke-opacity:1; fill:none\" points=\"\n",
       "  2290.95,1486.45 2290.95,1467.55 \n",
       "  \"/>\n",
       "<path clip-path=\"url(#clip180)\" d=\"M454.468 1543.18 L470.787 1543.18 L470.787 1547.12 L448.843 1547.12 L448.843 1543.18 Q451.505 1540.43 456.088 1535.8 Q460.694 1531.15 461.875 1529.81 Q464.12 1527.28 465 1525.55 Q465.903 1523.79 465.903 1522.1 Q465.903 1519.34 463.958 1517.61 Q462.037 1515.87 458.935 1515.87 Q456.736 1515.87 454.282 1516.63 Q451.852 1517.4 449.074 1518.95 L449.074 1514.23 Q451.898 1513.09 454.352 1512.51 Q456.806 1511.93 458.843 1511.93 Q464.213 1511.93 467.407 1514.62 Q470.602 1517.31 470.602 1521.8 Q470.602 1523.93 469.792 1525.85 Q469.005 1527.74 466.898 1530.34 Q466.319 1531.01 463.218 1534.23 Q460.116 1537.42 454.468 1543.18 Z\" fill=\"#000000\" fill-rule=\"evenodd\" fill-opacity=\"1\" /><path clip-path=\"url(#clip180)\" d=\"M920.609 1516.63 L908.804 1535.08 L920.609 1535.08 L920.609 1516.63 M919.382 1512.56 L925.262 1512.56 L925.262 1535.08 L930.192 1535.08 L930.192 1538.97 L925.262 1538.97 L925.262 1547.12 L920.609 1547.12 L920.609 1538.97 L905.007 1538.97 L905.007 1534.46 L919.382 1512.56 Z\" fill=\"#000000\" fill-rule=\"evenodd\" fill-opacity=\"1\" /><path clip-path=\"url(#clip180)\" d=\"M1375.79 1527.98 Q1372.64 1527.98 1370.79 1530.13 Q1368.96 1532.28 1368.96 1536.03 Q1368.96 1539.76 1370.79 1541.93 Q1372.64 1544.09 1375.79 1544.09 Q1378.94 1544.09 1380.77 1541.93 Q1382.62 1539.76 1382.62 1536.03 Q1382.62 1532.28 1380.77 1530.13 Q1378.94 1527.98 1375.79 1527.98 M1385.07 1513.32 L1385.07 1517.58 Q1383.31 1516.75 1381.51 1516.31 Q1379.73 1515.87 1377.97 1515.87 Q1373.34 1515.87 1370.88 1519 Q1368.45 1522.12 1368.1 1528.44 Q1369.47 1526.43 1371.53 1525.36 Q1373.59 1524.27 1376.07 1524.27 Q1381.28 1524.27 1384.29 1527.44 Q1387.32 1530.59 1387.32 1536.03 Q1387.32 1541.36 1384.17 1544.57 Q1381.02 1547.79 1375.79 1547.79 Q1369.79 1547.79 1366.62 1543.21 Q1363.45 1538.6 1363.45 1529.87 Q1363.45 1521.68 1367.34 1516.82 Q1371.23 1511.93 1377.78 1511.93 Q1379.54 1511.93 1381.32 1512.28 Q1383.13 1512.63 1385.07 1513.32 Z\" fill=\"#000000\" fill-rule=\"evenodd\" fill-opacity=\"1\" /><path clip-path=\"url(#clip180)\" d=\"M1833.17 1530.71 Q1829.84 1530.71 1827.92 1532.49 Q1826.02 1534.27 1826.02 1537.4 Q1826.02 1540.52 1827.92 1542.31 Q1829.84 1544.09 1833.17 1544.09 Q1836.5 1544.09 1838.42 1542.31 Q1840.35 1540.5 1840.35 1537.4 Q1840.35 1534.27 1838.42 1532.49 Q1836.53 1530.71 1833.17 1530.71 M1828.49 1528.72 Q1825.48 1527.98 1823.79 1525.92 Q1822.13 1523.86 1822.13 1520.89 Q1822.13 1516.75 1825.07 1514.34 Q1828.03 1511.93 1833.17 1511.93 Q1838.33 1511.93 1841.27 1514.34 Q1844.21 1516.75 1844.21 1520.89 Q1844.21 1523.86 1842.52 1525.92 Q1840.86 1527.98 1837.87 1528.72 Q1841.25 1529.5 1843.12 1531.8 Q1845.02 1534.09 1845.02 1537.4 Q1845.02 1542.42 1841.94 1545.11 Q1838.89 1547.79 1833.17 1547.79 Q1827.45 1547.79 1824.37 1545.11 Q1821.32 1542.42 1821.32 1537.4 Q1821.32 1534.09 1823.22 1531.8 Q1825.11 1529.5 1828.49 1528.72 M1826.78 1521.33 Q1826.78 1524.02 1828.45 1525.52 Q1830.14 1527.03 1833.17 1527.03 Q1836.18 1527.03 1837.87 1525.52 Q1839.58 1524.02 1839.58 1521.33 Q1839.58 1518.65 1837.87 1517.14 Q1836.18 1515.64 1833.17 1515.64 Q1830.14 1515.64 1828.45 1517.14 Q1826.78 1518.65 1826.78 1521.33 Z\" fill=\"#000000\" fill-rule=\"evenodd\" fill-opacity=\"1\" /><path clip-path=\"url(#clip180)\" d=\"M2265.64 1543.18 L2273.28 1543.18 L2273.28 1516.82 L2264.97 1518.49 L2264.97 1514.23 L2273.24 1512.56 L2277.91 1512.56 L2277.91 1543.18 L2285.55 1543.18 L2285.55 1547.12 L2265.64 1547.12 L2265.64 1543.18 Z\" fill=\"#000000\" fill-rule=\"evenodd\" fill-opacity=\"1\" /><path clip-path=\"url(#clip180)\" d=\"M2304.99 1515.64 Q2301.38 1515.64 2299.55 1519.2 Q2297.75 1522.75 2297.75 1529.87 Q2297.75 1536.98 2299.55 1540.55 Q2301.38 1544.09 2304.99 1544.09 Q2308.63 1544.09 2310.43 1540.55 Q2312.26 1536.98 2312.26 1529.87 Q2312.26 1522.75 2310.43 1519.2 Q2308.63 1515.64 2304.99 1515.64 M2304.99 1511.93 Q2310.8 1511.93 2313.86 1516.54 Q2316.94 1521.12 2316.94 1529.87 Q2316.94 1538.6 2313.86 1543.21 Q2310.8 1547.79 2304.99 1547.79 Q2299.18 1547.79 2296.11 1543.21 Q2293.05 1538.6 2293.05 1529.87 Q2293.05 1521.12 2296.11 1516.54 Q2299.18 1511.93 2304.99 1511.93 Z\" fill=\"#000000\" fill-rule=\"evenodd\" fill-opacity=\"1\" /><polyline clip-path=\"url(#clip182)\" style=\"stroke:#000000; stroke-linecap:butt; stroke-linejoin:round; stroke-width:2; stroke-opacity:0.1; fill:none\" points=\"\n",
       "  169.121,1459.43 2352.76,1459.43 \n",
       "  \"/>\n",
       "<polyline clip-path=\"url(#clip182)\" style=\"stroke:#000000; stroke-linecap:butt; stroke-linejoin:round; stroke-width:2; stroke-opacity:0.1; fill:none\" points=\"\n",
       "  169.121,1116.57 2352.76,1116.57 \n",
       "  \"/>\n",
       "<polyline clip-path=\"url(#clip182)\" style=\"stroke:#000000; stroke-linecap:butt; stroke-linejoin:round; stroke-width:2; stroke-opacity:0.1; fill:none\" points=\"\n",
       "  169.121,773.703 2352.76,773.703 \n",
       "  \"/>\n",
       "<polyline clip-path=\"url(#clip182)\" style=\"stroke:#000000; stroke-linecap:butt; stroke-linejoin:round; stroke-width:2; stroke-opacity:0.1; fill:none\" points=\"\n",
       "  169.121,430.84 2352.76,430.84 \n",
       "  \"/>\n",
       "<polyline clip-path=\"url(#clip182)\" style=\"stroke:#000000; stroke-linecap:butt; stroke-linejoin:round; stroke-width:2; stroke-opacity:0.1; fill:none\" points=\"\n",
       "  169.121,87.9763 2352.76,87.9763 \n",
       "  \"/>\n",
       "<polyline clip-path=\"url(#clip180)\" style=\"stroke:#000000; stroke-linecap:butt; stroke-linejoin:round; stroke-width:4; stroke-opacity:1; fill:none\" points=\"\n",
       "  169.121,1486.45 169.121,47.2441 \n",
       "  \"/>\n",
       "<polyline clip-path=\"url(#clip180)\" style=\"stroke:#000000; stroke-linecap:butt; stroke-linejoin:round; stroke-width:4; stroke-opacity:1; fill:none\" points=\"\n",
       "  169.121,1459.43 188.019,1459.43 \n",
       "  \"/>\n",
       "<polyline clip-path=\"url(#clip180)\" style=\"stroke:#000000; stroke-linecap:butt; stroke-linejoin:round; stroke-width:4; stroke-opacity:1; fill:none\" points=\"\n",
       "  169.121,1116.57 188.019,1116.57 \n",
       "  \"/>\n",
       "<polyline clip-path=\"url(#clip180)\" style=\"stroke:#000000; stroke-linecap:butt; stroke-linejoin:round; stroke-width:4; stroke-opacity:1; fill:none\" points=\"\n",
       "  169.121,773.703 188.019,773.703 \n",
       "  \"/>\n",
       "<polyline clip-path=\"url(#clip180)\" style=\"stroke:#000000; stroke-linecap:butt; stroke-linejoin:round; stroke-width:4; stroke-opacity:1; fill:none\" points=\"\n",
       "  169.121,430.84 188.019,430.84 \n",
       "  \"/>\n",
       "<polyline clip-path=\"url(#clip180)\" style=\"stroke:#000000; stroke-linecap:butt; stroke-linejoin:round; stroke-width:4; stroke-opacity:1; fill:none\" points=\"\n",
       "  169.121,87.9763 188.019,87.9763 \n",
       "  \"/>\n",
       "<path clip-path=\"url(#clip180)\" d=\"M121.177 1445.23 Q117.566 1445.23 115.737 1448.79 Q113.932 1452.34 113.932 1459.46 Q113.932 1466.57 115.737 1470.14 Q117.566 1473.68 121.177 1473.68 Q124.811 1473.68 126.617 1470.14 Q128.445 1466.57 128.445 1459.46 Q128.445 1452.34 126.617 1448.79 Q124.811 1445.23 121.177 1445.23 M121.177 1441.53 Q126.987 1441.53 130.043 1446.13 Q133.121 1450.72 133.121 1459.46 Q133.121 1468.19 130.043 1472.8 Q126.987 1477.38 121.177 1477.38 Q115.367 1477.38 112.288 1472.8 Q109.233 1468.19 109.233 1459.46 Q109.233 1450.72 112.288 1446.13 Q115.367 1441.53 121.177 1441.53 Z\" fill=\"#000000\" fill-rule=\"evenodd\" fill-opacity=\"1\" /><path clip-path=\"url(#clip180)\" d=\"M86.0382 1129.91 L102.358 1129.91 L102.358 1133.85 L80.4133 1133.85 L80.4133 1129.91 Q83.0753 1127.16 87.6586 1122.53 Q92.2651 1117.87 93.4456 1116.53 Q95.691 1114.01 96.5706 1112.27 Q97.4734 1110.51 97.4734 1108.82 Q97.4734 1106.07 95.5289 1104.33 Q93.6076 1102.6 90.5058 1102.6 Q88.3067 1102.6 85.8531 1103.36 Q83.4225 1104.12 80.6447 1105.68 L80.6447 1100.95 Q83.4688 1099.82 85.9225 1099.24 Q88.3762 1098.66 90.4132 1098.66 Q95.7836 1098.66 98.978 1101.35 Q102.172 1104.03 102.172 1108.52 Q102.172 1110.65 101.362 1112.57 Q100.575 1114.47 98.4687 1117.06 Q97.89 1117.74 94.7882 1120.95 Q91.6864 1124.15 86.0382 1129.91 Z\" fill=\"#000000\" fill-rule=\"evenodd\" fill-opacity=\"1\" /><path clip-path=\"url(#clip180)\" d=\"M112.219 1099.29 L130.575 1099.29 L130.575 1103.22 L116.501 1103.22 L116.501 1111.69 Q117.52 1111.35 118.538 1111.18 Q119.557 1111 120.575 1111 Q126.362 1111 129.742 1114.17 Q133.121 1117.34 133.121 1122.76 Q133.121 1128.34 129.649 1131.44 Q126.177 1134.52 119.857 1134.52 Q117.682 1134.52 115.413 1134.15 Q113.168 1133.78 110.76 1133.04 L110.76 1128.34 Q112.844 1129.47 115.066 1130.03 Q117.288 1130.58 119.765 1130.58 Q123.77 1130.58 126.107 1128.48 Q128.445 1126.37 128.445 1122.76 Q128.445 1119.15 126.107 1117.04 Q123.77 1114.93 119.765 1114.93 Q117.89 1114.93 116.015 1115.35 Q114.163 1115.77 112.219 1116.65 L112.219 1099.29 Z\" fill=\"#000000\" fill-rule=\"evenodd\" fill-opacity=\"1\" /><path clip-path=\"url(#clip180)\" d=\"M81.0614 756.423 L99.4178 756.423 L99.4178 760.358 L85.3438 760.358 L85.3438 768.831 Q86.3623 768.483 87.3808 768.321 Q88.3993 768.136 89.4178 768.136 Q95.2049 768.136 98.5845 771.307 Q101.964 774.479 101.964 779.895 Q101.964 785.474 98.4919 788.576 Q95.0197 791.655 88.7003 791.655 Q86.5243 791.655 84.2558 791.284 Q82.0105 790.914 79.6031 790.173 L79.6031 785.474 Q81.6864 786.608 83.9086 787.164 Q86.1308 787.719 88.6077 787.719 Q92.6123 787.719 94.9502 785.613 Q97.2882 783.506 97.2882 779.895 Q97.2882 776.284 94.9502 774.178 Q92.6123 772.071 88.6077 772.071 Q86.7327 772.071 84.8577 772.488 Q83.0058 772.905 81.0614 773.784 L81.0614 756.423 Z\" fill=\"#000000\" fill-rule=\"evenodd\" fill-opacity=\"1\" /><path clip-path=\"url(#clip180)\" d=\"M121.177 759.502 Q117.566 759.502 115.737 763.067 Q113.932 766.608 113.932 773.738 Q113.932 780.844 115.737 784.409 Q117.566 787.951 121.177 787.951 Q124.811 787.951 126.617 784.409 Q128.445 780.844 128.445 773.738 Q128.445 766.608 126.617 763.067 Q124.811 759.502 121.177 759.502 M121.177 755.798 Q126.987 755.798 130.043 760.405 Q133.121 764.988 133.121 773.738 Q133.121 782.465 130.043 787.071 Q126.987 791.655 121.177 791.655 Q115.367 791.655 112.288 787.071 Q109.233 782.465 109.233 773.738 Q109.233 764.988 112.288 760.405 Q115.367 755.798 121.177 755.798 Z\" fill=\"#000000\" fill-rule=\"evenodd\" fill-opacity=\"1\" /><path clip-path=\"url(#clip180)\" d=\"M80.8299 413.56 L103.052 413.56 L103.052 415.55 L90.5058 448.12 L85.6216 448.12 L97.4271 417.495 L80.8299 417.495 L80.8299 413.56 Z\" fill=\"#000000\" fill-rule=\"evenodd\" fill-opacity=\"1\" /><path clip-path=\"url(#clip180)\" d=\"M112.219 413.56 L130.575 413.56 L130.575 417.495 L116.501 417.495 L116.501 425.967 Q117.52 425.62 118.538 425.458 Q119.557 425.273 120.575 425.273 Q126.362 425.273 129.742 428.444 Q133.121 431.615 133.121 437.032 Q133.121 442.611 129.649 445.712 Q126.177 448.791 119.857 448.791 Q117.682 448.791 115.413 448.421 Q113.168 448.05 110.76 447.31 L110.76 442.611 Q112.844 443.745 115.066 444.3 Q117.288 444.856 119.765 444.856 Q123.77 444.856 126.107 442.749 Q128.445 440.643 128.445 437.032 Q128.445 433.421 126.107 431.314 Q123.77 429.208 119.765 429.208 Q117.89 429.208 116.015 429.624 Q114.163 430.041 112.219 430.921 L112.219 413.56 Z\" fill=\"#000000\" fill-rule=\"evenodd\" fill-opacity=\"1\" /><path clip-path=\"url(#clip180)\" d=\"M51.6634 101.321 L59.3023 101.321 L59.3023 74.9555 L50.9921 76.6222 L50.9921 72.3629 L59.256 70.6963 L63.9319 70.6963 L63.9319 101.321 L71.5707 101.321 L71.5707 105.256 L51.6634 105.256 L51.6634 101.321 Z\" fill=\"#000000\" fill-rule=\"evenodd\" fill-opacity=\"1\" /><path clip-path=\"url(#clip180)\" d=\"M91.0151 73.775 Q87.404 73.775 85.5753 77.3398 Q83.7697 80.8814 83.7697 88.011 Q83.7697 95.1174 85.5753 98.6822 Q87.404 102.224 91.0151 102.224 Q94.6493 102.224 96.4548 98.6822 Q98.2835 95.1174 98.2835 88.011 Q98.2835 80.8814 96.4548 77.3398 Q94.6493 73.775 91.0151 73.775 M91.0151 70.0713 Q96.8252 70.0713 99.8808 74.6777 Q102.959 79.261 102.959 88.011 Q102.959 96.7378 99.8808 101.344 Q96.8252 105.928 91.0151 105.928 Q85.2049 105.928 82.1262 101.344 Q79.0707 96.7378 79.0707 88.011 Q79.0707 79.261 82.1262 74.6777 Q85.2049 70.0713 91.0151 70.0713 Z\" fill=\"#000000\" fill-rule=\"evenodd\" fill-opacity=\"1\" /><path clip-path=\"url(#clip180)\" d=\"M121.177 73.775 Q117.566 73.775 115.737 77.3398 Q113.932 80.8814 113.932 88.011 Q113.932 95.1174 115.737 98.6822 Q117.566 102.224 121.177 102.224 Q124.811 102.224 126.617 98.6822 Q128.445 95.1174 128.445 88.011 Q128.445 80.8814 126.617 77.3398 Q124.811 73.775 121.177 73.775 M121.177 70.0713 Q126.987 70.0713 130.043 74.6777 Q133.121 79.261 133.121 88.011 Q133.121 96.7378 130.043 101.344 Q126.987 105.928 121.177 105.928 Q115.367 105.928 112.288 101.344 Q109.233 96.7378 109.233 88.011 Q109.233 79.261 112.288 74.6777 Q115.367 70.0713 121.177 70.0713 Z\" fill=\"#000000\" fill-rule=\"evenodd\" fill-opacity=\"1\" /><polyline clip-path=\"url(#clip182)\" style=\"stroke:#009af9; stroke-linecap:butt; stroke-linejoin:round; stroke-width:4; stroke-opacity:1; fill:none\" points=\"\n",
       "  230.922,1445.72 459.815,1404.57 688.707,1336 917.6,1240 1146.49,1116.57 1375.38,965.707 1604.28,787.418 1833.17,581.7 2062.06,348.553 2290.95,87.9763 \n",
       "  \n",
       "  \"/>\n",
       "<path clip-path=\"url(#clip180)\" d=\"\n",
       "M1984.91 198.898 L2279.97 198.898 L2279.97 95.2176 L1984.91 95.2176  Z\n",
       "  \" fill=\"#ffffff\" fill-rule=\"evenodd\" fill-opacity=\"1\"/>\n",
       "<polyline clip-path=\"url(#clip180)\" style=\"stroke:#000000; stroke-linecap:butt; stroke-linejoin:round; stroke-width:4; stroke-opacity:1; fill:none\" points=\"\n",
       "  1984.91,198.898 2279.97,198.898 2279.97,95.2176 1984.91,95.2176 1984.91,198.898 \n",
       "  \"/>\n",
       "<polyline clip-path=\"url(#clip180)\" style=\"stroke:#009af9; stroke-linecap:butt; stroke-linejoin:round; stroke-width:4; stroke-opacity:1; fill:none\" points=\"\n",
       "  2009.17,147.058 2154.75,147.058 \n",
       "  \"/>\n",
       "<path clip-path=\"url(#clip180)\" d=\"M2192.86 166.745 Q2191.05 171.375 2189.34 172.787 Q2187.62 174.199 2184.75 174.199 L2181.35 174.199 L2181.35 170.634 L2183.85 170.634 Q2185.61 170.634 2186.58 169.8 Q2187.55 168.967 2188.73 165.865 L2189.5 163.921 L2179.01 138.412 L2183.53 138.412 L2191.63 158.689 L2199.73 138.412 L2204.24 138.412 L2192.86 166.745 Z\" fill=\"#000000\" fill-rule=\"evenodd\" fill-opacity=\"1\" /><path clip-path=\"url(#clip180)\" d=\"M2211.54 160.402 L2219.17 160.402 L2219.17 134.037 L2210.86 135.703 L2210.86 131.444 L2219.13 129.778 L2223.8 129.778 L2223.8 160.402 L2231.44 160.402 L2231.44 164.338 L2211.54 164.338 L2211.54 160.402 Z\" fill=\"#000000\" fill-rule=\"evenodd\" fill-opacity=\"1\" /></svg>\n"
      ]
     },
     "execution_count": 91,
     "metadata": {},
     "output_type": "execute_result"
    }
   ],
   "source": [
    "# line plot:\n",
    "x = 1:10 \n",
    "y = x.^2\n",
    "plot(x, y)"
   ]
  },
  {
   "cell_type": "code",
   "execution_count": 92,
   "metadata": {},
   "outputs": [
    {
     "data": {
      "image/svg+xml": [
       "<?xml version=\"1.0\" encoding=\"utf-8\"?>\n",
       "<svg xmlns=\"http://www.w3.org/2000/svg\" xmlns:xlink=\"http://www.w3.org/1999/xlink\" width=\"600\" height=\"400\" viewBox=\"0 0 2400 1600\">\n",
       "<defs>\n",
       "  <clipPath id=\"clip220\">\n",
       "    <rect x=\"0\" y=\"0\" width=\"2400\" height=\"1600\"/>\n",
       "  </clipPath>\n",
       "</defs>\n",
       "<path clip-path=\"url(#clip220)\" d=\"\n",
       "M0 1600 L2400 1600 L2400 0 L0 0  Z\n",
       "  \" fill=\"#ffffff\" fill-rule=\"evenodd\" fill-opacity=\"1\"/>\n",
       "<defs>\n",
       "  <clipPath id=\"clip221\">\n",
       "    <rect x=\"480\" y=\"0\" width=\"1681\" height=\"1600\"/>\n",
       "  </clipPath>\n",
       "</defs>\n",
       "<path clip-path=\"url(#clip220)\" d=\"\n",
       "M169.121 1486.45 L2352.76 1486.45 L2352.76 47.2441 L169.121 47.2441  Z\n",
       "  \" fill=\"#ffffff\" fill-rule=\"evenodd\" fill-opacity=\"1\"/>\n",
       "<defs>\n",
       "  <clipPath id=\"clip222\">\n",
       "    <rect x=\"169\" y=\"47\" width=\"2185\" height=\"1440\"/>\n",
       "  </clipPath>\n",
       "</defs>\n",
       "<polyline clip-path=\"url(#clip222)\" style=\"stroke:#000000; stroke-linecap:butt; stroke-linejoin:round; stroke-width:2; stroke-opacity:0.1; fill:none\" points=\"\n",
       "  459.815,47.2441 459.815,1486.45 \n",
       "  \"/>\n",
       "<polyline clip-path=\"url(#clip222)\" style=\"stroke:#000000; stroke-linecap:butt; stroke-linejoin:round; stroke-width:2; stroke-opacity:0.1; fill:none\" points=\"\n",
       "  917.6,47.2441 917.6,1486.45 \n",
       "  \"/>\n",
       "<polyline clip-path=\"url(#clip222)\" style=\"stroke:#000000; stroke-linecap:butt; stroke-linejoin:round; stroke-width:2; stroke-opacity:0.1; fill:none\" points=\"\n",
       "  1375.38,47.2441 1375.38,1486.45 \n",
       "  \"/>\n",
       "<polyline clip-path=\"url(#clip222)\" style=\"stroke:#000000; stroke-linecap:butt; stroke-linejoin:round; stroke-width:2; stroke-opacity:0.1; fill:none\" points=\"\n",
       "  1833.17,47.2441 1833.17,1486.45 \n",
       "  \"/>\n",
       "<polyline clip-path=\"url(#clip222)\" style=\"stroke:#000000; stroke-linecap:butt; stroke-linejoin:round; stroke-width:2; stroke-opacity:0.1; fill:none\" points=\"\n",
       "  2290.95,47.2441 2290.95,1486.45 \n",
       "  \"/>\n",
       "<polyline clip-path=\"url(#clip220)\" style=\"stroke:#000000; stroke-linecap:butt; stroke-linejoin:round; stroke-width:4; stroke-opacity:1; fill:none\" points=\"\n",
       "  169.121,1486.45 2352.76,1486.45 \n",
       "  \"/>\n",
       "<polyline clip-path=\"url(#clip220)\" style=\"stroke:#000000; stroke-linecap:butt; stroke-linejoin:round; stroke-width:4; stroke-opacity:1; fill:none\" points=\"\n",
       "  459.815,1486.45 459.815,1467.55 \n",
       "  \"/>\n",
       "<polyline clip-path=\"url(#clip220)\" style=\"stroke:#000000; stroke-linecap:butt; stroke-linejoin:round; stroke-width:4; stroke-opacity:1; fill:none\" points=\"\n",
       "  917.6,1486.45 917.6,1467.55 \n",
       "  \"/>\n",
       "<polyline clip-path=\"url(#clip220)\" style=\"stroke:#000000; stroke-linecap:butt; stroke-linejoin:round; stroke-width:4; stroke-opacity:1; fill:none\" points=\"\n",
       "  1375.38,1486.45 1375.38,1467.55 \n",
       "  \"/>\n",
       "<polyline clip-path=\"url(#clip220)\" style=\"stroke:#000000; stroke-linecap:butt; stroke-linejoin:round; stroke-width:4; stroke-opacity:1; fill:none\" points=\"\n",
       "  1833.17,1486.45 1833.17,1467.55 \n",
       "  \"/>\n",
       "<polyline clip-path=\"url(#clip220)\" style=\"stroke:#000000; stroke-linecap:butt; stroke-linejoin:round; stroke-width:4; stroke-opacity:1; fill:none\" points=\"\n",
       "  2290.95,1486.45 2290.95,1467.55 \n",
       "  \"/>\n",
       "<path clip-path=\"url(#clip220)\" d=\"M454.468 1543.18 L470.787 1543.18 L470.787 1547.12 L448.843 1547.12 L448.843 1543.18 Q451.505 1540.43 456.088 1535.8 Q460.694 1531.15 461.875 1529.81 Q464.12 1527.28 465 1525.55 Q465.903 1523.79 465.903 1522.1 Q465.903 1519.34 463.958 1517.61 Q462.037 1515.87 458.935 1515.87 Q456.736 1515.87 454.282 1516.63 Q451.852 1517.4 449.074 1518.95 L449.074 1514.23 Q451.898 1513.09 454.352 1512.51 Q456.806 1511.93 458.843 1511.93 Q464.213 1511.93 467.407 1514.62 Q470.602 1517.31 470.602 1521.8 Q470.602 1523.93 469.792 1525.85 Q469.005 1527.74 466.898 1530.34 Q466.319 1531.01 463.218 1534.23 Q460.116 1537.42 454.468 1543.18 Z\" fill=\"#000000\" fill-rule=\"evenodd\" fill-opacity=\"1\" /><path clip-path=\"url(#clip220)\" d=\"M920.609 1516.63 L908.804 1535.08 L920.609 1535.08 L920.609 1516.63 M919.382 1512.56 L925.262 1512.56 L925.262 1535.08 L930.192 1535.08 L930.192 1538.97 L925.262 1538.97 L925.262 1547.12 L920.609 1547.12 L920.609 1538.97 L905.007 1538.97 L905.007 1534.46 L919.382 1512.56 Z\" fill=\"#000000\" fill-rule=\"evenodd\" fill-opacity=\"1\" /><path clip-path=\"url(#clip220)\" d=\"M1375.79 1527.98 Q1372.64 1527.98 1370.79 1530.13 Q1368.96 1532.28 1368.96 1536.03 Q1368.96 1539.76 1370.79 1541.93 Q1372.64 1544.09 1375.79 1544.09 Q1378.94 1544.09 1380.77 1541.93 Q1382.62 1539.76 1382.62 1536.03 Q1382.62 1532.28 1380.77 1530.13 Q1378.94 1527.98 1375.79 1527.98 M1385.07 1513.32 L1385.07 1517.58 Q1383.31 1516.75 1381.51 1516.31 Q1379.73 1515.87 1377.97 1515.87 Q1373.34 1515.87 1370.88 1519 Q1368.45 1522.12 1368.1 1528.44 Q1369.47 1526.43 1371.53 1525.36 Q1373.59 1524.27 1376.07 1524.27 Q1381.28 1524.27 1384.29 1527.44 Q1387.32 1530.59 1387.32 1536.03 Q1387.32 1541.36 1384.17 1544.57 Q1381.02 1547.79 1375.79 1547.79 Q1369.79 1547.79 1366.62 1543.21 Q1363.45 1538.6 1363.45 1529.87 Q1363.45 1521.68 1367.34 1516.82 Q1371.23 1511.93 1377.78 1511.93 Q1379.54 1511.93 1381.32 1512.28 Q1383.13 1512.63 1385.07 1513.32 Z\" fill=\"#000000\" fill-rule=\"evenodd\" fill-opacity=\"1\" /><path clip-path=\"url(#clip220)\" d=\"M1833.17 1530.71 Q1829.84 1530.71 1827.92 1532.49 Q1826.02 1534.27 1826.02 1537.4 Q1826.02 1540.52 1827.92 1542.31 Q1829.84 1544.09 1833.17 1544.09 Q1836.5 1544.09 1838.42 1542.31 Q1840.35 1540.5 1840.35 1537.4 Q1840.35 1534.27 1838.42 1532.49 Q1836.53 1530.71 1833.17 1530.71 M1828.49 1528.72 Q1825.48 1527.98 1823.79 1525.92 Q1822.13 1523.86 1822.13 1520.89 Q1822.13 1516.75 1825.07 1514.34 Q1828.03 1511.93 1833.17 1511.93 Q1838.33 1511.93 1841.27 1514.34 Q1844.21 1516.75 1844.21 1520.89 Q1844.21 1523.86 1842.52 1525.92 Q1840.86 1527.98 1837.87 1528.72 Q1841.25 1529.5 1843.12 1531.8 Q1845.02 1534.09 1845.02 1537.4 Q1845.02 1542.42 1841.94 1545.11 Q1838.89 1547.79 1833.17 1547.79 Q1827.45 1547.79 1824.37 1545.11 Q1821.32 1542.42 1821.32 1537.4 Q1821.32 1534.09 1823.22 1531.8 Q1825.11 1529.5 1828.49 1528.72 M1826.78 1521.33 Q1826.78 1524.02 1828.45 1525.52 Q1830.14 1527.03 1833.17 1527.03 Q1836.18 1527.03 1837.87 1525.52 Q1839.58 1524.02 1839.58 1521.33 Q1839.58 1518.65 1837.87 1517.14 Q1836.18 1515.64 1833.17 1515.64 Q1830.14 1515.64 1828.45 1517.14 Q1826.78 1518.65 1826.78 1521.33 Z\" fill=\"#000000\" fill-rule=\"evenodd\" fill-opacity=\"1\" /><path clip-path=\"url(#clip220)\" d=\"M2265.64 1543.18 L2273.28 1543.18 L2273.28 1516.82 L2264.97 1518.49 L2264.97 1514.23 L2273.24 1512.56 L2277.91 1512.56 L2277.91 1543.18 L2285.55 1543.18 L2285.55 1547.12 L2265.64 1547.12 L2265.64 1543.18 Z\" fill=\"#000000\" fill-rule=\"evenodd\" fill-opacity=\"1\" /><path clip-path=\"url(#clip220)\" d=\"M2304.99 1515.64 Q2301.38 1515.64 2299.55 1519.2 Q2297.75 1522.75 2297.75 1529.87 Q2297.75 1536.98 2299.55 1540.55 Q2301.38 1544.09 2304.99 1544.09 Q2308.63 1544.09 2310.43 1540.55 Q2312.26 1536.98 2312.26 1529.87 Q2312.26 1522.75 2310.43 1519.2 Q2308.63 1515.64 2304.99 1515.64 M2304.99 1511.93 Q2310.8 1511.93 2313.86 1516.54 Q2316.94 1521.12 2316.94 1529.87 Q2316.94 1538.6 2313.86 1543.21 Q2310.8 1547.79 2304.99 1547.79 Q2299.18 1547.79 2296.11 1543.21 Q2293.05 1538.6 2293.05 1529.87 Q2293.05 1521.12 2296.11 1516.54 Q2299.18 1511.93 2304.99 1511.93 Z\" fill=\"#000000\" fill-rule=\"evenodd\" fill-opacity=\"1\" /><polyline clip-path=\"url(#clip222)\" style=\"stroke:#000000; stroke-linecap:butt; stroke-linejoin:round; stroke-width:2; stroke-opacity:0.1; fill:none\" points=\"\n",
       "  169.121,74.2617 2352.76,74.2617 \n",
       "  \"/>\n",
       "<polyline clip-path=\"url(#clip222)\" style=\"stroke:#000000; stroke-linecap:butt; stroke-linejoin:round; stroke-width:2; stroke-opacity:0.1; fill:none\" points=\"\n",
       "  169.121,417.125 2352.76,417.125 \n",
       "  \"/>\n",
       "<polyline clip-path=\"url(#clip222)\" style=\"stroke:#000000; stroke-linecap:butt; stroke-linejoin:round; stroke-width:2; stroke-opacity:0.1; fill:none\" points=\"\n",
       "  169.121,759.989 2352.76,759.989 \n",
       "  \"/>\n",
       "<polyline clip-path=\"url(#clip222)\" style=\"stroke:#000000; stroke-linecap:butt; stroke-linejoin:round; stroke-width:2; stroke-opacity:0.1; fill:none\" points=\"\n",
       "  169.121,1102.85 2352.76,1102.85 \n",
       "  \"/>\n",
       "<polyline clip-path=\"url(#clip222)\" style=\"stroke:#000000; stroke-linecap:butt; stroke-linejoin:round; stroke-width:2; stroke-opacity:0.1; fill:none\" points=\"\n",
       "  169.121,1445.72 2352.76,1445.72 \n",
       "  \"/>\n",
       "<polyline clip-path=\"url(#clip220)\" style=\"stroke:#000000; stroke-linecap:butt; stroke-linejoin:round; stroke-width:4; stroke-opacity:1; fill:none\" points=\"\n",
       "  169.121,47.2441 169.121,1486.45 \n",
       "  \"/>\n",
       "<polyline clip-path=\"url(#clip220)\" style=\"stroke:#000000; stroke-linecap:butt; stroke-linejoin:round; stroke-width:4; stroke-opacity:1; fill:none\" points=\"\n",
       "  169.121,74.2617 188.019,74.2617 \n",
       "  \"/>\n",
       "<polyline clip-path=\"url(#clip220)\" style=\"stroke:#000000; stroke-linecap:butt; stroke-linejoin:round; stroke-width:4; stroke-opacity:1; fill:none\" points=\"\n",
       "  169.121,417.125 188.019,417.125 \n",
       "  \"/>\n",
       "<polyline clip-path=\"url(#clip220)\" style=\"stroke:#000000; stroke-linecap:butt; stroke-linejoin:round; stroke-width:4; stroke-opacity:1; fill:none\" points=\"\n",
       "  169.121,759.989 188.019,759.989 \n",
       "  \"/>\n",
       "<polyline clip-path=\"url(#clip220)\" style=\"stroke:#000000; stroke-linecap:butt; stroke-linejoin:round; stroke-width:4; stroke-opacity:1; fill:none\" points=\"\n",
       "  169.121,1102.85 188.019,1102.85 \n",
       "  \"/>\n",
       "<polyline clip-path=\"url(#clip220)\" style=\"stroke:#000000; stroke-linecap:butt; stroke-linejoin:round; stroke-width:4; stroke-opacity:1; fill:none\" points=\"\n",
       "  169.121,1445.72 188.019,1445.72 \n",
       "  \"/>\n",
       "<path clip-path=\"url(#clip220)\" d=\"M121.177 60.0604 Q117.566 60.0604 115.737 63.6252 Q113.932 67.1669 113.932 74.2965 Q113.932 81.4029 115.737 84.9677 Q117.566 88.5093 121.177 88.5093 Q124.811 88.5093 126.617 84.9677 Q128.445 81.4029 128.445 74.2965 Q128.445 67.1669 126.617 63.6252 Q124.811 60.0604 121.177 60.0604 M121.177 56.3567 Q126.987 56.3567 130.043 60.9632 Q133.121 65.5465 133.121 74.2965 Q133.121 83.0233 130.043 87.6297 Q126.987 92.213 121.177 92.213 Q115.367 92.213 112.288 87.6297 Q109.233 83.0233 109.233 74.2965 Q109.233 65.5465 112.288 60.9632 Q115.367 56.3567 121.177 56.3567 Z\" fill=\"#000000\" fill-rule=\"evenodd\" fill-opacity=\"1\" /><path clip-path=\"url(#clip220)\" d=\"M86.0382 430.47 L102.358 430.47 L102.358 434.405 L80.4133 434.405 L80.4133 430.47 Q83.0753 427.715 87.6586 423.086 Q92.2651 418.433 93.4456 417.091 Q95.691 414.567 96.5706 412.831 Q97.4734 411.072 97.4734 409.382 Q97.4734 406.628 95.5289 404.891 Q93.6076 403.155 90.5058 403.155 Q88.3067 403.155 85.8531 403.919 Q83.4225 404.683 80.6447 406.234 L80.6447 401.512 Q83.4688 400.378 85.9225 399.799 Q88.3762 399.22 90.4132 399.22 Q95.7836 399.22 98.978 401.905 Q102.172 404.591 102.172 409.081 Q102.172 411.211 101.362 413.132 Q100.575 415.03 98.4687 417.623 Q97.89 418.294 94.7882 421.512 Q91.6864 424.706 86.0382 430.47 Z\" fill=\"#000000\" fill-rule=\"evenodd\" fill-opacity=\"1\" /><path clip-path=\"url(#clip220)\" d=\"M112.219 399.845 L130.575 399.845 L130.575 403.78 L116.501 403.78 L116.501 412.253 Q117.52 411.905 118.538 411.743 Q119.557 411.558 120.575 411.558 Q126.362 411.558 129.742 414.729 Q133.121 417.901 133.121 423.317 Q133.121 428.896 129.649 431.998 Q126.177 435.077 119.857 435.077 Q117.682 435.077 115.413 434.706 Q113.168 434.336 110.76 433.595 L110.76 428.896 Q112.844 430.03 115.066 430.586 Q117.288 431.141 119.765 431.141 Q123.77 431.141 126.107 429.035 Q128.445 426.928 128.445 423.317 Q128.445 419.706 126.107 417.6 Q123.77 415.493 119.765 415.493 Q117.89 415.493 116.015 415.91 Q114.163 416.327 112.219 417.206 L112.219 399.845 Z\" fill=\"#000000\" fill-rule=\"evenodd\" fill-opacity=\"1\" /><path clip-path=\"url(#clip220)\" d=\"M81.0614 742.709 L99.4178 742.709 L99.4178 746.644 L85.3438 746.644 L85.3438 755.116 Q86.3623 754.769 87.3808 754.607 Q88.3993 754.422 89.4178 754.422 Q95.2049 754.422 98.5845 757.593 Q101.964 760.764 101.964 766.181 Q101.964 771.759 98.4919 774.861 Q95.0197 777.94 88.7003 777.94 Q86.5243 777.94 84.2558 777.57 Q82.0105 777.199 79.6031 776.459 L79.6031 771.759 Q81.6864 772.894 83.9086 773.449 Q86.1308 774.005 88.6077 774.005 Q92.6123 774.005 94.9502 771.898 Q97.2882 769.792 97.2882 766.181 Q97.2882 762.57 94.9502 760.463 Q92.6123 758.357 88.6077 758.357 Q86.7327 758.357 84.8577 758.773 Q83.0058 759.19 81.0614 760.07 L81.0614 742.709 Z\" fill=\"#000000\" fill-rule=\"evenodd\" fill-opacity=\"1\" /><path clip-path=\"url(#clip220)\" d=\"M121.177 745.787 Q117.566 745.787 115.737 749.352 Q113.932 752.894 113.932 760.023 Q113.932 767.13 115.737 770.695 Q117.566 774.236 121.177 774.236 Q124.811 774.236 126.617 770.695 Q128.445 767.13 128.445 760.023 Q128.445 752.894 126.617 749.352 Q124.811 745.787 121.177 745.787 M121.177 742.084 Q126.987 742.084 130.043 746.69 Q133.121 751.273 133.121 760.023 Q133.121 768.75 130.043 773.357 Q126.987 777.94 121.177 777.94 Q115.367 777.94 112.288 773.357 Q109.233 768.75 109.233 760.023 Q109.233 751.273 112.288 746.69 Q115.367 742.084 121.177 742.084 Z\" fill=\"#000000\" fill-rule=\"evenodd\" fill-opacity=\"1\" /><path clip-path=\"url(#clip220)\" d=\"M80.8299 1085.57 L103.052 1085.57 L103.052 1087.56 L90.5058 1120.13 L85.6216 1120.13 L97.4271 1089.51 L80.8299 1089.51 L80.8299 1085.57 Z\" fill=\"#000000\" fill-rule=\"evenodd\" fill-opacity=\"1\" /><path clip-path=\"url(#clip220)\" d=\"M112.219 1085.57 L130.575 1085.57 L130.575 1089.51 L116.501 1089.51 L116.501 1097.98 Q117.52 1097.63 118.538 1097.47 Q119.557 1097.29 120.575 1097.29 Q126.362 1097.29 129.742 1100.46 Q133.121 1103.63 133.121 1109.04 Q133.121 1114.62 129.649 1117.72 Q126.177 1120.8 119.857 1120.8 Q117.682 1120.8 115.413 1120.43 Q113.168 1120.06 110.76 1119.32 L110.76 1114.62 Q112.844 1115.76 115.066 1116.31 Q117.288 1116.87 119.765 1116.87 Q123.77 1116.87 126.107 1114.76 Q128.445 1112.66 128.445 1109.04 Q128.445 1105.43 126.107 1103.33 Q123.77 1101.22 119.765 1101.22 Q117.89 1101.22 116.015 1101.64 Q114.163 1102.05 112.219 1102.93 L112.219 1085.57 Z\" fill=\"#000000\" fill-rule=\"evenodd\" fill-opacity=\"1\" /><path clip-path=\"url(#clip220)\" d=\"M51.6634 1459.06 L59.3023 1459.06 L59.3023 1432.69 L50.9921 1434.36 L50.9921 1430.1 L59.256 1428.44 L63.9319 1428.44 L63.9319 1459.06 L71.5707 1459.06 L71.5707 1463 L51.6634 1463 L51.6634 1459.06 Z\" fill=\"#000000\" fill-rule=\"evenodd\" fill-opacity=\"1\" /><path clip-path=\"url(#clip220)\" d=\"M91.0151 1431.51 Q87.404 1431.51 85.5753 1435.08 Q83.7697 1438.62 83.7697 1445.75 Q83.7697 1452.86 85.5753 1456.42 Q87.404 1459.96 91.0151 1459.96 Q94.6493 1459.96 96.4548 1456.42 Q98.2835 1452.86 98.2835 1445.75 Q98.2835 1438.62 96.4548 1435.08 Q94.6493 1431.51 91.0151 1431.51 M91.0151 1427.81 Q96.8252 1427.81 99.8808 1432.42 Q102.959 1437 102.959 1445.75 Q102.959 1454.48 99.8808 1459.08 Q96.8252 1463.67 91.0151 1463.67 Q85.2049 1463.67 82.1262 1459.08 Q79.0707 1454.48 79.0707 1445.75 Q79.0707 1437 82.1262 1432.42 Q85.2049 1427.81 91.0151 1427.81 Z\" fill=\"#000000\" fill-rule=\"evenodd\" fill-opacity=\"1\" /><path clip-path=\"url(#clip220)\" d=\"M121.177 1431.51 Q117.566 1431.51 115.737 1435.08 Q113.932 1438.62 113.932 1445.75 Q113.932 1452.86 115.737 1456.42 Q117.566 1459.96 121.177 1459.96 Q124.811 1459.96 126.617 1456.42 Q128.445 1452.86 128.445 1445.75 Q128.445 1438.62 126.617 1435.08 Q124.811 1431.51 121.177 1431.51 M121.177 1427.81 Q126.987 1427.81 130.043 1432.42 Q133.121 1437 133.121 1445.75 Q133.121 1454.48 130.043 1459.08 Q126.987 1463.67 121.177 1463.67 Q115.367 1463.67 112.288 1459.08 Q109.233 1454.48 109.233 1445.75 Q109.233 1437 112.288 1432.42 Q115.367 1427.81 121.177 1427.81 Z\" fill=\"#000000\" fill-rule=\"evenodd\" fill-opacity=\"1\" /><polyline clip-path=\"url(#clip222)\" style=\"stroke:#009af9; stroke-linecap:butt; stroke-linejoin:round; stroke-width:4; stroke-opacity:1; fill:none\" points=\"\n",
       "  230.922,87.9763 459.815,129.12 688.707,197.693 917.6,293.694 1146.49,417.125 1375.38,567.985 1604.28,746.274 1833.17,951.992 2062.06,1185.14 2290.95,1445.72 \n",
       "  \n",
       "  \"/>\n",
       "<path clip-path=\"url(#clip220)\" d=\"\n",
       "M1984.91 198.898 L2279.97 198.898 L2279.97 95.2176 L1984.91 95.2176  Z\n",
       "  \" fill=\"#ffffff\" fill-rule=\"evenodd\" fill-opacity=\"1\"/>\n",
       "<polyline clip-path=\"url(#clip220)\" style=\"stroke:#000000; stroke-linecap:butt; stroke-linejoin:round; stroke-width:4; stroke-opacity:1; fill:none\" points=\"\n",
       "  1984.91,198.898 2279.97,198.898 2279.97,95.2176 1984.91,95.2176 1984.91,198.898 \n",
       "  \"/>\n",
       "<polyline clip-path=\"url(#clip220)\" style=\"stroke:#009af9; stroke-linecap:butt; stroke-linejoin:round; stroke-width:4; stroke-opacity:1; fill:none\" points=\"\n",
       "  2009.17,147.058 2154.75,147.058 \n",
       "  \"/>\n",
       "<path clip-path=\"url(#clip220)\" d=\"M2192.86 166.745 Q2191.05 171.375 2189.34 172.787 Q2187.62 174.199 2184.75 174.199 L2181.35 174.199 L2181.35 170.634 L2183.85 170.634 Q2185.61 170.634 2186.58 169.8 Q2187.55 168.967 2188.73 165.865 L2189.5 163.921 L2179.01 138.412 L2183.53 138.412 L2191.63 158.689 L2199.73 138.412 L2204.24 138.412 L2192.86 166.745 Z\" fill=\"#000000\" fill-rule=\"evenodd\" fill-opacity=\"1\" /><path clip-path=\"url(#clip220)\" d=\"M2211.54 160.402 L2219.17 160.402 L2219.17 134.037 L2210.86 135.703 L2210.86 131.444 L2219.13 129.778 L2223.8 129.778 L2223.8 160.402 L2231.44 160.402 L2231.44 164.338 L2211.54 164.338 L2211.54 160.402 Z\" fill=\"#000000\" fill-rule=\"evenodd\" fill-opacity=\"1\" /></svg>\n"
      ]
     },
     "execution_count": 92,
     "metadata": {},
     "output_type": "execute_result"
    }
   ],
   "source": [
    "# line plot for y direction reverse:\n",
    "x = 1:10 \n",
    "y = x.^2\n",
    "plot(x, y, yflip = true)"
   ]
  },
  {
   "cell_type": "code",
   "execution_count": 93,
   "metadata": {},
   "outputs": [
    {
     "data": {
      "image/svg+xml": [
       "<?xml version=\"1.0\" encoding=\"utf-8\"?>\n",
       "<svg xmlns=\"http://www.w3.org/2000/svg\" xmlns:xlink=\"http://www.w3.org/1999/xlink\" width=\"600\" height=\"400\" viewBox=\"0 0 2400 1600\">\n",
       "<defs>\n",
       "  <clipPath id=\"clip260\">\n",
       "    <rect x=\"0\" y=\"0\" width=\"2400\" height=\"1600\"/>\n",
       "  </clipPath>\n",
       "</defs>\n",
       "<path clip-path=\"url(#clip260)\" d=\"\n",
       "M0 1600 L2400 1600 L2400 0 L0 0  Z\n",
       "  \" fill=\"#ffffff\" fill-rule=\"evenodd\" fill-opacity=\"1\"/>\n",
       "<defs>\n",
       "  <clipPath id=\"clip261\">\n",
       "    <rect x=\"480\" y=\"0\" width=\"1681\" height=\"1600\"/>\n",
       "  </clipPath>\n",
       "</defs>\n",
       "<path clip-path=\"url(#clip260)\" d=\"\n",
       "M169.121 1486.45 L2352.76 1486.45 L2352.76 47.2441 L169.121 47.2441  Z\n",
       "  \" fill=\"#ffffff\" fill-rule=\"evenodd\" fill-opacity=\"1\"/>\n",
       "<defs>\n",
       "  <clipPath id=\"clip262\">\n",
       "    <rect x=\"169\" y=\"47\" width=\"2185\" height=\"1440\"/>\n",
       "  </clipPath>\n",
       "</defs>\n",
       "<polyline clip-path=\"url(#clip262)\" style=\"stroke:#000000; stroke-linecap:butt; stroke-linejoin:round; stroke-width:2; stroke-opacity:0.1; fill:none\" points=\"\n",
       "  459.815,1486.45 459.815,47.2441 \n",
       "  \"/>\n",
       "<polyline clip-path=\"url(#clip262)\" style=\"stroke:#000000; stroke-linecap:butt; stroke-linejoin:round; stroke-width:2; stroke-opacity:0.1; fill:none\" points=\"\n",
       "  917.6,1486.45 917.6,47.2441 \n",
       "  \"/>\n",
       "<polyline clip-path=\"url(#clip262)\" style=\"stroke:#000000; stroke-linecap:butt; stroke-linejoin:round; stroke-width:2; stroke-opacity:0.1; fill:none\" points=\"\n",
       "  1375.38,1486.45 1375.38,47.2441 \n",
       "  \"/>\n",
       "<polyline clip-path=\"url(#clip262)\" style=\"stroke:#000000; stroke-linecap:butt; stroke-linejoin:round; stroke-width:2; stroke-opacity:0.1; fill:none\" points=\"\n",
       "  1833.17,1486.45 1833.17,47.2441 \n",
       "  \"/>\n",
       "<polyline clip-path=\"url(#clip262)\" style=\"stroke:#000000; stroke-linecap:butt; stroke-linejoin:round; stroke-width:2; stroke-opacity:0.1; fill:none\" points=\"\n",
       "  2290.95,1486.45 2290.95,47.2441 \n",
       "  \"/>\n",
       "<polyline clip-path=\"url(#clip260)\" style=\"stroke:#000000; stroke-linecap:butt; stroke-linejoin:round; stroke-width:4; stroke-opacity:1; fill:none\" points=\"\n",
       "  169.121,1486.45 2352.76,1486.45 \n",
       "  \"/>\n",
       "<polyline clip-path=\"url(#clip260)\" style=\"stroke:#000000; stroke-linecap:butt; stroke-linejoin:round; stroke-width:4; stroke-opacity:1; fill:none\" points=\"\n",
       "  459.815,1486.45 459.815,1467.55 \n",
       "  \"/>\n",
       "<polyline clip-path=\"url(#clip260)\" style=\"stroke:#000000; stroke-linecap:butt; stroke-linejoin:round; stroke-width:4; stroke-opacity:1; fill:none\" points=\"\n",
       "  917.6,1486.45 917.6,1467.55 \n",
       "  \"/>\n",
       "<polyline clip-path=\"url(#clip260)\" style=\"stroke:#000000; stroke-linecap:butt; stroke-linejoin:round; stroke-width:4; stroke-opacity:1; fill:none\" points=\"\n",
       "  1375.38,1486.45 1375.38,1467.55 \n",
       "  \"/>\n",
       "<polyline clip-path=\"url(#clip260)\" style=\"stroke:#000000; stroke-linecap:butt; stroke-linejoin:round; stroke-width:4; stroke-opacity:1; fill:none\" points=\"\n",
       "  1833.17,1486.45 1833.17,1467.55 \n",
       "  \"/>\n",
       "<polyline clip-path=\"url(#clip260)\" style=\"stroke:#000000; stroke-linecap:butt; stroke-linejoin:round; stroke-width:4; stroke-opacity:1; fill:none\" points=\"\n",
       "  2290.95,1486.45 2290.95,1467.55 \n",
       "  \"/>\n",
       "<path clip-path=\"url(#clip260)\" d=\"M454.468 1543.18 L470.787 1543.18 L470.787 1547.12 L448.843 1547.12 L448.843 1543.18 Q451.505 1540.43 456.088 1535.8 Q460.694 1531.15 461.875 1529.81 Q464.12 1527.28 465 1525.55 Q465.903 1523.79 465.903 1522.1 Q465.903 1519.34 463.958 1517.61 Q462.037 1515.87 458.935 1515.87 Q456.736 1515.87 454.282 1516.63 Q451.852 1517.4 449.074 1518.95 L449.074 1514.23 Q451.898 1513.09 454.352 1512.51 Q456.806 1511.93 458.843 1511.93 Q464.213 1511.93 467.407 1514.62 Q470.602 1517.31 470.602 1521.8 Q470.602 1523.93 469.792 1525.85 Q469.005 1527.74 466.898 1530.34 Q466.319 1531.01 463.218 1534.23 Q460.116 1537.42 454.468 1543.18 Z\" fill=\"#000000\" fill-rule=\"evenodd\" fill-opacity=\"1\" /><path clip-path=\"url(#clip260)\" d=\"M920.609 1516.63 L908.804 1535.08 L920.609 1535.08 L920.609 1516.63 M919.382 1512.56 L925.262 1512.56 L925.262 1535.08 L930.192 1535.08 L930.192 1538.97 L925.262 1538.97 L925.262 1547.12 L920.609 1547.12 L920.609 1538.97 L905.007 1538.97 L905.007 1534.46 L919.382 1512.56 Z\" fill=\"#000000\" fill-rule=\"evenodd\" fill-opacity=\"1\" /><path clip-path=\"url(#clip260)\" d=\"M1375.79 1527.98 Q1372.64 1527.98 1370.79 1530.13 Q1368.96 1532.28 1368.96 1536.03 Q1368.96 1539.76 1370.79 1541.93 Q1372.64 1544.09 1375.79 1544.09 Q1378.94 1544.09 1380.77 1541.93 Q1382.62 1539.76 1382.62 1536.03 Q1382.62 1532.28 1380.77 1530.13 Q1378.94 1527.98 1375.79 1527.98 M1385.07 1513.32 L1385.07 1517.58 Q1383.31 1516.75 1381.51 1516.31 Q1379.73 1515.87 1377.97 1515.87 Q1373.34 1515.87 1370.88 1519 Q1368.45 1522.12 1368.1 1528.44 Q1369.47 1526.43 1371.53 1525.36 Q1373.59 1524.27 1376.07 1524.27 Q1381.28 1524.27 1384.29 1527.44 Q1387.32 1530.59 1387.32 1536.03 Q1387.32 1541.36 1384.17 1544.57 Q1381.02 1547.79 1375.79 1547.79 Q1369.79 1547.79 1366.62 1543.21 Q1363.45 1538.6 1363.45 1529.87 Q1363.45 1521.68 1367.34 1516.82 Q1371.23 1511.93 1377.78 1511.93 Q1379.54 1511.93 1381.32 1512.28 Q1383.13 1512.63 1385.07 1513.32 Z\" fill=\"#000000\" fill-rule=\"evenodd\" fill-opacity=\"1\" /><path clip-path=\"url(#clip260)\" d=\"M1833.17 1530.71 Q1829.84 1530.71 1827.92 1532.49 Q1826.02 1534.27 1826.02 1537.4 Q1826.02 1540.52 1827.92 1542.31 Q1829.84 1544.09 1833.17 1544.09 Q1836.5 1544.09 1838.42 1542.31 Q1840.35 1540.5 1840.35 1537.4 Q1840.35 1534.27 1838.42 1532.49 Q1836.53 1530.71 1833.17 1530.71 M1828.49 1528.72 Q1825.48 1527.98 1823.79 1525.92 Q1822.13 1523.86 1822.13 1520.89 Q1822.13 1516.75 1825.07 1514.34 Q1828.03 1511.93 1833.17 1511.93 Q1838.33 1511.93 1841.27 1514.34 Q1844.21 1516.75 1844.21 1520.89 Q1844.21 1523.86 1842.52 1525.92 Q1840.86 1527.98 1837.87 1528.72 Q1841.25 1529.5 1843.12 1531.8 Q1845.02 1534.09 1845.02 1537.4 Q1845.02 1542.42 1841.94 1545.11 Q1838.89 1547.79 1833.17 1547.79 Q1827.45 1547.79 1824.37 1545.11 Q1821.32 1542.42 1821.32 1537.4 Q1821.32 1534.09 1823.22 1531.8 Q1825.11 1529.5 1828.49 1528.72 M1826.78 1521.33 Q1826.78 1524.02 1828.45 1525.52 Q1830.14 1527.03 1833.17 1527.03 Q1836.18 1527.03 1837.87 1525.52 Q1839.58 1524.02 1839.58 1521.33 Q1839.58 1518.65 1837.87 1517.14 Q1836.18 1515.64 1833.17 1515.64 Q1830.14 1515.64 1828.45 1517.14 Q1826.78 1518.65 1826.78 1521.33 Z\" fill=\"#000000\" fill-rule=\"evenodd\" fill-opacity=\"1\" /><path clip-path=\"url(#clip260)\" d=\"M2265.64 1543.18 L2273.28 1543.18 L2273.28 1516.82 L2264.97 1518.49 L2264.97 1514.23 L2273.24 1512.56 L2277.91 1512.56 L2277.91 1543.18 L2285.55 1543.18 L2285.55 1547.12 L2265.64 1547.12 L2265.64 1543.18 Z\" fill=\"#000000\" fill-rule=\"evenodd\" fill-opacity=\"1\" /><path clip-path=\"url(#clip260)\" d=\"M2304.99 1515.64 Q2301.38 1515.64 2299.55 1519.2 Q2297.75 1522.75 2297.75 1529.87 Q2297.75 1536.98 2299.55 1540.55 Q2301.38 1544.09 2304.99 1544.09 Q2308.63 1544.09 2310.43 1540.55 Q2312.26 1536.98 2312.26 1529.87 Q2312.26 1522.75 2310.43 1519.2 Q2308.63 1515.64 2304.99 1515.64 M2304.99 1511.93 Q2310.8 1511.93 2313.86 1516.54 Q2316.94 1521.12 2316.94 1529.87 Q2316.94 1538.6 2313.86 1543.21 Q2310.8 1547.79 2304.99 1547.79 Q2299.18 1547.79 2296.11 1543.21 Q2293.05 1538.6 2293.05 1529.87 Q2293.05 1521.12 2296.11 1516.54 Q2299.18 1511.93 2304.99 1511.93 Z\" fill=\"#000000\" fill-rule=\"evenodd\" fill-opacity=\"1\" /><polyline clip-path=\"url(#clip262)\" style=\"stroke:#000000; stroke-linecap:butt; stroke-linejoin:round; stroke-width:2; stroke-opacity:0.1; fill:none\" points=\"\n",
       "  169.121,1459.43 2352.76,1459.43 \n",
       "  \"/>\n",
       "<polyline clip-path=\"url(#clip262)\" style=\"stroke:#000000; stroke-linecap:butt; stroke-linejoin:round; stroke-width:2; stroke-opacity:0.1; fill:none\" points=\"\n",
       "  169.121,1116.57 2352.76,1116.57 \n",
       "  \"/>\n",
       "<polyline clip-path=\"url(#clip262)\" style=\"stroke:#000000; stroke-linecap:butt; stroke-linejoin:round; stroke-width:2; stroke-opacity:0.1; fill:none\" points=\"\n",
       "  169.121,773.703 2352.76,773.703 \n",
       "  \"/>\n",
       "<polyline clip-path=\"url(#clip262)\" style=\"stroke:#000000; stroke-linecap:butt; stroke-linejoin:round; stroke-width:2; stroke-opacity:0.1; fill:none\" points=\"\n",
       "  169.121,430.84 2352.76,430.84 \n",
       "  \"/>\n",
       "<polyline clip-path=\"url(#clip262)\" style=\"stroke:#000000; stroke-linecap:butt; stroke-linejoin:round; stroke-width:2; stroke-opacity:0.1; fill:none\" points=\"\n",
       "  169.121,87.9763 2352.76,87.9763 \n",
       "  \"/>\n",
       "<polyline clip-path=\"url(#clip260)\" style=\"stroke:#000000; stroke-linecap:butt; stroke-linejoin:round; stroke-width:4; stroke-opacity:1; fill:none\" points=\"\n",
       "  169.121,1486.45 169.121,47.2441 \n",
       "  \"/>\n",
       "<polyline clip-path=\"url(#clip260)\" style=\"stroke:#000000; stroke-linecap:butt; stroke-linejoin:round; stroke-width:4; stroke-opacity:1; fill:none\" points=\"\n",
       "  169.121,1459.43 188.019,1459.43 \n",
       "  \"/>\n",
       "<polyline clip-path=\"url(#clip260)\" style=\"stroke:#000000; stroke-linecap:butt; stroke-linejoin:round; stroke-width:4; stroke-opacity:1; fill:none\" points=\"\n",
       "  169.121,1116.57 188.019,1116.57 \n",
       "  \"/>\n",
       "<polyline clip-path=\"url(#clip260)\" style=\"stroke:#000000; stroke-linecap:butt; stroke-linejoin:round; stroke-width:4; stroke-opacity:1; fill:none\" points=\"\n",
       "  169.121,773.703 188.019,773.703 \n",
       "  \"/>\n",
       "<polyline clip-path=\"url(#clip260)\" style=\"stroke:#000000; stroke-linecap:butt; stroke-linejoin:round; stroke-width:4; stroke-opacity:1; fill:none\" points=\"\n",
       "  169.121,430.84 188.019,430.84 \n",
       "  \"/>\n",
       "<polyline clip-path=\"url(#clip260)\" style=\"stroke:#000000; stroke-linecap:butt; stroke-linejoin:round; stroke-width:4; stroke-opacity:1; fill:none\" points=\"\n",
       "  169.121,87.9763 188.019,87.9763 \n",
       "  \"/>\n",
       "<path clip-path=\"url(#clip260)\" d=\"M121.177 1445.23 Q117.566 1445.23 115.737 1448.79 Q113.932 1452.34 113.932 1459.46 Q113.932 1466.57 115.737 1470.14 Q117.566 1473.68 121.177 1473.68 Q124.811 1473.68 126.617 1470.14 Q128.445 1466.57 128.445 1459.46 Q128.445 1452.34 126.617 1448.79 Q124.811 1445.23 121.177 1445.23 M121.177 1441.53 Q126.987 1441.53 130.043 1446.13 Q133.121 1450.72 133.121 1459.46 Q133.121 1468.19 130.043 1472.8 Q126.987 1477.38 121.177 1477.38 Q115.367 1477.38 112.288 1472.8 Q109.233 1468.19 109.233 1459.46 Q109.233 1450.72 112.288 1446.13 Q115.367 1441.53 121.177 1441.53 Z\" fill=\"#000000\" fill-rule=\"evenodd\" fill-opacity=\"1\" /><path clip-path=\"url(#clip260)\" d=\"M86.0382 1129.91 L102.358 1129.91 L102.358 1133.85 L80.4133 1133.85 L80.4133 1129.91 Q83.0753 1127.16 87.6586 1122.53 Q92.2651 1117.87 93.4456 1116.53 Q95.691 1114.01 96.5706 1112.27 Q97.4734 1110.51 97.4734 1108.82 Q97.4734 1106.07 95.5289 1104.33 Q93.6076 1102.6 90.5058 1102.6 Q88.3067 1102.6 85.8531 1103.36 Q83.4225 1104.12 80.6447 1105.68 L80.6447 1100.95 Q83.4688 1099.82 85.9225 1099.24 Q88.3762 1098.66 90.4132 1098.66 Q95.7836 1098.66 98.978 1101.35 Q102.172 1104.03 102.172 1108.52 Q102.172 1110.65 101.362 1112.57 Q100.575 1114.47 98.4687 1117.06 Q97.89 1117.74 94.7882 1120.95 Q91.6864 1124.15 86.0382 1129.91 Z\" fill=\"#000000\" fill-rule=\"evenodd\" fill-opacity=\"1\" /><path clip-path=\"url(#clip260)\" d=\"M112.219 1099.29 L130.575 1099.29 L130.575 1103.22 L116.501 1103.22 L116.501 1111.69 Q117.52 1111.35 118.538 1111.18 Q119.557 1111 120.575 1111 Q126.362 1111 129.742 1114.17 Q133.121 1117.34 133.121 1122.76 Q133.121 1128.34 129.649 1131.44 Q126.177 1134.52 119.857 1134.52 Q117.682 1134.52 115.413 1134.15 Q113.168 1133.78 110.76 1133.04 L110.76 1128.34 Q112.844 1129.47 115.066 1130.03 Q117.288 1130.58 119.765 1130.58 Q123.77 1130.58 126.107 1128.48 Q128.445 1126.37 128.445 1122.76 Q128.445 1119.15 126.107 1117.04 Q123.77 1114.93 119.765 1114.93 Q117.89 1114.93 116.015 1115.35 Q114.163 1115.77 112.219 1116.65 L112.219 1099.29 Z\" fill=\"#000000\" fill-rule=\"evenodd\" fill-opacity=\"1\" /><path clip-path=\"url(#clip260)\" d=\"M81.0614 756.423 L99.4178 756.423 L99.4178 760.358 L85.3438 760.358 L85.3438 768.831 Q86.3623 768.483 87.3808 768.321 Q88.3993 768.136 89.4178 768.136 Q95.2049 768.136 98.5845 771.307 Q101.964 774.479 101.964 779.895 Q101.964 785.474 98.4919 788.576 Q95.0197 791.655 88.7003 791.655 Q86.5243 791.655 84.2558 791.284 Q82.0105 790.914 79.6031 790.173 L79.6031 785.474 Q81.6864 786.608 83.9086 787.164 Q86.1308 787.719 88.6077 787.719 Q92.6123 787.719 94.9502 785.613 Q97.2882 783.506 97.2882 779.895 Q97.2882 776.284 94.9502 774.178 Q92.6123 772.071 88.6077 772.071 Q86.7327 772.071 84.8577 772.488 Q83.0058 772.905 81.0614 773.784 L81.0614 756.423 Z\" fill=\"#000000\" fill-rule=\"evenodd\" fill-opacity=\"1\" /><path clip-path=\"url(#clip260)\" d=\"M121.177 759.502 Q117.566 759.502 115.737 763.067 Q113.932 766.608 113.932 773.738 Q113.932 780.844 115.737 784.409 Q117.566 787.951 121.177 787.951 Q124.811 787.951 126.617 784.409 Q128.445 780.844 128.445 773.738 Q128.445 766.608 126.617 763.067 Q124.811 759.502 121.177 759.502 M121.177 755.798 Q126.987 755.798 130.043 760.405 Q133.121 764.988 133.121 773.738 Q133.121 782.465 130.043 787.071 Q126.987 791.655 121.177 791.655 Q115.367 791.655 112.288 787.071 Q109.233 782.465 109.233 773.738 Q109.233 764.988 112.288 760.405 Q115.367 755.798 121.177 755.798 Z\" fill=\"#000000\" fill-rule=\"evenodd\" fill-opacity=\"1\" /><path clip-path=\"url(#clip260)\" d=\"M80.8299 413.56 L103.052 413.56 L103.052 415.55 L90.5058 448.12 L85.6216 448.12 L97.4271 417.495 L80.8299 417.495 L80.8299 413.56 Z\" fill=\"#000000\" fill-rule=\"evenodd\" fill-opacity=\"1\" /><path clip-path=\"url(#clip260)\" d=\"M112.219 413.56 L130.575 413.56 L130.575 417.495 L116.501 417.495 L116.501 425.967 Q117.52 425.62 118.538 425.458 Q119.557 425.273 120.575 425.273 Q126.362 425.273 129.742 428.444 Q133.121 431.615 133.121 437.032 Q133.121 442.611 129.649 445.712 Q126.177 448.791 119.857 448.791 Q117.682 448.791 115.413 448.421 Q113.168 448.05 110.76 447.31 L110.76 442.611 Q112.844 443.745 115.066 444.3 Q117.288 444.856 119.765 444.856 Q123.77 444.856 126.107 442.749 Q128.445 440.643 128.445 437.032 Q128.445 433.421 126.107 431.314 Q123.77 429.208 119.765 429.208 Q117.89 429.208 116.015 429.624 Q114.163 430.041 112.219 430.921 L112.219 413.56 Z\" fill=\"#000000\" fill-rule=\"evenodd\" fill-opacity=\"1\" /><path clip-path=\"url(#clip260)\" d=\"M51.6634 101.321 L59.3023 101.321 L59.3023 74.9555 L50.9921 76.6222 L50.9921 72.3629 L59.256 70.6963 L63.9319 70.6963 L63.9319 101.321 L71.5707 101.321 L71.5707 105.256 L51.6634 105.256 L51.6634 101.321 Z\" fill=\"#000000\" fill-rule=\"evenodd\" fill-opacity=\"1\" /><path clip-path=\"url(#clip260)\" d=\"M91.0151 73.775 Q87.404 73.775 85.5753 77.3398 Q83.7697 80.8814 83.7697 88.011 Q83.7697 95.1174 85.5753 98.6822 Q87.404 102.224 91.0151 102.224 Q94.6493 102.224 96.4548 98.6822 Q98.2835 95.1174 98.2835 88.011 Q98.2835 80.8814 96.4548 77.3398 Q94.6493 73.775 91.0151 73.775 M91.0151 70.0713 Q96.8252 70.0713 99.8808 74.6777 Q102.959 79.261 102.959 88.011 Q102.959 96.7378 99.8808 101.344 Q96.8252 105.928 91.0151 105.928 Q85.2049 105.928 82.1262 101.344 Q79.0707 96.7378 79.0707 88.011 Q79.0707 79.261 82.1262 74.6777 Q85.2049 70.0713 91.0151 70.0713 Z\" fill=\"#000000\" fill-rule=\"evenodd\" fill-opacity=\"1\" /><path clip-path=\"url(#clip260)\" d=\"M121.177 73.775 Q117.566 73.775 115.737 77.3398 Q113.932 80.8814 113.932 88.011 Q113.932 95.1174 115.737 98.6822 Q117.566 102.224 121.177 102.224 Q124.811 102.224 126.617 98.6822 Q128.445 95.1174 128.445 88.011 Q128.445 80.8814 126.617 77.3398 Q124.811 73.775 121.177 73.775 M121.177 70.0713 Q126.987 70.0713 130.043 74.6777 Q133.121 79.261 133.121 88.011 Q133.121 96.7378 130.043 101.344 Q126.987 105.928 121.177 105.928 Q115.367 105.928 112.288 101.344 Q109.233 96.7378 109.233 88.011 Q109.233 79.261 112.288 74.6777 Q115.367 70.0713 121.177 70.0713 Z\" fill=\"#000000\" fill-rule=\"evenodd\" fill-opacity=\"1\" /><circle clip-path=\"url(#clip262)\" cx=\"230.922\" cy=\"1445.72\" r=\"14\" fill=\"#009af9\" fill-rule=\"evenodd\" fill-opacity=\"1\" stroke=\"#000000\" stroke-opacity=\"1\" stroke-width=\"3.2\"/>\n",
       "<circle clip-path=\"url(#clip262)\" cx=\"459.815\" cy=\"1404.57\" r=\"14\" fill=\"#009af9\" fill-rule=\"evenodd\" fill-opacity=\"1\" stroke=\"#000000\" stroke-opacity=\"1\" stroke-width=\"3.2\"/>\n",
       "<circle clip-path=\"url(#clip262)\" cx=\"688.707\" cy=\"1336\" r=\"14\" fill=\"#009af9\" fill-rule=\"evenodd\" fill-opacity=\"1\" stroke=\"#000000\" stroke-opacity=\"1\" stroke-width=\"3.2\"/>\n",
       "<circle clip-path=\"url(#clip262)\" cx=\"917.6\" cy=\"1240\" r=\"14\" fill=\"#009af9\" fill-rule=\"evenodd\" fill-opacity=\"1\" stroke=\"#000000\" stroke-opacity=\"1\" stroke-width=\"3.2\"/>\n",
       "<circle clip-path=\"url(#clip262)\" cx=\"1146.49\" cy=\"1116.57\" r=\"14\" fill=\"#009af9\" fill-rule=\"evenodd\" fill-opacity=\"1\" stroke=\"#000000\" stroke-opacity=\"1\" stroke-width=\"3.2\"/>\n",
       "<circle clip-path=\"url(#clip262)\" cx=\"1375.38\" cy=\"965.707\" r=\"14\" fill=\"#009af9\" fill-rule=\"evenodd\" fill-opacity=\"1\" stroke=\"#000000\" stroke-opacity=\"1\" stroke-width=\"3.2\"/>\n",
       "<circle clip-path=\"url(#clip262)\" cx=\"1604.28\" cy=\"787.418\" r=\"14\" fill=\"#009af9\" fill-rule=\"evenodd\" fill-opacity=\"1\" stroke=\"#000000\" stroke-opacity=\"1\" stroke-width=\"3.2\"/>\n",
       "<circle clip-path=\"url(#clip262)\" cx=\"1833.17\" cy=\"581.7\" r=\"14\" fill=\"#009af9\" fill-rule=\"evenodd\" fill-opacity=\"1\" stroke=\"#000000\" stroke-opacity=\"1\" stroke-width=\"3.2\"/>\n",
       "<circle clip-path=\"url(#clip262)\" cx=\"2062.06\" cy=\"348.553\" r=\"14\" fill=\"#009af9\" fill-rule=\"evenodd\" fill-opacity=\"1\" stroke=\"#000000\" stroke-opacity=\"1\" stroke-width=\"3.2\"/>\n",
       "<circle clip-path=\"url(#clip262)\" cx=\"2290.95\" cy=\"87.9763\" r=\"14\" fill=\"#009af9\" fill-rule=\"evenodd\" fill-opacity=\"1\" stroke=\"#000000\" stroke-opacity=\"1\" stroke-width=\"3.2\"/>\n",
       "<path clip-path=\"url(#clip260)\" d=\"\n",
       "M1984.91 198.898 L2279.97 198.898 L2279.97 95.2176 L1984.91 95.2176  Z\n",
       "  \" fill=\"#ffffff\" fill-rule=\"evenodd\" fill-opacity=\"1\"/>\n",
       "<polyline clip-path=\"url(#clip260)\" style=\"stroke:#000000; stroke-linecap:butt; stroke-linejoin:round; stroke-width:4; stroke-opacity:1; fill:none\" points=\"\n",
       "  1984.91,198.898 2279.97,198.898 2279.97,95.2176 1984.91,95.2176 1984.91,198.898 \n",
       "  \"/>\n",
       "<circle clip-path=\"url(#clip260)\" cx=\"2081.96\" cy=\"147.058\" r=\"23\" fill=\"#009af9\" fill-rule=\"evenodd\" fill-opacity=\"1\" stroke=\"#000000\" stroke-opacity=\"1\" stroke-width=\"5.12\"/>\n",
       "<path clip-path=\"url(#clip260)\" d=\"M2192.86 166.745 Q2191.05 171.375 2189.34 172.787 Q2187.62 174.199 2184.75 174.199 L2181.35 174.199 L2181.35 170.634 L2183.85 170.634 Q2185.61 170.634 2186.58 169.8 Q2187.55 168.967 2188.73 165.865 L2189.5 163.921 L2179.01 138.412 L2183.53 138.412 L2191.63 158.689 L2199.73 138.412 L2204.24 138.412 L2192.86 166.745 Z\" fill=\"#000000\" fill-rule=\"evenodd\" fill-opacity=\"1\" /><path clip-path=\"url(#clip260)\" d=\"M2211.54 160.402 L2219.17 160.402 L2219.17 134.037 L2210.86 135.703 L2210.86 131.444 L2219.13 129.778 L2223.8 129.778 L2223.8 160.402 L2231.44 160.402 L2231.44 164.338 L2211.54 164.338 L2211.54 160.402 Z\" fill=\"#000000\" fill-rule=\"evenodd\" fill-opacity=\"1\" /></svg>\n"
      ]
     },
     "execution_count": 93,
     "metadata": {},
     "output_type": "execute_result"
    }
   ],
   "source": [
    "# a scatter plot of the same data:\n",
    "scatter(x, y)"
   ]
  },
  {
   "cell_type": "code",
   "execution_count": 94,
   "metadata": {},
   "outputs": [
    {
     "data": {
      "image/svg+xml": [
       "<?xml version=\"1.0\" encoding=\"utf-8\"?>\n",
       "<svg xmlns=\"http://www.w3.org/2000/svg\" xmlns:xlink=\"http://www.w3.org/1999/xlink\" width=\"600\" height=\"400\" viewBox=\"0 0 2400 1600\">\n",
       "<defs>\n",
       "  <clipPath id=\"clip300\">\n",
       "    <rect x=\"0\" y=\"0\" width=\"2400\" height=\"1600\"/>\n",
       "  </clipPath>\n",
       "</defs>\n",
       "<path clip-path=\"url(#clip300)\" d=\"\n",
       "M0 1600 L2400 1600 L2400 0 L0 0  Z\n",
       "  \" fill=\"#ffffff\" fill-rule=\"evenodd\" fill-opacity=\"1\"/>\n",
       "<defs>\n",
       "  <clipPath id=\"clip301\">\n",
       "    <rect x=\"480\" y=\"0\" width=\"1681\" height=\"1600\"/>\n",
       "  </clipPath>\n",
       "</defs>\n",
       "<path clip-path=\"url(#clip300)\" d=\"\n",
       "M232.389 1423.18 L2352.76 1423.18 L2352.76 123.472 L232.389 123.472  Z\n",
       "  \" fill=\"#ffffff\" fill-rule=\"evenodd\" fill-opacity=\"1\"/>\n",
       "<defs>\n",
       "  <clipPath id=\"clip302\">\n",
       "    <rect x=\"232\" y=\"123\" width=\"2121\" height=\"1301\"/>\n",
       "  </clipPath>\n",
       "</defs>\n",
       "<polyline clip-path=\"url(#clip302)\" style=\"stroke:#000000; stroke-linecap:butt; stroke-linejoin:round; stroke-width:2; stroke-opacity:0.1; fill:none\" points=\"\n",
       "  514.66,1423.18 514.66,123.472 \n",
       "  \"/>\n",
       "<polyline clip-path=\"url(#clip302)\" style=\"stroke:#000000; stroke-linecap:butt; stroke-linejoin:round; stroke-width:2; stroke-opacity:0.1; fill:none\" points=\"\n",
       "  959.182,1423.18 959.182,123.472 \n",
       "  \"/>\n",
       "<polyline clip-path=\"url(#clip302)\" style=\"stroke:#000000; stroke-linecap:butt; stroke-linejoin:round; stroke-width:2; stroke-opacity:0.1; fill:none\" points=\"\n",
       "  1403.7,1423.18 1403.7,123.472 \n",
       "  \"/>\n",
       "<polyline clip-path=\"url(#clip302)\" style=\"stroke:#000000; stroke-linecap:butt; stroke-linejoin:round; stroke-width:2; stroke-opacity:0.1; fill:none\" points=\"\n",
       "  1848.22,1423.18 1848.22,123.472 \n",
       "  \"/>\n",
       "<polyline clip-path=\"url(#clip302)\" style=\"stroke:#000000; stroke-linecap:butt; stroke-linejoin:round; stroke-width:2; stroke-opacity:0.1; fill:none\" points=\"\n",
       "  2292.75,1423.18 2292.75,123.472 \n",
       "  \"/>\n",
       "<polyline clip-path=\"url(#clip300)\" style=\"stroke:#000000; stroke-linecap:butt; stroke-linejoin:round; stroke-width:4; stroke-opacity:1; fill:none\" points=\"\n",
       "  232.389,1423.18 2352.76,1423.18 \n",
       "  \"/>\n",
       "<polyline clip-path=\"url(#clip300)\" style=\"stroke:#000000; stroke-linecap:butt; stroke-linejoin:round; stroke-width:4; stroke-opacity:1; fill:none\" points=\"\n",
       "  514.66,1423.18 514.66,1404.28 \n",
       "  \"/>\n",
       "<polyline clip-path=\"url(#clip300)\" style=\"stroke:#000000; stroke-linecap:butt; stroke-linejoin:round; stroke-width:4; stroke-opacity:1; fill:none\" points=\"\n",
       "  959.182,1423.18 959.182,1404.28 \n",
       "  \"/>\n",
       "<polyline clip-path=\"url(#clip300)\" style=\"stroke:#000000; stroke-linecap:butt; stroke-linejoin:round; stroke-width:4; stroke-opacity:1; fill:none\" points=\"\n",
       "  1403.7,1423.18 1403.7,1404.28 \n",
       "  \"/>\n",
       "<polyline clip-path=\"url(#clip300)\" style=\"stroke:#000000; stroke-linecap:butt; stroke-linejoin:round; stroke-width:4; stroke-opacity:1; fill:none\" points=\"\n",
       "  1848.22,1423.18 1848.22,1404.28 \n",
       "  \"/>\n",
       "<polyline clip-path=\"url(#clip300)\" style=\"stroke:#000000; stroke-linecap:butt; stroke-linejoin:round; stroke-width:4; stroke-opacity:1; fill:none\" points=\"\n",
       "  2292.75,1423.18 2292.75,1404.28 \n",
       "  \"/>\n",
       "<path clip-path=\"url(#clip300)\" d=\"M509.313 1479.92 L525.633 1479.92 L525.633 1483.85 L503.688 1483.85 L503.688 1479.92 Q506.35 1477.16 510.934 1472.53 Q515.54 1467.88 516.721 1466.54 Q518.966 1464.01 519.846 1462.28 Q520.748 1460.52 520.748 1458.83 Q520.748 1456.07 518.804 1454.34 Q516.883 1452.6 513.781 1452.6 Q511.582 1452.6 509.128 1453.37 Q506.697 1454.13 503.92 1455.68 L503.92 1450.96 Q506.744 1449.82 509.197 1449.25 Q511.651 1448.67 513.688 1448.67 Q519.058 1448.67 522.253 1451.35 Q525.447 1454.04 525.447 1458.53 Q525.447 1460.66 524.637 1462.58 Q523.85 1464.48 521.744 1467.07 Q521.165 1467.74 518.063 1470.96 Q514.961 1474.15 509.313 1479.92 Z\" fill=\"#000000\" fill-rule=\"evenodd\" fill-opacity=\"1\" /><path clip-path=\"url(#clip300)\" d=\"M962.191 1453.37 L950.385 1471.81 L962.191 1471.81 L962.191 1453.37 M960.964 1449.29 L966.844 1449.29 L966.844 1471.81 L971.774 1471.81 L971.774 1475.7 L966.844 1475.7 L966.844 1483.85 L962.191 1483.85 L962.191 1475.7 L946.589 1475.7 L946.589 1471.19 L960.964 1449.29 Z\" fill=\"#000000\" fill-rule=\"evenodd\" fill-opacity=\"1\" /><path clip-path=\"url(#clip300)\" d=\"M1404.11 1464.71 Q1400.96 1464.71 1399.11 1466.86 Q1397.28 1469.01 1397.28 1472.76 Q1397.28 1476.49 1399.11 1478.67 Q1400.96 1480.82 1404.11 1480.82 Q1407.26 1480.82 1409.08 1478.67 Q1410.94 1476.49 1410.94 1472.76 Q1410.94 1469.01 1409.08 1466.86 Q1407.26 1464.71 1404.11 1464.71 M1413.39 1450.06 L1413.39 1454.31 Q1411.63 1453.48 1409.83 1453.04 Q1408.04 1452.6 1406.28 1452.6 Q1401.65 1452.6 1399.2 1455.73 Q1396.77 1458.85 1396.42 1465.17 Q1397.79 1463.16 1399.85 1462.09 Q1401.91 1461 1404.39 1461 Q1409.59 1461 1412.6 1464.18 Q1415.64 1467.32 1415.64 1472.76 Q1415.64 1478.09 1412.49 1481.31 Q1409.34 1484.52 1404.11 1484.52 Q1398.11 1484.52 1394.94 1479.94 Q1391.77 1475.33 1391.77 1466.61 Q1391.77 1458.41 1395.66 1453.55 Q1399.55 1448.67 1406.1 1448.67 Q1407.86 1448.67 1409.64 1449.01 Q1411.45 1449.36 1413.39 1450.06 Z\" fill=\"#000000\" fill-rule=\"evenodd\" fill-opacity=\"1\" /><path clip-path=\"url(#clip300)\" d=\"M1848.22 1467.44 Q1844.89 1467.44 1842.97 1469.22 Q1841.07 1471 1841.07 1474.13 Q1841.07 1477.25 1842.97 1479.04 Q1844.89 1480.82 1848.22 1480.82 Q1851.56 1480.82 1853.48 1479.04 Q1855.4 1477.23 1855.4 1474.13 Q1855.4 1471 1853.48 1469.22 Q1851.58 1467.44 1848.22 1467.44 M1843.55 1465.45 Q1840.54 1464.71 1838.85 1462.65 Q1837.18 1460.59 1837.18 1457.63 Q1837.18 1453.48 1840.12 1451.07 Q1843.09 1448.67 1848.22 1448.67 Q1853.39 1448.67 1856.33 1451.07 Q1859.27 1453.48 1859.27 1457.63 Q1859.27 1460.59 1857.58 1462.65 Q1855.91 1464.71 1852.92 1465.45 Q1856.3 1466.24 1858.18 1468.53 Q1860.08 1470.82 1860.08 1474.13 Q1860.08 1479.15 1857 1481.84 Q1853.94 1484.52 1848.22 1484.52 Q1842.51 1484.52 1839.43 1481.84 Q1836.37 1479.15 1836.37 1474.13 Q1836.37 1470.82 1838.27 1468.53 Q1840.17 1466.24 1843.55 1465.45 M1841.84 1458.06 Q1841.84 1460.75 1843.5 1462.25 Q1845.19 1463.76 1848.22 1463.76 Q1851.23 1463.76 1852.92 1462.25 Q1854.64 1460.75 1854.64 1458.06 Q1854.64 1455.38 1852.92 1453.88 Q1851.23 1452.37 1848.22 1452.37 Q1845.19 1452.37 1843.5 1453.88 Q1841.84 1455.38 1841.84 1458.06 Z\" fill=\"#000000\" fill-rule=\"evenodd\" fill-opacity=\"1\" /><path clip-path=\"url(#clip300)\" d=\"M2267.43 1479.92 L2275.07 1479.92 L2275.07 1453.55 L2266.76 1455.22 L2266.76 1450.96 L2275.03 1449.29 L2279.7 1449.29 L2279.7 1479.92 L2287.34 1479.92 L2287.34 1483.85 L2267.43 1483.85 L2267.43 1479.92 Z\" fill=\"#000000\" fill-rule=\"evenodd\" fill-opacity=\"1\" /><path clip-path=\"url(#clip300)\" d=\"M2306.78 1452.37 Q2303.17 1452.37 2301.35 1455.94 Q2299.54 1459.48 2299.54 1466.61 Q2299.54 1473.71 2301.35 1477.28 Q2303.17 1480.82 2306.78 1480.82 Q2310.42 1480.82 2312.22 1477.28 Q2314.05 1473.71 2314.05 1466.61 Q2314.05 1459.48 2312.22 1455.94 Q2310.42 1452.37 2306.78 1452.37 M2306.78 1448.67 Q2312.59 1448.67 2315.65 1453.27 Q2318.73 1457.86 2318.73 1466.61 Q2318.73 1475.33 2315.65 1479.94 Q2312.59 1484.52 2306.78 1484.52 Q2300.97 1484.52 2297.9 1479.94 Q2294.84 1475.33 2294.84 1466.61 Q2294.84 1457.86 2297.9 1453.27 Q2300.97 1448.67 2306.78 1448.67 Z\" fill=\"#000000\" fill-rule=\"evenodd\" fill-opacity=\"1\" /><path clip-path=\"url(#clip300)\" d=\"M1234.06 1532.4 L1221.17 1549.74 L1234.72 1568.04 L1227.82 1568.04 L1217.44 1554.04 L1207.07 1568.04 L1200.16 1568.04 L1214 1549.39 L1201.34 1532.4 L1208.24 1532.4 L1217.7 1545.1 L1227.15 1532.4 L1234.06 1532.4 Z\" fill=\"#000000\" fill-rule=\"evenodd\" fill-opacity=\"1\" /><path clip-path=\"url(#clip300)\" d=\"M1279.92 1550.12 Q1272.82 1550.12 1270.09 1551.75 Q1267.35 1553.37 1267.35 1557.29 Q1267.35 1560.4 1269.39 1562.25 Q1271.45 1564.07 1274.99 1564.07 Q1279.86 1564.07 1282.79 1560.63 Q1285.75 1557.16 1285.75 1551.43 L1285.75 1550.12 L1279.92 1550.12 M1291.6 1547.71 L1291.6 1568.04 L1285.75 1568.04 L1285.75 1562.63 Q1283.74 1565.88 1280.75 1567.44 Q1277.76 1568.97 1273.43 1568.97 Q1267.95 1568.97 1264.71 1565.91 Q1261.49 1562.82 1261.49 1557.67 Q1261.49 1551.65 1265.5 1548.6 Q1269.54 1545.54 1277.53 1545.54 L1285.75 1545.54 L1285.75 1544.97 Q1285.75 1540.93 1283.07 1538.73 Q1280.43 1536.5 1275.62 1536.5 Q1272.57 1536.5 1269.67 1537.23 Q1266.78 1537.97 1264.1 1539.43 L1264.1 1534.02 Q1267.32 1532.78 1270.34 1532.17 Q1273.36 1531.54 1276.23 1531.54 Q1283.96 1531.54 1287.78 1535.55 Q1291.6 1539.56 1291.6 1547.71 Z\" fill=\"#000000\" fill-rule=\"evenodd\" fill-opacity=\"1\" /><path clip-path=\"url(#clip300)\" d=\"M1333.3 1532.4 L1320.41 1549.74 L1333.97 1568.04 L1327.06 1568.04 L1316.68 1554.04 L1306.31 1568.04 L1299.4 1568.04 L1313.25 1549.39 L1300.58 1532.4 L1307.48 1532.4 L1316.94 1545.1 L1326.39 1532.4 L1333.3 1532.4 Z\" fill=\"#000000\" fill-rule=\"evenodd\" fill-opacity=\"1\" /><path clip-path=\"url(#clip300)\" d=\"M1342.24 1532.4 L1348.1 1532.4 L1348.1 1568.04 L1342.24 1568.04 L1342.24 1532.4 M1342.24 1518.52 L1348.1 1518.52 L1348.1 1525.93 L1342.24 1525.93 L1342.24 1518.52 Z\" fill=\"#000000\" fill-rule=\"evenodd\" fill-opacity=\"1\" /><path clip-path=\"url(#clip300)\" d=\"M1383.08 1533.45 L1383.08 1538.98 Q1380.59 1537.71 1377.92 1537.07 Q1375.25 1536.44 1372.38 1536.44 Q1368.02 1536.44 1365.83 1537.77 Q1363.66 1539.11 1363.66 1541.79 Q1363.66 1543.82 1365.22 1545 Q1366.78 1546.15 1371.49 1547.2 L1373.5 1547.64 Q1379.74 1548.98 1382.35 1551.43 Q1384.99 1553.85 1384.99 1558.21 Q1384.99 1563.17 1381.04 1566.07 Q1377.13 1568.97 1370.25 1568.97 Q1367.39 1568.97 1364.27 1568.39 Q1361.18 1567.85 1357.74 1566.74 L1357.74 1560.69 Q1360.99 1562.38 1364.14 1563.24 Q1367.29 1564.07 1370.38 1564.07 Q1374.52 1564.07 1376.74 1562.66 Q1378.97 1561.23 1378.97 1558.65 Q1378.97 1556.27 1377.35 1554.99 Q1375.76 1553.72 1370.31 1552.54 L1368.28 1552.07 Q1362.83 1550.92 1360.42 1548.56 Q1358 1546.18 1358 1542.04 Q1358 1537.01 1361.56 1534.27 Q1365.13 1531.54 1371.68 1531.54 Q1374.93 1531.54 1377.79 1532.01 Q1380.66 1532.49 1383.08 1533.45 Z\" fill=\"#000000\" fill-rule=\"evenodd\" fill-opacity=\"1\" /><polyline clip-path=\"url(#clip302)\" style=\"stroke:#000000; stroke-linecap:butt; stroke-linejoin:round; stroke-width:2; stroke-opacity:0.1; fill:none\" points=\"\n",
       "  232.389,1398.78 2352.76,1398.78 \n",
       "  \"/>\n",
       "<polyline clip-path=\"url(#clip302)\" style=\"stroke:#000000; stroke-linecap:butt; stroke-linejoin:round; stroke-width:2; stroke-opacity:0.1; fill:none\" points=\"\n",
       "  232.389,1089.15 2352.76,1089.15 \n",
       "  \"/>\n",
       "<polyline clip-path=\"url(#clip302)\" style=\"stroke:#000000; stroke-linecap:butt; stroke-linejoin:round; stroke-width:2; stroke-opacity:0.1; fill:none\" points=\"\n",
       "  232.389,779.519 2352.76,779.519 \n",
       "  \"/>\n",
       "<polyline clip-path=\"url(#clip302)\" style=\"stroke:#000000; stroke-linecap:butt; stroke-linejoin:round; stroke-width:2; stroke-opacity:0.1; fill:none\" points=\"\n",
       "  232.389,469.887 2352.76,469.887 \n",
       "  \"/>\n",
       "<polyline clip-path=\"url(#clip302)\" style=\"stroke:#000000; stroke-linecap:butt; stroke-linejoin:round; stroke-width:2; stroke-opacity:0.1; fill:none\" points=\"\n",
       "  232.389,160.256 2352.76,160.256 \n",
       "  \"/>\n",
       "<polyline clip-path=\"url(#clip300)\" style=\"stroke:#000000; stroke-linecap:butt; stroke-linejoin:round; stroke-width:4; stroke-opacity:1; fill:none\" points=\"\n",
       "  232.389,1423.18 232.389,123.472 \n",
       "  \"/>\n",
       "<polyline clip-path=\"url(#clip300)\" style=\"stroke:#000000; stroke-linecap:butt; stroke-linejoin:round; stroke-width:4; stroke-opacity:1; fill:none\" points=\"\n",
       "  232.389,1398.78 251.287,1398.78 \n",
       "  \"/>\n",
       "<polyline clip-path=\"url(#clip300)\" style=\"stroke:#000000; stroke-linecap:butt; stroke-linejoin:round; stroke-width:4; stroke-opacity:1; fill:none\" points=\"\n",
       "  232.389,1089.15 251.287,1089.15 \n",
       "  \"/>\n",
       "<polyline clip-path=\"url(#clip300)\" style=\"stroke:#000000; stroke-linecap:butt; stroke-linejoin:round; stroke-width:4; stroke-opacity:1; fill:none\" points=\"\n",
       "  232.389,779.519 251.287,779.519 \n",
       "  \"/>\n",
       "<polyline clip-path=\"url(#clip300)\" style=\"stroke:#000000; stroke-linecap:butt; stroke-linejoin:round; stroke-width:4; stroke-opacity:1; fill:none\" points=\"\n",
       "  232.389,469.887 251.287,469.887 \n",
       "  \"/>\n",
       "<polyline clip-path=\"url(#clip300)\" style=\"stroke:#000000; stroke-linecap:butt; stroke-linejoin:round; stroke-width:4; stroke-opacity:1; fill:none\" points=\"\n",
       "  232.389,160.256 251.287,160.256 \n",
       "  \"/>\n",
       "<path clip-path=\"url(#clip300)\" d=\"M184.445 1384.58 Q180.834 1384.58 179.005 1388.14 Q177.2 1391.69 177.2 1398.82 Q177.2 1405.92 179.005 1409.49 Q180.834 1413.03 184.445 1413.03 Q188.079 1413.03 189.885 1409.49 Q191.713 1405.92 191.713 1398.82 Q191.713 1391.69 189.885 1388.14 Q188.079 1384.58 184.445 1384.58 M184.445 1380.88 Q190.255 1380.88 193.311 1385.48 Q196.389 1390.07 196.389 1398.82 Q196.389 1407.54 193.311 1412.15 Q190.255 1416.73 184.445 1416.73 Q178.635 1416.73 175.556 1412.15 Q172.501 1407.54 172.501 1398.82 Q172.501 1390.07 175.556 1385.48 Q178.635 1380.88 184.445 1380.88 Z\" fill=\"#000000\" fill-rule=\"evenodd\" fill-opacity=\"1\" /><path clip-path=\"url(#clip300)\" d=\"M149.306 1102.49 L165.626 1102.49 L165.626 1106.43 L143.681 1106.43 L143.681 1102.49 Q146.343 1099.74 150.927 1095.11 Q155.533 1090.46 156.714 1089.12 Q158.959 1086.59 159.839 1084.86 Q160.741 1083.1 160.741 1081.41 Q160.741 1078.65 158.797 1076.92 Q156.876 1075.18 153.774 1075.18 Q151.575 1075.18 149.121 1075.94 Q146.691 1076.71 143.913 1078.26 L143.913 1073.54 Q146.737 1072.4 149.191 1071.82 Q151.644 1071.24 153.681 1071.24 Q159.052 1071.24 162.246 1073.93 Q165.44 1076.62 165.44 1081.11 Q165.44 1083.24 164.63 1085.16 Q163.843 1087.05 161.737 1089.65 Q161.158 1090.32 158.056 1093.54 Q154.954 1096.73 149.306 1102.49 Z\" fill=\"#000000\" fill-rule=\"evenodd\" fill-opacity=\"1\" /><path clip-path=\"url(#clip300)\" d=\"M175.487 1071.87 L193.843 1071.87 L193.843 1075.8 L179.769 1075.8 L179.769 1084.28 Q180.788 1083.93 181.806 1083.77 Q182.825 1083.58 183.843 1083.58 Q189.63 1083.58 193.01 1086.75 Q196.389 1089.93 196.389 1095.34 Q196.389 1100.92 192.917 1104.02 Q189.445 1107.1 183.126 1107.1 Q180.95 1107.1 178.681 1106.73 Q176.436 1106.36 174.028 1105.62 L174.028 1100.92 Q176.112 1102.05 178.334 1102.61 Q180.556 1103.17 183.033 1103.17 Q187.038 1103.17 189.375 1101.06 Q191.713 1098.95 191.713 1095.34 Q191.713 1091.73 189.375 1089.62 Q187.038 1087.52 183.033 1087.52 Q181.158 1087.52 179.283 1087.93 Q177.431 1088.35 175.487 1089.23 L175.487 1071.87 Z\" fill=\"#000000\" fill-rule=\"evenodd\" fill-opacity=\"1\" /><path clip-path=\"url(#clip300)\" d=\"M144.329 762.239 L162.686 762.239 L162.686 766.174 L148.612 766.174 L148.612 774.646 Q149.63 774.299 150.649 774.137 Q151.667 773.952 152.686 773.952 Q158.473 773.952 161.852 777.123 Q165.232 780.294 165.232 785.711 Q165.232 791.289 161.76 794.391 Q158.288 797.47 151.968 797.47 Q149.792 797.47 147.524 797.1 Q145.279 796.729 142.871 795.988 L142.871 791.289 Q144.954 792.424 147.177 792.979 Q149.399 793.535 151.876 793.535 Q155.88 793.535 158.218 791.428 Q160.556 789.322 160.556 785.711 Q160.556 782.1 158.218 779.993 Q155.88 777.887 151.876 777.887 Q150.001 777.887 148.126 778.303 Q146.274 778.72 144.329 779.6 L144.329 762.239 Z\" fill=\"#000000\" fill-rule=\"evenodd\" fill-opacity=\"1\" /><path clip-path=\"url(#clip300)\" d=\"M184.445 765.317 Q180.834 765.317 179.005 768.882 Q177.2 772.424 177.2 779.553 Q177.2 786.66 179.005 790.225 Q180.834 793.766 184.445 793.766 Q188.079 793.766 189.885 790.225 Q191.713 786.66 191.713 779.553 Q191.713 772.424 189.885 768.882 Q188.079 765.317 184.445 765.317 M184.445 761.614 Q190.255 761.614 193.311 766.22 Q196.389 770.803 196.389 779.553 Q196.389 788.28 193.311 792.887 Q190.255 797.47 184.445 797.47 Q178.635 797.47 175.556 792.887 Q172.501 788.28 172.501 779.553 Q172.501 770.803 175.556 766.22 Q178.635 761.614 184.445 761.614 Z\" fill=\"#000000\" fill-rule=\"evenodd\" fill-opacity=\"1\" /><path clip-path=\"url(#clip300)\" d=\"M144.098 452.607 L166.32 452.607 L166.32 454.598 L153.774 487.167 L148.89 487.167 L160.695 456.543 L144.098 456.543 L144.098 452.607 Z\" fill=\"#000000\" fill-rule=\"evenodd\" fill-opacity=\"1\" /><path clip-path=\"url(#clip300)\" d=\"M175.487 452.607 L193.843 452.607 L193.843 456.543 L179.769 456.543 L179.769 465.015 Q180.788 464.668 181.806 464.506 Q182.825 464.32 183.843 464.32 Q189.63 464.32 193.01 467.492 Q196.389 470.663 196.389 476.08 Q196.389 481.658 192.917 484.76 Q189.445 487.839 183.126 487.839 Q180.95 487.839 178.681 487.468 Q176.436 487.098 174.028 486.357 L174.028 481.658 Q176.112 482.792 178.334 483.348 Q180.556 483.904 183.033 483.904 Q187.038 483.904 189.375 481.797 Q191.713 479.691 191.713 476.08 Q191.713 472.468 189.375 470.362 Q187.038 468.256 183.033 468.256 Q181.158 468.256 179.283 468.672 Q177.431 469.089 175.487 469.968 L175.487 452.607 Z\" fill=\"#000000\" fill-rule=\"evenodd\" fill-opacity=\"1\" /><path clip-path=\"url(#clip300)\" d=\"M114.931 173.601 L122.57 173.601 L122.57 147.236 L114.26 148.902 L114.26 144.643 L122.524 142.976 L127.2 142.976 L127.2 173.601 L134.839 173.601 L134.839 177.536 L114.931 177.536 L114.931 173.601 Z\" fill=\"#000000\" fill-rule=\"evenodd\" fill-opacity=\"1\" /><path clip-path=\"url(#clip300)\" d=\"M154.283 146.055 Q150.672 146.055 148.843 149.62 Q147.038 153.161 147.038 160.291 Q147.038 167.397 148.843 170.962 Q150.672 174.504 154.283 174.504 Q157.917 174.504 159.723 170.962 Q161.552 167.397 161.552 160.291 Q161.552 153.161 159.723 149.62 Q157.917 146.055 154.283 146.055 M154.283 142.351 Q160.093 142.351 163.149 146.958 Q166.227 151.541 166.227 160.291 Q166.227 169.018 163.149 173.624 Q160.093 178.208 154.283 178.208 Q148.473 178.208 145.394 173.624 Q142.339 169.018 142.339 160.291 Q142.339 151.541 145.394 146.958 Q148.473 142.351 154.283 142.351 Z\" fill=\"#000000\" fill-rule=\"evenodd\" fill-opacity=\"1\" /><path clip-path=\"url(#clip300)\" d=\"M184.445 146.055 Q180.834 146.055 179.005 149.62 Q177.2 153.161 177.2 160.291 Q177.2 167.397 179.005 170.962 Q180.834 174.504 184.445 174.504 Q188.079 174.504 189.885 170.962 Q191.713 167.397 191.713 160.291 Q191.713 153.161 189.885 149.62 Q188.079 146.055 184.445 146.055 M184.445 142.351 Q190.255 142.351 193.311 146.958 Q196.389 151.541 196.389 160.291 Q196.389 169.018 193.311 173.624 Q190.255 178.208 184.445 178.208 Q178.635 178.208 175.556 173.624 Q172.501 169.018 172.501 160.291 Q172.501 151.541 175.556 146.958 Q178.635 142.351 184.445 142.351 Z\" fill=\"#000000\" fill-rule=\"evenodd\" fill-opacity=\"1\" /><path clip-path=\"url(#clip300)\" d=\"M67.3143 846.675 Q73.68 849.157 75.6216 851.513 Q77.5631 853.868 77.5631 857.815 L77.5631 862.494 L72.6615 862.494 L72.6615 859.056 Q72.6615 856.637 71.5157 855.3 Q70.3699 853.964 66.1048 852.34 L63.4312 851.29 L28.3562 865.708 L28.3562 859.502 L56.238 848.362 L28.3562 837.222 L28.3562 831.015 L67.3143 846.675 Z\" fill=\"#000000\" fill-rule=\"evenodd\" fill-opacity=\"1\" /><path clip-path=\"url(#clip300)\" d=\"M46.0847 786.01 Q46.0847 793.107 47.7079 795.845 Q49.3312 798.582 53.2461 798.582 Q56.3653 798.582 58.2114 796.545 Q60.0256 794.476 60.0256 790.943 Q60.0256 786.073 56.5881 783.145 Q53.1188 780.185 47.3897 780.185 L46.0847 780.185 L46.0847 786.01 M43.6657 774.329 L64.0042 774.329 L64.0042 780.185 L58.5933 780.185 Q61.8398 782.19 63.3994 785.182 Q64.9272 788.174 64.9272 792.503 Q64.9272 797.977 61.8716 801.224 Q58.7843 804.438 53.6281 804.438 Q47.6125 804.438 44.5569 800.428 Q41.5014 796.386 41.5014 788.397 L41.5014 780.185 L40.9285 780.185 Q36.8862 780.185 34.6901 782.859 Q32.4621 785.5 32.4621 790.307 Q32.4621 793.362 33.1941 796.258 Q33.9262 799.155 35.3903 801.828 L29.9795 801.828 Q28.7381 798.614 28.1334 795.59 Q27.4968 792.566 27.4968 789.702 Q27.4968 781.967 31.5072 778.148 Q35.5176 774.329 43.6657 774.329 Z\" fill=\"#000000\" fill-rule=\"evenodd\" fill-opacity=\"1\" /><path clip-path=\"url(#clip300)\" d=\"M28.3562 732.633 L45.7028 745.524 L64.0042 731.965 L64.0042 738.872 L49.9996 749.248 L64.0042 759.624 L64.0042 766.531 L45.3526 752.685 L28.3562 765.353 L28.3562 758.446 L41.0558 748.993 L28.3562 739.54 L28.3562 732.633 Z\" fill=\"#000000\" fill-rule=\"evenodd\" fill-opacity=\"1\" /><path clip-path=\"url(#clip300)\" d=\"M28.3562 723.689 L28.3562 717.833 L64.0042 717.833 L64.0042 723.689 L28.3562 723.689 M14.479 723.689 L14.479 717.833 L21.895 717.833 L21.895 723.689 L14.479 723.689 Z\" fill=\"#000000\" fill-rule=\"evenodd\" fill-opacity=\"1\" /><path clip-path=\"url(#clip300)\" d=\"M29.4065 682.853 L34.9447 682.853 Q33.6716 685.336 33.035 688.01 Q32.3984 690.683 32.3984 693.548 Q32.3984 697.908 33.7352 700.104 Q35.072 702.269 37.7456 702.269 Q39.7826 702.269 40.9603 700.709 Q42.1061 699.15 43.1565 694.439 L43.6021 692.434 Q44.9389 686.195 47.3897 683.585 Q49.8086 680.944 54.1691 680.944 Q59.1344 680.944 62.0308 684.89 Q64.9272 688.805 64.9272 695.68 Q64.9272 698.545 64.3543 701.664 Q63.8132 704.751 62.6992 708.189 L56.6518 708.189 Q58.3387 704.942 59.198 701.791 Q60.0256 698.64 60.0256 695.553 Q60.0256 691.415 58.6251 689.187 Q57.1929 686.959 54.6147 686.959 Q52.2276 686.959 50.9545 688.583 Q49.6813 690.174 48.5037 695.617 L48.0262 697.654 Q46.8804 703.096 44.5251 705.515 Q42.138 707.934 38.0002 707.934 Q32.9713 707.934 30.2341 704.369 Q27.4968 700.805 27.4968 694.248 Q27.4968 691.001 27.9743 688.137 Q28.4517 685.272 29.4065 682.853 Z\" fill=\"#000000\" fill-rule=\"evenodd\" fill-opacity=\"1\" /><path clip-path=\"url(#clip300)\" d=\"M882.601 12.096 L894.794 12.096 L910.228 53.2532 L925.743 12.096 L937.936 12.096 L937.936 72.576 L929.956 72.576 L929.956 19.4686 L914.36 60.9499 L906.137 60.9499 L890.541 19.4686 L890.541 72.576 L882.601 72.576 L882.601 12.096 Z\" fill=\"#000000\" fill-rule=\"evenodd\" fill-opacity=\"1\" /><path clip-path=\"url(#clip300)\" d=\"M972.733 76.7889 Q969.574 84.8907 966.576 87.3618 Q963.578 89.8329 958.555 89.8329 L952.6 89.8329 L952.6 83.5945 L956.975 83.5945 Q960.054 83.5945 961.756 82.1361 Q963.457 80.6778 965.523 75.2496 L966.86 71.8468 L948.509 27.2059 L956.408 27.2059 L970.587 62.6918 L984.765 27.2059 L992.664 27.2059 L972.733 76.7889 Z\" fill=\"#000000\" fill-rule=\"evenodd\" fill-opacity=\"1\" /><path clip-path=\"url(#clip300)\" d=\"M1029.65 12.096 L1064.41 12.096 L1064.41 18.9825 L1037.83 18.9825 L1037.83 36.8065 L1061.81 36.8065 L1061.81 43.6931 L1037.83 43.6931 L1037.83 72.576 L1029.65 72.576 L1029.65 12.096 Z\" fill=\"#000000\" fill-rule=\"evenodd\" fill-opacity=\"1\" /><path clip-path=\"url(#clip300)\" d=\"M1071.01 27.2059 L1078.46 27.2059 L1078.46 72.576 L1071.01 72.576 L1071.01 27.2059 M1071.01 9.54393 L1078.46 9.54393 L1078.46 18.9825 L1071.01 18.9825 L1071.01 9.54393 Z\" fill=\"#000000\" fill-rule=\"evenodd\" fill-opacity=\"1\" /><path clip-path=\"url(#clip300)\" d=\"M1120.35 34.1734 Q1119.09 33.4443 1117.59 33.1202 Q1116.14 32.7556 1114.35 32.7556 Q1108.03 32.7556 1104.63 36.8875 Q1101.27 40.9789 1101.27 48.6757 L1101.27 72.576 L1093.77 72.576 L1093.77 27.2059 L1101.27 27.2059 L1101.27 34.2544 Q1103.62 30.1225 1107.39 28.1376 Q1111.15 26.1121 1116.54 26.1121 Q1117.31 26.1121 1118.24 26.2337 Q1119.17 26.3147 1120.31 26.5172 L1120.35 34.1734 Z\" fill=\"#000000\" fill-rule=\"evenodd\" fill-opacity=\"1\" /><path clip-path=\"url(#clip300)\" d=\"M1157.09 28.5427 L1157.09 35.5912 Q1153.93 33.9709 1150.53 33.1607 Q1147.12 32.3505 1143.48 32.3505 Q1137.93 32.3505 1135.13 34.0519 Q1132.38 35.7533 1132.38 39.156 Q1132.38 41.7486 1134.36 43.2475 Q1136.35 44.7058 1142.34 46.0426 L1144.9 46.6097 Q1152.84 48.3111 1156.16 51.4303 Q1159.52 54.509 1159.52 60.0587 Q1159.52 66.3781 1154.5 70.0644 Q1149.51 73.7508 1140.76 73.7508 Q1137.12 73.7508 1133.15 73.0216 Q1129.22 72.3329 1124.84 70.9151 L1124.84 63.2184 Q1128.98 65.3654 1132.99 66.4591 Q1137 67.5124 1140.93 67.5124 Q1146.19 67.5124 1149.03 65.73 Q1151.86 63.9071 1151.86 60.6258 Q1151.86 57.5877 1149.8 55.9673 Q1147.77 54.3469 1140.85 52.8481 L1138.25 52.2405 Q1131.33 50.7821 1128.25 47.7845 Q1125.17 44.7463 1125.17 39.4801 Q1125.17 33.0797 1129.71 29.5959 Q1134.24 26.1121 1142.59 26.1121 Q1146.72 26.1121 1150.37 26.7198 Q1154.01 27.3274 1157.09 28.5427 Z\" fill=\"#000000\" fill-rule=\"evenodd\" fill-opacity=\"1\" /><path clip-path=\"url(#clip300)\" d=\"M1178.76 14.324 L1178.76 27.2059 L1194.12 27.2059 L1194.12 32.9987 L1178.76 32.9987 L1178.76 57.6282 Q1178.76 63.1779 1180.26 64.7578 Q1181.8 66.3376 1186.46 66.3376 L1194.12 66.3376 L1194.12 72.576 L1186.46 72.576 Q1177.83 72.576 1174.55 69.3758 Q1171.27 66.1351 1171.27 57.6282 L1171.27 32.9987 L1165.8 32.9987 L1165.8 27.2059 L1171.27 27.2059 L1171.27 14.324 L1178.76 14.324 Z\" fill=\"#000000\" fill-rule=\"evenodd\" fill-opacity=\"1\" /><path clip-path=\"url(#clip300)\" d=\"M1266.87 14.0809 L1266.87 22.0612 Q1262.21 19.8332 1258.08 18.7395 Q1253.95 17.6457 1250.1 17.6457 Q1243.41 17.6457 1239.77 20.2383 Q1236.16 22.8309 1236.16 27.611 Q1236.16 31.6214 1238.55 33.6873 Q1240.98 35.7128 1247.71 36.9686 L1252.65 37.9813 Q1261.81 39.7232 1266.14 44.1387 Q1270.52 48.5136 1270.52 55.8863 Q1270.52 64.6767 1264.6 69.2137 Q1258.73 73.7508 1247.34 73.7508 Q1243.05 73.7508 1238.19 72.7785 Q1233.37 71.8063 1228.18 69.9024 L1228.18 61.4765 Q1233.17 64.2716 1237.95 65.6895 Q1242.73 67.1073 1247.34 67.1073 Q1254.35 67.1073 1258.16 64.3527 Q1261.97 61.598 1261.97 56.4939 Q1261.97 52.0379 1259.21 49.5264 Q1256.5 47.0148 1250.26 45.759 L1245.28 44.7868 Q1236.12 42.9639 1232.03 39.075 Q1227.94 35.1862 1227.94 28.2591 Q1227.94 20.2383 1233.57 15.6203 Q1239.24 11.0023 1249.17 11.0023 Q1253.42 11.0023 1257.84 11.7719 Q1262.25 12.5416 1266.87 14.0809 Z\" fill=\"#000000\" fill-rule=\"evenodd\" fill-opacity=\"1\" /><path clip-path=\"url(#clip300)\" d=\"M1315.6 28.9478 L1315.6 35.9153 Q1312.44 34.1734 1309.24 33.3227 Q1306.08 32.4315 1302.84 32.4315 Q1295.59 32.4315 1291.58 37.0496 Q1287.57 41.6271 1287.57 49.9314 Q1287.57 58.2358 1291.58 62.8538 Q1295.59 67.4314 1302.84 67.4314 Q1306.08 67.4314 1309.24 66.5807 Q1312.44 65.6895 1315.6 63.9476 L1315.6 70.8341 Q1312.48 72.2924 1309.12 73.0216 Q1305.8 73.7508 1302.03 73.7508 Q1291.78 73.7508 1285.75 67.3098 Q1279.71 60.8689 1279.71 49.9314 Q1279.71 38.832 1285.79 32.472 Q1291.9 26.1121 1302.52 26.1121 Q1305.96 26.1121 1309.24 26.8413 Q1312.52 27.5299 1315.6 28.9478 Z\" fill=\"#000000\" fill-rule=\"evenodd\" fill-opacity=\"1\" /><path clip-path=\"url(#clip300)\" d=\"M1349.18 49.7694 Q1340.15 49.7694 1336.67 51.8354 Q1333.18 53.9013 1333.18 58.8839 Q1333.18 62.8538 1335.78 65.2034 Q1338.41 67.5124 1342.91 67.5124 Q1349.1 67.5124 1352.83 63.1374 Q1356.6 58.7219 1356.6 51.4303 L1356.6 49.7694 L1349.18 49.7694 M1364.05 46.6907 L1364.05 72.576 L1356.6 72.576 L1356.6 65.6895 Q1354.05 69.8214 1350.24 71.8063 Q1346.43 73.7508 1340.92 73.7508 Q1333.95 73.7508 1329.82 69.8619 Q1325.73 65.9325 1325.73 59.3701 Q1325.73 51.7138 1330.83 47.825 Q1335.98 43.9361 1346.15 43.9361 L1356.6 43.9361 L1356.6 43.2069 Q1356.6 38.0623 1353.19 35.2672 Q1349.83 32.4315 1343.72 32.4315 Q1339.83 32.4315 1336.14 33.3632 Q1332.45 34.295 1329.05 36.1584 L1329.05 29.2718 Q1333.14 27.692 1336.99 26.9223 Q1340.84 26.1121 1344.48 26.1121 Q1354.33 26.1121 1359.19 31.2163 Q1364.05 36.3204 1364.05 46.6907 Z\" fill=\"#000000\" fill-rule=\"evenodd\" fill-opacity=\"1\" /><path clip-path=\"url(#clip300)\" d=\"M1386.78 14.324 L1386.78 27.2059 L1402.13 27.2059 L1402.13 32.9987 L1386.78 32.9987 L1386.78 57.6282 Q1386.78 63.1779 1388.28 64.7578 Q1389.81 66.3376 1394.47 66.3376 L1402.13 66.3376 L1402.13 72.576 L1394.47 72.576 Q1385.84 72.576 1382.56 69.3758 Q1379.28 66.1351 1379.28 57.6282 L1379.28 32.9987 L1373.81 32.9987 L1373.81 27.2059 L1379.28 27.2059 L1379.28 14.324 L1386.78 14.324 Z\" fill=\"#000000\" fill-rule=\"evenodd\" fill-opacity=\"1\" /><path clip-path=\"url(#clip300)\" d=\"M1419.31 14.324 L1419.31 27.2059 L1434.66 27.2059 L1434.66 32.9987 L1419.31 32.9987 L1419.31 57.6282 Q1419.31 63.1779 1420.8 64.7578 Q1422.34 66.3376 1427 66.3376 L1434.66 66.3376 L1434.66 72.576 L1427 72.576 Q1418.37 72.576 1415.09 69.3758 Q1411.81 66.1351 1411.81 57.6282 L1411.81 32.9987 L1406.34 32.9987 L1406.34 27.2059 L1411.81 27.2059 L1411.81 14.324 L1419.31 14.324 Z\" fill=\"#000000\" fill-rule=\"evenodd\" fill-opacity=\"1\" /><path clip-path=\"url(#clip300)\" d=\"M1483.27 48.0275 L1483.27 51.6733 L1449 51.6733 Q1449.48 59.3701 1453.62 63.421 Q1457.79 67.4314 1465.2 67.4314 Q1469.5 67.4314 1473.51 66.3781 Q1477.56 65.3249 1481.53 63.2184 L1481.53 70.267 Q1477.52 71.9684 1473.3 72.8596 Q1469.09 73.7508 1464.76 73.7508 Q1453.9 73.7508 1447.54 67.4314 Q1441.22 61.1119 1441.22 50.3365 Q1441.22 39.1965 1447.22 32.6746 Q1453.25 26.1121 1463.46 26.1121 Q1472.62 26.1121 1477.92 32.0264 Q1483.27 37.9003 1483.27 48.0275 M1475.82 45.84 Q1475.73 39.7232 1472.37 36.0774 Q1469.05 32.4315 1463.54 32.4315 Q1457.3 32.4315 1453.54 35.9558 Q1449.81 39.4801 1449.24 45.8805 L1475.82 45.84 Z\" fill=\"#000000\" fill-rule=\"evenodd\" fill-opacity=\"1\" /><path clip-path=\"url(#clip300)\" d=\"M1521.79 34.1734 Q1520.54 33.4443 1519.04 33.1202 Q1517.58 32.7556 1515.8 32.7556 Q1509.48 32.7556 1506.08 36.8875 Q1502.71 40.9789 1502.71 48.6757 L1502.71 72.576 L1495.22 72.576 L1495.22 27.2059 L1502.71 27.2059 L1502.71 34.2544 Q1505.06 30.1225 1508.83 28.1376 Q1512.6 26.1121 1517.99 26.1121 Q1518.75 26.1121 1519.69 26.2337 Q1520.62 26.3147 1521.75 26.5172 L1521.79 34.1734 Z\" fill=\"#000000\" fill-rule=\"evenodd\" fill-opacity=\"1\" /><path clip-path=\"url(#clip300)\" d=\"M1564.49 18.8205 L1564.49 41.5461 L1574.78 41.5461 Q1580.49 41.5461 1583.61 38.5889 Q1586.73 35.6318 1586.73 30.163 Q1586.73 24.7348 1583.61 21.7777 Q1580.49 18.8205 1574.78 18.8205 L1564.49 18.8205 M1556.31 12.096 L1574.78 12.096 Q1584.95 12.096 1590.13 16.714 Q1595.36 21.2916 1595.36 30.163 Q1595.36 39.1155 1590.13 43.6931 Q1584.95 48.2706 1574.78 48.2706 L1564.49 48.2706 L1564.49 72.576 L1556.31 72.576 L1556.31 12.096 Z\" fill=\"#000000\" fill-rule=\"evenodd\" fill-opacity=\"1\" /><path clip-path=\"url(#clip300)\" d=\"M1606.01 9.54393 L1613.47 9.54393 L1613.47 72.576 L1606.01 72.576 L1606.01 9.54393 Z\" fill=\"#000000\" fill-rule=\"evenodd\" fill-opacity=\"1\" /><path clip-path=\"url(#clip300)\" d=\"M1646.64 32.4315 Q1640.65 32.4315 1637.16 37.1306 Q1633.68 41.7891 1633.68 49.9314 Q1633.68 58.0738 1637.12 62.7728 Q1640.61 67.4314 1646.64 67.4314 Q1652.6 67.4314 1656.08 62.7323 Q1659.56 58.0333 1659.56 49.9314 Q1659.56 41.8701 1656.08 37.1711 Q1652.6 32.4315 1646.64 32.4315 M1646.64 26.1121 Q1656.36 26.1121 1661.91 32.4315 Q1667.46 38.7509 1667.46 49.9314 Q1667.46 61.0714 1661.91 67.4314 Q1656.36 73.7508 1646.64 73.7508 Q1636.88 73.7508 1631.33 67.4314 Q1625.82 61.0714 1625.82 49.9314 Q1625.82 38.7509 1631.33 32.4315 Q1636.88 26.1121 1646.64 26.1121 Z\" fill=\"#000000\" fill-rule=\"evenodd\" fill-opacity=\"1\" /><path clip-path=\"url(#clip300)\" d=\"M1687.19 14.324 L1687.19 27.2059 L1702.54 27.2059 L1702.54 32.9987 L1687.19 32.9987 L1687.19 57.6282 Q1687.19 63.1779 1688.69 64.7578 Q1690.23 66.3376 1694.89 66.3376 L1702.54 66.3376 L1702.54 72.576 L1694.89 72.576 Q1686.26 72.576 1682.98 69.3758 Q1679.7 66.1351 1679.7 57.6282 L1679.7 32.9987 L1674.23 32.9987 L1674.23 27.2059 L1679.7 27.2059 L1679.7 14.324 L1687.19 14.324 Z\" fill=\"#000000\" fill-rule=\"evenodd\" fill-opacity=\"1\" /><circle clip-path=\"url(#clip302)\" cx=\"292.4\" cy=\"1386.4\" r=\"14\" fill=\"#009af9\" fill-rule=\"evenodd\" fill-opacity=\"1\" stroke=\"#000000\" stroke-opacity=\"1\" stroke-width=\"3.2\"/>\n",
       "<circle clip-path=\"url(#clip302)\" cx=\"514.66\" cy=\"1349.24\" r=\"14\" fill=\"#009af9\" fill-rule=\"evenodd\" fill-opacity=\"1\" stroke=\"#000000\" stroke-opacity=\"1\" stroke-width=\"3.2\"/>\n",
       "<circle clip-path=\"url(#clip302)\" cx=\"736.921\" cy=\"1287.31\" r=\"14\" fill=\"#009af9\" fill-rule=\"evenodd\" fill-opacity=\"1\" stroke=\"#000000\" stroke-opacity=\"1\" stroke-width=\"3.2\"/>\n",
       "<circle clip-path=\"url(#clip302)\" cx=\"959.182\" cy=\"1200.62\" r=\"14\" fill=\"#009af9\" fill-rule=\"evenodd\" fill-opacity=\"1\" stroke=\"#000000\" stroke-opacity=\"1\" stroke-width=\"3.2\"/>\n",
       "<circle clip-path=\"url(#clip302)\" cx=\"1181.44\" cy=\"1089.15\" r=\"14\" fill=\"#009af9\" fill-rule=\"evenodd\" fill-opacity=\"1\" stroke=\"#000000\" stroke-opacity=\"1\" stroke-width=\"3.2\"/>\n",
       "<circle clip-path=\"url(#clip302)\" cx=\"1403.7\" cy=\"952.912\" r=\"14\" fill=\"#009af9\" fill-rule=\"evenodd\" fill-opacity=\"1\" stroke=\"#000000\" stroke-opacity=\"1\" stroke-width=\"3.2\"/>\n",
       "<circle clip-path=\"url(#clip302)\" cx=\"1625.96\" cy=\"791.904\" r=\"14\" fill=\"#009af9\" fill-rule=\"evenodd\" fill-opacity=\"1\" stroke=\"#000000\" stroke-opacity=\"1\" stroke-width=\"3.2\"/>\n",
       "<circle clip-path=\"url(#clip302)\" cx=\"1848.22\" cy=\"606.125\" r=\"14\" fill=\"#009af9\" fill-rule=\"evenodd\" fill-opacity=\"1\" stroke=\"#000000\" stroke-opacity=\"1\" stroke-width=\"3.2\"/>\n",
       "<circle clip-path=\"url(#clip302)\" cx=\"2070.48\" cy=\"395.576\" r=\"14\" fill=\"#009af9\" fill-rule=\"evenodd\" fill-opacity=\"1\" stroke=\"#000000\" stroke-opacity=\"1\" stroke-width=\"3.2\"/>\n",
       "<circle clip-path=\"url(#clip302)\" cx=\"2292.75\" cy=\"160.256\" r=\"14\" fill=\"#009af9\" fill-rule=\"evenodd\" fill-opacity=\"1\" stroke=\"#000000\" stroke-opacity=\"1\" stroke-width=\"3.2\"/>\n",
       "<path clip-path=\"url(#clip300)\" d=\"\n",
       "M1856.78 270.476 L2282.08 270.476 L2282.08 166.796 L1856.78 166.796  Z\n",
       "  \" fill=\"#ffffff\" fill-rule=\"evenodd\" fill-opacity=\"1\"/>\n",
       "<polyline clip-path=\"url(#clip300)\" style=\"stroke:#000000; stroke-linecap:butt; stroke-linejoin:round; stroke-width:4; stroke-opacity:1; fill:none\" points=\"\n",
       "  1856.78,270.476 2282.08,270.476 2282.08,166.796 1856.78,166.796 1856.78,270.476 \n",
       "  \"/>\n",
       "<circle clip-path=\"url(#clip300)\" cx=\"1951.02\" cy=\"218.636\" r=\"23\" fill=\"#009af9\" fill-rule=\"evenodd\" fill-opacity=\"1\" stroke=\"#000000\" stroke-opacity=\"1\" stroke-width=\"5.12\"/>\n",
       "<path clip-path=\"url(#clip300)\" d=\"M2059.1 238.323 Q2057.3 242.953 2055.58 244.365 Q2053.87 245.777 2051 245.777 L2047.6 245.777 L2047.6 242.212 L2050.1 242.212 Q2051.86 242.212 2052.83 241.379 Q2053.8 240.545 2054.98 237.443 L2055.75 235.499 L2045.26 209.99 L2049.77 209.99 L2057.88 230.268 L2065.98 209.99 L2070.49 209.99 L2059.1 238.323 Z\" fill=\"#000000\" fill-rule=\"evenodd\" fill-opacity=\"1\" /><path clip-path=\"url(#clip300)\" d=\"M2092 214.388 L2121.67 214.388 L2121.67 218.277 L2092 218.277 L2092 214.388 M2092 223.832 L2121.67 223.832 L2121.67 227.768 L2092 227.768 L2092 223.832 Z\" fill=\"#000000\" fill-rule=\"evenodd\" fill-opacity=\"1\" /><path clip-path=\"url(#clip300)\" d=\"M2167.78 209.99 L2158.41 222.606 L2168.27 235.916 L2163.25 235.916 L2155.7 225.731 L2148.15 235.916 L2143.13 235.916 L2153.2 222.351 L2143.99 209.99 L2149.01 209.99 L2155.88 219.226 L2162.76 209.99 L2167.78 209.99 Z\" fill=\"#000000\" fill-rule=\"evenodd\" fill-opacity=\"1\" /><path clip-path=\"url(#clip300)\" d=\"M2191.95 201.356 L2204.52 214.249 L2199.87 214.249 L2189.68 205.106 L2179.5 214.249 L2174.84 214.249 L2187.41 201.356 L2191.95 201.356 Z\" fill=\"#000000\" fill-rule=\"evenodd\" fill-opacity=\"1\" /><path clip-path=\"url(#clip300)\" d=\"M2218.64 231.981 L2234.96 231.981 L2234.96 235.916 L2213.01 235.916 L2213.01 231.981 Q2215.68 229.226 2220.26 224.596 Q2224.87 219.944 2226.05 218.601 Q2228.29 216.078 2229.17 214.342 Q2230.07 212.583 2230.07 210.893 Q2230.07 208.138 2228.13 206.402 Q2226.21 204.666 2223.11 204.666 Q2220.91 204.666 2218.45 205.43 Q2216.02 206.194 2213.24 207.745 L2213.24 203.022 Q2216.07 201.888 2218.52 201.309 Q2220.98 200.731 2223.01 200.731 Q2228.38 200.731 2231.58 203.416 Q2234.77 206.101 2234.77 210.592 Q2234.77 212.721 2233.96 214.643 Q2233.18 216.541 2231.07 219.133 Q2230.49 219.805 2227.39 223.022 Q2224.29 226.217 2218.64 231.981 Z\" fill=\"#000000\" fill-rule=\"evenodd\" fill-opacity=\"1\" /></svg>\n"
      ]
     },
     "execution_count": 94,
     "metadata": {},
     "output_type": "execute_result"
    }
   ],
   "source": [
    "# scatter plot with axes labels and a title:\n",
    "scatter(x, y,\n",
    "        title = \"My First Scatter Plot\",\n",
    "        xlabel = \"x axis\", \n",
    "        ylabel = \"y axis\",\n",
    "        label = \"y = x^2\"\n",
    "        )"
   ]
  },
  {
   "cell_type": "code",
   "execution_count": 95,
   "metadata": {},
   "outputs": [
    {
     "data": {
      "image/svg+xml": [
       "<?xml version=\"1.0\" encoding=\"utf-8\"?>\n",
       "<svg xmlns=\"http://www.w3.org/2000/svg\" xmlns:xlink=\"http://www.w3.org/1999/xlink\" width=\"600\" height=\"400\" viewBox=\"0 0 2400 1600\">\n",
       "<defs>\n",
       "  <clipPath id=\"clip340\">\n",
       "    <rect x=\"0\" y=\"0\" width=\"2400\" height=\"1600\"/>\n",
       "  </clipPath>\n",
       "</defs>\n",
       "<path clip-path=\"url(#clip340)\" d=\"\n",
       "M0 1600 L2400 1600 L2400 0 L0 0  Z\n",
       "  \" fill=\"#ffffff\" fill-rule=\"evenodd\" fill-opacity=\"1\"/>\n",
       "<defs>\n",
       "  <clipPath id=\"clip341\">\n",
       "    <rect x=\"480\" y=\"0\" width=\"1681\" height=\"1600\"/>\n",
       "  </clipPath>\n",
       "</defs>\n",
       "<path clip-path=\"url(#clip340)\" d=\"\n",
       "M262.551 1423.18 L2352.76 1423.18 L2352.76 123.472 L262.551 123.472  Z\n",
       "  \" fill=\"#ffffff\" fill-rule=\"evenodd\" fill-opacity=\"1\"/>\n",
       "<defs>\n",
       "  <clipPath id=\"clip342\">\n",
       "    <rect x=\"262\" y=\"123\" width=\"2091\" height=\"1301\"/>\n",
       "  </clipPath>\n",
       "</defs>\n",
       "<polyline clip-path=\"url(#clip342)\" style=\"stroke:#000000; stroke-linecap:butt; stroke-linejoin:round; stroke-width:2; stroke-opacity:0.1; fill:none\" points=\"\n",
       "  540.807,1423.18 540.807,123.472 \n",
       "  \"/>\n",
       "<polyline clip-path=\"url(#clip342)\" style=\"stroke:#000000; stroke-linecap:butt; stroke-linejoin:round; stroke-width:2; stroke-opacity:0.1; fill:none\" points=\"\n",
       "  979.005,1423.18 979.005,123.472 \n",
       "  \"/>\n",
       "<polyline clip-path=\"url(#clip342)\" style=\"stroke:#000000; stroke-linecap:butt; stroke-linejoin:round; stroke-width:2; stroke-opacity:0.1; fill:none\" points=\"\n",
       "  1417.2,1423.18 1417.2,123.472 \n",
       "  \"/>\n",
       "<polyline clip-path=\"url(#clip342)\" style=\"stroke:#000000; stroke-linecap:butt; stroke-linejoin:round; stroke-width:2; stroke-opacity:0.1; fill:none\" points=\"\n",
       "  1855.4,1423.18 1855.4,123.472 \n",
       "  \"/>\n",
       "<polyline clip-path=\"url(#clip342)\" style=\"stroke:#000000; stroke-linecap:butt; stroke-linejoin:round; stroke-width:2; stroke-opacity:0.1; fill:none\" points=\"\n",
       "  2293.6,1423.18 2293.6,123.472 \n",
       "  \"/>\n",
       "<polyline clip-path=\"url(#clip340)\" style=\"stroke:#000000; stroke-linecap:butt; stroke-linejoin:round; stroke-width:4; stroke-opacity:1; fill:none\" points=\"\n",
       "  262.551,1423.18 2352.76,1423.18 \n",
       "  \"/>\n",
       "<polyline clip-path=\"url(#clip340)\" style=\"stroke:#000000; stroke-linecap:butt; stroke-linejoin:round; stroke-width:4; stroke-opacity:1; fill:none\" points=\"\n",
       "  540.807,1423.18 540.807,1404.28 \n",
       "  \"/>\n",
       "<polyline clip-path=\"url(#clip340)\" style=\"stroke:#000000; stroke-linecap:butt; stroke-linejoin:round; stroke-width:4; stroke-opacity:1; fill:none\" points=\"\n",
       "  979.005,1423.18 979.005,1404.28 \n",
       "  \"/>\n",
       "<polyline clip-path=\"url(#clip340)\" style=\"stroke:#000000; stroke-linecap:butt; stroke-linejoin:round; stroke-width:4; stroke-opacity:1; fill:none\" points=\"\n",
       "  1417.2,1423.18 1417.2,1404.28 \n",
       "  \"/>\n",
       "<polyline clip-path=\"url(#clip340)\" style=\"stroke:#000000; stroke-linecap:butt; stroke-linejoin:round; stroke-width:4; stroke-opacity:1; fill:none\" points=\"\n",
       "  1855.4,1423.18 1855.4,1404.28 \n",
       "  \"/>\n",
       "<polyline clip-path=\"url(#clip340)\" style=\"stroke:#000000; stroke-linecap:butt; stroke-linejoin:round; stroke-width:4; stroke-opacity:1; fill:none\" points=\"\n",
       "  2293.6,1423.18 2293.6,1404.28 \n",
       "  \"/>\n",
       "<path clip-path=\"url(#clip340)\" d=\"M535.46 1479.92 L551.779 1479.92 L551.779 1483.85 L529.835 1483.85 L529.835 1479.92 Q532.497 1477.16 537.08 1472.53 Q541.687 1467.88 542.867 1466.54 Q545.113 1464.01 545.992 1462.28 Q546.895 1460.52 546.895 1458.83 Q546.895 1456.07 544.95 1454.34 Q543.029 1452.6 539.927 1452.6 Q537.728 1452.6 535.275 1453.37 Q532.844 1454.13 530.066 1455.68 L530.066 1450.96 Q532.89 1449.82 535.344 1449.25 Q537.798 1448.67 539.835 1448.67 Q545.205 1448.67 548.4 1451.35 Q551.594 1454.04 551.594 1458.53 Q551.594 1460.66 550.784 1462.58 Q549.997 1464.48 547.89 1467.07 Q547.312 1467.74 544.21 1470.96 Q541.108 1474.15 535.46 1479.92 Z\" fill=\"#000000\" fill-rule=\"evenodd\" fill-opacity=\"1\" /><path clip-path=\"url(#clip340)\" d=\"M982.014 1453.37 L970.209 1471.81 L982.014 1471.81 L982.014 1453.37 M980.787 1449.29 L986.667 1449.29 L986.667 1471.81 L991.598 1471.81 L991.598 1475.7 L986.667 1475.7 L986.667 1483.85 L982.014 1483.85 L982.014 1475.7 L966.413 1475.7 L966.413 1471.19 L980.787 1449.29 Z\" fill=\"#000000\" fill-rule=\"evenodd\" fill-opacity=\"1\" /><path clip-path=\"url(#clip340)\" d=\"M1417.61 1464.71 Q1414.46 1464.71 1412.61 1466.86 Q1410.78 1469.01 1410.78 1472.76 Q1410.78 1476.49 1412.61 1478.67 Q1414.46 1480.82 1417.61 1480.82 Q1420.76 1480.82 1422.58 1478.67 Q1424.44 1476.49 1424.44 1472.76 Q1424.44 1469.01 1422.58 1466.86 Q1420.76 1464.71 1417.61 1464.71 M1426.89 1450.06 L1426.89 1454.31 Q1425.13 1453.48 1423.33 1453.04 Q1421.54 1452.6 1419.78 1452.6 Q1415.15 1452.6 1412.7 1455.73 Q1410.27 1458.85 1409.92 1465.17 Q1411.29 1463.16 1413.35 1462.09 Q1415.41 1461 1417.89 1461 Q1423.09 1461 1426.1 1464.18 Q1429.14 1467.32 1429.14 1472.76 Q1429.14 1478.09 1425.99 1481.31 Q1422.84 1484.52 1417.61 1484.52 Q1411.61 1484.52 1408.44 1479.94 Q1405.27 1475.33 1405.27 1466.61 Q1405.27 1458.41 1409.16 1453.55 Q1413.05 1448.67 1419.6 1448.67 Q1421.36 1448.67 1423.14 1449.01 Q1424.95 1449.36 1426.89 1450.06 Z\" fill=\"#000000\" fill-rule=\"evenodd\" fill-opacity=\"1\" /><path clip-path=\"url(#clip340)\" d=\"M1855.4 1467.44 Q1852.07 1467.44 1850.15 1469.22 Q1848.25 1471 1848.25 1474.13 Q1848.25 1477.25 1850.15 1479.04 Q1852.07 1480.82 1855.4 1480.82 Q1858.73 1480.82 1860.66 1479.04 Q1862.58 1477.23 1862.58 1474.13 Q1862.58 1471 1860.66 1469.22 Q1858.76 1467.44 1855.4 1467.44 M1850.73 1465.45 Q1847.72 1464.71 1846.03 1462.65 Q1844.36 1460.59 1844.36 1457.63 Q1844.36 1453.48 1847.3 1451.07 Q1850.26 1448.67 1855.4 1448.67 Q1860.56 1448.67 1863.5 1451.07 Q1866.44 1453.48 1866.44 1457.63 Q1866.44 1460.59 1864.75 1462.65 Q1863.09 1464.71 1860.1 1465.45 Q1863.48 1466.24 1865.35 1468.53 Q1867.25 1470.82 1867.25 1474.13 Q1867.25 1479.15 1864.17 1481.84 Q1861.12 1484.52 1855.4 1484.52 Q1849.68 1484.52 1846.6 1481.84 Q1843.55 1479.15 1843.55 1474.13 Q1843.55 1470.82 1845.45 1468.53 Q1847.35 1466.24 1850.73 1465.45 M1849.01 1458.06 Q1849.01 1460.75 1850.68 1462.25 Q1852.37 1463.76 1855.4 1463.76 Q1858.41 1463.76 1860.1 1462.25 Q1861.81 1460.75 1861.81 1458.06 Q1861.81 1455.38 1860.1 1453.88 Q1858.41 1452.37 1855.4 1452.37 Q1852.37 1452.37 1850.68 1453.88 Q1849.01 1455.38 1849.01 1458.06 Z\" fill=\"#000000\" fill-rule=\"evenodd\" fill-opacity=\"1\" /><path clip-path=\"url(#clip340)\" d=\"M2268.29 1479.92 L2275.93 1479.92 L2275.93 1453.55 L2267.62 1455.22 L2267.62 1450.96 L2275.88 1449.29 L2280.56 1449.29 L2280.56 1479.92 L2288.19 1479.92 L2288.19 1483.85 L2268.29 1483.85 L2268.29 1479.92 Z\" fill=\"#000000\" fill-rule=\"evenodd\" fill-opacity=\"1\" /><path clip-path=\"url(#clip340)\" d=\"M2307.64 1452.37 Q2304.03 1452.37 2302.2 1455.94 Q2300.39 1459.48 2300.39 1466.61 Q2300.39 1473.71 2302.2 1477.28 Q2304.03 1480.82 2307.64 1480.82 Q2311.27 1480.82 2313.08 1477.28 Q2314.91 1473.71 2314.91 1466.61 Q2314.91 1459.48 2313.08 1455.94 Q2311.27 1452.37 2307.64 1452.37 M2307.64 1448.67 Q2313.45 1448.67 2316.5 1453.27 Q2319.58 1457.86 2319.58 1466.61 Q2319.58 1475.33 2316.5 1479.94 Q2313.45 1484.52 2307.64 1484.52 Q2301.83 1484.52 2298.75 1479.94 Q2295.69 1475.33 2295.69 1466.61 Q2295.69 1457.86 2298.75 1453.27 Q2301.83 1448.67 2307.64 1448.67 Z\" fill=\"#000000\" fill-rule=\"evenodd\" fill-opacity=\"1\" /><path clip-path=\"url(#clip340)\" d=\"M1249.14 1532.4 L1236.25 1549.74 L1249.81 1568.04 L1242.9 1568.04 L1232.52 1554.04 L1222.15 1568.04 L1215.24 1568.04 L1229.08 1549.39 L1216.42 1532.4 L1223.32 1532.4 L1232.78 1545.1 L1242.23 1532.4 L1249.14 1532.4 Z\" fill=\"#000000\" fill-rule=\"evenodd\" fill-opacity=\"1\" /><path clip-path=\"url(#clip340)\" d=\"M1295 1550.12 Q1287.9 1550.12 1285.17 1551.75 Q1282.43 1553.37 1282.43 1557.29 Q1282.43 1560.4 1284.47 1562.25 Q1286.54 1564.07 1290.07 1564.07 Q1294.94 1564.07 1297.87 1560.63 Q1300.83 1557.16 1300.83 1551.43 L1300.83 1550.12 L1295 1550.12 M1306.68 1547.71 L1306.68 1568.04 L1300.83 1568.04 L1300.83 1562.63 Q1298.82 1565.88 1295.83 1567.44 Q1292.84 1568.97 1288.51 1568.97 Q1283.03 1568.97 1279.79 1565.91 Q1276.57 1562.82 1276.57 1557.67 Q1276.57 1551.65 1280.58 1548.6 Q1284.63 1545.54 1292.61 1545.54 L1300.83 1545.54 L1300.83 1544.97 Q1300.83 1540.93 1298.15 1538.73 Q1295.51 1536.5 1290.7 1536.5 Q1287.65 1536.5 1284.75 1537.23 Q1281.86 1537.97 1279.18 1539.43 L1279.18 1534.02 Q1282.4 1532.78 1285.42 1532.17 Q1288.45 1531.54 1291.31 1531.54 Q1299.04 1531.54 1302.86 1535.55 Q1306.68 1539.56 1306.68 1547.71 Z\" fill=\"#000000\" fill-rule=\"evenodd\" fill-opacity=\"1\" /><path clip-path=\"url(#clip340)\" d=\"M1348.38 1532.4 L1335.49 1549.74 L1349.05 1568.04 L1342.14 1568.04 L1331.76 1554.04 L1321.39 1568.04 L1314.48 1568.04 L1328.33 1549.39 L1315.66 1532.4 L1322.57 1532.4 L1332.02 1545.1 L1341.47 1532.4 L1348.38 1532.4 Z\" fill=\"#000000\" fill-rule=\"evenodd\" fill-opacity=\"1\" /><path clip-path=\"url(#clip340)\" d=\"M1357.32 1532.4 L1363.18 1532.4 L1363.18 1568.04 L1357.32 1568.04 L1357.32 1532.4 M1357.32 1518.52 L1363.18 1518.52 L1363.18 1525.93 L1357.32 1525.93 L1357.32 1518.52 Z\" fill=\"#000000\" fill-rule=\"evenodd\" fill-opacity=\"1\" /><path clip-path=\"url(#clip340)\" d=\"M1398.16 1533.45 L1398.16 1538.98 Q1395.68 1537.71 1393 1537.07 Q1390.33 1536.44 1387.46 1536.44 Q1383.1 1536.44 1380.91 1537.77 Q1378.74 1539.11 1378.74 1541.79 Q1378.74 1543.82 1380.3 1545 Q1381.86 1546.15 1386.57 1547.2 L1388.58 1547.64 Q1394.82 1548.98 1397.43 1551.43 Q1400.07 1553.85 1400.07 1558.21 Q1400.07 1563.17 1396.12 1566.07 Q1392.21 1568.97 1385.33 1568.97 Q1382.47 1568.97 1379.35 1568.39 Q1376.26 1567.85 1372.82 1566.74 L1372.82 1560.69 Q1376.07 1562.38 1379.22 1563.24 Q1382.37 1564.07 1385.46 1564.07 Q1389.6 1564.07 1391.82 1562.66 Q1394.05 1561.23 1394.05 1558.65 Q1394.05 1556.27 1392.43 1554.99 Q1390.84 1553.72 1385.39 1552.54 L1383.36 1552.07 Q1377.92 1550.92 1375.5 1548.56 Q1373.08 1546.18 1373.08 1542.04 Q1373.08 1537.01 1376.64 1534.27 Q1380.21 1531.54 1386.76 1531.54 Q1390.01 1531.54 1392.87 1532.01 Q1395.74 1532.49 1398.16 1533.45 Z\" fill=\"#000000\" fill-rule=\"evenodd\" fill-opacity=\"1\" /><polyline clip-path=\"url(#clip342)\" style=\"stroke:#000000; stroke-linecap:butt; stroke-linejoin:round; stroke-width:2; stroke-opacity:0.1; fill:none\" points=\"\n",
       "  262.551,1387.62 2352.76,1387.62 \n",
       "  \"/>\n",
       "<polyline clip-path=\"url(#clip342)\" style=\"stroke:#000000; stroke-linecap:butt; stroke-linejoin:round; stroke-width:2; stroke-opacity:0.1; fill:none\" points=\"\n",
       "  262.551,1080.78 2352.76,1080.78 \n",
       "  \"/>\n",
       "<polyline clip-path=\"url(#clip342)\" style=\"stroke:#000000; stroke-linecap:butt; stroke-linejoin:round; stroke-width:2; stroke-opacity:0.1; fill:none\" points=\"\n",
       "  262.551,773.94 2352.76,773.94 \n",
       "  \"/>\n",
       "<polyline clip-path=\"url(#clip342)\" style=\"stroke:#000000; stroke-linecap:butt; stroke-linejoin:round; stroke-width:2; stroke-opacity:0.1; fill:none\" points=\"\n",
       "  262.551,467.098 2352.76,467.098 \n",
       "  \"/>\n",
       "<polyline clip-path=\"url(#clip342)\" style=\"stroke:#000000; stroke-linecap:butt; stroke-linejoin:round; stroke-width:2; stroke-opacity:0.1; fill:none\" points=\"\n",
       "  262.551,160.256 2352.76,160.256 \n",
       "  \"/>\n",
       "<polyline clip-path=\"url(#clip340)\" style=\"stroke:#000000; stroke-linecap:butt; stroke-linejoin:round; stroke-width:4; stroke-opacity:1; fill:none\" points=\"\n",
       "  262.551,1423.18 262.551,123.472 \n",
       "  \"/>\n",
       "<polyline clip-path=\"url(#clip340)\" style=\"stroke:#000000; stroke-linecap:butt; stroke-linejoin:round; stroke-width:4; stroke-opacity:1; fill:none\" points=\"\n",
       "  262.551,1387.62 281.449,1387.62 \n",
       "  \"/>\n",
       "<polyline clip-path=\"url(#clip340)\" style=\"stroke:#000000; stroke-linecap:butt; stroke-linejoin:round; stroke-width:4; stroke-opacity:1; fill:none\" points=\"\n",
       "  262.551,1080.78 281.449,1080.78 \n",
       "  \"/>\n",
       "<polyline clip-path=\"url(#clip340)\" style=\"stroke:#000000; stroke-linecap:butt; stroke-linejoin:round; stroke-width:4; stroke-opacity:1; fill:none\" points=\"\n",
       "  262.551,773.94 281.449,773.94 \n",
       "  \"/>\n",
       "<polyline clip-path=\"url(#clip340)\" style=\"stroke:#000000; stroke-linecap:butt; stroke-linejoin:round; stroke-width:4; stroke-opacity:1; fill:none\" points=\"\n",
       "  262.551,467.098 281.449,467.098 \n",
       "  \"/>\n",
       "<polyline clip-path=\"url(#clip340)\" style=\"stroke:#000000; stroke-linecap:butt; stroke-linejoin:round; stroke-width:4; stroke-opacity:1; fill:none\" points=\"\n",
       "  262.551,160.256 281.449,160.256 \n",
       "  \"/>\n",
       "<path clip-path=\"url(#clip340)\" d=\"M214.607 1373.42 Q210.996 1373.42 209.167 1376.99 Q207.362 1380.53 207.362 1387.66 Q207.362 1394.76 209.167 1398.33 Q210.996 1401.87 214.607 1401.87 Q218.241 1401.87 220.047 1398.33 Q221.875 1394.76 221.875 1387.66 Q221.875 1380.53 220.047 1376.99 Q218.241 1373.42 214.607 1373.42 M214.607 1369.72 Q220.417 1369.72 223.473 1374.32 Q226.551 1378.91 226.551 1387.66 Q226.551 1396.38 223.473 1400.99 Q220.417 1405.57 214.607 1405.57 Q208.797 1405.57 205.718 1400.99 Q202.662 1396.38 202.662 1387.66 Q202.662 1378.91 205.718 1374.32 Q208.797 1369.72 214.607 1369.72 Z\" fill=\"#000000\" fill-rule=\"evenodd\" fill-opacity=\"1\" /><path clip-path=\"url(#clip340)\" d=\"M148.311 1094.13 L164.63 1094.13 L164.63 1098.06 L142.686 1098.06 L142.686 1094.13 Q145.348 1091.37 149.931 1086.74 Q154.538 1082.09 155.718 1080.75 Q157.964 1078.22 158.843 1076.49 Q159.746 1074.73 159.746 1073.04 Q159.746 1070.28 157.802 1068.55 Q155.88 1066.81 152.778 1066.81 Q150.579 1066.81 148.126 1067.58 Q145.695 1068.34 142.917 1069.89 L142.917 1065.17 Q145.741 1064.03 148.195 1063.46 Q150.649 1062.88 152.686 1062.88 Q158.056 1062.88 161.251 1065.56 Q164.445 1068.25 164.445 1072.74 Q164.445 1074.87 163.635 1076.79 Q162.848 1078.69 160.741 1081.28 Q160.163 1081.95 157.061 1085.17 Q153.959 1088.36 148.311 1094.13 Z\" fill=\"#000000\" fill-rule=\"evenodd\" fill-opacity=\"1\" /><path clip-path=\"url(#clip340)\" d=\"M174.491 1063.5 L192.848 1063.5 L192.848 1067.44 L178.774 1067.44 L178.774 1075.91 Q179.792 1075.56 180.811 1075.4 Q181.829 1075.21 182.848 1075.21 Q188.635 1075.21 192.014 1078.39 Q195.394 1081.56 195.394 1086.97 Q195.394 1092.55 191.922 1095.65 Q188.45 1098.73 182.13 1098.73 Q179.954 1098.73 177.686 1098.36 Q175.44 1097.99 173.033 1097.25 L173.033 1092.55 Q175.116 1093.69 177.339 1094.24 Q179.561 1094.8 182.038 1094.8 Q186.042 1094.8 188.38 1092.69 Q190.718 1090.58 190.718 1086.97 Q190.718 1083.36 188.38 1081.26 Q186.042 1079.15 182.038 1079.15 Q180.163 1079.15 178.288 1079.57 Q176.436 1079.98 174.491 1080.86 L174.491 1063.5 Z\" fill=\"#000000\" fill-rule=\"evenodd\" fill-opacity=\"1\" /><path clip-path=\"url(#clip340)\" d=\"M214.607 1066.58 Q210.996 1066.58 209.167 1070.14 Q207.362 1073.69 207.362 1080.82 Q207.362 1087.92 209.167 1091.49 Q210.996 1095.03 214.607 1095.03 Q218.241 1095.03 220.047 1091.49 Q221.875 1087.92 221.875 1080.82 Q221.875 1073.69 220.047 1070.14 Q218.241 1066.58 214.607 1066.58 M214.607 1062.88 Q220.417 1062.88 223.473 1067.48 Q226.551 1072.07 226.551 1080.82 Q226.551 1089.54 223.473 1094.15 Q220.417 1098.73 214.607 1098.73 Q208.797 1098.73 205.718 1094.15 Q202.662 1089.54 202.662 1080.82 Q202.662 1072.07 205.718 1067.48 Q208.797 1062.88 214.607 1062.88 Z\" fill=\"#000000\" fill-rule=\"evenodd\" fill-opacity=\"1\" /><path clip-path=\"url(#clip340)\" d=\"M144.329 756.66 L162.686 756.66 L162.686 760.595 L148.612 760.595 L148.612 769.067 Q149.63 768.72 150.649 768.558 Q151.667 768.373 152.686 768.373 Q158.473 768.373 161.852 771.544 Q165.232 774.715 165.232 780.132 Q165.232 785.71 161.76 788.812 Q158.288 791.891 151.968 791.891 Q149.792 791.891 147.524 791.521 Q145.279 791.15 142.871 790.409 L142.871 785.71 Q144.954 786.845 147.177 787.4 Q149.399 787.956 151.876 787.956 Q155.88 787.956 158.218 785.849 Q160.556 783.743 160.556 780.132 Q160.556 776.521 158.218 774.414 Q155.88 772.308 151.876 772.308 Q150.001 772.308 148.126 772.724 Q146.274 773.141 144.329 774.021 L144.329 756.66 Z\" fill=\"#000000\" fill-rule=\"evenodd\" fill-opacity=\"1\" /><path clip-path=\"url(#clip340)\" d=\"M184.445 759.738 Q180.834 759.738 179.005 763.303 Q177.2 766.845 177.2 773.974 Q177.2 781.081 179.005 784.646 Q180.834 788.187 184.445 788.187 Q188.079 788.187 189.885 784.646 Q191.713 781.081 191.713 773.974 Q191.713 766.845 189.885 763.303 Q188.079 759.738 184.445 759.738 M184.445 756.035 Q190.255 756.035 193.311 760.641 Q196.389 765.224 196.389 773.974 Q196.389 782.701 193.311 787.308 Q190.255 791.891 184.445 791.891 Q178.635 791.891 175.556 787.308 Q172.501 782.701 172.501 773.974 Q172.501 765.224 175.556 760.641 Q178.635 756.035 184.445 756.035 Z\" fill=\"#000000\" fill-rule=\"evenodd\" fill-opacity=\"1\" /><path clip-path=\"url(#clip340)\" d=\"M214.607 759.738 Q210.996 759.738 209.167 763.303 Q207.362 766.845 207.362 773.974 Q207.362 781.081 209.167 784.646 Q210.996 788.187 214.607 788.187 Q218.241 788.187 220.047 784.646 Q221.875 781.081 221.875 773.974 Q221.875 766.845 220.047 763.303 Q218.241 759.738 214.607 759.738 M214.607 756.035 Q220.417 756.035 223.473 760.641 Q226.551 765.224 226.551 773.974 Q226.551 782.701 223.473 787.308 Q220.417 791.891 214.607 791.891 Q208.797 791.891 205.718 787.308 Q202.662 782.701 202.662 773.974 Q202.662 765.224 205.718 760.641 Q208.797 756.035 214.607 756.035 Z\" fill=\"#000000\" fill-rule=\"evenodd\" fill-opacity=\"1\" /><path clip-path=\"url(#clip340)\" d=\"M143.103 449.818 L165.325 449.818 L165.325 451.809 L152.778 484.378 L147.894 484.378 L159.7 453.753 L143.103 453.753 L143.103 449.818 Z\" fill=\"#000000\" fill-rule=\"evenodd\" fill-opacity=\"1\" /><path clip-path=\"url(#clip340)\" d=\"M174.491 449.818 L192.848 449.818 L192.848 453.753 L178.774 453.753 L178.774 462.225 Q179.792 461.878 180.811 461.716 Q181.829 461.531 182.848 461.531 Q188.635 461.531 192.014 464.702 Q195.394 467.873 195.394 473.29 Q195.394 478.869 191.922 481.971 Q188.45 485.049 182.13 485.049 Q179.954 485.049 177.686 484.679 Q175.44 484.309 173.033 483.568 L173.033 478.869 Q175.116 480.003 177.339 480.559 Q179.561 481.114 182.038 481.114 Q186.042 481.114 188.38 479.008 Q190.718 476.901 190.718 473.29 Q190.718 469.679 188.38 467.573 Q186.042 465.466 182.038 465.466 Q180.163 465.466 178.288 465.883 Q176.436 466.299 174.491 467.179 L174.491 449.818 Z\" fill=\"#000000\" fill-rule=\"evenodd\" fill-opacity=\"1\" /><path clip-path=\"url(#clip340)\" d=\"M214.607 452.897 Q210.996 452.897 209.167 456.461 Q207.362 460.003 207.362 467.133 Q207.362 474.239 209.167 477.804 Q210.996 481.346 214.607 481.346 Q218.241 481.346 220.047 477.804 Q221.875 474.239 221.875 467.133 Q221.875 460.003 220.047 456.461 Q218.241 452.897 214.607 452.897 M214.607 449.193 Q220.417 449.193 223.473 453.799 Q226.551 458.383 226.551 467.133 Q226.551 475.86 223.473 480.466 Q220.417 485.049 214.607 485.049 Q208.797 485.049 205.718 480.466 Q202.662 475.86 202.662 467.133 Q202.662 458.383 205.718 453.799 Q208.797 449.193 214.607 449.193 Z\" fill=\"#000000\" fill-rule=\"evenodd\" fill-opacity=\"1\" /><path clip-path=\"url(#clip340)\" d=\"M114.931 173.601 L122.57 173.601 L122.57 147.236 L114.26 148.902 L114.26 144.643 L122.524 142.976 L127.2 142.976 L127.2 173.601 L134.839 173.601 L134.839 177.536 L114.931 177.536 L114.931 173.601 Z\" fill=\"#000000\" fill-rule=\"evenodd\" fill-opacity=\"1\" /><path clip-path=\"url(#clip340)\" d=\"M154.283 146.055 Q150.672 146.055 148.843 149.62 Q147.038 153.161 147.038 160.291 Q147.038 167.397 148.843 170.962 Q150.672 174.504 154.283 174.504 Q157.917 174.504 159.723 170.962 Q161.552 167.397 161.552 160.291 Q161.552 153.161 159.723 149.62 Q157.917 146.055 154.283 146.055 M154.283 142.351 Q160.093 142.351 163.149 146.958 Q166.227 151.541 166.227 160.291 Q166.227 169.018 163.149 173.624 Q160.093 178.208 154.283 178.208 Q148.473 178.208 145.394 173.624 Q142.339 169.018 142.339 160.291 Q142.339 151.541 145.394 146.958 Q148.473 142.351 154.283 142.351 Z\" fill=\"#000000\" fill-rule=\"evenodd\" fill-opacity=\"1\" /><path clip-path=\"url(#clip340)\" d=\"M184.445 146.055 Q180.834 146.055 179.005 149.62 Q177.2 153.161 177.2 160.291 Q177.2 167.397 179.005 170.962 Q180.834 174.504 184.445 174.504 Q188.079 174.504 189.885 170.962 Q191.713 167.397 191.713 160.291 Q191.713 153.161 189.885 149.62 Q188.079 146.055 184.445 146.055 M184.445 142.351 Q190.255 142.351 193.311 146.958 Q196.389 151.541 196.389 160.291 Q196.389 169.018 193.311 173.624 Q190.255 178.208 184.445 178.208 Q178.635 178.208 175.556 173.624 Q172.501 169.018 172.501 160.291 Q172.501 151.541 175.556 146.958 Q178.635 142.351 184.445 142.351 Z\" fill=\"#000000\" fill-rule=\"evenodd\" fill-opacity=\"1\" /><path clip-path=\"url(#clip340)\" d=\"M214.607 146.055 Q210.996 146.055 209.167 149.62 Q207.362 153.161 207.362 160.291 Q207.362 167.397 209.167 170.962 Q210.996 174.504 214.607 174.504 Q218.241 174.504 220.047 170.962 Q221.875 167.397 221.875 160.291 Q221.875 153.161 220.047 149.62 Q218.241 146.055 214.607 146.055 M214.607 142.351 Q220.417 142.351 223.473 146.958 Q226.551 151.541 226.551 160.291 Q226.551 169.018 223.473 173.624 Q220.417 178.208 214.607 178.208 Q208.797 178.208 205.718 173.624 Q202.662 169.018 202.662 160.291 Q202.662 151.541 205.718 146.958 Q208.797 142.351 214.607 142.351 Z\" fill=\"#000000\" fill-rule=\"evenodd\" fill-opacity=\"1\" /><path clip-path=\"url(#clip340)\" d=\"M67.3143 846.675 Q73.68 849.157 75.6216 851.513 Q77.5631 853.868 77.5631 857.815 L77.5631 862.494 L72.6615 862.494 L72.6615 859.056 Q72.6615 856.637 71.5157 855.3 Q70.3699 853.964 66.1048 852.34 L63.4312 851.29 L28.3562 865.708 L28.3562 859.502 L56.238 848.362 L28.3562 837.222 L28.3562 831.015 L67.3143 846.675 Z\" fill=\"#000000\" fill-rule=\"evenodd\" fill-opacity=\"1\" /><path clip-path=\"url(#clip340)\" d=\"M46.0847 786.01 Q46.0847 793.107 47.7079 795.845 Q49.3312 798.582 53.2461 798.582 Q56.3653 798.582 58.2114 796.545 Q60.0256 794.476 60.0256 790.943 Q60.0256 786.073 56.5881 783.145 Q53.1188 780.185 47.3897 780.185 L46.0847 780.185 L46.0847 786.01 M43.6657 774.329 L64.0042 774.329 L64.0042 780.185 L58.5933 780.185 Q61.8398 782.19 63.3994 785.182 Q64.9272 788.174 64.9272 792.503 Q64.9272 797.977 61.8716 801.224 Q58.7843 804.438 53.6281 804.438 Q47.6125 804.438 44.5569 800.428 Q41.5014 796.386 41.5014 788.397 L41.5014 780.185 L40.9285 780.185 Q36.8862 780.185 34.6901 782.859 Q32.4621 785.5 32.4621 790.307 Q32.4621 793.362 33.1941 796.258 Q33.9262 799.155 35.3903 801.828 L29.9795 801.828 Q28.7381 798.614 28.1334 795.59 Q27.4968 792.566 27.4968 789.702 Q27.4968 781.967 31.5072 778.148 Q35.5176 774.329 43.6657 774.329 Z\" fill=\"#000000\" fill-rule=\"evenodd\" fill-opacity=\"1\" /><path clip-path=\"url(#clip340)\" d=\"M28.3562 732.633 L45.7028 745.524 L64.0042 731.965 L64.0042 738.872 L49.9996 749.248 L64.0042 759.624 L64.0042 766.531 L45.3526 752.685 L28.3562 765.353 L28.3562 758.446 L41.0558 748.993 L28.3562 739.54 L28.3562 732.633 Z\" fill=\"#000000\" fill-rule=\"evenodd\" fill-opacity=\"1\" /><path clip-path=\"url(#clip340)\" d=\"M28.3562 723.689 L28.3562 717.833 L64.0042 717.833 L64.0042 723.689 L28.3562 723.689 M14.479 723.689 L14.479 717.833 L21.895 717.833 L21.895 723.689 L14.479 723.689 Z\" fill=\"#000000\" fill-rule=\"evenodd\" fill-opacity=\"1\" /><path clip-path=\"url(#clip340)\" d=\"M29.4065 682.853 L34.9447 682.853 Q33.6716 685.336 33.035 688.01 Q32.3984 690.683 32.3984 693.548 Q32.3984 697.908 33.7352 700.104 Q35.072 702.269 37.7456 702.269 Q39.7826 702.269 40.9603 700.709 Q42.1061 699.15 43.1565 694.439 L43.6021 692.434 Q44.9389 686.195 47.3897 683.585 Q49.8086 680.944 54.1691 680.944 Q59.1344 680.944 62.0308 684.89 Q64.9272 688.805 64.9272 695.68 Q64.9272 698.545 64.3543 701.664 Q63.8132 704.751 62.6992 708.189 L56.6518 708.189 Q58.3387 704.942 59.198 701.791 Q60.0256 698.64 60.0256 695.553 Q60.0256 691.415 58.6251 689.187 Q57.1929 686.959 54.6147 686.959 Q52.2276 686.959 50.9545 688.583 Q49.6813 690.174 48.5037 695.617 L48.0262 697.654 Q46.8804 703.096 44.5251 705.515 Q42.138 707.934 38.0002 707.934 Q32.9713 707.934 30.2341 704.369 Q27.4968 700.805 27.4968 694.248 Q27.4968 691.001 27.9743 688.137 Q28.4517 685.272 29.4065 682.853 Z\" fill=\"#000000\" fill-rule=\"evenodd\" fill-opacity=\"1\" /><path clip-path=\"url(#clip340)\" d=\"M832.32 12.096 L844.514 12.096 L859.948 53.2532 L875.463 12.096 L887.656 12.096 L887.656 72.576 L879.676 72.576 L879.676 19.4686 L864.08 60.9499 L855.856 60.9499 L840.26 19.4686 L840.26 72.576 L832.32 72.576 L832.32 12.096 Z\" fill=\"#000000\" fill-rule=\"evenodd\" fill-opacity=\"1\" /><path clip-path=\"url(#clip340)\" d=\"M922.453 76.7889 Q919.293 84.8907 916.296 87.3618 Q913.298 89.8329 908.275 89.8329 L902.32 89.8329 L902.32 83.5945 L906.695 83.5945 Q909.774 83.5945 911.475 82.1361 Q913.177 80.6778 915.242 75.2496 L916.579 71.8468 L898.229 27.2059 L906.128 27.2059 L920.306 62.6918 L934.484 27.2059 L942.384 27.2059 L922.453 76.7889 Z\" fill=\"#000000\" fill-rule=\"evenodd\" fill-opacity=\"1\" /><path clip-path=\"url(#clip340)\" d=\"M1015.62 14.0809 L1015.62 22.0612 Q1010.97 19.8332 1006.83 18.7395 Q1002.7 17.6457 998.853 17.6457 Q992.169 17.6457 988.523 20.2383 Q984.918 22.8309 984.918 27.611 Q984.918 31.6214 987.308 33.6873 Q989.739 35.7128 996.463 36.9686 L1001.41 37.9813 Q1010.56 39.7232 1014.89 44.1387 Q1019.27 48.5136 1019.27 55.8863 Q1019.27 64.6767 1013.36 69.2137 Q1007.48 73.7508 996.099 73.7508 Q991.805 73.7508 986.943 72.7785 Q982.123 71.8063 976.938 69.9024 L976.938 61.4765 Q981.92 64.2716 986.7 65.6895 Q991.48 67.1073 996.099 67.1073 Q1003.11 67.1073 1006.91 64.3527 Q1010.72 61.598 1010.72 56.4939 Q1010.72 52.0379 1007.97 49.5264 Q1005.25 47.0148 999.015 45.759 L994.033 44.7868 Q984.878 42.9639 980.786 39.075 Q976.695 35.1862 976.695 28.2591 Q976.695 20.2383 982.325 15.6203 Q987.997 11.0023 997.921 11.0023 Q1002.17 11.0023 1006.59 11.7719 Q1011.01 12.5416 1015.62 14.0809 Z\" fill=\"#000000\" fill-rule=\"evenodd\" fill-opacity=\"1\" /><path clip-path=\"url(#clip340)\" d=\"M1070.51 48.0275 L1070.51 51.6733 L1036.24 51.6733 Q1036.73 59.3701 1040.86 63.421 Q1045.03 67.4314 1052.45 67.4314 Q1056.74 67.4314 1060.75 66.3781 Q1064.8 65.3249 1068.77 63.2184 L1068.77 70.267 Q1064.76 71.9684 1060.55 72.8596 Q1056.34 73.7508 1052 73.7508 Q1041.14 73.7508 1034.78 67.4314 Q1028.47 61.1119 1028.47 50.3365 Q1028.47 39.1965 1034.46 32.6746 Q1040.5 26.1121 1050.7 26.1121 Q1059.86 26.1121 1065.17 32.0264 Q1070.51 37.9003 1070.51 48.0275 M1063.06 45.84 Q1062.98 39.7232 1059.62 36.0774 Q1056.29 32.4315 1050.79 32.4315 Q1044.55 32.4315 1040.78 35.9558 Q1037.05 39.4801 1036.49 45.8805 L1063.06 45.84 Z\" fill=\"#000000\" fill-rule=\"evenodd\" fill-opacity=\"1\" /><path clip-path=\"url(#clip340)\" d=\"M1115.4 28.9478 L1115.4 35.9153 Q1112.24 34.1734 1109.04 33.3227 Q1105.88 32.4315 1102.64 32.4315 Q1095.39 32.4315 1091.38 37.0496 Q1087.37 41.6271 1087.37 49.9314 Q1087.37 58.2358 1091.38 62.8538 Q1095.39 67.4314 1102.64 67.4314 Q1105.88 67.4314 1109.04 66.5807 Q1112.24 65.6895 1115.4 63.9476 L1115.4 70.8341 Q1112.28 72.2924 1108.92 73.0216 Q1105.59 73.7508 1101.83 73.7508 Q1091.58 73.7508 1085.54 67.3098 Q1079.51 60.8689 1079.51 49.9314 Q1079.51 38.832 1085.58 32.472 Q1091.7 26.1121 1102.31 26.1121 Q1105.76 26.1121 1109.04 26.8413 Q1112.32 27.5299 1115.4 28.9478 Z\" fill=\"#000000\" fill-rule=\"evenodd\" fill-opacity=\"1\" /><path clip-path=\"url(#clip340)\" d=\"M1145.94 32.4315 Q1139.95 32.4315 1136.46 37.1306 Q1132.98 41.7891 1132.98 49.9314 Q1132.98 58.0738 1136.42 62.7728 Q1139.91 67.4314 1145.94 67.4314 Q1151.9 67.4314 1155.38 62.7323 Q1158.86 58.0333 1158.86 49.9314 Q1158.86 41.8701 1155.38 37.1711 Q1151.9 32.4315 1145.94 32.4315 M1145.94 26.1121 Q1155.66 26.1121 1161.21 32.4315 Q1166.76 38.7509 1166.76 49.9314 Q1166.76 61.0714 1161.21 67.4314 Q1155.66 73.7508 1145.94 73.7508 Q1136.18 73.7508 1130.63 67.4314 Q1125.12 61.0714 1125.12 49.9314 Q1125.12 38.7509 1130.63 32.4315 Q1136.18 26.1121 1145.94 26.1121 Z\" fill=\"#000000\" fill-rule=\"evenodd\" fill-opacity=\"1\" /><path clip-path=\"url(#clip340)\" d=\"M1216.83 45.1919 L1216.83 72.576 L1209.38 72.576 L1209.38 45.4349 Q1209.38 38.994 1206.87 35.7938 Q1204.36 32.5936 1199.33 32.5936 Q1193.3 32.5936 1189.81 36.4419 Q1186.33 40.2903 1186.33 46.9338 L1186.33 72.576 L1178.83 72.576 L1178.83 27.2059 L1186.33 27.2059 L1186.33 34.2544 Q1189 30.163 1192.61 28.1376 Q1196.25 26.1121 1200.99 26.1121 Q1208.81 26.1121 1212.82 30.9732 Q1216.83 35.7938 1216.83 45.1919 Z\" fill=\"#000000\" fill-rule=\"evenodd\" fill-opacity=\"1\" /><path clip-path=\"url(#clip340)\" d=\"M1261.55 34.0924 L1261.55 9.54393 L1269.01 9.54393 L1269.01 72.576 L1261.55 72.576 L1261.55 65.7705 Q1259.2 69.8214 1255.6 71.8063 Q1252.03 73.7508 1247.01 73.7508 Q1238.79 73.7508 1233.6 67.1883 Q1228.46 60.6258 1228.46 49.9314 Q1228.46 39.2371 1233.6 32.6746 Q1238.79 26.1121 1247.01 26.1121 Q1252.03 26.1121 1255.6 28.0971 Q1259.2 30.0415 1261.55 34.0924 M1236.16 49.9314 Q1236.16 58.1548 1239.52 62.8538 Q1242.92 67.5124 1248.83 67.5124 Q1254.75 67.5124 1258.15 62.8538 Q1261.55 58.1548 1261.55 49.9314 Q1261.55 41.7081 1258.15 37.0496 Q1254.75 32.3505 1248.83 32.3505 Q1242.92 32.3505 1239.52 37.0496 Q1236.16 41.7081 1236.16 49.9314 Z\" fill=\"#000000\" fill-rule=\"evenodd\" fill-opacity=\"1\" /><path clip-path=\"url(#clip340)\" d=\"M1347.31 14.0809 L1347.31 22.0612 Q1342.65 19.8332 1338.52 18.7395 Q1334.39 17.6457 1330.54 17.6457 Q1323.86 17.6457 1320.21 20.2383 Q1316.61 22.8309 1316.61 27.611 Q1316.61 31.6214 1319 33.6873 Q1321.43 35.7128 1328.15 36.9686 L1333.09 37.9813 Q1342.25 39.7232 1346.58 44.1387 Q1350.96 48.5136 1350.96 55.8863 Q1350.96 64.6767 1345.04 69.2137 Q1339.17 73.7508 1327.79 73.7508 Q1323.49 73.7508 1318.63 72.7785 Q1313.81 71.8063 1308.63 69.9024 L1308.63 61.4765 Q1313.61 64.2716 1318.39 65.6895 Q1323.17 67.1073 1327.79 67.1073 Q1334.79 67.1073 1338.6 64.3527 Q1342.41 61.598 1342.41 56.4939 Q1342.41 52.0379 1339.66 49.5264 Q1336.94 47.0148 1330.7 45.759 L1325.72 44.7868 Q1316.57 42.9639 1312.47 39.075 Q1308.38 35.1862 1308.38 28.2591 Q1308.38 20.2383 1314.01 15.6203 Q1319.68 11.0023 1329.61 11.0023 Q1333.86 11.0023 1338.28 11.7719 Q1342.69 12.5416 1347.31 14.0809 Z\" fill=\"#000000\" fill-rule=\"evenodd\" fill-opacity=\"1\" /><path clip-path=\"url(#clip340)\" d=\"M1396.04 28.9478 L1396.04 35.9153 Q1392.88 34.1734 1389.68 33.3227 Q1386.52 32.4315 1383.28 32.4315 Q1376.03 32.4315 1372.02 37.0496 Q1368.01 41.6271 1368.01 49.9314 Q1368.01 58.2358 1372.02 62.8538 Q1376.03 67.4314 1383.28 67.4314 Q1386.52 67.4314 1389.68 66.5807 Q1392.88 65.6895 1396.04 63.9476 L1396.04 70.8341 Q1392.93 72.2924 1389.56 73.0216 Q1386.24 73.7508 1382.47 73.7508 Q1372.22 73.7508 1366.19 67.3098 Q1360.15 60.8689 1360.15 49.9314 Q1360.15 38.832 1366.23 32.472 Q1372.35 26.1121 1382.96 26.1121 Q1386.4 26.1121 1389.68 26.8413 Q1392.97 27.5299 1396.04 28.9478 Z\" fill=\"#000000\" fill-rule=\"evenodd\" fill-opacity=\"1\" /><path clip-path=\"url(#clip340)\" d=\"M1429.63 49.7694 Q1420.59 49.7694 1417.11 51.8354 Q1413.63 53.9013 1413.63 58.8839 Q1413.63 62.8538 1416.22 65.2034 Q1418.85 67.5124 1423.35 67.5124 Q1429.55 67.5124 1433.27 63.1374 Q1437.04 58.7219 1437.04 51.4303 L1437.04 49.7694 L1429.63 49.7694 M1444.49 46.6907 L1444.49 72.576 L1437.04 72.576 L1437.04 65.6895 Q1434.49 69.8214 1430.68 71.8063 Q1426.87 73.7508 1421.36 73.7508 Q1414.39 73.7508 1410.26 69.8619 Q1406.17 65.9325 1406.17 59.3701 Q1406.17 51.7138 1411.28 47.825 Q1416.42 43.9361 1426.59 43.9361 L1437.04 43.9361 L1437.04 43.2069 Q1437.04 38.0623 1433.64 35.2672 Q1430.27 32.4315 1424.16 32.4315 Q1420.27 32.4315 1416.58 33.3632 Q1412.9 34.295 1409.49 36.1584 L1409.49 29.2718 Q1413.58 27.692 1417.43 26.9223 Q1421.28 26.1121 1424.93 26.1121 Q1434.77 26.1121 1439.63 31.2163 Q1444.49 36.3204 1444.49 46.6907 Z\" fill=\"#000000\" fill-rule=\"evenodd\" fill-opacity=\"1\" /><path clip-path=\"url(#clip340)\" d=\"M1467.22 14.324 L1467.22 27.2059 L1482.57 27.2059 L1482.57 32.9987 L1467.22 32.9987 L1467.22 57.6282 Q1467.22 63.1779 1468.72 64.7578 Q1470.26 66.3376 1474.92 66.3376 L1482.57 66.3376 L1482.57 72.576 L1474.92 72.576 Q1466.29 72.576 1463.01 69.3758 Q1459.72 66.1351 1459.72 57.6282 L1459.72 32.9987 L1454.26 32.9987 L1454.26 27.2059 L1459.72 27.2059 L1459.72 14.324 L1467.22 14.324 Z\" fill=\"#000000\" fill-rule=\"evenodd\" fill-opacity=\"1\" /><path clip-path=\"url(#clip340)\" d=\"M1499.75 14.324 L1499.75 27.2059 L1515.1 27.2059 L1515.1 32.9987 L1499.75 32.9987 L1499.75 57.6282 Q1499.75 63.1779 1501.25 64.7578 Q1502.79 66.3376 1507.44 66.3376 L1515.1 66.3376 L1515.1 72.576 L1507.44 72.576 Q1498.82 72.576 1495.53 69.3758 Q1492.25 66.1351 1492.25 57.6282 L1492.25 32.9987 L1486.78 32.9987 L1486.78 27.2059 L1492.25 27.2059 L1492.25 14.324 L1499.75 14.324 Z\" fill=\"#000000\" fill-rule=\"evenodd\" fill-opacity=\"1\" /><path clip-path=\"url(#clip340)\" d=\"M1563.71 48.0275 L1563.71 51.6733 L1529.44 51.6733 Q1529.93 59.3701 1534.06 63.421 Q1538.23 67.4314 1545.64 67.4314 Q1549.94 67.4314 1553.95 66.3781 Q1558 65.3249 1561.97 63.2184 L1561.97 70.267 Q1557.96 71.9684 1553.75 72.8596 Q1549.53 73.7508 1545.2 73.7508 Q1534.34 73.7508 1527.98 67.4314 Q1521.66 61.1119 1521.66 50.3365 Q1521.66 39.1965 1527.66 32.6746 Q1533.69 26.1121 1543.9 26.1121 Q1553.06 26.1121 1558.36 32.0264 Q1563.71 37.9003 1563.71 48.0275 M1556.26 45.84 Q1556.18 39.7232 1552.81 36.0774 Q1549.49 32.4315 1543.98 32.4315 Q1537.74 32.4315 1533.98 35.9558 Q1530.25 39.4801 1529.68 45.8805 L1556.26 45.84 Z\" fill=\"#000000\" fill-rule=\"evenodd\" fill-opacity=\"1\" /><path clip-path=\"url(#clip340)\" d=\"M1602.24 34.1734 Q1600.98 33.4443 1599.48 33.1202 Q1598.02 32.7556 1596.24 32.7556 Q1589.92 32.7556 1586.52 36.8875 Q1583.16 40.9789 1583.16 48.6757 L1583.16 72.576 L1575.66 72.576 L1575.66 27.2059 L1583.16 27.2059 L1583.16 34.2544 Q1585.51 30.1225 1589.27 28.1376 Q1593.04 26.1121 1598.43 26.1121 Q1599.2 26.1121 1600.13 26.2337 Q1601.06 26.3147 1602.19 26.5172 L1602.24 34.1734 Z\" fill=\"#000000\" fill-rule=\"evenodd\" fill-opacity=\"1\" /><path clip-path=\"url(#clip340)\" d=\"M1644.93 18.8205 L1644.93 41.5461 L1655.22 41.5461 Q1660.93 41.5461 1664.05 38.5889 Q1667.17 35.6318 1667.17 30.163 Q1667.17 24.7348 1664.05 21.7777 Q1660.93 18.8205 1655.22 18.8205 L1644.93 18.8205 M1636.75 12.096 L1655.22 12.096 Q1665.39 12.096 1670.57 16.714 Q1675.8 21.2916 1675.8 30.163 Q1675.8 39.1155 1670.57 43.6931 Q1665.39 48.2706 1655.22 48.2706 L1644.93 48.2706 L1644.93 72.576 L1636.75 72.576 L1636.75 12.096 Z\" fill=\"#000000\" fill-rule=\"evenodd\" fill-opacity=\"1\" /><path clip-path=\"url(#clip340)\" d=\"M1686.45 9.54393 L1693.91 9.54393 L1693.91 72.576 L1686.45 72.576 L1686.45 9.54393 Z\" fill=\"#000000\" fill-rule=\"evenodd\" fill-opacity=\"1\" /><path clip-path=\"url(#clip340)\" d=\"M1727.08 32.4315 Q1721.09 32.4315 1717.61 37.1306 Q1714.12 41.7891 1714.12 49.9314 Q1714.12 58.0738 1717.56 62.7728 Q1721.05 67.4314 1727.08 67.4314 Q1733.04 67.4314 1736.52 62.7323 Q1740.01 58.0333 1740.01 49.9314 Q1740.01 41.8701 1736.52 37.1711 Q1733.04 32.4315 1727.08 32.4315 M1727.08 26.1121 Q1736.81 26.1121 1742.36 32.4315 Q1747.91 38.7509 1747.91 49.9314 Q1747.91 61.0714 1742.36 67.4314 Q1736.81 73.7508 1727.08 73.7508 Q1717.32 73.7508 1711.77 67.4314 Q1706.26 61.0714 1706.26 49.9314 Q1706.26 38.7509 1711.77 32.4315 Q1717.32 26.1121 1727.08 26.1121 Z\" fill=\"#000000\" fill-rule=\"evenodd\" fill-opacity=\"1\" /><path clip-path=\"url(#clip340)\" d=\"M1767.63 14.324 L1767.63 27.2059 L1782.99 27.2059 L1782.99 32.9987 L1767.63 32.9987 L1767.63 57.6282 Q1767.63 63.1779 1769.13 64.7578 Q1770.67 66.3376 1775.33 66.3376 L1782.99 66.3376 L1782.99 72.576 L1775.33 72.576 Q1766.7 72.576 1763.42 69.3758 Q1760.14 66.1351 1760.14 57.6282 L1760.14 32.9987 L1754.67 32.9987 L1754.67 27.2059 L1760.14 27.2059 L1760.14 14.324 L1767.63 14.324 Z\" fill=\"#000000\" fill-rule=\"evenodd\" fill-opacity=\"1\" /><circle clip-path=\"url(#clip342)\" cx=\"321.708\" cy=\"1386.4\" r=\"14\" fill=\"#009af9\" fill-rule=\"evenodd\" fill-opacity=\"1\" stroke=\"#000000\" stroke-opacity=\"1\" stroke-width=\"3.2\"/>\n",
       "<circle clip-path=\"url(#clip342)\" cx=\"540.807\" cy=\"1382.71\" r=\"14\" fill=\"#009af9\" fill-rule=\"evenodd\" fill-opacity=\"1\" stroke=\"#000000\" stroke-opacity=\"1\" stroke-width=\"3.2\"/>\n",
       "<circle clip-path=\"url(#clip342)\" cx=\"759.906\" cy=\"1376.58\" r=\"14\" fill=\"#009af9\" fill-rule=\"evenodd\" fill-opacity=\"1\" stroke=\"#000000\" stroke-opacity=\"1\" stroke-width=\"3.2\"/>\n",
       "<circle clip-path=\"url(#clip342)\" cx=\"979.005\" cy=\"1367.99\" r=\"14\" fill=\"#009af9\" fill-rule=\"evenodd\" fill-opacity=\"1\" stroke=\"#000000\" stroke-opacity=\"1\" stroke-width=\"3.2\"/>\n",
       "<circle clip-path=\"url(#clip342)\" cx=\"1198.1\" cy=\"1356.94\" r=\"14\" fill=\"#009af9\" fill-rule=\"evenodd\" fill-opacity=\"1\" stroke=\"#000000\" stroke-opacity=\"1\" stroke-width=\"3.2\"/>\n",
       "<circle clip-path=\"url(#clip342)\" cx=\"1417.2\" cy=\"1343.44\" r=\"14\" fill=\"#009af9\" fill-rule=\"evenodd\" fill-opacity=\"1\" stroke=\"#000000\" stroke-opacity=\"1\" stroke-width=\"3.2\"/>\n",
       "<circle clip-path=\"url(#clip342)\" cx=\"1636.3\" cy=\"1327.48\" r=\"14\" fill=\"#009af9\" fill-rule=\"evenodd\" fill-opacity=\"1\" stroke=\"#000000\" stroke-opacity=\"1\" stroke-width=\"3.2\"/>\n",
       "<circle clip-path=\"url(#clip342)\" cx=\"1855.4\" cy=\"1309.07\" r=\"14\" fill=\"#009af9\" fill-rule=\"evenodd\" fill-opacity=\"1\" stroke=\"#000000\" stroke-opacity=\"1\" stroke-width=\"3.2\"/>\n",
       "<circle clip-path=\"url(#clip342)\" cx=\"2074.5\" cy=\"1288.21\" r=\"14\" fill=\"#009af9\" fill-rule=\"evenodd\" fill-opacity=\"1\" stroke=\"#000000\" stroke-opacity=\"1\" stroke-width=\"3.2\"/>\n",
       "<circle clip-path=\"url(#clip342)\" cx=\"2293.6\" cy=\"1264.89\" r=\"14\" fill=\"#009af9\" fill-rule=\"evenodd\" fill-opacity=\"1\" stroke=\"#000000\" stroke-opacity=\"1\" stroke-width=\"3.2\"/>\n",
       "<circle clip-path=\"url(#clip342)\" cx=\"321.708\" cy=\"1386.4\" r=\"14\" fill=\"#e26f46\" fill-rule=\"evenodd\" fill-opacity=\"1\" stroke=\"#000000\" stroke-opacity=\"1\" stroke-width=\"3.2\"/>\n",
       "<circle clip-path=\"url(#clip342)\" cx=\"540.807\" cy=\"1377.8\" r=\"14\" fill=\"#e26f46\" fill-rule=\"evenodd\" fill-opacity=\"1\" stroke=\"#000000\" stroke-opacity=\"1\" stroke-width=\"3.2\"/>\n",
       "<circle clip-path=\"url(#clip342)\" cx=\"759.906\" cy=\"1354.48\" r=\"14\" fill=\"#e26f46\" fill-rule=\"evenodd\" fill-opacity=\"1\" stroke=\"#000000\" stroke-opacity=\"1\" stroke-width=\"3.2\"/>\n",
       "<circle clip-path=\"url(#clip342)\" cx=\"979.005\" cy=\"1309.07\" r=\"14\" fill=\"#e26f46\" fill-rule=\"evenodd\" fill-opacity=\"1\" stroke=\"#000000\" stroke-opacity=\"1\" stroke-width=\"3.2\"/>\n",
       "<circle clip-path=\"url(#clip342)\" cx=\"1198.1\" cy=\"1234.2\" r=\"14\" fill=\"#e26f46\" fill-rule=\"evenodd\" fill-opacity=\"1\" stroke=\"#000000\" stroke-opacity=\"1\" stroke-width=\"3.2\"/>\n",
       "<circle clip-path=\"url(#clip342)\" cx=\"1417.2\" cy=\"1122.51\" r=\"14\" fill=\"#e26f46\" fill-rule=\"evenodd\" fill-opacity=\"1\" stroke=\"#000000\" stroke-opacity=\"1\" stroke-width=\"3.2\"/>\n",
       "<circle clip-path=\"url(#clip342)\" cx=\"1636.3\" cy=\"966.636\" r=\"14\" fill=\"#e26f46\" fill-rule=\"evenodd\" fill-opacity=\"1\" stroke=\"#000000\" stroke-opacity=\"1\" stroke-width=\"3.2\"/>\n",
       "<circle clip-path=\"url(#clip342)\" cx=\"1855.4\" cy=\"759.211\" r=\"14\" fill=\"#e26f46\" fill-rule=\"evenodd\" fill-opacity=\"1\" stroke=\"#000000\" stroke-opacity=\"1\" stroke-width=\"3.2\"/>\n",
       "<circle clip-path=\"url(#clip342)\" cx=\"2074.5\" cy=\"492.873\" r=\"14\" fill=\"#e26f46\" fill-rule=\"evenodd\" fill-opacity=\"1\" stroke=\"#000000\" stroke-opacity=\"1\" stroke-width=\"3.2\"/>\n",
       "<circle clip-path=\"url(#clip342)\" cx=\"2293.6\" cy=\"160.256\" r=\"14\" fill=\"#e26f46\" fill-rule=\"evenodd\" fill-opacity=\"1\" stroke=\"#000000\" stroke-opacity=\"1\" stroke-width=\"3.2\"/>\n",
       "<path clip-path=\"url(#clip340)\" d=\"\n",
       "M1998.41 322.316 L2283.08 322.316 L2283.08 166.796 L1998.41 166.796  Z\n",
       "  \" fill=\"#ffffff\" fill-rule=\"evenodd\" fill-opacity=\"1\"/>\n",
       "<polyline clip-path=\"url(#clip340)\" style=\"stroke:#000000; stroke-linecap:butt; stroke-linejoin:round; stroke-width:4; stroke-opacity:1; fill:none\" points=\"\n",
       "  1998.41,322.316 2283.08,322.316 2283.08,166.796 1998.41,166.796 1998.41,322.316 \n",
       "  \"/>\n",
       "<circle clip-path=\"url(#clip340)\" cx=\"2091.31\" cy=\"218.636\" r=\"23\" fill=\"#009af9\" fill-rule=\"evenodd\" fill-opacity=\"1\" stroke=\"#000000\" stroke-opacity=\"1\" stroke-width=\"5.12\"/>\n",
       "<path clip-path=\"url(#clip340)\" d=\"M2198.05 238.323 Q2196.24 242.953 2194.53 244.365 Q2192.81 245.777 2189.94 245.777 L2186.54 245.777 L2186.54 242.212 L2189.04 242.212 Q2190.8 242.212 2191.77 241.379 Q2192.74 240.545 2193.93 237.443 L2194.69 235.499 L2184.2 209.99 L2188.72 209.99 L2196.82 230.268 L2204.92 209.99 L2209.43 209.99 L2198.05 238.323 Z\" fill=\"#000000\" fill-rule=\"evenodd\" fill-opacity=\"1\" /><path clip-path=\"url(#clip340)\" d=\"M2216.73 231.981 L2224.36 231.981 L2224.36 205.615 L2216.05 207.282 L2216.05 203.022 L2224.32 201.356 L2228.99 201.356 L2228.99 231.981 L2236.63 231.981 L2236.63 235.916 L2216.73 235.916 L2216.73 231.981 Z\" fill=\"#000000\" fill-rule=\"evenodd\" fill-opacity=\"1\" /><circle clip-path=\"url(#clip340)\" cx=\"2091.31\" cy=\"270.476\" r=\"23\" fill=\"#e26f46\" fill-rule=\"evenodd\" fill-opacity=\"1\" stroke=\"#000000\" stroke-opacity=\"1\" stroke-width=\"5.12\"/>\n",
       "<path clip-path=\"url(#clip340)\" d=\"M2198.05 290.163 Q2196.24 294.793 2194.53 296.205 Q2192.81 297.617 2189.94 297.617 L2186.54 297.617 L2186.54 294.052 L2189.04 294.052 Q2190.8 294.052 2191.77 293.219 Q2192.74 292.385 2193.93 289.283 L2194.69 287.339 L2184.2 261.83 L2188.72 261.83 L2196.82 282.108 L2204.92 261.83 L2209.43 261.83 L2198.05 290.163 Z\" fill=\"#000000\" fill-rule=\"evenodd\" fill-opacity=\"1\" /><path clip-path=\"url(#clip340)\" d=\"M2219.94 283.821 L2236.26 283.821 L2236.26 287.756 L2214.32 287.756 L2214.32 283.821 Q2216.98 281.066 2221.56 276.436 Q2226.17 271.784 2227.35 270.441 Q2229.6 267.918 2230.48 266.182 Q2231.38 264.423 2231.38 262.733 Q2231.38 259.978 2229.43 258.242 Q2227.51 256.506 2224.41 256.506 Q2222.21 256.506 2219.76 257.27 Q2217.33 258.034 2214.55 259.585 L2214.55 254.862 Q2217.37 253.728 2219.83 253.149 Q2222.28 252.571 2224.32 252.571 Q2229.69 252.571 2232.88 255.256 Q2236.08 257.941 2236.08 262.432 Q2236.08 264.561 2235.27 266.483 Q2234.48 268.381 2232.37 270.973 Q2231.8 271.645 2228.69 274.862 Q2225.59 278.057 2219.94 283.821 Z\" fill=\"#000000\" fill-rule=\"evenodd\" fill-opacity=\"1\" /></svg>\n"
      ]
     },
     "execution_count": 95,
     "metadata": {},
     "output_type": "execute_result"
    }
   ],
   "source": [
    "# scatter plot with two data series:\n",
    "# the second set of data is added with the sc\n",
    "y1 = x.^2\n",
    "y2 = x.^3\n",
    "scatter(x, y1, \n",
    "    title = \"My Second Scatter Plot\",\n",
    "    xlabel = \"x axis\", \n",
    "    ylabel = \"y axis\",\n",
    "    label = \"y1\")\n",
    "scatter!(x,y2,label = \"y2\")"
   ]
  },
  {
   "cell_type": "code",
   "execution_count": 96,
   "metadata": {},
   "outputs": [
    {
     "data": {
      "image/svg+xml": [
       "<?xml version=\"1.0\" encoding=\"utf-8\"?>\n",
       "<svg xmlns=\"http://www.w3.org/2000/svg\" xmlns:xlink=\"http://www.w3.org/1999/xlink\" width=\"600\" height=\"400\" viewBox=\"0 0 2400 1600\">\n",
       "<defs>\n",
       "  <clipPath id=\"clip380\">\n",
       "    <rect x=\"0\" y=\"0\" width=\"2400\" height=\"1600\"/>\n",
       "  </clipPath>\n",
       "</defs>\n",
       "<path clip-path=\"url(#clip380)\" d=\"\n",
       "M0 1600 L2400 1600 L2400 0 L0 0  Z\n",
       "  \" fill=\"#ffffff\" fill-rule=\"evenodd\" fill-opacity=\"1\"/>\n",
       "<defs>\n",
       "  <clipPath id=\"clip381\">\n",
       "    <rect x=\"480\" y=\"0\" width=\"1681\" height=\"1600\"/>\n",
       "  </clipPath>\n",
       "</defs>\n",
       "<path clip-path=\"url(#clip380)\" d=\"\n",
       "M257.204 1423.18 L2112.76 1423.18 L2112.76 47.2441 L257.204 47.2441  Z\n",
       "  \" fill=\"#ffffff\" fill-rule=\"evenodd\" fill-opacity=\"1\"/>\n",
       "<defs>\n",
       "  <clipPath id=\"clip382\">\n",
       "    <rect x=\"257\" y=\"47\" width=\"1857\" height=\"1377\"/>\n",
       "  </clipPath>\n",
       "</defs>\n",
       "<polyline clip-path=\"url(#clip382)\" style=\"stroke:#000000; stroke-linecap:butt; stroke-linejoin:round; stroke-width:2; stroke-opacity:0.1; fill:none\" points=\"\n",
       "  309.72,1423.18 309.72,47.2441 \n",
       "  \"/>\n",
       "<polyline clip-path=\"url(#clip382)\" style=\"stroke:#000000; stroke-linecap:butt; stroke-linejoin:round; stroke-width:2; stroke-opacity:0.1; fill:none\" points=\"\n",
       "  795.975,1423.18 795.975,47.2441 \n",
       "  \"/>\n",
       "<polyline clip-path=\"url(#clip382)\" style=\"stroke:#000000; stroke-linecap:butt; stroke-linejoin:round; stroke-width:2; stroke-opacity:0.1; fill:none\" points=\"\n",
       "  1282.23,1423.18 1282.23,47.2441 \n",
       "  \"/>\n",
       "<polyline clip-path=\"url(#clip382)\" style=\"stroke:#000000; stroke-linecap:butt; stroke-linejoin:round; stroke-width:2; stroke-opacity:0.1; fill:none\" points=\"\n",
       "  1768.49,1423.18 1768.49,47.2441 \n",
       "  \"/>\n",
       "<polyline clip-path=\"url(#clip380)\" style=\"stroke:#000000; stroke-linecap:butt; stroke-linejoin:round; stroke-width:4; stroke-opacity:1; fill:none\" points=\"\n",
       "  257.204,1423.18 2112.76,1423.18 \n",
       "  \"/>\n",
       "<polyline clip-path=\"url(#clip380)\" style=\"stroke:#000000; stroke-linecap:butt; stroke-linejoin:round; stroke-width:4; stroke-opacity:1; fill:none\" points=\"\n",
       "  309.72,1423.18 309.72,1404.28 \n",
       "  \"/>\n",
       "<polyline clip-path=\"url(#clip380)\" style=\"stroke:#000000; stroke-linecap:butt; stroke-linejoin:round; stroke-width:4; stroke-opacity:1; fill:none\" points=\"\n",
       "  795.975,1423.18 795.975,1404.28 \n",
       "  \"/>\n",
       "<polyline clip-path=\"url(#clip380)\" style=\"stroke:#000000; stroke-linecap:butt; stroke-linejoin:round; stroke-width:4; stroke-opacity:1; fill:none\" points=\"\n",
       "  1282.23,1423.18 1282.23,1404.28 \n",
       "  \"/>\n",
       "<polyline clip-path=\"url(#clip380)\" style=\"stroke:#000000; stroke-linecap:butt; stroke-linejoin:round; stroke-width:4; stroke-opacity:1; fill:none\" points=\"\n",
       "  1768.49,1423.18 1768.49,1404.28 \n",
       "  \"/>\n",
       "<path clip-path=\"url(#clip380)\" d=\"M309.72 1452.37 Q306.109 1452.37 304.28 1455.94 Q302.474 1459.48 302.474 1466.61 Q302.474 1473.71 304.28 1477.28 Q306.109 1480.82 309.72 1480.82 Q313.354 1480.82 315.159 1477.28 Q316.988 1473.71 316.988 1466.61 Q316.988 1459.48 315.159 1455.94 Q313.354 1452.37 309.72 1452.37 M309.72 1448.67 Q315.53 1448.67 318.585 1453.27 Q321.664 1457.86 321.664 1466.61 Q321.664 1475.33 318.585 1479.94 Q315.53 1484.52 309.72 1484.52 Q303.909 1484.52 300.831 1479.94 Q297.775 1475.33 297.775 1466.61 Q297.775 1457.86 300.831 1453.27 Q303.909 1448.67 309.72 1448.67 Z\" fill=\"#000000\" fill-rule=\"evenodd\" fill-opacity=\"1\" /><path clip-path=\"url(#clip380)\" d=\"M759.668 1479.92 L775.987 1479.92 L775.987 1483.85 L754.043 1483.85 L754.043 1479.92 Q756.705 1477.16 761.288 1472.53 Q765.895 1467.88 767.075 1466.54 Q769.32 1464.01 770.2 1462.28 Q771.103 1460.52 771.103 1458.83 Q771.103 1456.07 769.158 1454.34 Q767.237 1452.6 764.135 1452.6 Q761.936 1452.6 759.483 1453.37 Q757.052 1454.13 754.274 1455.68 L754.274 1450.96 Q757.098 1449.82 759.552 1449.25 Q762.006 1448.67 764.043 1448.67 Q769.413 1448.67 772.607 1451.35 Q775.802 1454.04 775.802 1458.53 Q775.802 1460.66 774.992 1462.58 Q774.205 1464.48 772.098 1467.07 Q771.519 1467.74 768.418 1470.96 Q765.316 1474.15 759.668 1479.92 Z\" fill=\"#000000\" fill-rule=\"evenodd\" fill-opacity=\"1\" /><path clip-path=\"url(#clip380)\" d=\"M795.802 1452.37 Q792.191 1452.37 790.362 1455.94 Q788.556 1459.48 788.556 1466.61 Q788.556 1473.71 790.362 1477.28 Q792.191 1480.82 795.802 1480.82 Q799.436 1480.82 801.242 1477.28 Q803.07 1473.71 803.07 1466.61 Q803.07 1459.48 801.242 1455.94 Q799.436 1452.37 795.802 1452.37 M795.802 1448.67 Q801.612 1448.67 804.667 1453.27 Q807.746 1457.86 807.746 1466.61 Q807.746 1475.33 804.667 1479.94 Q801.612 1484.52 795.802 1484.52 Q789.992 1484.52 786.913 1479.94 Q783.857 1475.33 783.857 1466.61 Q783.857 1457.86 786.913 1453.27 Q789.992 1448.67 795.802 1448.67 Z\" fill=\"#000000\" fill-rule=\"evenodd\" fill-opacity=\"1\" /><path clip-path=\"url(#clip380)\" d=\"M825.964 1452.37 Q822.353 1452.37 820.524 1455.94 Q818.718 1459.48 818.718 1466.61 Q818.718 1473.71 820.524 1477.28 Q822.353 1480.82 825.964 1480.82 Q829.598 1480.82 831.403 1477.28 Q833.232 1473.71 833.232 1466.61 Q833.232 1459.48 831.403 1455.94 Q829.598 1452.37 825.964 1452.37 M825.964 1448.67 Q831.774 1448.67 834.829 1453.27 Q837.908 1457.86 837.908 1466.61 Q837.908 1475.33 834.829 1479.94 Q831.774 1484.52 825.964 1484.52 Q820.153 1484.52 817.075 1479.94 Q814.019 1475.33 814.019 1466.61 Q814.019 1457.86 817.075 1453.27 Q820.153 1448.67 825.964 1448.67 Z\" fill=\"#000000\" fill-rule=\"evenodd\" fill-opacity=\"1\" /><path clip-path=\"url(#clip380)\" d=\"M1255.32 1453.37 L1243.52 1471.81 L1255.32 1471.81 L1255.32 1453.37 M1254.09 1449.29 L1259.97 1449.29 L1259.97 1471.81 L1264.9 1471.81 L1264.9 1475.7 L1259.97 1475.7 L1259.97 1483.85 L1255.32 1483.85 L1255.32 1475.7 L1239.72 1475.7 L1239.72 1471.19 L1254.09 1449.29 Z\" fill=\"#000000\" fill-rule=\"evenodd\" fill-opacity=\"1\" /><path clip-path=\"url(#clip380)\" d=\"M1282.64 1452.37 Q1279.03 1452.37 1277.2 1455.94 Q1275.39 1459.48 1275.39 1466.61 Q1275.39 1473.71 1277.2 1477.28 Q1279.03 1480.82 1282.64 1480.82 Q1286.27 1480.82 1288.08 1477.28 Q1289.9 1473.71 1289.9 1466.61 Q1289.9 1459.48 1288.08 1455.94 Q1286.27 1452.37 1282.64 1452.37 M1282.64 1448.67 Q1288.45 1448.67 1291.5 1453.27 Q1294.58 1457.86 1294.58 1466.61 Q1294.58 1475.33 1291.5 1479.94 Q1288.45 1484.52 1282.64 1484.52 Q1276.83 1484.52 1273.75 1479.94 Q1270.69 1475.33 1270.69 1466.61 Q1270.69 1457.86 1273.75 1453.27 Q1276.83 1448.67 1282.64 1448.67 Z\" fill=\"#000000\" fill-rule=\"evenodd\" fill-opacity=\"1\" /><path clip-path=\"url(#clip380)\" d=\"M1312.8 1452.37 Q1309.19 1452.37 1307.36 1455.94 Q1305.55 1459.48 1305.55 1466.61 Q1305.55 1473.71 1307.36 1477.28 Q1309.19 1480.82 1312.8 1480.82 Q1316.43 1480.82 1318.24 1477.28 Q1320.07 1473.71 1320.07 1466.61 Q1320.07 1459.48 1318.24 1455.94 Q1316.43 1452.37 1312.8 1452.37 M1312.8 1448.67 Q1318.61 1448.67 1321.66 1453.27 Q1324.74 1457.86 1324.74 1466.61 Q1324.74 1475.33 1321.66 1479.94 Q1318.61 1484.52 1312.8 1484.52 Q1306.99 1484.52 1303.91 1479.94 Q1300.85 1475.33 1300.85 1466.61 Q1300.85 1457.86 1303.91 1453.27 Q1306.99 1448.67 1312.8 1448.67 Z\" fill=\"#000000\" fill-rule=\"evenodd\" fill-opacity=\"1\" /><path clip-path=\"url(#clip380)\" d=\"M1738.81 1464.71 Q1735.66 1464.71 1733.81 1466.86 Q1731.98 1469.01 1731.98 1472.76 Q1731.98 1476.49 1733.81 1478.67 Q1735.66 1480.82 1738.81 1480.82 Q1741.96 1480.82 1743.79 1478.67 Q1745.64 1476.49 1745.64 1472.76 Q1745.64 1469.01 1743.79 1466.86 Q1741.96 1464.71 1738.81 1464.71 M1748.09 1450.06 L1748.09 1454.31 Q1746.33 1453.48 1744.53 1453.04 Q1742.75 1452.6 1740.99 1452.6 Q1736.36 1452.6 1733.9 1455.73 Q1731.47 1458.85 1731.13 1465.17 Q1732.49 1463.16 1734.55 1462.09 Q1736.61 1461 1739.09 1461 Q1744.3 1461 1747.31 1464.18 Q1750.34 1467.32 1750.34 1472.76 Q1750.34 1478.09 1747.19 1481.31 Q1744.04 1484.52 1738.81 1484.52 Q1732.82 1484.52 1729.64 1479.94 Q1726.47 1475.33 1726.47 1466.61 Q1726.47 1458.41 1730.36 1453.55 Q1734.25 1448.67 1740.8 1448.67 Q1742.56 1448.67 1744.34 1449.01 Q1746.15 1449.36 1748.09 1450.06 Z\" fill=\"#000000\" fill-rule=\"evenodd\" fill-opacity=\"1\" /><path clip-path=\"url(#clip380)\" d=\"M1768.39 1452.37 Q1764.78 1452.37 1762.95 1455.94 Q1761.15 1459.48 1761.15 1466.61 Q1761.15 1473.71 1762.95 1477.28 Q1764.78 1480.82 1768.39 1480.82 Q1772.03 1480.82 1773.83 1477.28 Q1775.66 1473.71 1775.66 1466.61 Q1775.66 1459.48 1773.83 1455.94 Q1772.03 1452.37 1768.39 1452.37 M1768.39 1448.67 Q1774.2 1448.67 1777.26 1453.27 Q1780.34 1457.86 1780.34 1466.61 Q1780.34 1475.33 1777.26 1479.94 Q1774.2 1484.52 1768.39 1484.52 Q1762.58 1484.52 1759.51 1479.94 Q1756.45 1475.33 1756.45 1466.61 Q1756.45 1457.86 1759.51 1453.27 Q1762.58 1448.67 1768.39 1448.67 Z\" fill=\"#000000\" fill-rule=\"evenodd\" fill-opacity=\"1\" /><path clip-path=\"url(#clip380)\" d=\"M1798.56 1452.37 Q1794.95 1452.37 1793.12 1455.94 Q1791.31 1459.48 1791.31 1466.61 Q1791.31 1473.71 1793.12 1477.28 Q1794.95 1480.82 1798.56 1480.82 Q1802.19 1480.82 1804 1477.28 Q1805.82 1473.71 1805.82 1466.61 Q1805.82 1459.48 1804 1455.94 Q1802.19 1452.37 1798.56 1452.37 M1798.56 1448.67 Q1804.37 1448.67 1807.42 1453.27 Q1810.5 1457.86 1810.5 1466.61 Q1810.5 1475.33 1807.42 1479.94 Q1804.37 1484.52 1798.56 1484.52 Q1792.75 1484.52 1789.67 1479.94 Q1786.61 1475.33 1786.61 1466.61 Q1786.61 1457.86 1789.67 1453.27 Q1792.75 1448.67 1798.56 1448.67 Z\" fill=\"#000000\" fill-rule=\"evenodd\" fill-opacity=\"1\" /><path clip-path=\"url(#clip380)\" d=\"M1036.34 1532.4 L1023.45 1549.74 L1037.01 1568.04 L1030.1 1568.04 L1019.73 1554.04 L1009.35 1568.04 L1002.44 1568.04 L1016.29 1549.39 L1003.62 1532.4 L1010.53 1532.4 L1019.98 1545.1 L1029.43 1532.4 L1036.34 1532.4 Z\" fill=\"#000000\" fill-rule=\"evenodd\" fill-opacity=\"1\" /><path clip-path=\"url(#clip380)\" d=\"M1080.07 1518.58 Q1075.81 1525.9 1073.74 1533.06 Q1071.67 1540.23 1071.67 1547.58 Q1071.67 1554.93 1073.74 1562.16 Q1075.84 1569.35 1080.07 1576.64 L1074.98 1576.64 Q1070.21 1569.16 1067.82 1561.93 Q1065.46 1554.71 1065.46 1547.58 Q1065.46 1540.48 1067.82 1533.29 Q1070.17 1526.09 1074.98 1518.58 L1080.07 1518.58 Z\" fill=\"#000000\" fill-rule=\"evenodd\" fill-opacity=\"1\" /><path clip-path=\"url(#clip380)\" d=\"M1114.89 1537.81 L1114.89 1518.52 L1120.75 1518.52 L1120.75 1568.04 L1114.89 1568.04 L1114.89 1562.7 Q1113.05 1565.88 1110.21 1567.44 Q1107.41 1568.97 1103.47 1568.97 Q1097.01 1568.97 1092.93 1563.81 Q1088.89 1558.65 1088.89 1550.25 Q1088.89 1541.85 1092.93 1536.69 Q1097.01 1531.54 1103.47 1531.54 Q1107.41 1531.54 1110.21 1533.1 Q1113.05 1534.62 1114.89 1537.81 M1094.94 1550.25 Q1094.94 1556.71 1097.58 1560.4 Q1100.25 1564.07 1104.9 1564.07 Q1109.55 1564.07 1112.22 1560.4 Q1114.89 1556.71 1114.89 1550.25 Q1114.89 1543.79 1112.22 1540.13 Q1109.55 1536.44 1104.9 1536.44 Q1100.25 1536.44 1097.58 1540.13 Q1094.94 1543.79 1094.94 1550.25 Z\" fill=\"#000000\" fill-rule=\"evenodd\" fill-opacity=\"1\" /><path clip-path=\"url(#clip380)\" d=\"M1163.3 1548.76 L1163.3 1551.62 L1136.38 1551.62 Q1136.76 1557.67 1140.01 1560.85 Q1143.28 1564 1149.11 1564 Q1152.48 1564 1155.63 1563.17 Q1158.82 1562.35 1161.94 1560.69 L1161.94 1566.23 Q1158.79 1567.57 1155.47 1568.27 Q1152.16 1568.97 1148.76 1568.97 Q1140.23 1568.97 1135.23 1564 Q1130.27 1559.04 1130.27 1550.57 Q1130.27 1541.82 1134.98 1536.69 Q1139.72 1531.54 1147.74 1531.54 Q1154.93 1531.54 1159.1 1536.18 Q1163.3 1540.8 1163.3 1548.76 M1157.45 1547.04 Q1157.38 1542.23 1154.74 1539.37 Q1152.13 1536.5 1147.8 1536.5 Q1142.9 1536.5 1139.94 1539.27 Q1137.01 1542.04 1136.57 1547.07 L1157.45 1547.04 Z\" fill=\"#000000\" fill-rule=\"evenodd\" fill-opacity=\"1\" /><path clip-path=\"url(#clip380)\" d=\"M1196.37 1549.81 Q1196.37 1543.44 1193.73 1539.94 Q1191.12 1536.44 1186.38 1536.44 Q1181.67 1536.44 1179.03 1539.94 Q1176.42 1543.44 1176.42 1549.81 Q1176.42 1556.14 1179.03 1559.64 Q1181.67 1563.14 1186.38 1563.14 Q1191.12 1563.14 1193.73 1559.64 Q1196.37 1556.14 1196.37 1549.81 M1202.23 1563.62 Q1202.23 1572.72 1198.19 1577.15 Q1194.15 1581.6 1185.81 1581.6 Q1182.72 1581.6 1179.98 1581.13 Q1177.25 1580.68 1174.67 1579.72 L1174.67 1574.03 Q1177.25 1575.43 1179.76 1576.1 Q1182.27 1576.76 1184.88 1576.76 Q1190.65 1576.76 1193.51 1573.74 Q1196.37 1570.75 1196.37 1564.67 L1196.37 1561.77 Q1194.56 1564.92 1191.73 1566.48 Q1188.89 1568.04 1184.95 1568.04 Q1178.39 1568.04 1174.38 1563.05 Q1170.37 1558.05 1170.37 1549.81 Q1170.37 1541.53 1174.38 1536.53 Q1178.39 1531.54 1184.95 1531.54 Q1188.89 1531.54 1191.73 1533.1 Q1194.56 1534.66 1196.37 1537.81 L1196.37 1532.4 L1202.23 1532.4 L1202.23 1563.62 Z\" fill=\"#000000\" fill-rule=\"evenodd\" fill-opacity=\"1\" /><path clip-path=\"url(#clip380)\" d=\"M1234.95 1537.87 Q1233.96 1537.3 1232.79 1537.04 Q1231.64 1536.76 1230.24 1536.76 Q1225.27 1536.76 1222.6 1540 Q1219.96 1543.22 1219.96 1549.27 L1219.96 1568.04 L1214.07 1568.04 L1214.07 1532.4 L1219.96 1532.4 L1219.96 1537.93 Q1221.81 1534.69 1224.77 1533.13 Q1227.73 1531.54 1231.96 1531.54 Q1232.56 1531.54 1233.3 1531.63 Q1234.03 1531.7 1234.92 1531.85 L1234.95 1537.87 Z\" fill=\"#000000\" fill-rule=\"evenodd\" fill-opacity=\"1\" /><path clip-path=\"url(#clip380)\" d=\"M1270.15 1548.76 L1270.15 1551.62 L1243.23 1551.62 Q1243.61 1557.67 1246.85 1560.85 Q1250.13 1564 1255.96 1564 Q1259.33 1564 1262.48 1563.17 Q1265.67 1562.35 1268.78 1560.69 L1268.78 1566.23 Q1265.63 1567.57 1262.32 1568.27 Q1259.01 1568.97 1255.61 1568.97 Q1247.08 1568.97 1242.08 1564 Q1237.12 1559.04 1237.12 1550.57 Q1237.12 1541.82 1241.83 1536.69 Q1246.57 1531.54 1254.59 1531.54 Q1261.78 1531.54 1265.95 1536.18 Q1270.15 1540.8 1270.15 1548.76 M1264.3 1547.04 Q1264.23 1542.23 1261.59 1539.37 Q1258.98 1536.5 1254.65 1536.5 Q1249.75 1536.5 1246.79 1539.27 Q1243.86 1542.04 1243.42 1547.07 L1264.3 1547.04 Z\" fill=\"#000000\" fill-rule=\"evenodd\" fill-opacity=\"1\" /><path clip-path=\"url(#clip380)\" d=\"M1310.26 1548.76 L1310.26 1551.62 L1283.33 1551.62 Q1283.71 1557.67 1286.96 1560.85 Q1290.24 1564 1296.06 1564 Q1299.44 1564 1302.59 1563.17 Q1305.77 1562.35 1308.89 1560.69 L1308.89 1566.23 Q1305.74 1567.57 1302.43 1568.27 Q1299.12 1568.97 1295.71 1568.97 Q1287.18 1568.97 1282.18 1564 Q1277.22 1559.04 1277.22 1550.57 Q1277.22 1541.82 1281.93 1536.69 Q1286.67 1531.54 1294.69 1531.54 Q1301.89 1531.54 1306.06 1536.18 Q1310.26 1540.8 1310.26 1548.76 M1304.4 1547.04 Q1304.34 1542.23 1301.7 1539.37 Q1299.09 1536.5 1294.76 1536.5 Q1289.85 1536.5 1286.89 1539.27 Q1283.97 1542.04 1283.52 1547.07 L1304.4 1547.04 Z\" fill=\"#000000\" fill-rule=\"evenodd\" fill-opacity=\"1\" /><path clip-path=\"url(#clip380)\" d=\"M1342.59 1533.45 L1342.59 1538.98 Q1340.11 1537.71 1337.44 1537.07 Q1334.77 1536.44 1331.9 1536.44 Q1327.54 1536.44 1325.34 1537.77 Q1323.18 1539.11 1323.18 1541.79 Q1323.18 1543.82 1324.74 1545 Q1326.3 1546.15 1331.01 1547.2 L1333.01 1547.64 Q1339.25 1548.98 1341.86 1551.43 Q1344.5 1553.85 1344.5 1558.21 Q1344.5 1563.17 1340.56 1566.07 Q1336.64 1568.97 1329.77 1568.97 Q1326.9 1568.97 1323.78 1568.39 Q1320.7 1567.85 1317.26 1566.74 L1317.26 1560.69 Q1320.51 1562.38 1323.66 1563.24 Q1326.81 1564.07 1329.9 1564.07 Q1334.03 1564.07 1336.26 1562.66 Q1338.49 1561.23 1338.49 1558.65 Q1338.49 1556.27 1336.87 1554.99 Q1335.27 1553.72 1329.83 1552.54 L1327.79 1552.07 Q1322.35 1550.92 1319.93 1548.56 Q1317.51 1546.18 1317.51 1542.04 Q1317.51 1537.01 1321.08 1534.27 Q1324.64 1531.54 1331.2 1531.54 Q1334.45 1531.54 1337.31 1532.01 Q1340.18 1532.49 1342.59 1533.45 Z\" fill=\"#000000\" fill-rule=\"evenodd\" fill-opacity=\"1\" /><path clip-path=\"url(#clip380)\" d=\"M1352.91 1518.58 L1358 1518.58 Q1362.77 1526.09 1365.13 1533.29 Q1367.52 1540.48 1367.52 1547.58 Q1367.52 1554.71 1365.13 1561.93 Q1362.77 1569.16 1358 1576.64 L1352.91 1576.64 Q1357.14 1569.35 1359.21 1562.16 Q1361.31 1554.93 1361.31 1547.58 Q1361.31 1540.23 1359.21 1533.06 Q1357.14 1525.9 1352.91 1518.58 Z\" fill=\"#000000\" fill-rule=\"evenodd\" fill-opacity=\"1\" /><polyline clip-path=\"url(#clip382)\" style=\"stroke:#000000; stroke-linecap:butt; stroke-linejoin:round; stroke-width:2; stroke-opacity:0.1; fill:none\" points=\"\n",
       "  257.204,1394.25 2112.76,1394.25 \n",
       "  \"/>\n",
       "<polyline clip-path=\"url(#clip382)\" style=\"stroke:#000000; stroke-linecap:butt; stroke-linejoin:round; stroke-width:2; stroke-opacity:0.1; fill:none\" points=\"\n",
       "  257.204,1064.73 2112.76,1064.73 \n",
       "  \"/>\n",
       "<polyline clip-path=\"url(#clip382)\" style=\"stroke:#000000; stroke-linecap:butt; stroke-linejoin:round; stroke-width:2; stroke-opacity:0.1; fill:none\" points=\"\n",
       "  257.204,735.212 2112.76,735.212 \n",
       "  \"/>\n",
       "<polyline clip-path=\"url(#clip382)\" style=\"stroke:#000000; stroke-linecap:butt; stroke-linejoin:round; stroke-width:2; stroke-opacity:0.1; fill:none\" points=\"\n",
       "  257.204,405.693 2112.76,405.693 \n",
       "  \"/>\n",
       "<polyline clip-path=\"url(#clip382)\" style=\"stroke:#000000; stroke-linecap:butt; stroke-linejoin:round; stroke-width:2; stroke-opacity:0.1; fill:none\" points=\"\n",
       "  257.204,76.1734 2112.76,76.1734 \n",
       "  \"/>\n",
       "<polyline clip-path=\"url(#clip380)\" style=\"stroke:#000000; stroke-linecap:butt; stroke-linejoin:round; stroke-width:4; stroke-opacity:1; fill:none\" points=\"\n",
       "  257.204,1423.18 257.204,47.2441 \n",
       "  \"/>\n",
       "<polyline clip-path=\"url(#clip380)\" style=\"stroke:#000000; stroke-linecap:butt; stroke-linejoin:round; stroke-width:4; stroke-opacity:1; fill:none\" points=\"\n",
       "  257.204,1394.25 273.937,1394.25 \n",
       "  \"/>\n",
       "<polyline clip-path=\"url(#clip380)\" style=\"stroke:#000000; stroke-linecap:butt; stroke-linejoin:round; stroke-width:4; stroke-opacity:1; fill:none\" points=\"\n",
       "  257.204,1064.73 273.937,1064.73 \n",
       "  \"/>\n",
       "<polyline clip-path=\"url(#clip380)\" style=\"stroke:#000000; stroke-linecap:butt; stroke-linejoin:round; stroke-width:4; stroke-opacity:1; fill:none\" points=\"\n",
       "  257.204,735.212 273.937,735.212 \n",
       "  \"/>\n",
       "<polyline clip-path=\"url(#clip380)\" style=\"stroke:#000000; stroke-linecap:butt; stroke-linejoin:round; stroke-width:4; stroke-opacity:1; fill:none\" points=\"\n",
       "  257.204,405.693 273.937,405.693 \n",
       "  \"/>\n",
       "<polyline clip-path=\"url(#clip380)\" style=\"stroke:#000000; stroke-linecap:butt; stroke-linejoin:round; stroke-width:4; stroke-opacity:1; fill:none\" points=\"\n",
       "  257.204,76.1734 273.937,76.1734 \n",
       "  \"/>\n",
       "<path clip-path=\"url(#clip380)\" d=\"M114.26 1394.7 L143.936 1394.7 L143.936 1398.64 L114.26 1398.64 L114.26 1394.7 Z\" fill=\"#000000\" fill-rule=\"evenodd\" fill-opacity=\"1\" /><path clip-path=\"url(#clip380)\" d=\"M154.839 1407.6 L162.477 1407.6 L162.477 1381.23 L154.167 1382.9 L154.167 1378.64 L162.431 1376.97 L167.107 1376.97 L167.107 1407.6 L174.746 1407.6 L174.746 1411.53 L154.839 1411.53 L154.839 1407.6 Z\" fill=\"#000000\" fill-rule=\"evenodd\" fill-opacity=\"1\" /><path clip-path=\"url(#clip380)\" d=\"M184.19 1405.65 L189.075 1405.65 L189.075 1411.53 L184.19 1411.53 L184.19 1405.65 Z\" fill=\"#000000\" fill-rule=\"evenodd\" fill-opacity=\"1\" /><path clip-path=\"url(#clip380)\" d=\"M209.26 1380.05 Q205.649 1380.05 203.82 1383.61 Q202.014 1387.16 202.014 1394.29 Q202.014 1401.39 203.82 1404.96 Q205.649 1408.5 209.26 1408.5 Q212.894 1408.5 214.699 1404.96 Q216.528 1401.39 216.528 1394.29 Q216.528 1387.16 214.699 1383.61 Q212.894 1380.05 209.26 1380.05 M209.26 1376.35 Q215.07 1376.35 218.125 1380.95 Q221.204 1385.54 221.204 1394.29 Q221.204 1403.01 218.125 1407.62 Q215.07 1412.2 209.26 1412.2 Q203.449 1412.2 200.371 1407.62 Q197.315 1403.01 197.315 1394.29 Q197.315 1385.54 200.371 1380.95 Q203.449 1376.35 209.26 1376.35 Z\" fill=\"#000000\" fill-rule=\"evenodd\" fill-opacity=\"1\" /><path clip-path=\"url(#clip380)\" d=\"M115.256 1065.18 L144.931 1065.18 L144.931 1069.12 L115.256 1069.12 L115.256 1065.18 Z\" fill=\"#000000\" fill-rule=\"evenodd\" fill-opacity=\"1\" /><path clip-path=\"url(#clip380)\" d=\"M165.024 1050.53 Q161.413 1050.53 159.584 1054.09 Q157.778 1057.64 157.778 1064.77 Q157.778 1071.87 159.584 1075.44 Q161.413 1078.98 165.024 1078.98 Q168.658 1078.98 170.464 1075.44 Q172.292 1071.87 172.292 1064.77 Q172.292 1057.64 170.464 1054.09 Q168.658 1050.53 165.024 1050.53 M165.024 1046.83 Q170.834 1046.83 173.889 1051.43 Q176.968 1056.02 176.968 1064.77 Q176.968 1073.49 173.889 1078.1 Q170.834 1082.68 165.024 1082.68 Q159.214 1082.68 156.135 1078.1 Q153.079 1073.49 153.079 1064.77 Q153.079 1056.02 156.135 1051.43 Q159.214 1046.83 165.024 1046.83 Z\" fill=\"#000000\" fill-rule=\"evenodd\" fill-opacity=\"1\" /><path clip-path=\"url(#clip380)\" d=\"M185.186 1076.13 L190.07 1076.13 L190.07 1082.01 L185.186 1082.01 L185.186 1076.13 Z\" fill=\"#000000\" fill-rule=\"evenodd\" fill-opacity=\"1\" /><path clip-path=\"url(#clip380)\" d=\"M200.301 1047.45 L218.658 1047.45 L218.658 1051.39 L204.584 1051.39 L204.584 1059.86 Q205.602 1059.51 206.621 1059.35 Q207.639 1059.16 208.658 1059.16 Q214.445 1059.16 217.824 1062.34 Q221.204 1065.51 221.204 1070.92 Q221.204 1076.5 217.732 1079.6 Q214.26 1082.68 207.94 1082.68 Q205.764 1082.68 203.496 1082.31 Q201.25 1081.94 198.843 1081.2 L198.843 1076.5 Q200.926 1077.64 203.149 1078.19 Q205.371 1078.75 207.848 1078.75 Q211.852 1078.75 214.19 1076.64 Q216.528 1074.53 216.528 1070.92 Q216.528 1067.31 214.19 1065.21 Q211.852 1063.1 207.848 1063.1 Q205.973 1063.1 204.098 1063.52 Q202.246 1063.93 200.301 1064.81 L200.301 1047.45 Z\" fill=\"#000000\" fill-rule=\"evenodd\" fill-opacity=\"1\" /><path clip-path=\"url(#clip380)\" d=\"M164.028 721.011 Q160.417 721.011 158.589 724.575 Q156.783 728.117 156.783 735.247 Q156.783 742.353 158.589 745.918 Q160.417 749.46 164.028 749.46 Q167.663 749.46 169.468 745.918 Q171.297 742.353 171.297 735.247 Q171.297 728.117 169.468 724.575 Q167.663 721.011 164.028 721.011 M164.028 717.307 Q169.839 717.307 172.894 721.913 Q175.973 726.497 175.973 735.247 Q175.973 743.973 172.894 748.58 Q169.839 753.163 164.028 753.163 Q158.218 753.163 155.14 748.58 Q152.084 743.973 152.084 735.247 Q152.084 726.497 155.14 721.913 Q158.218 717.307 164.028 717.307 Z\" fill=\"#000000\" fill-rule=\"evenodd\" fill-opacity=\"1\" /><path clip-path=\"url(#clip380)\" d=\"M184.19 746.612 L189.075 746.612 L189.075 752.492 L184.19 752.492 L184.19 746.612 Z\" fill=\"#000000\" fill-rule=\"evenodd\" fill-opacity=\"1\" /><path clip-path=\"url(#clip380)\" d=\"M209.26 721.011 Q205.649 721.011 203.82 724.575 Q202.014 728.117 202.014 735.247 Q202.014 742.353 203.82 745.918 Q205.649 749.46 209.26 749.46 Q212.894 749.46 214.699 745.918 Q216.528 742.353 216.528 735.247 Q216.528 728.117 214.699 724.575 Q212.894 721.011 209.26 721.011 M209.26 717.307 Q215.07 717.307 218.125 721.913 Q221.204 726.497 221.204 735.247 Q221.204 743.973 218.125 748.58 Q215.07 753.163 209.26 753.163 Q203.449 753.163 200.371 748.58 Q197.315 743.973 197.315 735.247 Q197.315 726.497 200.371 721.913 Q203.449 717.307 209.26 717.307 Z\" fill=\"#000000\" fill-rule=\"evenodd\" fill-opacity=\"1\" /><path clip-path=\"url(#clip380)\" d=\"M165.024 391.491 Q161.413 391.491 159.584 395.056 Q157.778 398.598 157.778 405.727 Q157.778 412.834 159.584 416.399 Q161.413 419.94 165.024 419.94 Q168.658 419.94 170.464 416.399 Q172.292 412.834 172.292 405.727 Q172.292 398.598 170.464 395.056 Q168.658 391.491 165.024 391.491 M165.024 387.788 Q170.834 387.788 173.889 392.394 Q176.968 396.977 176.968 405.727 Q176.968 414.454 173.889 419.061 Q170.834 423.644 165.024 423.644 Q159.214 423.644 156.135 419.061 Q153.079 414.454 153.079 405.727 Q153.079 396.977 156.135 392.394 Q159.214 387.788 165.024 387.788 Z\" fill=\"#000000\" fill-rule=\"evenodd\" fill-opacity=\"1\" /><path clip-path=\"url(#clip380)\" d=\"M185.186 417.093 L190.07 417.093 L190.07 422.973 L185.186 422.973 L185.186 417.093 Z\" fill=\"#000000\" fill-rule=\"evenodd\" fill-opacity=\"1\" /><path clip-path=\"url(#clip380)\" d=\"M200.301 388.413 L218.658 388.413 L218.658 392.348 L204.584 392.348 L204.584 400.82 Q205.602 400.473 206.621 400.311 Q207.639 400.126 208.658 400.126 Q214.445 400.126 217.824 403.297 Q221.204 406.468 221.204 411.885 Q221.204 417.463 217.732 420.565 Q214.26 423.644 207.94 423.644 Q205.764 423.644 203.496 423.274 Q201.25 422.903 198.843 422.163 L198.843 417.463 Q200.926 418.598 203.149 419.153 Q205.371 419.709 207.848 419.709 Q211.852 419.709 214.19 417.602 Q216.528 415.496 216.528 411.885 Q216.528 408.274 214.19 406.167 Q211.852 404.061 207.848 404.061 Q205.973 404.061 204.098 404.477 Q202.246 404.894 200.301 405.774 L200.301 388.413 Z\" fill=\"#000000\" fill-rule=\"evenodd\" fill-opacity=\"1\" /><path clip-path=\"url(#clip380)\" d=\"M154.839 89.5182 L162.477 89.5182 L162.477 63.1526 L154.167 64.8193 L154.167 60.5601 L162.431 58.8934 L167.107 58.8934 L167.107 89.5182 L174.746 89.5182 L174.746 93.4534 L154.839 93.4534 L154.839 89.5182 Z\" fill=\"#000000\" fill-rule=\"evenodd\" fill-opacity=\"1\" /><path clip-path=\"url(#clip380)\" d=\"M184.19 87.5738 L189.075 87.5738 L189.075 93.4534 L184.19 93.4534 L184.19 87.5738 Z\" fill=\"#000000\" fill-rule=\"evenodd\" fill-opacity=\"1\" /><path clip-path=\"url(#clip380)\" d=\"M209.26 61.9721 Q205.649 61.9721 203.82 65.5369 Q202.014 69.0785 202.014 76.2081 Q202.014 83.3146 203.82 86.8794 Q205.649 90.421 209.26 90.421 Q212.894 90.421 214.699 86.8794 Q216.528 83.3146 216.528 76.2081 Q216.528 69.0785 214.699 65.5369 Q212.894 61.9721 209.26 61.9721 M209.26 58.2684 Q215.07 58.2684 218.125 62.8749 Q221.204 67.4582 221.204 76.2081 Q221.204 84.9349 218.125 89.5414 Q215.07 94.1247 209.26 94.1247 Q203.449 94.1247 200.371 89.5414 Q197.315 84.9349 197.315 76.2081 Q197.315 67.4582 200.371 62.8749 Q203.449 58.2684 209.26 58.2684 Z\" fill=\"#000000\" fill-rule=\"evenodd\" fill-opacity=\"1\" /><path clip-path=\"url(#clip380)\" d=\"M67.3143 744.856 Q73.68 747.339 75.6216 749.694 Q77.5631 752.049 77.5631 755.996 L77.5631 760.675 L72.6615 760.675 L72.6615 757.237 Q72.6615 754.818 71.5157 753.482 Q70.3699 752.145 66.1048 750.521 L63.4312 749.471 L28.3562 763.889 L28.3562 757.683 L56.238 746.543 L28.3562 735.403 L28.3562 729.196 L67.3143 744.856 Z\" fill=\"#000000\" fill-rule=\"evenodd\" fill-opacity=\"1\" /><circle clip-path=\"url(#clip382)\" cx=\"309.72\" cy=\"735.212\" r=\"14\" fill=\"#000003\" fill-rule=\"evenodd\" fill-opacity=\"1\" stroke=\"#000000\" stroke-opacity=\"1\" stroke-width=\"3.2\"/>\n",
       "<circle clip-path=\"url(#clip382)\" cx=\"358.345\" cy=\"509.808\" r=\"14\" fill=\"#7e1e6c\" fill-rule=\"evenodd\" fill-opacity=\"1\" stroke=\"#000000\" stroke-opacity=\"1\" stroke-width=\"3.2\"/>\n",
       "<circle clip-path=\"url(#clip382)\" cx=\"406.971\" cy=\"311.59\" r=\"14\" fill=\"#ea6329\" fill-rule=\"evenodd\" fill-opacity=\"1\" stroke=\"#000000\" stroke-opacity=\"1\" stroke-width=\"3.2\"/>\n",
       "<circle clip-path=\"url(#clip382)\" cx=\"455.596\" cy=\"164.468\" r=\"14\" fill=\"#f8cb35\" fill-rule=\"evenodd\" fill-opacity=\"1\" stroke=\"#000000\" stroke-opacity=\"1\" stroke-width=\"3.2\"/>\n",
       "<circle clip-path=\"url(#clip382)\" cx=\"504.222\" cy=\"86.1857\" r=\"14\" fill=\"#fcfea4\" fill-rule=\"evenodd\" fill-opacity=\"1\" stroke=\"#000000\" stroke-opacity=\"1\" stroke-width=\"3.2\"/>\n",
       "<circle clip-path=\"url(#clip382)\" cx=\"552.848\" cy=\"86.1857\" r=\"14\" fill=\"#fcfea4\" fill-rule=\"evenodd\" fill-opacity=\"1\" stroke=\"#000000\" stroke-opacity=\"1\" stroke-width=\"3.2\"/>\n",
       "<circle clip-path=\"url(#clip382)\" cx=\"601.473\" cy=\"164.468\" r=\"14\" fill=\"#f8cb35\" fill-rule=\"evenodd\" fill-opacity=\"1\" stroke=\"#000000\" stroke-opacity=\"1\" stroke-width=\"3.2\"/>\n",
       "<circle clip-path=\"url(#clip382)\" cx=\"650.099\" cy=\"311.59\" r=\"14\" fill=\"#ea6329\" fill-rule=\"evenodd\" fill-opacity=\"1\" stroke=\"#000000\" stroke-opacity=\"1\" stroke-width=\"3.2\"/>\n",
       "<circle clip-path=\"url(#clip382)\" cx=\"698.724\" cy=\"509.808\" r=\"14\" fill=\"#7e1e6c\" fill-rule=\"evenodd\" fill-opacity=\"1\" stroke=\"#000000\" stroke-opacity=\"1\" stroke-width=\"3.2\"/>\n",
       "<circle clip-path=\"url(#clip382)\" cx=\"747.35\" cy=\"735.212\" r=\"14\" fill=\"#000003\" fill-rule=\"evenodd\" fill-opacity=\"1\" stroke=\"#000000\" stroke-opacity=\"1\" stroke-width=\"3.2\"/>\n",
       "<circle clip-path=\"url(#clip382)\" cx=\"795.975\" cy=\"960.616\" r=\"14\" fill=\"#7e1e6c\" fill-rule=\"evenodd\" fill-opacity=\"1\" stroke=\"#000000\" stroke-opacity=\"1\" stroke-width=\"3.2\"/>\n",
       "<circle clip-path=\"url(#clip382)\" cx=\"844.601\" cy=\"1158.83\" r=\"14\" fill=\"#ea6329\" fill-rule=\"evenodd\" fill-opacity=\"1\" stroke=\"#000000\" stroke-opacity=\"1\" stroke-width=\"3.2\"/>\n",
       "<circle clip-path=\"url(#clip382)\" cx=\"893.227\" cy=\"1305.96\" r=\"14\" fill=\"#f8cb35\" fill-rule=\"evenodd\" fill-opacity=\"1\" stroke=\"#000000\" stroke-opacity=\"1\" stroke-width=\"3.2\"/>\n",
       "<circle clip-path=\"url(#clip382)\" cx=\"941.852\" cy=\"1384.24\" r=\"14\" fill=\"#fcfea4\" fill-rule=\"evenodd\" fill-opacity=\"1\" stroke=\"#000000\" stroke-opacity=\"1\" stroke-width=\"3.2\"/>\n",
       "<circle clip-path=\"url(#clip382)\" cx=\"990.478\" cy=\"1384.24\" r=\"14\" fill=\"#fcfea4\" fill-rule=\"evenodd\" fill-opacity=\"1\" stroke=\"#000000\" stroke-opacity=\"1\" stroke-width=\"3.2\"/>\n",
       "<circle clip-path=\"url(#clip382)\" cx=\"1039.1\" cy=\"1305.96\" r=\"14\" fill=\"#f8cb35\" fill-rule=\"evenodd\" fill-opacity=\"1\" stroke=\"#000000\" stroke-opacity=\"1\" stroke-width=\"3.2\"/>\n",
       "<circle clip-path=\"url(#clip382)\" cx=\"1087.73\" cy=\"1158.83\" r=\"14\" fill=\"#ea6329\" fill-rule=\"evenodd\" fill-opacity=\"1\" stroke=\"#000000\" stroke-opacity=\"1\" stroke-width=\"3.2\"/>\n",
       "<circle clip-path=\"url(#clip382)\" cx=\"1136.35\" cy=\"960.616\" r=\"14\" fill=\"#7e1e6c\" fill-rule=\"evenodd\" fill-opacity=\"1\" stroke=\"#000000\" stroke-opacity=\"1\" stroke-width=\"3.2\"/>\n",
       "<circle clip-path=\"url(#clip382)\" cx=\"1184.98\" cy=\"735.212\" r=\"14\" fill=\"#000003\" fill-rule=\"evenodd\" fill-opacity=\"1\" stroke=\"#000000\" stroke-opacity=\"1\" stroke-width=\"3.2\"/>\n",
       "<circle clip-path=\"url(#clip382)\" cx=\"1233.61\" cy=\"509.808\" r=\"14\" fill=\"#7e1e6c\" fill-rule=\"evenodd\" fill-opacity=\"1\" stroke=\"#000000\" stroke-opacity=\"1\" stroke-width=\"3.2\"/>\n",
       "<circle clip-path=\"url(#clip382)\" cx=\"1282.23\" cy=\"311.59\" r=\"14\" fill=\"#ea6329\" fill-rule=\"evenodd\" fill-opacity=\"1\" stroke=\"#000000\" stroke-opacity=\"1\" stroke-width=\"3.2\"/>\n",
       "<circle clip-path=\"url(#clip382)\" cx=\"1330.86\" cy=\"164.468\" r=\"14\" fill=\"#f8cb35\" fill-rule=\"evenodd\" fill-opacity=\"1\" stroke=\"#000000\" stroke-opacity=\"1\" stroke-width=\"3.2\"/>\n",
       "<circle clip-path=\"url(#clip382)\" cx=\"1379.48\" cy=\"86.1857\" r=\"14\" fill=\"#fcfea4\" fill-rule=\"evenodd\" fill-opacity=\"1\" stroke=\"#000000\" stroke-opacity=\"1\" stroke-width=\"3.2\"/>\n",
       "<circle clip-path=\"url(#clip382)\" cx=\"1428.11\" cy=\"86.1857\" r=\"14\" fill=\"#fcfea4\" fill-rule=\"evenodd\" fill-opacity=\"1\" stroke=\"#000000\" stroke-opacity=\"1\" stroke-width=\"3.2\"/>\n",
       "<circle clip-path=\"url(#clip382)\" cx=\"1476.73\" cy=\"164.468\" r=\"14\" fill=\"#f8cb35\" fill-rule=\"evenodd\" fill-opacity=\"1\" stroke=\"#000000\" stroke-opacity=\"1\" stroke-width=\"3.2\"/>\n",
       "<circle clip-path=\"url(#clip382)\" cx=\"1525.36\" cy=\"311.59\" r=\"14\" fill=\"#ea6329\" fill-rule=\"evenodd\" fill-opacity=\"1\" stroke=\"#000000\" stroke-opacity=\"1\" stroke-width=\"3.2\"/>\n",
       "<circle clip-path=\"url(#clip382)\" cx=\"1573.98\" cy=\"509.808\" r=\"14\" fill=\"#7e1e6c\" fill-rule=\"evenodd\" fill-opacity=\"1\" stroke=\"#000000\" stroke-opacity=\"1\" stroke-width=\"3.2\"/>\n",
       "<circle clip-path=\"url(#clip382)\" cx=\"1622.61\" cy=\"735.212\" r=\"14\" fill=\"#000003\" fill-rule=\"evenodd\" fill-opacity=\"1\" stroke=\"#000000\" stroke-opacity=\"1\" stroke-width=\"3.2\"/>\n",
       "<circle clip-path=\"url(#clip382)\" cx=\"1671.24\" cy=\"960.616\" r=\"14\" fill=\"#7e1e6c\" fill-rule=\"evenodd\" fill-opacity=\"1\" stroke=\"#000000\" stroke-opacity=\"1\" stroke-width=\"3.2\"/>\n",
       "<circle clip-path=\"url(#clip382)\" cx=\"1719.86\" cy=\"1158.83\" r=\"14\" fill=\"#ea6329\" fill-rule=\"evenodd\" fill-opacity=\"1\" stroke=\"#000000\" stroke-opacity=\"1\" stroke-width=\"3.2\"/>\n",
       "<circle clip-path=\"url(#clip382)\" cx=\"1768.49\" cy=\"1305.96\" r=\"14\" fill=\"#f8cb35\" fill-rule=\"evenodd\" fill-opacity=\"1\" stroke=\"#000000\" stroke-opacity=\"1\" stroke-width=\"3.2\"/>\n",
       "<circle clip-path=\"url(#clip382)\" cx=\"1817.11\" cy=\"1384.24\" r=\"14\" fill=\"#fcfea4\" fill-rule=\"evenodd\" fill-opacity=\"1\" stroke=\"#000000\" stroke-opacity=\"1\" stroke-width=\"3.2\"/>\n",
       "<circle clip-path=\"url(#clip382)\" cx=\"1865.74\" cy=\"1384.24\" r=\"14\" fill=\"#fcfea4\" fill-rule=\"evenodd\" fill-opacity=\"1\" stroke=\"#000000\" stroke-opacity=\"1\" stroke-width=\"3.2\"/>\n",
       "<circle clip-path=\"url(#clip382)\" cx=\"1914.36\" cy=\"1305.96\" r=\"14\" fill=\"#f8cb35\" fill-rule=\"evenodd\" fill-opacity=\"1\" stroke=\"#000000\" stroke-opacity=\"1\" stroke-width=\"3.2\"/>\n",
       "<circle clip-path=\"url(#clip382)\" cx=\"1962.99\" cy=\"1158.83\" r=\"14\" fill=\"#ea6329\" fill-rule=\"evenodd\" fill-opacity=\"1\" stroke=\"#000000\" stroke-opacity=\"1\" stroke-width=\"3.2\"/>\n",
       "<circle clip-path=\"url(#clip382)\" cx=\"2011.61\" cy=\"960.616\" r=\"14\" fill=\"#7e1e6c\" fill-rule=\"evenodd\" fill-opacity=\"1\" stroke=\"#000000\" stroke-opacity=\"1\" stroke-width=\"3.2\"/>\n",
       "<circle clip-path=\"url(#clip382)\" cx=\"2060.24\" cy=\"735.212\" r=\"14\" fill=\"#000003\" fill-rule=\"evenodd\" fill-opacity=\"1\" stroke=\"#000000\" stroke-opacity=\"1\" stroke-width=\"3.2\"/>\n",
       "<defs>\n",
       "  <clipPath id=\"clip383\">\n",
       "    <rect x=\"2160\" y=\"47\" width=\"73\" height=\"1377\"/>\n",
       "  </clipPath>\n",
       "</defs>\n",
       "<g clip-path=\"url(#clip383)\">\n",
       "<image width=\"72\" height=\"1376\" xlink:href=\"data:image/png;base64,\n",
       "iVBORw0KGgoAAAANSUhEUgAAAEgAAAVgCAYAAADsKhu7AAAL6UlEQVR4nO3dwZEjNxBFQVBR/lsh\n",
       "L6UFZIHqHclDpgUTL35wCXTP7Off+/c7/K+/vv0D/DqBgkBBoCBQmPv+/fbP8NMsKAgUBAoChXnv\n",
       "z7d/hp9mQUGgIFAQKAgUHDWCBQWBgkBBoDDPh/TKgoJAQaAgUJh3fUhvLCgIFAQKAgWBgqNGsKAg\n",
       "UBAoCBR8SAcLCgIFgYJAwX1QsKAgUBAoCBQECnMcNVYWFAQKAgWBgvugYEFBoCBQECgIFOa4MFtZ\n",
       "UBAoCBQECnPuP9/+GX6aBQWBgkBBoODSPlhQECgIFAQKAgX3QcGCgkBBoCBQ8CEdLCgIFAQKAgX3\n",
       "QcGCgkBBoCBQECjMx1FjZUFBoCBQECjMuf5XhI0FBYGCQEGgIFBw1AgWFAQKAgWBgqNGsKAgUBAo\n",
       "CBS8HxQsKAgUBAoCBYHCfBw1VhYUBAoCBYGCt1yDBQWBgkBBoOCbdLCgIFAQKAgUBAoePQcLCgIF\n",
       "gYJAwVEjWFAQKAgUBAoCBUeNYEFBoCBQECg4agQLCgIFgYJAYc693/4ZfpoFBYGCQEGgIFBw1AgW\n",
       "FAQKAgWBgkv7YEFBoCBQECj4kA4WFAQKAgWBgkBhPp5qrCwoCBQECgIFR41gQUGgIFAQKAgUvEAV\n",
       "LCgIFAQKAgX3QcGCgkBBoCBQcB8ULCgIFAQKAgWBgvugYEFBoCBQECj4kA4WFAQKAgWBgl/qDRYU\n",
       "BAoCBYGCQMFRI1hQECgIFAQKPqSDBQWBgkBBoCBQ8K9YsKAgUBAoCBR8SAcLCgIFgYJAYc7zIb2x\n",
       "oCBQECgIFAQKjhrBgoJAQaAgUPAhHSwoCBQECgIFH9LBgoJAQaAgUBAozLnv2z/DT7OgIFAQKAgU\n",
       "HDWCBQWBgkBBoCBQcNQIFhQECgIFgYKjRrCgIFAQKAgUfJMOFhQECgIFgYJAYY6TxsqCgkBBoCBQ\n",
       "mPMcNTYWFAQKAgWBgm/SwYKCQEGgIFAQKPhXLFhQECgIFAQK44/g7SwoCBQECgIFgYKjRrCgIFAQ\n",
       "KAgUfEgHCwoCBYGCQGHO/Xz7Z/hpFhQECgIFgYJAYd7zr9jGgoJAQaAgUHAfFCwoCBQECgIF90HB\n",
       "goJAQaAgUBAozLsabdQJAgWBgkDBUSNYUBAoCBQECgKFOR49rywoCBQECgKFeY4aKwsKAgWBgkBh\n",
       "jkv7lTpBoCBQECgIFBw1ggUFgYJAQaDg0j5YUBAoCBQECl7iDOoEgYJAQaAgUPCWa7CgIFAQKAgU\n",
       "XNoHCwoCBYGCQEGgMO9ptFEnCBQECgIF90HBgoJAQaAgUHAfFCwoCBQECgIFgcIc90ErdYJAQaAg\n",
       "UHDUCBYUBAoCBYGCD+lgQUGgIFAQKAgU/NZzsKAgUBAoCBT81nNQJwgUBAoCBYHCPEeNlQUFgYJA\n",
       "QaDgqUawoCBQECgIFPyvCEGdIFAQKAgUBArug4IFBYGCQEGg4D4oWFAQKAgUBAq+SQcLCgIFgYJA\n",
       "QaDgLdegThAoCBQECo4awYKCQEGgIFAQKHiqESwoCBQECgIFR41gQUGgIFAQKPiva4IFBYGCQEGg\n",
       "IFDwv2QGdYJAQaAgUHAfFCwoCBQECgIFT1aDBQWBgkBBoCBQcNQIFhQECgIFgcJcH9IrCwoCBYGC\n",
       "QEGg4LeegzpBoCBQECi4DwoWFAQKAgWBgg/pYEFBoCBQECgIFLxAFSwoCBQECgIFR41gQUGgIFAQ\n",
       "KPiQDhYUBAoCBYGCQMGfpgjqBIGCQEGgMNel/cqCgkBBoCBQECi4MAsWFAQKAgWBgg/pYEFBoCBQ\n",
       "ECj4kA4WFAQKAgWBgkDBH1gKFhQECgIFgYKjRrCgIFAQKAgUfEgHCwoCBYGCQEGg4FcRgjpBoCBQ\n",
       "ECj4VYRgQUGgIFAQKAgUXJgFCwoCBYGCQMGHdLCgIFAQKAgUvMQZLCgIFAQKAgWBgqNGsKAgUBAo\n",
       "CBTmHR/SGwsKAgWBgkDBfVCwoCBQECgIFAQK7oOCBQWBgkBBoOCoESwoCBQECgIFgYKjRrCgIFAQ\n",
       "KAgUHDWCBQWBgkBBoOCbdLCgIFAQKAgUBAr+FQsWFAQKAgWBwly/irCyoCBQECgIFHyTDhYUBAoC\n",
       "BYGCQMGj52BBQaAgUBAozHvf/hF+mwUFgYJAQaAgUHDUCBYUBAoCBYGCv4IXLCgIFAQKAgXfpIMF\n",
       "BYGCQEGgIFDwAlWwoCBQECgIFPwqQrCgIFAQKAgUvB8ULCgIFAQKAgWBgqcawYKCQEGgIFBwaR8s\n",
       "KAgUBAoCBYGCpxrBgoJAQaAgUHAfFCwoCBQECgIFj56DBQWBgkBBoCBQcB8ULCgIFAQKAgWPnoMF\n",
       "BYGCQEGgMPfbP8GPs6AgUBAoCBQECo4awYKCQEGgIFDwflCwoCBQECgIFAQKLsyCBQWBgkBBoOA+\n",
       "KFhQECgIFAQKvkkHCwoCBYGCQEGg4KgRLCgIFAQKAgWPnoMFBYGCQEGgMP4yxc6CgkBBoCBQECg4\n",
       "agQLCgIFgYJAwaPnYEFBoCBQECgIFDx6DhYUBAoCBYGCo0awoCBQECgIFHyTDhYUBAoCBYGCQGGu\n",
       "N6hWFhQECgIFgYL7oGBBQaAgUBAouA8KFhQECgIFgYJAwVEjWFAQKAgUBArzXNqvLCgIFAQKAgWB\n",
       "wtzjwmxjQUGgIFAQKHg/KFhQECgIFAQK/gpesKAgUBAoCBQECv4KXrCgIFAQKAgUPHoOFhQECgIF\n",
       "gYKXOIMFBYGCQEGgIFDwC3XBgoJAQaAgUHDUCBYUBAoCBYGCQMFbrsGCgkBBoCBQ8JZrsKAgUBAo\n",
       "CBR8kw4WFAQKAgWBgkDBW67BgoJAQaAgUPD3g4IFBYGCQEGg4D4oWFAQKAgUBAoCBY+egwUFgYJA\n",
       "QaDgqBEsKAgUBAoCBYGCo0awoCBQECgIFBw1ggUFgYJAQaDgQzpYUBAoCBQECgIF90HBgoJAQaAg\n",
       "UHDUCBYUBAoCBYGCb9LBgoJAQaAgUBAoOGoECwoCBYGCQMHfDwoWFAQKAgWBgkDB/+0TLCgIFAQK\n",
       "AgX3QcGCgkBBoCBQmHd8Sm8sKAgUBAoCBYGCo0awoCBQECgIFDx6DhYUBAoCBYGCJ6vBgoJAQaAg\n",
       "UBAouA8KFhQECgIFgYJHz8GCgkBBoCBQECg4agQLCgIFgYJAwR9YChYUBAoCBYHCXC8IrSwoCBQE\n",
       "CgIFgYIXqIIFBYGCQEGgMM9RY2VBQaAgUBAo+CYdLCgIFAQKAgWBgqcawYKCQEGgIFDwflCwoCBQ\n",
       "ECgIFAQKc/1C3cqCgkBBoCBQcB8ULCgIFAQKAgV/miJYUBAoCBQECgIFL1AFCwoCBYGCQMGlfbCg\n",
       "IFAQKAgU3AcFCwoCBYGCQEGgMPe4EdpYUBAoCBQECu6DggUFgYJAQaAgUPCvWLCgIFAQKAgUPNUI\n",
       "FhQECgIFgYJL+2BBQaAgUBAoCBTmfhw1NhYUBAoCBYGCo0awoCBQECgIFOb5kF5ZUBAoCBQECgIF\n",
       "R41gQUGgIFAQKMz9+JDeWFAQKAgUBAoCBUeNYEFBoCBQECh4qhEsKAgUBAoCBd+kgwUFgYJAQaAg\n",
       "UPCvWLCgIFAQKAgUPHoOFhQECgIFgcK88+fbP8NPs6AgUBAoCBQECu6DggUFgYJAQaDg/aBgQUGg\n",
       "IFAQKAgU5j4XZhsLCgIFgYJAwVEjWFAQKAgUBApzPXpeWVAQKAgUBAoCBUeNYEFBoCBQECg4agQL\n",
       "CgIFgYJAYd7zTXpjQUGgIFAQKAgU3AcFCwoCBYGCQMFLnMGCgkBBoCBQECg4agQLCgIFgYJAYZ6j\n",
       "xsqCgkBBoCBQ8E06WFAQKAgUBAoChbleoFpZUBAoCBQECv7gdrCgIFAQKAgU/CpCsKAgUBAoCBQE\n",
       "Cp5qBAsKAgWBgkDBUSNYUBAoCBQECgIF/4oFCwoCBYGCQMGj52BBQaAgUBAo+CYdLCgIFAQKAgWB\n",
       "whyPnlcWFAQKAgWBgqNGsKAgUBAoCBS8xBksKAgUBAoCBYHCHEeNlQUFgYJAQaDg/aBgQUGgIFAQ\n",
       "KAgUPHoOFhQECgIFgYL7oGBBQaAgUBAozDvv2z/DT7OgIFAQKAgUBArug4IFBYGCQEGgMMdRY2VB\n",
       "QaAgUBAo/AdhU+3PqlcPeQAAAABJRU5ErkJggg==\n",
       "\" transform=\"translate(2161, 47)\"/>\n",
       "</g>\n",
       "<path clip-path=\"url(#clip380)\" d=\"M2280.7 1405.35 Q2277.09 1405.35 2275.26 1408.91 Q2273.45 1412.46 2273.45 1419.59 Q2273.45 1426.69 2275.26 1430.26 Q2277.09 1433.8 2280.7 1433.8 Q2284.33 1433.8 2286.14 1430.26 Q2287.97 1426.69 2287.97 1419.59 Q2287.97 1412.46 2286.14 1408.91 Q2284.33 1405.35 2280.7 1405.35 M2280.7 1401.65 Q2286.51 1401.65 2289.57 1406.25 Q2292.64 1410.84 2292.64 1419.59 Q2292.64 1428.31 2289.57 1432.92 Q2286.51 1437.5 2280.7 1437.5 Q2274.89 1437.5 2271.81 1432.92 Q2268.76 1428.31 2268.76 1419.59 Q2268.76 1410.84 2271.81 1406.25 Q2274.89 1401.65 2280.7 1401.65 Z\" fill=\"#000000\" fill-rule=\"evenodd\" fill-opacity=\"1\" /><path clip-path=\"url(#clip380)\" d=\"M2280.7 1265.63 Q2277.09 1265.63 2275.26 1269.2 Q2273.45 1272.74 2273.45 1279.87 Q2273.45 1286.98 2275.26 1290.54 Q2277.09 1294.08 2280.7 1294.08 Q2284.33 1294.08 2286.14 1290.54 Q2287.97 1286.98 2287.97 1279.87 Q2287.97 1272.74 2286.14 1269.2 Q2284.33 1265.63 2280.7 1265.63 M2280.7 1261.93 Q2286.51 1261.93 2289.57 1266.54 Q2292.64 1271.12 2292.64 1279.87 Q2292.64 1288.6 2289.57 1293.2 Q2286.51 1297.79 2280.7 1297.79 Q2274.89 1297.79 2271.81 1293.2 Q2268.76 1288.6 2268.76 1279.87 Q2268.76 1271.12 2271.81 1266.54 Q2274.89 1261.93 2280.7 1261.93 Z\" fill=\"#000000\" fill-rule=\"evenodd\" fill-opacity=\"1\" /><path clip-path=\"url(#clip380)\" d=\"M2300.86 1291.24 L2305.75 1291.24 L2305.75 1297.11 L2300.86 1297.11 L2300.86 1291.24 Z\" fill=\"#000000\" fill-rule=\"evenodd\" fill-opacity=\"1\" /><path clip-path=\"url(#clip380)\" d=\"M2316.74 1293.18 L2324.38 1293.18 L2324.38 1266.81 L2316.07 1268.48 L2316.07 1264.22 L2324.33 1262.55 L2329.01 1262.55 L2329.01 1293.18 L2336.65 1293.18 L2336.65 1297.11 L2316.74 1297.11 L2316.74 1293.18 Z\" fill=\"#000000\" fill-rule=\"evenodd\" fill-opacity=\"1\" /><path clip-path=\"url(#clip380)\" d=\"M2280.7 1125.92 Q2277.09 1125.92 2275.26 1129.48 Q2273.45 1133.02 2273.45 1140.15 Q2273.45 1147.26 2275.26 1150.82 Q2277.09 1154.37 2280.7 1154.37 Q2284.33 1154.37 2286.14 1150.82 Q2287.97 1147.26 2287.97 1140.15 Q2287.97 1133.02 2286.14 1129.48 Q2284.33 1125.92 2280.7 1125.92 M2280.7 1122.21 Q2286.51 1122.21 2289.57 1126.82 Q2292.64 1131.4 2292.64 1140.15 Q2292.64 1148.88 2289.57 1153.49 Q2286.51 1158.07 2280.7 1158.07 Q2274.89 1158.07 2271.81 1153.49 Q2268.76 1148.88 2268.76 1140.15 Q2268.76 1131.4 2271.81 1126.82 Q2274.89 1122.21 2280.7 1122.21 Z\" fill=\"#000000\" fill-rule=\"evenodd\" fill-opacity=\"1\" /><path clip-path=\"url(#clip380)\" d=\"M2300.86 1151.52 L2305.75 1151.52 L2305.75 1157.4 L2300.86 1157.4 L2300.86 1151.52 Z\" fill=\"#000000\" fill-rule=\"evenodd\" fill-opacity=\"1\" /><path clip-path=\"url(#clip380)\" d=\"M2319.96 1153.46 L2336.28 1153.46 L2336.28 1157.4 L2314.33 1157.4 L2314.33 1153.46 Q2317 1150.71 2321.58 1146.08 Q2326.19 1141.43 2327.37 1140.08 Q2329.61 1137.56 2330.49 1135.82 Q2331.39 1134.07 2331.39 1132.38 Q2331.39 1129.62 2329.45 1127.88 Q2327.53 1126.15 2324.43 1126.15 Q2322.23 1126.15 2319.77 1126.91 Q2317.34 1127.68 2314.57 1129.23 L2314.57 1124.51 Q2317.39 1123.37 2319.84 1122.79 Q2322.3 1122.21 2324.33 1122.21 Q2329.7 1122.21 2332.9 1124.9 Q2336.09 1127.58 2336.09 1132.07 Q2336.09 1134.2 2335.28 1136.13 Q2334.5 1138.02 2332.39 1140.62 Q2331.81 1141.29 2328.71 1144.51 Q2325.61 1147.7 2319.96 1153.46 Z\" fill=\"#000000\" fill-rule=\"evenodd\" fill-opacity=\"1\" /><path clip-path=\"url(#clip380)\" d=\"M2280.7 986.201 Q2277.09 986.201 2275.26 989.766 Q2273.45 993.308 2273.45 1000.44 Q2273.45 1007.54 2275.26 1011.11 Q2277.09 1014.65 2280.7 1014.65 Q2284.33 1014.65 2286.14 1011.11 Q2287.97 1007.54 2287.97 1000.44 Q2287.97 993.308 2286.14 989.766 Q2284.33 986.201 2280.7 986.201 M2280.7 982.498 Q2286.51 982.498 2289.57 987.104 Q2292.64 991.687 2292.64 1000.44 Q2292.64 1009.16 2289.57 1013.77 Q2286.51 1018.35 2280.7 1018.35 Q2274.89 1018.35 2271.81 1013.77 Q2268.76 1009.16 2268.76 1000.44 Q2268.76 991.687 2271.81 987.104 Q2274.89 982.498 2280.7 982.498 Z\" fill=\"#000000\" fill-rule=\"evenodd\" fill-opacity=\"1\" /><path clip-path=\"url(#clip380)\" d=\"M2300.86 1011.8 L2305.75 1011.8 L2305.75 1017.68 L2300.86 1017.68 L2300.86 1011.8 Z\" fill=\"#000000\" fill-rule=\"evenodd\" fill-opacity=\"1\" /><path clip-path=\"url(#clip380)\" d=\"M2330.1 999.048 Q2333.45 999.766 2335.33 1002.03 Q2337.23 1004.3 2337.23 1007.64 Q2337.23 1012.75 2333.71 1015.55 Q2330.19 1018.35 2323.71 1018.35 Q2321.53 1018.35 2319.22 1017.91 Q2316.93 1017.5 2314.47 1016.64 L2314.47 1012.13 Q2316.42 1013.26 2318.73 1013.84 Q2321.05 1014.42 2323.57 1014.42 Q2327.97 1014.42 2330.26 1012.68 Q2332.58 1010.95 2332.58 1007.64 Q2332.58 1004.58 2330.42 1002.87 Q2328.29 1001.13 2324.47 1001.13 L2320.45 1001.13 L2320.45 997.289 L2324.66 997.289 Q2328.11 997.289 2329.94 995.923 Q2331.76 994.534 2331.76 991.942 Q2331.76 989.28 2329.87 987.868 Q2327.99 986.433 2324.47 986.433 Q2322.55 986.433 2320.35 986.849 Q2318.15 987.266 2315.51 988.146 L2315.51 983.979 Q2318.18 983.238 2320.49 982.868 Q2322.83 982.498 2324.89 982.498 Q2330.21 982.498 2333.32 984.928 Q2336.42 987.335 2336.42 991.456 Q2336.42 994.326 2334.77 996.317 Q2333.13 998.284 2330.1 999.048 Z\" fill=\"#000000\" fill-rule=\"evenodd\" fill-opacity=\"1\" /><path clip-path=\"url(#clip380)\" d=\"M2280.7 846.485 Q2277.09 846.485 2275.26 850.05 Q2273.45 853.591 2273.45 860.721 Q2273.45 867.827 2275.26 871.392 Q2277.09 874.934 2280.7 874.934 Q2284.33 874.934 2286.14 871.392 Q2287.97 867.827 2287.97 860.721 Q2287.97 853.591 2286.14 850.05 Q2284.33 846.485 2280.7 846.485 M2280.7 842.781 Q2286.51 842.781 2289.57 847.388 Q2292.64 851.971 2292.64 860.721 Q2292.64 869.448 2289.57 874.054 Q2286.51 878.638 2280.7 878.638 Q2274.89 878.638 2271.81 874.054 Q2268.76 869.448 2268.76 860.721 Q2268.76 851.971 2271.81 847.388 Q2274.89 842.781 2280.7 842.781 Z\" fill=\"#000000\" fill-rule=\"evenodd\" fill-opacity=\"1\" /><path clip-path=\"url(#clip380)\" d=\"M2300.86 872.087 L2305.75 872.087 L2305.75 877.966 L2300.86 877.966 L2300.86 872.087 Z\" fill=\"#000000\" fill-rule=\"evenodd\" fill-opacity=\"1\" /><path clip-path=\"url(#clip380)\" d=\"M2328.78 847.48 L2316.97 865.929 L2328.78 865.929 L2328.78 847.48 M2327.55 843.406 L2333.43 843.406 L2333.43 865.929 L2338.36 865.929 L2338.36 869.818 L2333.43 869.818 L2333.43 877.966 L2328.78 877.966 L2328.78 869.818 L2313.18 869.818 L2313.18 865.304 L2327.55 843.406 Z\" fill=\"#000000\" fill-rule=\"evenodd\" fill-opacity=\"1\" /><path clip-path=\"url(#clip380)\" d=\"M2280.7 706.769 Q2277.09 706.769 2275.26 710.334 Q2273.45 713.875 2273.45 721.005 Q2273.45 728.111 2275.26 731.676 Q2277.09 735.218 2280.7 735.218 Q2284.33 735.218 2286.14 731.676 Q2287.97 728.111 2287.97 721.005 Q2287.97 713.875 2286.14 710.334 Q2284.33 706.769 2280.7 706.769 M2280.7 703.065 Q2286.51 703.065 2289.57 707.672 Q2292.64 712.255 2292.64 721.005 Q2292.64 729.732 2289.57 734.338 Q2286.51 738.921 2280.7 738.921 Q2274.89 738.921 2271.81 734.338 Q2268.76 729.732 2268.76 721.005 Q2268.76 712.255 2271.81 707.672 Q2274.89 703.065 2280.7 703.065 Z\" fill=\"#000000\" fill-rule=\"evenodd\" fill-opacity=\"1\" /><path clip-path=\"url(#clip380)\" d=\"M2300.86 732.371 L2305.75 732.371 L2305.75 738.25 L2300.86 738.25 L2300.86 732.371 Z\" fill=\"#000000\" fill-rule=\"evenodd\" fill-opacity=\"1\" /><path clip-path=\"url(#clip380)\" d=\"M2315.98 703.69 L2334.33 703.69 L2334.33 707.625 L2320.26 707.625 L2320.26 716.097 Q2321.28 715.75 2322.3 715.588 Q2323.32 715.403 2324.33 715.403 Q2330.12 715.403 2333.5 718.574 Q2336.88 721.746 2336.88 727.162 Q2336.88 732.741 2333.41 735.843 Q2329.94 738.921 2323.62 738.921 Q2321.44 738.921 2319.17 738.551 Q2316.93 738.181 2314.52 737.44 L2314.52 732.741 Q2316.6 733.875 2318.83 734.431 Q2321.05 734.986 2323.52 734.986 Q2327.53 734.986 2329.87 732.88 Q2332.2 730.773 2332.2 727.162 Q2332.2 723.551 2329.87 721.445 Q2327.53 719.338 2323.52 719.338 Q2321.65 719.338 2319.77 719.755 Q2317.92 720.172 2315.98 721.051 L2315.98 703.69 Z\" fill=\"#000000\" fill-rule=\"evenodd\" fill-opacity=\"1\" /><path clip-path=\"url(#clip380)\" d=\"M2280.7 567.053 Q2277.09 567.053 2275.26 570.617 Q2273.45 574.159 2273.45 581.289 Q2273.45 588.395 2275.26 591.96 Q2277.09 595.502 2280.7 595.502 Q2284.33 595.502 2286.14 591.96 Q2287.97 588.395 2287.97 581.289 Q2287.97 574.159 2286.14 570.617 Q2284.33 567.053 2280.7 567.053 M2280.7 563.349 Q2286.51 563.349 2289.57 567.955 Q2292.64 572.539 2292.64 581.289 Q2292.64 590.016 2289.57 594.622 Q2286.51 599.205 2280.7 599.205 Q2274.89 599.205 2271.81 594.622 Q2268.76 590.016 2268.76 581.289 Q2268.76 572.539 2271.81 567.955 Q2274.89 563.349 2280.7 563.349 Z\" fill=\"#000000\" fill-rule=\"evenodd\" fill-opacity=\"1\" /><path clip-path=\"url(#clip380)\" d=\"M2300.86 592.654 L2305.75 592.654 L2305.75 598.534 L2300.86 598.534 L2300.86 592.654 Z\" fill=\"#000000\" fill-rule=\"evenodd\" fill-opacity=\"1\" /><path clip-path=\"url(#clip380)\" d=\"M2326.51 579.391 Q2323.36 579.391 2321.51 581.543 Q2319.68 583.696 2319.68 587.446 Q2319.68 591.173 2321.51 593.349 Q2323.36 595.502 2326.51 595.502 Q2329.66 595.502 2331.49 593.349 Q2333.34 591.173 2333.34 587.446 Q2333.34 583.696 2331.49 581.543 Q2329.66 579.391 2326.51 579.391 M2335.79 564.738 L2335.79 568.997 Q2334.03 568.164 2332.23 567.724 Q2330.45 567.284 2328.69 567.284 Q2324.06 567.284 2321.6 570.409 Q2319.17 573.534 2318.83 579.854 Q2320.19 577.84 2322.25 576.775 Q2324.31 575.687 2326.79 575.687 Q2332 575.687 2335.01 578.858 Q2338.04 582.006 2338.04 587.446 Q2338.04 592.77 2334.89 595.988 Q2331.74 599.205 2326.51 599.205 Q2320.51 599.205 2317.34 594.622 Q2314.17 590.016 2314.17 581.289 Q2314.17 573.094 2318.06 568.233 Q2321.95 563.349 2328.5 563.349 Q2330.26 563.349 2332.04 563.696 Q2333.85 564.043 2335.79 564.738 Z\" fill=\"#000000\" fill-rule=\"evenodd\" fill-opacity=\"1\" /><path clip-path=\"url(#clip380)\" d=\"M2280.7 427.336 Q2277.09 427.336 2275.26 430.901 Q2273.45 434.443 2273.45 441.573 Q2273.45 448.679 2275.26 452.244 Q2277.09 455.785 2280.7 455.785 Q2284.33 455.785 2286.14 452.244 Q2287.97 448.679 2287.97 441.573 Q2287.97 434.443 2286.14 430.901 Q2284.33 427.336 2280.7 427.336 M2280.7 423.633 Q2286.51 423.633 2289.57 428.239 Q2292.64 432.823 2292.64 441.573 Q2292.64 450.299 2289.57 454.906 Q2286.51 459.489 2280.7 459.489 Q2274.89 459.489 2271.81 454.906 Q2268.76 450.299 2268.76 441.573 Q2268.76 432.823 2271.81 428.239 Q2274.89 423.633 2280.7 423.633 Z\" fill=\"#000000\" fill-rule=\"evenodd\" fill-opacity=\"1\" /><path clip-path=\"url(#clip380)\" d=\"M2300.86 452.938 L2305.75 452.938 L2305.75 458.818 L2300.86 458.818 L2300.86 452.938 Z\" fill=\"#000000\" fill-rule=\"evenodd\" fill-opacity=\"1\" /><path clip-path=\"url(#clip380)\" d=\"M2314.75 424.258 L2336.97 424.258 L2336.97 426.249 L2324.43 458.818 L2319.54 458.818 L2331.35 428.193 L2314.75 428.193 L2314.75 424.258 Z\" fill=\"#000000\" fill-rule=\"evenodd\" fill-opacity=\"1\" /><path clip-path=\"url(#clip380)\" d=\"M2280.7 287.62 Q2277.09 287.62 2275.26 291.185 Q2273.45 294.727 2273.45 301.856 Q2273.45 308.963 2275.26 312.528 Q2277.09 316.069 2280.7 316.069 Q2284.33 316.069 2286.14 312.528 Q2287.97 308.963 2287.97 301.856 Q2287.97 294.727 2286.14 291.185 Q2284.33 287.62 2280.7 287.62 M2280.7 283.917 Q2286.51 283.917 2289.57 288.523 Q2292.64 293.106 2292.64 301.856 Q2292.64 310.583 2289.57 315.19 Q2286.51 319.773 2280.7 319.773 Q2274.89 319.773 2271.81 315.19 Q2268.76 310.583 2268.76 301.856 Q2268.76 293.106 2271.81 288.523 Q2274.89 283.917 2280.7 283.917 Z\" fill=\"#000000\" fill-rule=\"evenodd\" fill-opacity=\"1\" /><path clip-path=\"url(#clip380)\" d=\"M2300.86 313.222 L2305.75 313.222 L2305.75 319.102 L2300.86 319.102 L2300.86 313.222 Z\" fill=\"#000000\" fill-rule=\"evenodd\" fill-opacity=\"1\" /><path clip-path=\"url(#clip380)\" d=\"M2325.93 302.69 Q2322.6 302.69 2320.68 304.472 Q2318.78 306.254 2318.78 309.379 Q2318.78 312.504 2320.68 314.287 Q2322.6 316.069 2325.93 316.069 Q2329.26 316.069 2331.19 314.287 Q2333.11 312.481 2333.11 309.379 Q2333.11 306.254 2331.19 304.472 Q2329.29 302.69 2325.93 302.69 M2321.26 300.699 Q2318.25 299.958 2316.56 297.898 Q2314.89 295.838 2314.89 292.875 Q2314.89 288.731 2317.83 286.324 Q2320.79 283.917 2325.93 283.917 Q2331.09 283.917 2334.03 286.324 Q2336.97 288.731 2336.97 292.875 Q2336.97 295.838 2335.28 297.898 Q2333.62 299.958 2330.63 300.699 Q2334.01 301.486 2335.89 303.778 Q2337.78 306.069 2337.78 309.379 Q2337.78 314.403 2334.7 317.088 Q2331.65 319.773 2325.93 319.773 Q2320.21 319.773 2317.14 317.088 Q2314.08 314.403 2314.08 309.379 Q2314.08 306.069 2315.98 303.778 Q2317.88 301.486 2321.26 300.699 M2319.54 293.315 Q2319.54 296 2321.21 297.505 Q2322.9 299.009 2325.93 299.009 Q2328.94 299.009 2330.63 297.505 Q2332.34 296 2332.34 293.315 Q2332.34 290.63 2330.63 289.125 Q2328.94 287.62 2325.93 287.62 Q2322.9 287.62 2321.21 289.125 Q2319.54 290.63 2319.54 293.315 Z\" fill=\"#000000\" fill-rule=\"evenodd\" fill-opacity=\"1\" /><path clip-path=\"url(#clip380)\" d=\"M2280.7 147.904 Q2277.09 147.904 2275.26 151.469 Q2273.45 155.011 2273.45 162.14 Q2273.45 169.247 2275.26 172.811 Q2277.09 176.353 2280.7 176.353 Q2284.33 176.353 2286.14 172.811 Q2287.97 169.247 2287.97 162.14 Q2287.97 155.011 2286.14 151.469 Q2284.33 147.904 2280.7 147.904 M2280.7 144.2 Q2286.51 144.2 2289.57 148.807 Q2292.64 153.39 2292.64 162.14 Q2292.64 170.867 2289.57 175.473 Q2286.51 180.057 2280.7 180.057 Q2274.89 180.057 2271.81 175.473 Q2268.76 170.867 2268.76 162.14 Q2268.76 153.39 2271.81 148.807 Q2274.89 144.2 2280.7 144.2 Z\" fill=\"#000000\" fill-rule=\"evenodd\" fill-opacity=\"1\" /><path clip-path=\"url(#clip380)\" d=\"M2300.86 173.506 L2305.75 173.506 L2305.75 179.385 L2300.86 179.385 L2300.86 173.506 Z\" fill=\"#000000\" fill-rule=\"evenodd\" fill-opacity=\"1\" /><path clip-path=\"url(#clip380)\" d=\"M2316.07 178.668 L2316.07 174.409 Q2317.83 175.242 2319.64 175.682 Q2321.44 176.122 2323.18 176.122 Q2327.81 176.122 2330.24 173.02 Q2332.69 169.895 2333.04 163.552 Q2331.7 165.543 2329.64 166.608 Q2327.58 167.673 2325.08 167.673 Q2319.89 167.673 2316.86 164.548 Q2313.85 161.399 2313.85 155.96 Q2313.85 150.636 2317 147.418 Q2320.14 144.2 2325.38 144.2 Q2331.37 144.2 2334.52 148.807 Q2337.69 153.39 2337.69 162.14 Q2337.69 170.311 2333.8 175.196 Q2329.94 180.057 2323.39 180.057 Q2321.63 180.057 2319.82 179.71 Q2318.01 179.362 2316.07 178.668 M2325.38 164.015 Q2328.52 164.015 2330.35 161.862 Q2332.2 159.71 2332.2 155.96 Q2332.2 152.233 2330.35 150.08 Q2328.52 147.904 2325.38 147.904 Q2322.23 147.904 2320.38 150.08 Q2318.55 152.233 2318.55 155.96 Q2318.55 159.71 2320.38 161.862 Q2322.23 164.015 2325.38 164.015 Z\" fill=\"#000000\" fill-rule=\"evenodd\" fill-opacity=\"1\" /><polyline clip-path=\"url(#clip380)\" style=\"stroke:#000000; stroke-linecap:butt; stroke-linejoin:round; stroke-width:4; stroke-opacity:1; fill:none\" points=\"\n",
       "  2232.76,1423.18 2232.76,1423.18 2256.76,1423.18 2232.76,1423.18 2232.76,1283.46 2256.76,1283.46 2232.76,1283.46 2232.76,1143.75 2256.76,1143.75 2232.76,1143.75 \n",
       "  2232.76,1004.03 2256.76,1004.03 2232.76,1004.03 2232.76,864.315 2256.76,864.315 2232.76,864.315 2232.76,724.599 2256.76,724.599 2232.76,724.599 2232.76,584.883 \n",
       "  2256.76,584.883 2232.76,584.883 2232.76,445.167 2256.76,445.167 2232.76,445.167 2232.76,305.45 2256.76,305.45 2232.76,305.45 2232.76,165.734 2256.76,165.734 \n",
       "  2232.76,165.734 2232.76,47.2441 \n",
       "  \"/>\n",
       "<path clip-path=\"url(#clip380)\" d=\"\n",
       "M1619.34 196.789 L2050.9 196.789 L2050.9 93.1086 L1619.34 93.1086  Z\n",
       "  \" fill=\"#ffffff\" fill-rule=\"evenodd\" fill-opacity=\"1\"/>\n",
       "<polyline clip-path=\"url(#clip380)\" style=\"stroke:#000000; stroke-linecap:butt; stroke-linejoin:round; stroke-width:4; stroke-opacity:1; fill:none\" points=\"\n",
       "  1619.34,196.789 2050.9,196.789 2050.9,93.1086 1619.34,93.1086 1619.34,196.789 \n",
       "  \"/>\n",
       "<circle clip-path=\"url(#clip380)\" cx=\"1701.81\" cy=\"144.949\" r=\"23\" fill=\"#000003\" fill-rule=\"evenodd\" fill-opacity=\"1\" stroke=\"#000000\" stroke-opacity=\"1\" stroke-width=\"5.12\"/>\n",
       "<path clip-path=\"url(#clip380)\" d=\"M1798.12 164.636 Q1796.31 169.266 1794.6 170.678 Q1792.89 172.09 1790.02 172.09 L1786.62 172.09 L1786.62 168.525 L1789.12 168.525 Q1790.87 168.525 1791.85 167.692 Q1792.82 166.858 1794 163.756 L1794.76 161.812 L1784.28 136.303 L1788.79 136.303 L1796.89 156.581 L1804.99 136.303 L1809.51 136.303 L1798.12 164.636 Z\" fill=\"#000000\" fill-rule=\"evenodd\" fill-opacity=\"1\" /><path clip-path=\"url(#clip380)\" d=\"M1831.01 140.701 L1860.69 140.701 L1860.69 144.59 L1831.01 144.59 L1831.01 140.701 M1831.01 150.145 L1860.69 150.145 L1860.69 154.081 L1831.01 154.081 L1831.01 150.145 Z\" fill=\"#000000\" fill-rule=\"evenodd\" fill-opacity=\"1\" /><path clip-path=\"url(#clip380)\" d=\"M1901.78 137.067 L1901.78 141.094 Q1899.97 140.169 1898.03 139.706 Q1896.08 139.243 1894 139.243 Q1890.83 139.243 1889.23 140.215 Q1887.66 141.187 1887.66 143.131 Q1887.66 144.613 1888.79 145.469 Q1889.92 146.303 1893.35 147.067 L1894.81 147.391 Q1899.35 148.363 1901.24 150.145 Q1903.17 151.905 1903.17 155.076 Q1903.17 158.687 1900.3 160.793 Q1897.45 162.9 1892.45 162.9 Q1890.36 162.9 1888.1 162.483 Q1885.85 162.09 1883.35 161.28 L1883.35 156.881 Q1885.71 158.108 1888 158.733 Q1890.3 159.335 1892.54 159.335 Q1895.55 159.335 1897.17 158.317 Q1898.79 157.275 1898.79 155.4 Q1898.79 153.664 1897.61 152.738 Q1896.45 151.812 1892.49 150.956 L1891.01 150.608 Q1887.05 149.775 1885.3 148.062 Q1883.54 146.326 1883.54 143.317 Q1883.54 139.659 1886.13 137.669 Q1888.72 135.678 1893.49 135.678 Q1895.85 135.678 1897.93 136.025 Q1900.02 136.372 1901.78 137.067 Z\" fill=\"#000000\" fill-rule=\"evenodd\" fill-opacity=\"1\" /><path clip-path=\"url(#clip380)\" d=\"M1909.95 136.303 L1914.21 136.303 L1914.21 162.229 L1909.95 162.229 L1909.95 136.303 M1909.95 126.21 L1914.21 126.21 L1914.21 131.604 L1909.95 131.604 L1909.95 126.21 Z\" fill=\"#000000\" fill-rule=\"evenodd\" fill-opacity=\"1\" /><path clip-path=\"url(#clip380)\" d=\"M1944.67 146.581 L1944.67 162.229 L1940.41 162.229 L1940.41 146.719 Q1940.41 143.039 1938.98 141.21 Q1937.54 139.382 1934.67 139.382 Q1931.22 139.382 1929.23 141.581 Q1927.24 143.78 1927.24 147.576 L1927.24 162.229 L1922.96 162.229 L1922.96 136.303 L1927.24 136.303 L1927.24 140.331 Q1928.77 137.993 1930.83 136.835 Q1932.91 135.678 1935.62 135.678 Q1940.09 135.678 1942.38 138.456 Q1944.67 141.21 1944.67 146.581 Z\" fill=\"#000000\" fill-rule=\"evenodd\" fill-opacity=\"1\" /><path clip-path=\"url(#clip380)\" d=\"M1963.4 126.257 Q1960.29 131.581 1958.79 136.789 Q1957.29 141.997 1957.29 147.344 Q1957.29 152.692 1958.79 157.946 Q1960.32 163.178 1963.4 168.479 L1959.69 168.479 Q1956.22 163.039 1954.48 157.784 Q1952.77 152.53 1952.77 147.344 Q1952.77 142.182 1954.48 136.951 Q1956.2 131.72 1959.69 126.257 L1963.4 126.257 Z\" fill=\"#000000\" fill-rule=\"evenodd\" fill-opacity=\"1\" /><path clip-path=\"url(#clip380)\" d=\"M1993.21 136.303 L1983.84 148.919 L1993.7 162.229 L1988.67 162.229 L1981.13 152.043 L1973.58 162.229 L1968.56 162.229 L1978.63 148.664 L1969.42 136.303 L1974.44 136.303 L1981.31 145.539 L1988.19 136.303 L1993.21 136.303 Z\" fill=\"#000000\" fill-rule=\"evenodd\" fill-opacity=\"1\" /><path clip-path=\"url(#clip380)\" d=\"M1999.04 126.257 L2002.75 126.257 Q2006.22 131.72 2007.93 136.951 Q2009.67 142.182 2009.67 147.344 Q2009.67 152.53 2007.93 157.784 Q2006.22 163.039 2002.75 168.479 L1999.04 168.479 Q2002.12 163.178 2003.63 157.946 Q2005.16 152.692 2005.16 147.344 Q2005.16 141.997 2003.63 136.789 Q2002.12 131.581 1999.04 126.257 Z\" fill=\"#000000\" fill-rule=\"evenodd\" fill-opacity=\"1\" /></svg>\n"
      ]
     },
     "execution_count": 96,
     "metadata": {},
     "output_type": "execute_result"
    }
   ],
   "source": [
    "# scatter plot with markers colored by a third variable.\n",
    "x = 0:20:720\n",
    "y = sind.(x)\n",
    "z = abs.(y)\n",
    "scatter(x, y, zcolor = z,\n",
    "    xlabel = \"x (degrees)\", \n",
    "    ylabel = \"y \",\n",
    "    label = \"y = sin(x)\")"
   ]
  },
  {
   "cell_type": "code",
   "execution_count": 97,
   "metadata": {},
   "outputs": [
    {
     "data": {
      "image/svg+xml": [
       "<?xml version=\"1.0\" encoding=\"utf-8\"?>\n",
       "<svg xmlns=\"http://www.w3.org/2000/svg\" xmlns:xlink=\"http://www.w3.org/1999/xlink\" width=\"600\" height=\"400\" viewBox=\"0 0 2400 1600\">\n",
       "<defs>\n",
       "  <clipPath id=\"clip420\">\n",
       "    <rect x=\"0\" y=\"0\" width=\"2400\" height=\"1600\"/>\n",
       "  </clipPath>\n",
       "</defs>\n",
       "<path clip-path=\"url(#clip420)\" d=\"\n",
       "M0 1600 L2400 1600 L2400 0 L0 0  Z\n",
       "  \" fill=\"#ffffff\" fill-rule=\"evenodd\" fill-opacity=\"1\"/>\n",
       "<defs>\n",
       "  <clipPath id=\"clip421\">\n",
       "    <rect x=\"480\" y=\"0\" width=\"1681\" height=\"1600\"/>\n",
       "  </clipPath>\n",
       "</defs>\n",
       "<path clip-path=\"url(#clip420)\" d=\"\n",
       "M257.204 1423.18 L2112.76 1423.18 L2112.76 47.2441 L257.204 47.2441  Z\n",
       "  \" fill=\"#ffffff\" fill-rule=\"evenodd\" fill-opacity=\"1\"/>\n",
       "<defs>\n",
       "  <clipPath id=\"clip422\">\n",
       "    <rect x=\"257\" y=\"47\" width=\"1857\" height=\"1377\"/>\n",
       "  </clipPath>\n",
       "</defs>\n",
       "<polyline clip-path=\"url(#clip422)\" style=\"stroke:#000000; stroke-linecap:butt; stroke-linejoin:round; stroke-width:2; stroke-opacity:0.1; fill:none\" points=\"\n",
       "  309.72,1423.18 309.72,47.2441 \n",
       "  \"/>\n",
       "<polyline clip-path=\"url(#clip422)\" style=\"stroke:#000000; stroke-linecap:butt; stroke-linejoin:round; stroke-width:2; stroke-opacity:0.1; fill:none\" points=\"\n",
       "  795.975,1423.18 795.975,47.2441 \n",
       "  \"/>\n",
       "<polyline clip-path=\"url(#clip422)\" style=\"stroke:#000000; stroke-linecap:butt; stroke-linejoin:round; stroke-width:2; stroke-opacity:0.1; fill:none\" points=\"\n",
       "  1282.23,1423.18 1282.23,47.2441 \n",
       "  \"/>\n",
       "<polyline clip-path=\"url(#clip422)\" style=\"stroke:#000000; stroke-linecap:butt; stroke-linejoin:round; stroke-width:2; stroke-opacity:0.1; fill:none\" points=\"\n",
       "  1768.49,1423.18 1768.49,47.2441 \n",
       "  \"/>\n",
       "<polyline clip-path=\"url(#clip420)\" style=\"stroke:#000000; stroke-linecap:butt; stroke-linejoin:round; stroke-width:4; stroke-opacity:1; fill:none\" points=\"\n",
       "  257.204,1423.18 2112.76,1423.18 \n",
       "  \"/>\n",
       "<polyline clip-path=\"url(#clip420)\" style=\"stroke:#000000; stroke-linecap:butt; stroke-linejoin:round; stroke-width:4; stroke-opacity:1; fill:none\" points=\"\n",
       "  309.72,1423.18 309.72,1404.28 \n",
       "  \"/>\n",
       "<polyline clip-path=\"url(#clip420)\" style=\"stroke:#000000; stroke-linecap:butt; stroke-linejoin:round; stroke-width:4; stroke-opacity:1; fill:none\" points=\"\n",
       "  795.975,1423.18 795.975,1404.28 \n",
       "  \"/>\n",
       "<polyline clip-path=\"url(#clip420)\" style=\"stroke:#000000; stroke-linecap:butt; stroke-linejoin:round; stroke-width:4; stroke-opacity:1; fill:none\" points=\"\n",
       "  1282.23,1423.18 1282.23,1404.28 \n",
       "  \"/>\n",
       "<polyline clip-path=\"url(#clip420)\" style=\"stroke:#000000; stroke-linecap:butt; stroke-linejoin:round; stroke-width:4; stroke-opacity:1; fill:none\" points=\"\n",
       "  1768.49,1423.18 1768.49,1404.28 \n",
       "  \"/>\n",
       "<path clip-path=\"url(#clip420)\" d=\"M309.72 1452.37 Q306.109 1452.37 304.28 1455.94 Q302.474 1459.48 302.474 1466.61 Q302.474 1473.71 304.28 1477.28 Q306.109 1480.82 309.72 1480.82 Q313.354 1480.82 315.159 1477.28 Q316.988 1473.71 316.988 1466.61 Q316.988 1459.48 315.159 1455.94 Q313.354 1452.37 309.72 1452.37 M309.72 1448.67 Q315.53 1448.67 318.585 1453.27 Q321.664 1457.86 321.664 1466.61 Q321.664 1475.33 318.585 1479.94 Q315.53 1484.52 309.72 1484.52 Q303.909 1484.52 300.831 1479.94 Q297.775 1475.33 297.775 1466.61 Q297.775 1457.86 300.831 1453.27 Q303.909 1448.67 309.72 1448.67 Z\" fill=\"#000000\" fill-rule=\"evenodd\" fill-opacity=\"1\" /><path clip-path=\"url(#clip420)\" d=\"M759.668 1479.92 L775.987 1479.92 L775.987 1483.85 L754.043 1483.85 L754.043 1479.92 Q756.705 1477.16 761.288 1472.53 Q765.895 1467.88 767.075 1466.54 Q769.32 1464.01 770.2 1462.28 Q771.103 1460.52 771.103 1458.83 Q771.103 1456.07 769.158 1454.34 Q767.237 1452.6 764.135 1452.6 Q761.936 1452.6 759.483 1453.37 Q757.052 1454.13 754.274 1455.68 L754.274 1450.96 Q757.098 1449.82 759.552 1449.25 Q762.006 1448.67 764.043 1448.67 Q769.413 1448.67 772.607 1451.35 Q775.802 1454.04 775.802 1458.53 Q775.802 1460.66 774.992 1462.58 Q774.205 1464.48 772.098 1467.07 Q771.519 1467.74 768.418 1470.96 Q765.316 1474.15 759.668 1479.92 Z\" fill=\"#000000\" fill-rule=\"evenodd\" fill-opacity=\"1\" /><path clip-path=\"url(#clip420)\" d=\"M795.802 1452.37 Q792.191 1452.37 790.362 1455.94 Q788.556 1459.48 788.556 1466.61 Q788.556 1473.71 790.362 1477.28 Q792.191 1480.82 795.802 1480.82 Q799.436 1480.82 801.242 1477.28 Q803.07 1473.71 803.07 1466.61 Q803.07 1459.48 801.242 1455.94 Q799.436 1452.37 795.802 1452.37 M795.802 1448.67 Q801.612 1448.67 804.667 1453.27 Q807.746 1457.86 807.746 1466.61 Q807.746 1475.33 804.667 1479.94 Q801.612 1484.52 795.802 1484.52 Q789.992 1484.52 786.913 1479.94 Q783.857 1475.33 783.857 1466.61 Q783.857 1457.86 786.913 1453.27 Q789.992 1448.67 795.802 1448.67 Z\" fill=\"#000000\" fill-rule=\"evenodd\" fill-opacity=\"1\" /><path clip-path=\"url(#clip420)\" d=\"M825.964 1452.37 Q822.353 1452.37 820.524 1455.94 Q818.718 1459.48 818.718 1466.61 Q818.718 1473.71 820.524 1477.28 Q822.353 1480.82 825.964 1480.82 Q829.598 1480.82 831.403 1477.28 Q833.232 1473.71 833.232 1466.61 Q833.232 1459.48 831.403 1455.94 Q829.598 1452.37 825.964 1452.37 M825.964 1448.67 Q831.774 1448.67 834.829 1453.27 Q837.908 1457.86 837.908 1466.61 Q837.908 1475.33 834.829 1479.94 Q831.774 1484.52 825.964 1484.52 Q820.153 1484.52 817.075 1479.94 Q814.019 1475.33 814.019 1466.61 Q814.019 1457.86 817.075 1453.27 Q820.153 1448.67 825.964 1448.67 Z\" fill=\"#000000\" fill-rule=\"evenodd\" fill-opacity=\"1\" /><path clip-path=\"url(#clip420)\" d=\"M1255.32 1453.37 L1243.52 1471.81 L1255.32 1471.81 L1255.32 1453.37 M1254.09 1449.29 L1259.97 1449.29 L1259.97 1471.81 L1264.9 1471.81 L1264.9 1475.7 L1259.97 1475.7 L1259.97 1483.85 L1255.32 1483.85 L1255.32 1475.7 L1239.72 1475.7 L1239.72 1471.19 L1254.09 1449.29 Z\" fill=\"#000000\" fill-rule=\"evenodd\" fill-opacity=\"1\" /><path clip-path=\"url(#clip420)\" d=\"M1282.64 1452.37 Q1279.03 1452.37 1277.2 1455.94 Q1275.39 1459.48 1275.39 1466.61 Q1275.39 1473.71 1277.2 1477.28 Q1279.03 1480.82 1282.64 1480.82 Q1286.27 1480.82 1288.08 1477.28 Q1289.9 1473.71 1289.9 1466.61 Q1289.9 1459.48 1288.08 1455.94 Q1286.27 1452.37 1282.64 1452.37 M1282.64 1448.67 Q1288.45 1448.67 1291.5 1453.27 Q1294.58 1457.86 1294.58 1466.61 Q1294.58 1475.33 1291.5 1479.94 Q1288.45 1484.52 1282.64 1484.52 Q1276.83 1484.52 1273.75 1479.94 Q1270.69 1475.33 1270.69 1466.61 Q1270.69 1457.86 1273.75 1453.27 Q1276.83 1448.67 1282.64 1448.67 Z\" fill=\"#000000\" fill-rule=\"evenodd\" fill-opacity=\"1\" /><path clip-path=\"url(#clip420)\" d=\"M1312.8 1452.37 Q1309.19 1452.37 1307.36 1455.94 Q1305.55 1459.48 1305.55 1466.61 Q1305.55 1473.71 1307.36 1477.28 Q1309.19 1480.82 1312.8 1480.82 Q1316.43 1480.82 1318.24 1477.28 Q1320.07 1473.71 1320.07 1466.61 Q1320.07 1459.48 1318.24 1455.94 Q1316.43 1452.37 1312.8 1452.37 M1312.8 1448.67 Q1318.61 1448.67 1321.66 1453.27 Q1324.74 1457.86 1324.74 1466.61 Q1324.74 1475.33 1321.66 1479.94 Q1318.61 1484.52 1312.8 1484.52 Q1306.99 1484.52 1303.91 1479.94 Q1300.85 1475.33 1300.85 1466.61 Q1300.85 1457.86 1303.91 1453.27 Q1306.99 1448.67 1312.8 1448.67 Z\" fill=\"#000000\" fill-rule=\"evenodd\" fill-opacity=\"1\" /><path clip-path=\"url(#clip420)\" d=\"M1738.81 1464.71 Q1735.66 1464.71 1733.81 1466.86 Q1731.98 1469.01 1731.98 1472.76 Q1731.98 1476.49 1733.81 1478.67 Q1735.66 1480.82 1738.81 1480.82 Q1741.96 1480.82 1743.79 1478.67 Q1745.64 1476.49 1745.64 1472.76 Q1745.64 1469.01 1743.79 1466.86 Q1741.96 1464.71 1738.81 1464.71 M1748.09 1450.06 L1748.09 1454.31 Q1746.33 1453.48 1744.53 1453.04 Q1742.75 1452.6 1740.99 1452.6 Q1736.36 1452.6 1733.9 1455.73 Q1731.47 1458.85 1731.13 1465.17 Q1732.49 1463.16 1734.55 1462.09 Q1736.61 1461 1739.09 1461 Q1744.3 1461 1747.31 1464.18 Q1750.34 1467.32 1750.34 1472.76 Q1750.34 1478.09 1747.19 1481.31 Q1744.04 1484.52 1738.81 1484.52 Q1732.82 1484.52 1729.64 1479.94 Q1726.47 1475.33 1726.47 1466.61 Q1726.47 1458.41 1730.36 1453.55 Q1734.25 1448.67 1740.8 1448.67 Q1742.56 1448.67 1744.34 1449.01 Q1746.15 1449.36 1748.09 1450.06 Z\" fill=\"#000000\" fill-rule=\"evenodd\" fill-opacity=\"1\" /><path clip-path=\"url(#clip420)\" d=\"M1768.39 1452.37 Q1764.78 1452.37 1762.95 1455.94 Q1761.15 1459.48 1761.15 1466.61 Q1761.15 1473.71 1762.95 1477.28 Q1764.78 1480.82 1768.39 1480.82 Q1772.03 1480.82 1773.83 1477.28 Q1775.66 1473.71 1775.66 1466.61 Q1775.66 1459.48 1773.83 1455.94 Q1772.03 1452.37 1768.39 1452.37 M1768.39 1448.67 Q1774.2 1448.67 1777.26 1453.27 Q1780.34 1457.86 1780.34 1466.61 Q1780.34 1475.33 1777.26 1479.94 Q1774.2 1484.52 1768.39 1484.52 Q1762.58 1484.52 1759.51 1479.94 Q1756.45 1475.33 1756.45 1466.61 Q1756.45 1457.86 1759.51 1453.27 Q1762.58 1448.67 1768.39 1448.67 Z\" fill=\"#000000\" fill-rule=\"evenodd\" fill-opacity=\"1\" /><path clip-path=\"url(#clip420)\" d=\"M1798.56 1452.37 Q1794.95 1452.37 1793.12 1455.94 Q1791.31 1459.48 1791.31 1466.61 Q1791.31 1473.71 1793.12 1477.28 Q1794.95 1480.82 1798.56 1480.82 Q1802.19 1480.82 1804 1477.28 Q1805.82 1473.71 1805.82 1466.61 Q1805.82 1459.48 1804 1455.94 Q1802.19 1452.37 1798.56 1452.37 M1798.56 1448.67 Q1804.37 1448.67 1807.42 1453.27 Q1810.5 1457.86 1810.5 1466.61 Q1810.5 1475.33 1807.42 1479.94 Q1804.37 1484.52 1798.56 1484.52 Q1792.75 1484.52 1789.67 1479.94 Q1786.61 1475.33 1786.61 1466.61 Q1786.61 1457.86 1789.67 1453.27 Q1792.75 1448.67 1798.56 1448.67 Z\" fill=\"#000000\" fill-rule=\"evenodd\" fill-opacity=\"1\" /><path clip-path=\"url(#clip420)\" d=\"M1036.34 1532.4 L1023.45 1549.74 L1037.01 1568.04 L1030.1 1568.04 L1019.73 1554.04 L1009.35 1568.04 L1002.44 1568.04 L1016.29 1549.39 L1003.62 1532.4 L1010.53 1532.4 L1019.98 1545.1 L1029.43 1532.4 L1036.34 1532.4 Z\" fill=\"#000000\" fill-rule=\"evenodd\" fill-opacity=\"1\" /><path clip-path=\"url(#clip420)\" d=\"M1080.07 1518.58 Q1075.81 1525.9 1073.74 1533.06 Q1071.67 1540.23 1071.67 1547.58 Q1071.67 1554.93 1073.74 1562.16 Q1075.84 1569.35 1080.07 1576.64 L1074.98 1576.64 Q1070.21 1569.16 1067.82 1561.93 Q1065.46 1554.71 1065.46 1547.58 Q1065.46 1540.48 1067.82 1533.29 Q1070.17 1526.09 1074.98 1518.58 L1080.07 1518.58 Z\" fill=\"#000000\" fill-rule=\"evenodd\" fill-opacity=\"1\" /><path clip-path=\"url(#clip420)\" d=\"M1114.89 1537.81 L1114.89 1518.52 L1120.75 1518.52 L1120.75 1568.04 L1114.89 1568.04 L1114.89 1562.7 Q1113.05 1565.88 1110.21 1567.44 Q1107.41 1568.97 1103.47 1568.97 Q1097.01 1568.97 1092.93 1563.81 Q1088.89 1558.65 1088.89 1550.25 Q1088.89 1541.85 1092.93 1536.69 Q1097.01 1531.54 1103.47 1531.54 Q1107.41 1531.54 1110.21 1533.1 Q1113.05 1534.62 1114.89 1537.81 M1094.94 1550.25 Q1094.94 1556.71 1097.58 1560.4 Q1100.25 1564.07 1104.9 1564.07 Q1109.55 1564.07 1112.22 1560.4 Q1114.89 1556.71 1114.89 1550.25 Q1114.89 1543.79 1112.22 1540.13 Q1109.55 1536.44 1104.9 1536.44 Q1100.25 1536.44 1097.58 1540.13 Q1094.94 1543.79 1094.94 1550.25 Z\" fill=\"#000000\" fill-rule=\"evenodd\" fill-opacity=\"1\" /><path clip-path=\"url(#clip420)\" d=\"M1163.3 1548.76 L1163.3 1551.62 L1136.38 1551.62 Q1136.76 1557.67 1140.01 1560.85 Q1143.28 1564 1149.11 1564 Q1152.48 1564 1155.63 1563.17 Q1158.82 1562.35 1161.94 1560.69 L1161.94 1566.23 Q1158.79 1567.57 1155.47 1568.27 Q1152.16 1568.97 1148.76 1568.97 Q1140.23 1568.97 1135.23 1564 Q1130.27 1559.04 1130.27 1550.57 Q1130.27 1541.82 1134.98 1536.69 Q1139.72 1531.54 1147.74 1531.54 Q1154.93 1531.54 1159.1 1536.18 Q1163.3 1540.8 1163.3 1548.76 M1157.45 1547.04 Q1157.38 1542.23 1154.74 1539.37 Q1152.13 1536.5 1147.8 1536.5 Q1142.9 1536.5 1139.94 1539.27 Q1137.01 1542.04 1136.57 1547.07 L1157.45 1547.04 Z\" fill=\"#000000\" fill-rule=\"evenodd\" fill-opacity=\"1\" /><path clip-path=\"url(#clip420)\" d=\"M1196.37 1549.81 Q1196.37 1543.44 1193.73 1539.94 Q1191.12 1536.44 1186.38 1536.44 Q1181.67 1536.44 1179.03 1539.94 Q1176.42 1543.44 1176.42 1549.81 Q1176.42 1556.14 1179.03 1559.64 Q1181.67 1563.14 1186.38 1563.14 Q1191.12 1563.14 1193.73 1559.64 Q1196.37 1556.14 1196.37 1549.81 M1202.23 1563.62 Q1202.23 1572.72 1198.19 1577.15 Q1194.15 1581.6 1185.81 1581.6 Q1182.72 1581.6 1179.98 1581.13 Q1177.25 1580.68 1174.67 1579.72 L1174.67 1574.03 Q1177.25 1575.43 1179.76 1576.1 Q1182.27 1576.76 1184.88 1576.76 Q1190.65 1576.76 1193.51 1573.74 Q1196.37 1570.75 1196.37 1564.67 L1196.37 1561.77 Q1194.56 1564.92 1191.73 1566.48 Q1188.89 1568.04 1184.95 1568.04 Q1178.39 1568.04 1174.38 1563.05 Q1170.37 1558.05 1170.37 1549.81 Q1170.37 1541.53 1174.38 1536.53 Q1178.39 1531.54 1184.95 1531.54 Q1188.89 1531.54 1191.73 1533.1 Q1194.56 1534.66 1196.37 1537.81 L1196.37 1532.4 L1202.23 1532.4 L1202.23 1563.62 Z\" fill=\"#000000\" fill-rule=\"evenodd\" fill-opacity=\"1\" /><path clip-path=\"url(#clip420)\" d=\"M1234.95 1537.87 Q1233.96 1537.3 1232.79 1537.04 Q1231.64 1536.76 1230.24 1536.76 Q1225.27 1536.76 1222.6 1540 Q1219.96 1543.22 1219.96 1549.27 L1219.96 1568.04 L1214.07 1568.04 L1214.07 1532.4 L1219.96 1532.4 L1219.96 1537.93 Q1221.81 1534.69 1224.77 1533.13 Q1227.73 1531.54 1231.96 1531.54 Q1232.56 1531.54 1233.3 1531.63 Q1234.03 1531.7 1234.92 1531.85 L1234.95 1537.87 Z\" fill=\"#000000\" fill-rule=\"evenodd\" fill-opacity=\"1\" /><path clip-path=\"url(#clip420)\" d=\"M1270.15 1548.76 L1270.15 1551.62 L1243.23 1551.62 Q1243.61 1557.67 1246.85 1560.85 Q1250.13 1564 1255.96 1564 Q1259.33 1564 1262.48 1563.17 Q1265.67 1562.35 1268.78 1560.69 L1268.78 1566.23 Q1265.63 1567.57 1262.32 1568.27 Q1259.01 1568.97 1255.61 1568.97 Q1247.08 1568.97 1242.08 1564 Q1237.12 1559.04 1237.12 1550.57 Q1237.12 1541.82 1241.83 1536.69 Q1246.57 1531.54 1254.59 1531.54 Q1261.78 1531.54 1265.95 1536.18 Q1270.15 1540.8 1270.15 1548.76 M1264.3 1547.04 Q1264.23 1542.23 1261.59 1539.37 Q1258.98 1536.5 1254.65 1536.5 Q1249.75 1536.5 1246.79 1539.27 Q1243.86 1542.04 1243.42 1547.07 L1264.3 1547.04 Z\" fill=\"#000000\" fill-rule=\"evenodd\" fill-opacity=\"1\" /><path clip-path=\"url(#clip420)\" d=\"M1310.26 1548.76 L1310.26 1551.62 L1283.33 1551.62 Q1283.71 1557.67 1286.96 1560.85 Q1290.24 1564 1296.06 1564 Q1299.44 1564 1302.59 1563.17 Q1305.77 1562.35 1308.89 1560.69 L1308.89 1566.23 Q1305.74 1567.57 1302.43 1568.27 Q1299.12 1568.97 1295.71 1568.97 Q1287.18 1568.97 1282.18 1564 Q1277.22 1559.04 1277.22 1550.57 Q1277.22 1541.82 1281.93 1536.69 Q1286.67 1531.54 1294.69 1531.54 Q1301.89 1531.54 1306.06 1536.18 Q1310.26 1540.8 1310.26 1548.76 M1304.4 1547.04 Q1304.34 1542.23 1301.7 1539.37 Q1299.09 1536.5 1294.76 1536.5 Q1289.85 1536.5 1286.89 1539.27 Q1283.97 1542.04 1283.52 1547.07 L1304.4 1547.04 Z\" fill=\"#000000\" fill-rule=\"evenodd\" fill-opacity=\"1\" /><path clip-path=\"url(#clip420)\" d=\"M1342.59 1533.45 L1342.59 1538.98 Q1340.11 1537.71 1337.44 1537.07 Q1334.77 1536.44 1331.9 1536.44 Q1327.54 1536.44 1325.34 1537.77 Q1323.18 1539.11 1323.18 1541.79 Q1323.18 1543.82 1324.74 1545 Q1326.3 1546.15 1331.01 1547.2 L1333.01 1547.64 Q1339.25 1548.98 1341.86 1551.43 Q1344.5 1553.85 1344.5 1558.21 Q1344.5 1563.17 1340.56 1566.07 Q1336.64 1568.97 1329.77 1568.97 Q1326.9 1568.97 1323.78 1568.39 Q1320.7 1567.85 1317.26 1566.74 L1317.26 1560.69 Q1320.51 1562.38 1323.66 1563.24 Q1326.81 1564.07 1329.9 1564.07 Q1334.03 1564.07 1336.26 1562.66 Q1338.49 1561.23 1338.49 1558.65 Q1338.49 1556.27 1336.87 1554.99 Q1335.27 1553.72 1329.83 1552.54 L1327.79 1552.07 Q1322.35 1550.92 1319.93 1548.56 Q1317.51 1546.18 1317.51 1542.04 Q1317.51 1537.01 1321.08 1534.27 Q1324.64 1531.54 1331.2 1531.54 Q1334.45 1531.54 1337.31 1532.01 Q1340.18 1532.49 1342.59 1533.45 Z\" fill=\"#000000\" fill-rule=\"evenodd\" fill-opacity=\"1\" /><path clip-path=\"url(#clip420)\" d=\"M1352.91 1518.58 L1358 1518.58 Q1362.77 1526.09 1365.13 1533.29 Q1367.52 1540.48 1367.52 1547.58 Q1367.52 1554.71 1365.13 1561.93 Q1362.77 1569.16 1358 1576.64 L1352.91 1576.64 Q1357.14 1569.35 1359.21 1562.16 Q1361.31 1554.93 1361.31 1547.58 Q1361.31 1540.23 1359.21 1533.06 Q1357.14 1525.9 1352.91 1518.58 Z\" fill=\"#000000\" fill-rule=\"evenodd\" fill-opacity=\"1\" /><polyline clip-path=\"url(#clip422)\" style=\"stroke:#000000; stroke-linecap:butt; stroke-linejoin:round; stroke-width:2; stroke-opacity:0.1; fill:none\" points=\"\n",
       "  257.204,1394.25 2112.76,1394.25 \n",
       "  \"/>\n",
       "<polyline clip-path=\"url(#clip422)\" style=\"stroke:#000000; stroke-linecap:butt; stroke-linejoin:round; stroke-width:2; stroke-opacity:0.1; fill:none\" points=\"\n",
       "  257.204,1064.73 2112.76,1064.73 \n",
       "  \"/>\n",
       "<polyline clip-path=\"url(#clip422)\" style=\"stroke:#000000; stroke-linecap:butt; stroke-linejoin:round; stroke-width:2; stroke-opacity:0.1; fill:none\" points=\"\n",
       "  257.204,735.212 2112.76,735.212 \n",
       "  \"/>\n",
       "<polyline clip-path=\"url(#clip422)\" style=\"stroke:#000000; stroke-linecap:butt; stroke-linejoin:round; stroke-width:2; stroke-opacity:0.1; fill:none\" points=\"\n",
       "  257.204,405.693 2112.76,405.693 \n",
       "  \"/>\n",
       "<polyline clip-path=\"url(#clip422)\" style=\"stroke:#000000; stroke-linecap:butt; stroke-linejoin:round; stroke-width:2; stroke-opacity:0.1; fill:none\" points=\"\n",
       "  257.204,76.1734 2112.76,76.1734 \n",
       "  \"/>\n",
       "<polyline clip-path=\"url(#clip420)\" style=\"stroke:#000000; stroke-linecap:butt; stroke-linejoin:round; stroke-width:4; stroke-opacity:1; fill:none\" points=\"\n",
       "  257.204,1423.18 257.204,47.2441 \n",
       "  \"/>\n",
       "<polyline clip-path=\"url(#clip420)\" style=\"stroke:#000000; stroke-linecap:butt; stroke-linejoin:round; stroke-width:4; stroke-opacity:1; fill:none\" points=\"\n",
       "  257.204,1394.25 273.937,1394.25 \n",
       "  \"/>\n",
       "<polyline clip-path=\"url(#clip420)\" style=\"stroke:#000000; stroke-linecap:butt; stroke-linejoin:round; stroke-width:4; stroke-opacity:1; fill:none\" points=\"\n",
       "  257.204,1064.73 273.937,1064.73 \n",
       "  \"/>\n",
       "<polyline clip-path=\"url(#clip420)\" style=\"stroke:#000000; stroke-linecap:butt; stroke-linejoin:round; stroke-width:4; stroke-opacity:1; fill:none\" points=\"\n",
       "  257.204,735.212 273.937,735.212 \n",
       "  \"/>\n",
       "<polyline clip-path=\"url(#clip420)\" style=\"stroke:#000000; stroke-linecap:butt; stroke-linejoin:round; stroke-width:4; stroke-opacity:1; fill:none\" points=\"\n",
       "  257.204,405.693 273.937,405.693 \n",
       "  \"/>\n",
       "<polyline clip-path=\"url(#clip420)\" style=\"stroke:#000000; stroke-linecap:butt; stroke-linejoin:round; stroke-width:4; stroke-opacity:1; fill:none\" points=\"\n",
       "  257.204,76.1734 273.937,76.1734 \n",
       "  \"/>\n",
       "<path clip-path=\"url(#clip420)\" d=\"M114.26 1394.7 L143.936 1394.7 L143.936 1398.64 L114.26 1398.64 L114.26 1394.7 Z\" fill=\"#000000\" fill-rule=\"evenodd\" fill-opacity=\"1\" /><path clip-path=\"url(#clip420)\" d=\"M154.839 1407.6 L162.477 1407.6 L162.477 1381.23 L154.167 1382.9 L154.167 1378.64 L162.431 1376.97 L167.107 1376.97 L167.107 1407.6 L174.746 1407.6 L174.746 1411.53 L154.839 1411.53 L154.839 1407.6 Z\" fill=\"#000000\" fill-rule=\"evenodd\" fill-opacity=\"1\" /><path clip-path=\"url(#clip420)\" d=\"M184.19 1405.65 L189.075 1405.65 L189.075 1411.53 L184.19 1411.53 L184.19 1405.65 Z\" fill=\"#000000\" fill-rule=\"evenodd\" fill-opacity=\"1\" /><path clip-path=\"url(#clip420)\" d=\"M209.26 1380.05 Q205.649 1380.05 203.82 1383.61 Q202.014 1387.16 202.014 1394.29 Q202.014 1401.39 203.82 1404.96 Q205.649 1408.5 209.26 1408.5 Q212.894 1408.5 214.699 1404.96 Q216.528 1401.39 216.528 1394.29 Q216.528 1387.16 214.699 1383.61 Q212.894 1380.05 209.26 1380.05 M209.26 1376.35 Q215.07 1376.35 218.125 1380.95 Q221.204 1385.54 221.204 1394.29 Q221.204 1403.01 218.125 1407.62 Q215.07 1412.2 209.26 1412.2 Q203.449 1412.2 200.371 1407.62 Q197.315 1403.01 197.315 1394.29 Q197.315 1385.54 200.371 1380.95 Q203.449 1376.35 209.26 1376.35 Z\" fill=\"#000000\" fill-rule=\"evenodd\" fill-opacity=\"1\" /><path clip-path=\"url(#clip420)\" d=\"M115.256 1065.18 L144.931 1065.18 L144.931 1069.12 L115.256 1069.12 L115.256 1065.18 Z\" fill=\"#000000\" fill-rule=\"evenodd\" fill-opacity=\"1\" /><path clip-path=\"url(#clip420)\" d=\"M165.024 1050.53 Q161.413 1050.53 159.584 1054.09 Q157.778 1057.64 157.778 1064.77 Q157.778 1071.87 159.584 1075.44 Q161.413 1078.98 165.024 1078.98 Q168.658 1078.98 170.464 1075.44 Q172.292 1071.87 172.292 1064.77 Q172.292 1057.64 170.464 1054.09 Q168.658 1050.53 165.024 1050.53 M165.024 1046.83 Q170.834 1046.83 173.889 1051.43 Q176.968 1056.02 176.968 1064.77 Q176.968 1073.49 173.889 1078.1 Q170.834 1082.68 165.024 1082.68 Q159.214 1082.68 156.135 1078.1 Q153.079 1073.49 153.079 1064.77 Q153.079 1056.02 156.135 1051.43 Q159.214 1046.83 165.024 1046.83 Z\" fill=\"#000000\" fill-rule=\"evenodd\" fill-opacity=\"1\" /><path clip-path=\"url(#clip420)\" d=\"M185.186 1076.13 L190.07 1076.13 L190.07 1082.01 L185.186 1082.01 L185.186 1076.13 Z\" fill=\"#000000\" fill-rule=\"evenodd\" fill-opacity=\"1\" /><path clip-path=\"url(#clip420)\" d=\"M200.301 1047.45 L218.658 1047.45 L218.658 1051.39 L204.584 1051.39 L204.584 1059.86 Q205.602 1059.51 206.621 1059.35 Q207.639 1059.16 208.658 1059.16 Q214.445 1059.16 217.824 1062.34 Q221.204 1065.51 221.204 1070.92 Q221.204 1076.5 217.732 1079.6 Q214.26 1082.68 207.94 1082.68 Q205.764 1082.68 203.496 1082.31 Q201.25 1081.94 198.843 1081.2 L198.843 1076.5 Q200.926 1077.64 203.149 1078.19 Q205.371 1078.75 207.848 1078.75 Q211.852 1078.75 214.19 1076.64 Q216.528 1074.53 216.528 1070.92 Q216.528 1067.31 214.19 1065.21 Q211.852 1063.1 207.848 1063.1 Q205.973 1063.1 204.098 1063.52 Q202.246 1063.93 200.301 1064.81 L200.301 1047.45 Z\" fill=\"#000000\" fill-rule=\"evenodd\" fill-opacity=\"1\" /><path clip-path=\"url(#clip420)\" d=\"M164.028 721.011 Q160.417 721.011 158.589 724.575 Q156.783 728.117 156.783 735.247 Q156.783 742.353 158.589 745.918 Q160.417 749.46 164.028 749.46 Q167.663 749.46 169.468 745.918 Q171.297 742.353 171.297 735.247 Q171.297 728.117 169.468 724.575 Q167.663 721.011 164.028 721.011 M164.028 717.307 Q169.839 717.307 172.894 721.913 Q175.973 726.497 175.973 735.247 Q175.973 743.973 172.894 748.58 Q169.839 753.163 164.028 753.163 Q158.218 753.163 155.14 748.58 Q152.084 743.973 152.084 735.247 Q152.084 726.497 155.14 721.913 Q158.218 717.307 164.028 717.307 Z\" fill=\"#000000\" fill-rule=\"evenodd\" fill-opacity=\"1\" /><path clip-path=\"url(#clip420)\" d=\"M184.19 746.612 L189.075 746.612 L189.075 752.492 L184.19 752.492 L184.19 746.612 Z\" fill=\"#000000\" fill-rule=\"evenodd\" fill-opacity=\"1\" /><path clip-path=\"url(#clip420)\" d=\"M209.26 721.011 Q205.649 721.011 203.82 724.575 Q202.014 728.117 202.014 735.247 Q202.014 742.353 203.82 745.918 Q205.649 749.46 209.26 749.46 Q212.894 749.46 214.699 745.918 Q216.528 742.353 216.528 735.247 Q216.528 728.117 214.699 724.575 Q212.894 721.011 209.26 721.011 M209.26 717.307 Q215.07 717.307 218.125 721.913 Q221.204 726.497 221.204 735.247 Q221.204 743.973 218.125 748.58 Q215.07 753.163 209.26 753.163 Q203.449 753.163 200.371 748.58 Q197.315 743.973 197.315 735.247 Q197.315 726.497 200.371 721.913 Q203.449 717.307 209.26 717.307 Z\" fill=\"#000000\" fill-rule=\"evenodd\" fill-opacity=\"1\" /><path clip-path=\"url(#clip420)\" d=\"M165.024 391.491 Q161.413 391.491 159.584 395.056 Q157.778 398.598 157.778 405.727 Q157.778 412.834 159.584 416.399 Q161.413 419.94 165.024 419.94 Q168.658 419.94 170.464 416.399 Q172.292 412.834 172.292 405.727 Q172.292 398.598 170.464 395.056 Q168.658 391.491 165.024 391.491 M165.024 387.788 Q170.834 387.788 173.889 392.394 Q176.968 396.977 176.968 405.727 Q176.968 414.454 173.889 419.061 Q170.834 423.644 165.024 423.644 Q159.214 423.644 156.135 419.061 Q153.079 414.454 153.079 405.727 Q153.079 396.977 156.135 392.394 Q159.214 387.788 165.024 387.788 Z\" fill=\"#000000\" fill-rule=\"evenodd\" fill-opacity=\"1\" /><path clip-path=\"url(#clip420)\" d=\"M185.186 417.093 L190.07 417.093 L190.07 422.973 L185.186 422.973 L185.186 417.093 Z\" fill=\"#000000\" fill-rule=\"evenodd\" fill-opacity=\"1\" /><path clip-path=\"url(#clip420)\" d=\"M200.301 388.413 L218.658 388.413 L218.658 392.348 L204.584 392.348 L204.584 400.82 Q205.602 400.473 206.621 400.311 Q207.639 400.126 208.658 400.126 Q214.445 400.126 217.824 403.297 Q221.204 406.468 221.204 411.885 Q221.204 417.463 217.732 420.565 Q214.26 423.644 207.94 423.644 Q205.764 423.644 203.496 423.274 Q201.25 422.903 198.843 422.163 L198.843 417.463 Q200.926 418.598 203.149 419.153 Q205.371 419.709 207.848 419.709 Q211.852 419.709 214.19 417.602 Q216.528 415.496 216.528 411.885 Q216.528 408.274 214.19 406.167 Q211.852 404.061 207.848 404.061 Q205.973 404.061 204.098 404.477 Q202.246 404.894 200.301 405.774 L200.301 388.413 Z\" fill=\"#000000\" fill-rule=\"evenodd\" fill-opacity=\"1\" /><path clip-path=\"url(#clip420)\" d=\"M154.839 89.5182 L162.477 89.5182 L162.477 63.1526 L154.167 64.8193 L154.167 60.5601 L162.431 58.8934 L167.107 58.8934 L167.107 89.5182 L174.746 89.5182 L174.746 93.4534 L154.839 93.4534 L154.839 89.5182 Z\" fill=\"#000000\" fill-rule=\"evenodd\" fill-opacity=\"1\" /><path clip-path=\"url(#clip420)\" d=\"M184.19 87.5738 L189.075 87.5738 L189.075 93.4534 L184.19 93.4534 L184.19 87.5738 Z\" fill=\"#000000\" fill-rule=\"evenodd\" fill-opacity=\"1\" /><path clip-path=\"url(#clip420)\" d=\"M209.26 61.9721 Q205.649 61.9721 203.82 65.5369 Q202.014 69.0785 202.014 76.2081 Q202.014 83.3146 203.82 86.8794 Q205.649 90.421 209.26 90.421 Q212.894 90.421 214.699 86.8794 Q216.528 83.3146 216.528 76.2081 Q216.528 69.0785 214.699 65.5369 Q212.894 61.9721 209.26 61.9721 M209.26 58.2684 Q215.07 58.2684 218.125 62.8749 Q221.204 67.4582 221.204 76.2081 Q221.204 84.9349 218.125 89.5414 Q215.07 94.1247 209.26 94.1247 Q203.449 94.1247 200.371 89.5414 Q197.315 84.9349 197.315 76.2081 Q197.315 67.4582 200.371 62.8749 Q203.449 58.2684 209.26 58.2684 Z\" fill=\"#000000\" fill-rule=\"evenodd\" fill-opacity=\"1\" /><path clip-path=\"url(#clip420)\" d=\"M67.3143 744.856 Q73.68 747.339 75.6216 749.694 Q77.5631 752.049 77.5631 755.996 L77.5631 760.675 L72.6615 760.675 L72.6615 757.237 Q72.6615 754.818 71.5157 753.482 Q70.3699 752.145 66.1048 750.521 L63.4312 749.471 L28.3562 763.889 L28.3562 757.683 L56.238 746.543 L28.3562 735.403 L28.3562 729.196 L67.3143 744.856 Z\" fill=\"#000000\" fill-rule=\"evenodd\" fill-opacity=\"1\" /><circle clip-path=\"url(#clip422)\" cx=\"309.72\" cy=\"735.212\" r=\"14\" fill=\"#30123b\" fill-rule=\"evenodd\" fill-opacity=\"1\" stroke=\"#000000\" stroke-opacity=\"1\" stroke-width=\"3.2\"/>\n",
       "<circle clip-path=\"url(#clip422)\" cx=\"358.345\" cy=\"509.808\" r=\"14\" fill=\"#1fe9ad\" fill-rule=\"evenodd\" fill-opacity=\"1\" stroke=\"#000000\" stroke-opacity=\"1\" stroke-width=\"3.2\"/>\n",
       "<circle clip-path=\"url(#clip422)\" cx=\"406.971\" cy=\"311.59\" r=\"14\" fill=\"#f6c139\" fill-rule=\"evenodd\" fill-opacity=\"1\" stroke=\"#000000\" stroke-opacity=\"1\" stroke-width=\"3.2\"/>\n",
       "<circle clip-path=\"url(#clip422)\" cx=\"455.596\" cy=\"164.468\" r=\"14\" fill=\"#cf2e04\" fill-rule=\"evenodd\" fill-opacity=\"1\" stroke=\"#000000\" stroke-opacity=\"1\" stroke-width=\"3.2\"/>\n",
       "<circle clip-path=\"url(#clip422)\" cx=\"504.222\" cy=\"86.1857\" r=\"14\" fill=\"#7a0402\" fill-rule=\"evenodd\" fill-opacity=\"1\" stroke=\"#000000\" stroke-opacity=\"1\" stroke-width=\"3.2\"/>\n",
       "<circle clip-path=\"url(#clip422)\" cx=\"552.848\" cy=\"86.1857\" r=\"14\" fill=\"#7a0402\" fill-rule=\"evenodd\" fill-opacity=\"1\" stroke=\"#000000\" stroke-opacity=\"1\" stroke-width=\"3.2\"/>\n",
       "<circle clip-path=\"url(#clip422)\" cx=\"601.473\" cy=\"164.468\" r=\"14\" fill=\"#cf2e04\" fill-rule=\"evenodd\" fill-opacity=\"1\" stroke=\"#000000\" stroke-opacity=\"1\" stroke-width=\"3.2\"/>\n",
       "<circle clip-path=\"url(#clip422)\" cx=\"650.099\" cy=\"311.59\" r=\"14\" fill=\"#f6c139\" fill-rule=\"evenodd\" fill-opacity=\"1\" stroke=\"#000000\" stroke-opacity=\"1\" stroke-width=\"3.2\"/>\n",
       "<circle clip-path=\"url(#clip422)\" cx=\"698.724\" cy=\"509.808\" r=\"14\" fill=\"#1fe9ad\" fill-rule=\"evenodd\" fill-opacity=\"1\" stroke=\"#000000\" stroke-opacity=\"1\" stroke-width=\"3.2\"/>\n",
       "<circle clip-path=\"url(#clip422)\" cx=\"747.35\" cy=\"735.212\" r=\"14\" fill=\"#30123b\" fill-rule=\"evenodd\" fill-opacity=\"1\" stroke=\"#000000\" stroke-opacity=\"1\" stroke-width=\"3.2\"/>\n",
       "<circle clip-path=\"url(#clip422)\" cx=\"795.975\" cy=\"960.616\" r=\"14\" fill=\"#1fe9ad\" fill-rule=\"evenodd\" fill-opacity=\"1\" stroke=\"#000000\" stroke-opacity=\"1\" stroke-width=\"3.2\"/>\n",
       "<circle clip-path=\"url(#clip422)\" cx=\"844.601\" cy=\"1158.83\" r=\"14\" fill=\"#f6c139\" fill-rule=\"evenodd\" fill-opacity=\"1\" stroke=\"#000000\" stroke-opacity=\"1\" stroke-width=\"3.2\"/>\n",
       "<circle clip-path=\"url(#clip422)\" cx=\"893.227\" cy=\"1305.96\" r=\"14\" fill=\"#cf2e04\" fill-rule=\"evenodd\" fill-opacity=\"1\" stroke=\"#000000\" stroke-opacity=\"1\" stroke-width=\"3.2\"/>\n",
       "<circle clip-path=\"url(#clip422)\" cx=\"941.852\" cy=\"1384.24\" r=\"14\" fill=\"#7a0402\" fill-rule=\"evenodd\" fill-opacity=\"1\" stroke=\"#000000\" stroke-opacity=\"1\" stroke-width=\"3.2\"/>\n",
       "<circle clip-path=\"url(#clip422)\" cx=\"990.478\" cy=\"1384.24\" r=\"14\" fill=\"#7a0402\" fill-rule=\"evenodd\" fill-opacity=\"1\" stroke=\"#000000\" stroke-opacity=\"1\" stroke-width=\"3.2\"/>\n",
       "<circle clip-path=\"url(#clip422)\" cx=\"1039.1\" cy=\"1305.96\" r=\"14\" fill=\"#cf2e04\" fill-rule=\"evenodd\" fill-opacity=\"1\" stroke=\"#000000\" stroke-opacity=\"1\" stroke-width=\"3.2\"/>\n",
       "<circle clip-path=\"url(#clip422)\" cx=\"1087.73\" cy=\"1158.83\" r=\"14\" fill=\"#f6c139\" fill-rule=\"evenodd\" fill-opacity=\"1\" stroke=\"#000000\" stroke-opacity=\"1\" stroke-width=\"3.2\"/>\n",
       "<circle clip-path=\"url(#clip422)\" cx=\"1136.35\" cy=\"960.616\" r=\"14\" fill=\"#1fe9ad\" fill-rule=\"evenodd\" fill-opacity=\"1\" stroke=\"#000000\" stroke-opacity=\"1\" stroke-width=\"3.2\"/>\n",
       "<circle clip-path=\"url(#clip422)\" cx=\"1184.98\" cy=\"735.212\" r=\"14\" fill=\"#30123b\" fill-rule=\"evenodd\" fill-opacity=\"1\" stroke=\"#000000\" stroke-opacity=\"1\" stroke-width=\"3.2\"/>\n",
       "<circle clip-path=\"url(#clip422)\" cx=\"1233.61\" cy=\"509.808\" r=\"14\" fill=\"#1fe9ad\" fill-rule=\"evenodd\" fill-opacity=\"1\" stroke=\"#000000\" stroke-opacity=\"1\" stroke-width=\"3.2\"/>\n",
       "<circle clip-path=\"url(#clip422)\" cx=\"1282.23\" cy=\"311.59\" r=\"14\" fill=\"#f6c139\" fill-rule=\"evenodd\" fill-opacity=\"1\" stroke=\"#000000\" stroke-opacity=\"1\" stroke-width=\"3.2\"/>\n",
       "<circle clip-path=\"url(#clip422)\" cx=\"1330.86\" cy=\"164.468\" r=\"14\" fill=\"#cf2e04\" fill-rule=\"evenodd\" fill-opacity=\"1\" stroke=\"#000000\" stroke-opacity=\"1\" stroke-width=\"3.2\"/>\n",
       "<circle clip-path=\"url(#clip422)\" cx=\"1379.48\" cy=\"86.1857\" r=\"14\" fill=\"#7a0402\" fill-rule=\"evenodd\" fill-opacity=\"1\" stroke=\"#000000\" stroke-opacity=\"1\" stroke-width=\"3.2\"/>\n",
       "<circle clip-path=\"url(#clip422)\" cx=\"1428.11\" cy=\"86.1857\" r=\"14\" fill=\"#7a0402\" fill-rule=\"evenodd\" fill-opacity=\"1\" stroke=\"#000000\" stroke-opacity=\"1\" stroke-width=\"3.2\"/>\n",
       "<circle clip-path=\"url(#clip422)\" cx=\"1476.73\" cy=\"164.468\" r=\"14\" fill=\"#cf2e04\" fill-rule=\"evenodd\" fill-opacity=\"1\" stroke=\"#000000\" stroke-opacity=\"1\" stroke-width=\"3.2\"/>\n",
       "<circle clip-path=\"url(#clip422)\" cx=\"1525.36\" cy=\"311.59\" r=\"14\" fill=\"#f6c139\" fill-rule=\"evenodd\" fill-opacity=\"1\" stroke=\"#000000\" stroke-opacity=\"1\" stroke-width=\"3.2\"/>\n",
       "<circle clip-path=\"url(#clip422)\" cx=\"1573.98\" cy=\"509.808\" r=\"14\" fill=\"#1fe9ad\" fill-rule=\"evenodd\" fill-opacity=\"1\" stroke=\"#000000\" stroke-opacity=\"1\" stroke-width=\"3.2\"/>\n",
       "<circle clip-path=\"url(#clip422)\" cx=\"1622.61\" cy=\"735.212\" r=\"14\" fill=\"#30123b\" fill-rule=\"evenodd\" fill-opacity=\"1\" stroke=\"#000000\" stroke-opacity=\"1\" stroke-width=\"3.2\"/>\n",
       "<circle clip-path=\"url(#clip422)\" cx=\"1671.24\" cy=\"960.616\" r=\"14\" fill=\"#1fe9ad\" fill-rule=\"evenodd\" fill-opacity=\"1\" stroke=\"#000000\" stroke-opacity=\"1\" stroke-width=\"3.2\"/>\n",
       "<circle clip-path=\"url(#clip422)\" cx=\"1719.86\" cy=\"1158.83\" r=\"14\" fill=\"#f6c139\" fill-rule=\"evenodd\" fill-opacity=\"1\" stroke=\"#000000\" stroke-opacity=\"1\" stroke-width=\"3.2\"/>\n",
       "<circle clip-path=\"url(#clip422)\" cx=\"1768.49\" cy=\"1305.96\" r=\"14\" fill=\"#cf2e04\" fill-rule=\"evenodd\" fill-opacity=\"1\" stroke=\"#000000\" stroke-opacity=\"1\" stroke-width=\"3.2\"/>\n",
       "<circle clip-path=\"url(#clip422)\" cx=\"1817.11\" cy=\"1384.24\" r=\"14\" fill=\"#7a0402\" fill-rule=\"evenodd\" fill-opacity=\"1\" stroke=\"#000000\" stroke-opacity=\"1\" stroke-width=\"3.2\"/>\n",
       "<circle clip-path=\"url(#clip422)\" cx=\"1865.74\" cy=\"1384.24\" r=\"14\" fill=\"#7a0402\" fill-rule=\"evenodd\" fill-opacity=\"1\" stroke=\"#000000\" stroke-opacity=\"1\" stroke-width=\"3.2\"/>\n",
       "<circle clip-path=\"url(#clip422)\" cx=\"1914.36\" cy=\"1305.96\" r=\"14\" fill=\"#cf2e04\" fill-rule=\"evenodd\" fill-opacity=\"1\" stroke=\"#000000\" stroke-opacity=\"1\" stroke-width=\"3.2\"/>\n",
       "<circle clip-path=\"url(#clip422)\" cx=\"1962.99\" cy=\"1158.83\" r=\"14\" fill=\"#f6c139\" fill-rule=\"evenodd\" fill-opacity=\"1\" stroke=\"#000000\" stroke-opacity=\"1\" stroke-width=\"3.2\"/>\n",
       "<circle clip-path=\"url(#clip422)\" cx=\"2011.61\" cy=\"960.616\" r=\"14\" fill=\"#1fe9ad\" fill-rule=\"evenodd\" fill-opacity=\"1\" stroke=\"#000000\" stroke-opacity=\"1\" stroke-width=\"3.2\"/>\n",
       "<circle clip-path=\"url(#clip422)\" cx=\"2060.24\" cy=\"735.212\" r=\"14\" fill=\"#30123b\" fill-rule=\"evenodd\" fill-opacity=\"1\" stroke=\"#000000\" stroke-opacity=\"1\" stroke-width=\"3.2\"/>\n",
       "<defs>\n",
       "  <clipPath id=\"clip423\">\n",
       "    <rect x=\"2160\" y=\"47\" width=\"73\" height=\"1377\"/>\n",
       "  </clipPath>\n",
       "</defs>\n",
       "<g clip-path=\"url(#clip423)\">\n",
       "<image width=\"72\" height=\"1376\" xlink:href=\"data:image/png;base64,\n",
       "iVBORw0KGgoAAAANSUhEUgAAAEgAAAVgCAYAAADsKhu7AAAMF0lEQVR4nO3d25HjShIFQQBMqVfy\n",
       "fTSAleBmfJIf7hLQwo6BrCKn5/zXXO/BP7q+/QJ+nUBBoCBQECjM5/z2S/htFhQECgIFgcKMh/TK\n",
       "goJAQaAgUBAozOd0X7axoCBQECgIFNwHBQsKAgWBgkDBfVCwoCBQECgIFAQKjhrBgoJAQaAgUPCQ\n",
       "DhYUBAoCBYGCh3SwoCBQECgIFAQK3sWCBQWBgkBBoOAhHSwoCBQECgIFgcJ8JFrJEwQKAgWBgqNG\n",
       "sKAgUBAoCBQ8pIMFBYGCQEGgIFBwHxTkCQIFgYJAwVEjWFAQKAgUBAoe0sGCgkBBoCBQECjMJdFK\n",
       "niBQECgIFBw1ggUFgYJAQaAgUPDVc5AnCBQECgKFuRw1VhYUBAoCBYGCT9JBniBQECgIFAQKjhrB\n",
       "goJAQaAgUJiPp/TKgoJAQaAgUPAjziBPECgIFAQKAgW/cg0WFAQKAgWBgqNGkCcIFAQKAgWBwly+\n",
       "1VhZUBAoCBQECn4fFCwoCBQECgIF90FBniBQECgIFAQKfuUaLCgIFAQKAgVHjSBPECgIFAQKc50+\n",
       "SW8sKAgUBAoCBYGCo0aQJwgUBAoCBQ/pIE8QKAgUBAoChTl99byyoCBQECgIFBw1gjxBoCBQECj4\n",
       "R73BgoJAQaAgUBAoOGoEeYJAQaAgUHBpHywoCBQECgIFn6SDPEGgIFAQKAgUfKsRLCgIFAQKAgX3\n",
       "QcGCgkBBoCBQECi4MAvyBIGCQEGgMKf/JnNlQUGgIFAQKLi0DxYUBAoCBYGCQMG3GsGCgkBBoCBQ\n",
       "mPPz7Zfw2ywoCBQECgIF90HBgoJAQaAgUBAo+Oo5WFAQKAgUBAoe0sGCgkBBoCBQECj46jlYUBAo\n",
       "CBQECnN9NNqoEwQKAgWBgvugYEFBoCBQECgIFLyLBQsKAgWBgkDBpX2woCBQECgIFHySDhYUBAoC\n",
       "BYGCQMG7WLCgIFAQKAgU5vT7oJU6QaAgUBAoCBTmcNRYWVAQKAgUBArug4IFBYGCQEGg4D4oqBME\n",
       "CgIFgYJAwVEjWFAQKAgUBAou7YMFBYGCQEGg4D4oqBMECgIFgYJAwVEjWFAQKAgUBAou7YMFBYGC\n",
       "QEGgIFCYw4XZSp0gUBAoCBQcNYIFBYGCQEGg4NI+WFAQKAgUBAoCBe9iwYKCQEGgIFBwaR/UCQIF\n",
       "gYJAwaV9sKAgUBAoCBQECu6DggUFgYJAQaDgIR0sKAgUBAoCBYGCd7FgQUGgIFAQKMx7eUhvLCgI\n",
       "FAQKAgWfpIMFBYGCQEGgIFDwLhYsKAgUBAoChTncB60sKAgUBAoChXl9kl5ZUBAoCBQECgIFR41g\n",
       "QUGgIFAQKDhqBAsKAgWBgkBBoOCoESwoCBQECgKFeSVayRMECgIFgYL7oGBBQaAgUBAoCBTcBwUL\n",
       "CgIFgYJAwX1QkCcIFAQKAgUP6SBPECgIFAQKAgV/BS9YUBAoCBQECvNItJInCBQECgIFgYILsyBP\n",
       "ECgIFAQKHtJBniBQECgIFOb5fPsl/DYLCgIFgYJAQaAw7/V++zX8NAsKAgWBgkDBV89BniBQECgI\n",
       "FFzaB3mCQEGgIFAQKDhqBHmCQEGgIFCYx6X9yoKCQEGgIFAQKLgwC/IEgYJAQaAwj79MsbKgIFAQ\n",
       "KAgU3AcFCwoCBYGCQEGg4KvnIE8QKAgUBAqOGsGCgkBBoCBQ8Ek6yBMECgIFgYJAYW6JVvIEgYJA\n",
       "QaAwz+k+aGNBQaAgUBAoCBRcmAV5gkBBoCBQ8JAO8gSBgkBBoDC3+6CVBQWBgkBBoCBQcNQI8gSB\n",
       "gkBBoOBPUwQLCgIFgYJAYW7/XmxlQUGgIFAQKAgUHDWCBQWBgkBBoDC3h/TKgoJAQaAgUBAo+Oo5\n",
       "yBMECgIFgYKjRrCgIFAQKAgU5jk9pTcWFAQKAgWBgkDBUSNYUBAoCBQECn4fFCwoCBQECgKFuS9P\n",
       "6Y0FBYGCQEGgIFBwHxQsKAgUBAoChXkOT+mNBQWBgkBBoCBQmNsPqFYWFAQKAgWBgq+egwUFgYJA\n",
       "QaAw96nRRp0gUBAoCBQECnP7VmNlQUGgIFAQKPhXz8GCgkBBoCBQmFujlTpBoCBQECgIFPw+KFhQ\n",
       "ECgIFAQKjhpBnSBQECgIFAQKfkAV1AkCBYGCQMFRI6gTBAoCBYGCh3RQJwgUBAoCBYHC/Gm0UicI\n",
       "FAQKAoW5j8+3X8NPs6AgUBAoCBR8kg7qBIGCQEGgIFBw1AgWFAQKAgWBwvx5SK8sKAgUBAoCBYGC\n",
       "d7FgQUGgIFAQKHhIBwsKAgWBgkDBQzpYUBAoCBQECgKFuV/vYhsLCgIFgYJAwVEjWFAQKAgUBAoe\n",
       "0sGCgkBBoCBQECjMn/uglQUFgYJAQaAwf8d8+zX8NAsKAgWBgkBBoOCoESwoCBQECgIF32oECwoC\n",
       "BYGCQGH+XvdBGwsKAgWBgkBBoOA+KFhQECgIFAQK7oOCBQWBgkBBoDC3+6CVBQWBgkBBoCBQcB8U\n",
       "LCgIFAQKAgVfPQcLCgIFgYJAQaDgr+AFCwoCBYGCQMF9ULCgIFAQKAgU5vanKVYWFAQKAgWBgkDB\n",
       "fVCwoCBQECgIFOZ+PKQ3FhQECgIFgYJP0sGCgkBBoCBQECh4FwsWFAQKAgWBgod0sKAgUBAoCBQE\n",
       "CvN4F1tZUBAoCBQECo4awYKCQEGgIFDwSTpYUBAoCBQECgKFefzKdWVBQaAgUBAoOGoECwoCBYGC\n",
       "QGHeV6ONOkGgIFAQKAgU3AcFCwoCBYGCQMFRI6gTBAoCBYGCQMG7WFAnCBQECgKFeR+NNuoEgYJA\n",
       "QaAwh98HrSwoCBQECgIFgYKjRlAnCBQECgKFOfw+aGVBQaAgUBAozOGT9EqdIFAQKAgUBAq+1QgW\n",
       "FAQKAgWBwpzug1YWFAQKAgWBgkDBhVlQJwgUBAoCBUeNYEFBoCBQECh4SAcLCgIFgYJAQaAwp/ug\n",
       "lTpBoCBQECg4agQLCgIFgYJAwUM6WFAQKAgUBAoCBfdBQZ0gUBAoCBTmuh01NhYUBAoCBYGCQMFR\n",
       "I6gTBAoCBYHCXL7VWFlQECgIFAQKc/kkvVInCBQECgIFgcKcvtVYWVAQKAgUBAqOGkGdIFAQKAgU\n",
       "PKSDOkGgIFAQKAgU5rw12qgTBAoCBYGCo0ZQJwgUBAoCBYHCXI4aK3WCQEGgIFBw1AjqBIGCQEGg\n",
       "MNd9fvs1/DQLCgIFgYJAQaDgT1MEdYJAQaAgUJjrcdTYWFAQKAgUBAq+WQ3qBIGCQEGgIFCY07ca\n",
       "KwsKAgWBgkBhrufbL+G3WVAQKAgUBAoCBUeNYEFBoCBQECj46jlYUBAoCBQECnPe334Jv82CgkBB\n",
       "oCBQECjM6VuNlQUFgYJAQaDgqBEsKAgUBAoCBZ+kgwUFgYJAQaAgUJjzfr/9Gn6aBQWBgkBBoOCo\n",
       "ESwoCBQECgIFgYKjRrCgIFAQKAgU5ng8pDcWFAQKAgWBwhy3C6GNBQWBgkBBoCBQmNNRY2VBQaAg\n",
       "UBAoOGoECwoCBYGCQGGOx0N6Y0FBoCBQECgIFBw1ggUFgYJAQaDgqBEsKAgUBAoCBYHCHLe/sLSx\n",
       "oCBQECgIFBw1ggUFgYJAQaDgk3SwoCBQECgIFAQKvnoOFhQECgIFgcIcj6PGxoKCQEGgIFBwHxQs\n",
       "KAgUBAoCBYGCo0awoCBQECgIFOa9/779Gn6aBQWBgkBBoCBQcGEWLCgIFAQKAoU5HkeNjQUFgYJA\n",
       "QaAwh/uglQUFgYJAQaAgUJjXfdDKgoJAQaAgUHAfFCwoCBQECgKFee//ffs1/DQLCgIFgYJAQaDg\n",
       "W41gQUGgIFAQKLgPChYUBAoCBYGCQMGFWbCgIFAQKAgUPKSDBQWBgkBBoDCHh/TKgoJAQaAgUBAo\n",
       "zPt4F9tYUBAoCBQECo4awYKCQEGgIFBwaR8sKAgUBAoCBYHCvPd/v/0afpoFBYGCQEGg4KgRLCgI\n",
       "FAQKAgWBwryPo8bGgoJAQaAgUJjDfdDKgoJAQaAgUHBpHywoCBQECgIFgYJ3sWBBQaAgUBAozHv/\n",
       "59uv4adZUBAoCBQECj5JBwsKAgWBgkBBoOCoESwoCBQECgIFP+IMFhQECgIFgYJAwVEjWFAQKAgU\n",
       "BAoe0sGCgkBBoCBQmMdDemVBQaAgUBAoCBTmvf/97dfw0ywoCBQECgIF90HBgoJAQaAgUPg/bFQh\n",
       "ScMc78MAAAAASUVORK5CYII=\n",
       "\" transform=\"translate(2161, 47)\"/>\n",
       "</g>\n",
       "<path clip-path=\"url(#clip420)\" d=\"M2280.7 1405.35 Q2277.09 1405.35 2275.26 1408.91 Q2273.45 1412.46 2273.45 1419.59 Q2273.45 1426.69 2275.26 1430.26 Q2277.09 1433.8 2280.7 1433.8 Q2284.33 1433.8 2286.14 1430.26 Q2287.97 1426.69 2287.97 1419.59 Q2287.97 1412.46 2286.14 1408.91 Q2284.33 1405.35 2280.7 1405.35 M2280.7 1401.65 Q2286.51 1401.65 2289.57 1406.25 Q2292.64 1410.84 2292.64 1419.59 Q2292.64 1428.31 2289.57 1432.92 Q2286.51 1437.5 2280.7 1437.5 Q2274.89 1437.5 2271.81 1432.92 Q2268.76 1428.31 2268.76 1419.59 Q2268.76 1410.84 2271.81 1406.25 Q2274.89 1401.65 2280.7 1401.65 Z\" fill=\"#000000\" fill-rule=\"evenodd\" fill-opacity=\"1\" /><path clip-path=\"url(#clip420)\" d=\"M2280.7 1265.63 Q2277.09 1265.63 2275.26 1269.2 Q2273.45 1272.74 2273.45 1279.87 Q2273.45 1286.98 2275.26 1290.54 Q2277.09 1294.08 2280.7 1294.08 Q2284.33 1294.08 2286.14 1290.54 Q2287.97 1286.98 2287.97 1279.87 Q2287.97 1272.74 2286.14 1269.2 Q2284.33 1265.63 2280.7 1265.63 M2280.7 1261.93 Q2286.51 1261.93 2289.57 1266.54 Q2292.64 1271.12 2292.64 1279.87 Q2292.64 1288.6 2289.57 1293.2 Q2286.51 1297.79 2280.7 1297.79 Q2274.89 1297.79 2271.81 1293.2 Q2268.76 1288.6 2268.76 1279.87 Q2268.76 1271.12 2271.81 1266.54 Q2274.89 1261.93 2280.7 1261.93 Z\" fill=\"#000000\" fill-rule=\"evenodd\" fill-opacity=\"1\" /><path clip-path=\"url(#clip420)\" d=\"M2300.86 1291.24 L2305.75 1291.24 L2305.75 1297.11 L2300.86 1297.11 L2300.86 1291.24 Z\" fill=\"#000000\" fill-rule=\"evenodd\" fill-opacity=\"1\" /><path clip-path=\"url(#clip420)\" d=\"M2316.74 1293.18 L2324.38 1293.18 L2324.38 1266.81 L2316.07 1268.48 L2316.07 1264.22 L2324.33 1262.55 L2329.01 1262.55 L2329.01 1293.18 L2336.65 1293.18 L2336.65 1297.11 L2316.74 1297.11 L2316.74 1293.18 Z\" fill=\"#000000\" fill-rule=\"evenodd\" fill-opacity=\"1\" /><path clip-path=\"url(#clip420)\" d=\"M2280.7 1125.92 Q2277.09 1125.92 2275.26 1129.48 Q2273.45 1133.02 2273.45 1140.15 Q2273.45 1147.26 2275.26 1150.82 Q2277.09 1154.37 2280.7 1154.37 Q2284.33 1154.37 2286.14 1150.82 Q2287.97 1147.26 2287.97 1140.15 Q2287.97 1133.02 2286.14 1129.48 Q2284.33 1125.92 2280.7 1125.92 M2280.7 1122.21 Q2286.51 1122.21 2289.57 1126.82 Q2292.64 1131.4 2292.64 1140.15 Q2292.64 1148.88 2289.57 1153.49 Q2286.51 1158.07 2280.7 1158.07 Q2274.89 1158.07 2271.81 1153.49 Q2268.76 1148.88 2268.76 1140.15 Q2268.76 1131.4 2271.81 1126.82 Q2274.89 1122.21 2280.7 1122.21 Z\" fill=\"#000000\" fill-rule=\"evenodd\" fill-opacity=\"1\" /><path clip-path=\"url(#clip420)\" d=\"M2300.86 1151.52 L2305.75 1151.52 L2305.75 1157.4 L2300.86 1157.4 L2300.86 1151.52 Z\" fill=\"#000000\" fill-rule=\"evenodd\" fill-opacity=\"1\" /><path clip-path=\"url(#clip420)\" d=\"M2319.96 1153.46 L2336.28 1153.46 L2336.28 1157.4 L2314.33 1157.4 L2314.33 1153.46 Q2317 1150.71 2321.58 1146.08 Q2326.19 1141.43 2327.37 1140.08 Q2329.61 1137.56 2330.49 1135.82 Q2331.39 1134.07 2331.39 1132.38 Q2331.39 1129.62 2329.45 1127.88 Q2327.53 1126.15 2324.43 1126.15 Q2322.23 1126.15 2319.77 1126.91 Q2317.34 1127.68 2314.57 1129.23 L2314.57 1124.51 Q2317.39 1123.37 2319.84 1122.79 Q2322.3 1122.21 2324.33 1122.21 Q2329.7 1122.21 2332.9 1124.9 Q2336.09 1127.58 2336.09 1132.07 Q2336.09 1134.2 2335.28 1136.13 Q2334.5 1138.02 2332.39 1140.62 Q2331.81 1141.29 2328.71 1144.51 Q2325.61 1147.7 2319.96 1153.46 Z\" fill=\"#000000\" fill-rule=\"evenodd\" fill-opacity=\"1\" /><path clip-path=\"url(#clip420)\" d=\"M2280.7 986.201 Q2277.09 986.201 2275.26 989.766 Q2273.45 993.308 2273.45 1000.44 Q2273.45 1007.54 2275.26 1011.11 Q2277.09 1014.65 2280.7 1014.65 Q2284.33 1014.65 2286.14 1011.11 Q2287.97 1007.54 2287.97 1000.44 Q2287.97 993.308 2286.14 989.766 Q2284.33 986.201 2280.7 986.201 M2280.7 982.498 Q2286.51 982.498 2289.57 987.104 Q2292.64 991.687 2292.64 1000.44 Q2292.64 1009.16 2289.57 1013.77 Q2286.51 1018.35 2280.7 1018.35 Q2274.89 1018.35 2271.81 1013.77 Q2268.76 1009.16 2268.76 1000.44 Q2268.76 991.687 2271.81 987.104 Q2274.89 982.498 2280.7 982.498 Z\" fill=\"#000000\" fill-rule=\"evenodd\" fill-opacity=\"1\" /><path clip-path=\"url(#clip420)\" d=\"M2300.86 1011.8 L2305.75 1011.8 L2305.75 1017.68 L2300.86 1017.68 L2300.86 1011.8 Z\" fill=\"#000000\" fill-rule=\"evenodd\" fill-opacity=\"1\" /><path clip-path=\"url(#clip420)\" d=\"M2330.1 999.048 Q2333.45 999.766 2335.33 1002.03 Q2337.23 1004.3 2337.23 1007.64 Q2337.23 1012.75 2333.71 1015.55 Q2330.19 1018.35 2323.71 1018.35 Q2321.53 1018.35 2319.22 1017.91 Q2316.93 1017.5 2314.47 1016.64 L2314.47 1012.13 Q2316.42 1013.26 2318.73 1013.84 Q2321.05 1014.42 2323.57 1014.42 Q2327.97 1014.42 2330.26 1012.68 Q2332.58 1010.95 2332.58 1007.64 Q2332.58 1004.58 2330.42 1002.87 Q2328.29 1001.13 2324.47 1001.13 L2320.45 1001.13 L2320.45 997.289 L2324.66 997.289 Q2328.11 997.289 2329.94 995.923 Q2331.76 994.534 2331.76 991.942 Q2331.76 989.28 2329.87 987.868 Q2327.99 986.433 2324.47 986.433 Q2322.55 986.433 2320.35 986.849 Q2318.15 987.266 2315.51 988.146 L2315.51 983.979 Q2318.18 983.238 2320.49 982.868 Q2322.83 982.498 2324.89 982.498 Q2330.21 982.498 2333.32 984.928 Q2336.42 987.335 2336.42 991.456 Q2336.42 994.326 2334.77 996.317 Q2333.13 998.284 2330.1 999.048 Z\" fill=\"#000000\" fill-rule=\"evenodd\" fill-opacity=\"1\" /><path clip-path=\"url(#clip420)\" d=\"M2280.7 846.485 Q2277.09 846.485 2275.26 850.05 Q2273.45 853.591 2273.45 860.721 Q2273.45 867.827 2275.26 871.392 Q2277.09 874.934 2280.7 874.934 Q2284.33 874.934 2286.14 871.392 Q2287.97 867.827 2287.97 860.721 Q2287.97 853.591 2286.14 850.05 Q2284.33 846.485 2280.7 846.485 M2280.7 842.781 Q2286.51 842.781 2289.57 847.388 Q2292.64 851.971 2292.64 860.721 Q2292.64 869.448 2289.57 874.054 Q2286.51 878.638 2280.7 878.638 Q2274.89 878.638 2271.81 874.054 Q2268.76 869.448 2268.76 860.721 Q2268.76 851.971 2271.81 847.388 Q2274.89 842.781 2280.7 842.781 Z\" fill=\"#000000\" fill-rule=\"evenodd\" fill-opacity=\"1\" /><path clip-path=\"url(#clip420)\" d=\"M2300.86 872.087 L2305.75 872.087 L2305.75 877.966 L2300.86 877.966 L2300.86 872.087 Z\" fill=\"#000000\" fill-rule=\"evenodd\" fill-opacity=\"1\" /><path clip-path=\"url(#clip420)\" d=\"M2328.78 847.48 L2316.97 865.929 L2328.78 865.929 L2328.78 847.48 M2327.55 843.406 L2333.43 843.406 L2333.43 865.929 L2338.36 865.929 L2338.36 869.818 L2333.43 869.818 L2333.43 877.966 L2328.78 877.966 L2328.78 869.818 L2313.18 869.818 L2313.18 865.304 L2327.55 843.406 Z\" fill=\"#000000\" fill-rule=\"evenodd\" fill-opacity=\"1\" /><path clip-path=\"url(#clip420)\" d=\"M2280.7 706.769 Q2277.09 706.769 2275.26 710.334 Q2273.45 713.875 2273.45 721.005 Q2273.45 728.111 2275.26 731.676 Q2277.09 735.218 2280.7 735.218 Q2284.33 735.218 2286.14 731.676 Q2287.97 728.111 2287.97 721.005 Q2287.97 713.875 2286.14 710.334 Q2284.33 706.769 2280.7 706.769 M2280.7 703.065 Q2286.51 703.065 2289.57 707.672 Q2292.64 712.255 2292.64 721.005 Q2292.64 729.732 2289.57 734.338 Q2286.51 738.921 2280.7 738.921 Q2274.89 738.921 2271.81 734.338 Q2268.76 729.732 2268.76 721.005 Q2268.76 712.255 2271.81 707.672 Q2274.89 703.065 2280.7 703.065 Z\" fill=\"#000000\" fill-rule=\"evenodd\" fill-opacity=\"1\" /><path clip-path=\"url(#clip420)\" d=\"M2300.86 732.371 L2305.75 732.371 L2305.75 738.25 L2300.86 738.25 L2300.86 732.371 Z\" fill=\"#000000\" fill-rule=\"evenodd\" fill-opacity=\"1\" /><path clip-path=\"url(#clip420)\" d=\"M2315.98 703.69 L2334.33 703.69 L2334.33 707.625 L2320.26 707.625 L2320.26 716.097 Q2321.28 715.75 2322.3 715.588 Q2323.32 715.403 2324.33 715.403 Q2330.12 715.403 2333.5 718.574 Q2336.88 721.746 2336.88 727.162 Q2336.88 732.741 2333.41 735.843 Q2329.94 738.921 2323.62 738.921 Q2321.44 738.921 2319.17 738.551 Q2316.93 738.181 2314.52 737.44 L2314.52 732.741 Q2316.6 733.875 2318.83 734.431 Q2321.05 734.986 2323.52 734.986 Q2327.53 734.986 2329.87 732.88 Q2332.2 730.773 2332.2 727.162 Q2332.2 723.551 2329.87 721.445 Q2327.53 719.338 2323.52 719.338 Q2321.65 719.338 2319.77 719.755 Q2317.92 720.172 2315.98 721.051 L2315.98 703.69 Z\" fill=\"#000000\" fill-rule=\"evenodd\" fill-opacity=\"1\" /><path clip-path=\"url(#clip420)\" d=\"M2280.7 567.053 Q2277.09 567.053 2275.26 570.617 Q2273.45 574.159 2273.45 581.289 Q2273.45 588.395 2275.26 591.96 Q2277.09 595.502 2280.7 595.502 Q2284.33 595.502 2286.14 591.96 Q2287.97 588.395 2287.97 581.289 Q2287.97 574.159 2286.14 570.617 Q2284.33 567.053 2280.7 567.053 M2280.7 563.349 Q2286.51 563.349 2289.57 567.955 Q2292.64 572.539 2292.64 581.289 Q2292.64 590.016 2289.57 594.622 Q2286.51 599.205 2280.7 599.205 Q2274.89 599.205 2271.81 594.622 Q2268.76 590.016 2268.76 581.289 Q2268.76 572.539 2271.81 567.955 Q2274.89 563.349 2280.7 563.349 Z\" fill=\"#000000\" fill-rule=\"evenodd\" fill-opacity=\"1\" /><path clip-path=\"url(#clip420)\" d=\"M2300.86 592.654 L2305.75 592.654 L2305.75 598.534 L2300.86 598.534 L2300.86 592.654 Z\" fill=\"#000000\" fill-rule=\"evenodd\" fill-opacity=\"1\" /><path clip-path=\"url(#clip420)\" d=\"M2326.51 579.391 Q2323.36 579.391 2321.51 581.543 Q2319.68 583.696 2319.68 587.446 Q2319.68 591.173 2321.51 593.349 Q2323.36 595.502 2326.51 595.502 Q2329.66 595.502 2331.49 593.349 Q2333.34 591.173 2333.34 587.446 Q2333.34 583.696 2331.49 581.543 Q2329.66 579.391 2326.51 579.391 M2335.79 564.738 L2335.79 568.997 Q2334.03 568.164 2332.23 567.724 Q2330.45 567.284 2328.69 567.284 Q2324.06 567.284 2321.6 570.409 Q2319.17 573.534 2318.83 579.854 Q2320.19 577.84 2322.25 576.775 Q2324.31 575.687 2326.79 575.687 Q2332 575.687 2335.01 578.858 Q2338.04 582.006 2338.04 587.446 Q2338.04 592.77 2334.89 595.988 Q2331.74 599.205 2326.51 599.205 Q2320.51 599.205 2317.34 594.622 Q2314.17 590.016 2314.17 581.289 Q2314.17 573.094 2318.06 568.233 Q2321.95 563.349 2328.5 563.349 Q2330.26 563.349 2332.04 563.696 Q2333.85 564.043 2335.79 564.738 Z\" fill=\"#000000\" fill-rule=\"evenodd\" fill-opacity=\"1\" /><path clip-path=\"url(#clip420)\" d=\"M2280.7 427.336 Q2277.09 427.336 2275.26 430.901 Q2273.45 434.443 2273.45 441.573 Q2273.45 448.679 2275.26 452.244 Q2277.09 455.785 2280.7 455.785 Q2284.33 455.785 2286.14 452.244 Q2287.97 448.679 2287.97 441.573 Q2287.97 434.443 2286.14 430.901 Q2284.33 427.336 2280.7 427.336 M2280.7 423.633 Q2286.51 423.633 2289.57 428.239 Q2292.64 432.823 2292.64 441.573 Q2292.64 450.299 2289.57 454.906 Q2286.51 459.489 2280.7 459.489 Q2274.89 459.489 2271.81 454.906 Q2268.76 450.299 2268.76 441.573 Q2268.76 432.823 2271.81 428.239 Q2274.89 423.633 2280.7 423.633 Z\" fill=\"#000000\" fill-rule=\"evenodd\" fill-opacity=\"1\" /><path clip-path=\"url(#clip420)\" d=\"M2300.86 452.938 L2305.75 452.938 L2305.75 458.818 L2300.86 458.818 L2300.86 452.938 Z\" fill=\"#000000\" fill-rule=\"evenodd\" fill-opacity=\"1\" /><path clip-path=\"url(#clip420)\" d=\"M2314.75 424.258 L2336.97 424.258 L2336.97 426.249 L2324.43 458.818 L2319.54 458.818 L2331.35 428.193 L2314.75 428.193 L2314.75 424.258 Z\" fill=\"#000000\" fill-rule=\"evenodd\" fill-opacity=\"1\" /><path clip-path=\"url(#clip420)\" d=\"M2280.7 287.62 Q2277.09 287.62 2275.26 291.185 Q2273.45 294.727 2273.45 301.856 Q2273.45 308.963 2275.26 312.528 Q2277.09 316.069 2280.7 316.069 Q2284.33 316.069 2286.14 312.528 Q2287.97 308.963 2287.97 301.856 Q2287.97 294.727 2286.14 291.185 Q2284.33 287.62 2280.7 287.62 M2280.7 283.917 Q2286.51 283.917 2289.57 288.523 Q2292.64 293.106 2292.64 301.856 Q2292.64 310.583 2289.57 315.19 Q2286.51 319.773 2280.7 319.773 Q2274.89 319.773 2271.81 315.19 Q2268.76 310.583 2268.76 301.856 Q2268.76 293.106 2271.81 288.523 Q2274.89 283.917 2280.7 283.917 Z\" fill=\"#000000\" fill-rule=\"evenodd\" fill-opacity=\"1\" /><path clip-path=\"url(#clip420)\" d=\"M2300.86 313.222 L2305.75 313.222 L2305.75 319.102 L2300.86 319.102 L2300.86 313.222 Z\" fill=\"#000000\" fill-rule=\"evenodd\" fill-opacity=\"1\" /><path clip-path=\"url(#clip420)\" d=\"M2325.93 302.69 Q2322.6 302.69 2320.68 304.472 Q2318.78 306.254 2318.78 309.379 Q2318.78 312.504 2320.68 314.287 Q2322.6 316.069 2325.93 316.069 Q2329.26 316.069 2331.19 314.287 Q2333.11 312.481 2333.11 309.379 Q2333.11 306.254 2331.19 304.472 Q2329.29 302.69 2325.93 302.69 M2321.26 300.699 Q2318.25 299.958 2316.56 297.898 Q2314.89 295.838 2314.89 292.875 Q2314.89 288.731 2317.83 286.324 Q2320.79 283.917 2325.93 283.917 Q2331.09 283.917 2334.03 286.324 Q2336.97 288.731 2336.97 292.875 Q2336.97 295.838 2335.28 297.898 Q2333.62 299.958 2330.63 300.699 Q2334.01 301.486 2335.89 303.778 Q2337.78 306.069 2337.78 309.379 Q2337.78 314.403 2334.7 317.088 Q2331.65 319.773 2325.93 319.773 Q2320.21 319.773 2317.14 317.088 Q2314.08 314.403 2314.08 309.379 Q2314.08 306.069 2315.98 303.778 Q2317.88 301.486 2321.26 300.699 M2319.54 293.315 Q2319.54 296 2321.21 297.505 Q2322.9 299.009 2325.93 299.009 Q2328.94 299.009 2330.63 297.505 Q2332.34 296 2332.34 293.315 Q2332.34 290.63 2330.63 289.125 Q2328.94 287.62 2325.93 287.62 Q2322.9 287.62 2321.21 289.125 Q2319.54 290.63 2319.54 293.315 Z\" fill=\"#000000\" fill-rule=\"evenodd\" fill-opacity=\"1\" /><path clip-path=\"url(#clip420)\" d=\"M2280.7 147.904 Q2277.09 147.904 2275.26 151.469 Q2273.45 155.011 2273.45 162.14 Q2273.45 169.247 2275.26 172.811 Q2277.09 176.353 2280.7 176.353 Q2284.33 176.353 2286.14 172.811 Q2287.97 169.247 2287.97 162.14 Q2287.97 155.011 2286.14 151.469 Q2284.33 147.904 2280.7 147.904 M2280.7 144.2 Q2286.51 144.2 2289.57 148.807 Q2292.64 153.39 2292.64 162.14 Q2292.64 170.867 2289.57 175.473 Q2286.51 180.057 2280.7 180.057 Q2274.89 180.057 2271.81 175.473 Q2268.76 170.867 2268.76 162.14 Q2268.76 153.39 2271.81 148.807 Q2274.89 144.2 2280.7 144.2 Z\" fill=\"#000000\" fill-rule=\"evenodd\" fill-opacity=\"1\" /><path clip-path=\"url(#clip420)\" d=\"M2300.86 173.506 L2305.75 173.506 L2305.75 179.385 L2300.86 179.385 L2300.86 173.506 Z\" fill=\"#000000\" fill-rule=\"evenodd\" fill-opacity=\"1\" /><path clip-path=\"url(#clip420)\" d=\"M2316.07 178.668 L2316.07 174.409 Q2317.83 175.242 2319.64 175.682 Q2321.44 176.122 2323.18 176.122 Q2327.81 176.122 2330.24 173.02 Q2332.69 169.895 2333.04 163.552 Q2331.7 165.543 2329.64 166.608 Q2327.58 167.673 2325.08 167.673 Q2319.89 167.673 2316.86 164.548 Q2313.85 161.399 2313.85 155.96 Q2313.85 150.636 2317 147.418 Q2320.14 144.2 2325.38 144.2 Q2331.37 144.2 2334.52 148.807 Q2337.69 153.39 2337.69 162.14 Q2337.69 170.311 2333.8 175.196 Q2329.94 180.057 2323.39 180.057 Q2321.63 180.057 2319.82 179.71 Q2318.01 179.362 2316.07 178.668 M2325.38 164.015 Q2328.52 164.015 2330.35 161.862 Q2332.2 159.71 2332.2 155.96 Q2332.2 152.233 2330.35 150.08 Q2328.52 147.904 2325.38 147.904 Q2322.23 147.904 2320.38 150.08 Q2318.55 152.233 2318.55 155.96 Q2318.55 159.71 2320.38 161.862 Q2322.23 164.015 2325.38 164.015 Z\" fill=\"#000000\" fill-rule=\"evenodd\" fill-opacity=\"1\" /><polyline clip-path=\"url(#clip420)\" style=\"stroke:#000000; stroke-linecap:butt; stroke-linejoin:round; stroke-width:4; stroke-opacity:1; fill:none\" points=\"\n",
       "  2232.76,1423.18 2232.76,1423.18 2256.76,1423.18 2232.76,1423.18 2232.76,1283.46 2256.76,1283.46 2232.76,1283.46 2232.76,1143.75 2256.76,1143.75 2232.76,1143.75 \n",
       "  2232.76,1004.03 2256.76,1004.03 2232.76,1004.03 2232.76,864.315 2256.76,864.315 2232.76,864.315 2232.76,724.599 2256.76,724.599 2232.76,724.599 2232.76,584.883 \n",
       "  2256.76,584.883 2232.76,584.883 2232.76,445.167 2256.76,445.167 2232.76,445.167 2232.76,305.45 2256.76,305.45 2232.76,305.45 2232.76,165.734 2256.76,165.734 \n",
       "  2232.76,165.734 2232.76,47.2441 \n",
       "  \"/>\n",
       "<path clip-path=\"url(#clip420)\" d=\"\n",
       "M1619.34 196.789 L2050.9 196.789 L2050.9 93.1086 L1619.34 93.1086  Z\n",
       "  \" fill=\"#ffffff\" fill-rule=\"evenodd\" fill-opacity=\"1\"/>\n",
       "<polyline clip-path=\"url(#clip420)\" style=\"stroke:#000000; stroke-linecap:butt; stroke-linejoin:round; stroke-width:4; stroke-opacity:1; fill:none\" points=\"\n",
       "  1619.34,196.789 2050.9,196.789 2050.9,93.1086 1619.34,93.1086 1619.34,196.789 \n",
       "  \"/>\n",
       "<circle clip-path=\"url(#clip420)\" cx=\"1701.81\" cy=\"144.949\" r=\"23\" fill=\"#30123b\" fill-rule=\"evenodd\" fill-opacity=\"1\" stroke=\"#000000\" stroke-opacity=\"1\" stroke-width=\"5.12\"/>\n",
       "<path clip-path=\"url(#clip420)\" d=\"M1798.12 164.636 Q1796.31 169.266 1794.6 170.678 Q1792.89 172.09 1790.02 172.09 L1786.62 172.09 L1786.62 168.525 L1789.12 168.525 Q1790.87 168.525 1791.85 167.692 Q1792.82 166.858 1794 163.756 L1794.76 161.812 L1784.28 136.303 L1788.79 136.303 L1796.89 156.581 L1804.99 136.303 L1809.51 136.303 L1798.12 164.636 Z\" fill=\"#000000\" fill-rule=\"evenodd\" fill-opacity=\"1\" /><path clip-path=\"url(#clip420)\" d=\"M1831.01 140.701 L1860.69 140.701 L1860.69 144.59 L1831.01 144.59 L1831.01 140.701 M1831.01 150.145 L1860.69 150.145 L1860.69 154.081 L1831.01 154.081 L1831.01 150.145 Z\" fill=\"#000000\" fill-rule=\"evenodd\" fill-opacity=\"1\" /><path clip-path=\"url(#clip420)\" d=\"M1901.78 137.067 L1901.78 141.094 Q1899.97 140.169 1898.03 139.706 Q1896.08 139.243 1894 139.243 Q1890.83 139.243 1889.23 140.215 Q1887.66 141.187 1887.66 143.131 Q1887.66 144.613 1888.79 145.469 Q1889.92 146.303 1893.35 147.067 L1894.81 147.391 Q1899.35 148.363 1901.24 150.145 Q1903.17 151.905 1903.17 155.076 Q1903.17 158.687 1900.3 160.793 Q1897.45 162.9 1892.45 162.9 Q1890.36 162.9 1888.1 162.483 Q1885.85 162.09 1883.35 161.28 L1883.35 156.881 Q1885.71 158.108 1888 158.733 Q1890.3 159.335 1892.54 159.335 Q1895.55 159.335 1897.17 158.317 Q1898.79 157.275 1898.79 155.4 Q1898.79 153.664 1897.61 152.738 Q1896.45 151.812 1892.49 150.956 L1891.01 150.608 Q1887.05 149.775 1885.3 148.062 Q1883.54 146.326 1883.54 143.317 Q1883.54 139.659 1886.13 137.669 Q1888.72 135.678 1893.49 135.678 Q1895.85 135.678 1897.93 136.025 Q1900.02 136.372 1901.78 137.067 Z\" fill=\"#000000\" fill-rule=\"evenodd\" fill-opacity=\"1\" /><path clip-path=\"url(#clip420)\" d=\"M1909.95 136.303 L1914.21 136.303 L1914.21 162.229 L1909.95 162.229 L1909.95 136.303 M1909.95 126.21 L1914.21 126.21 L1914.21 131.604 L1909.95 131.604 L1909.95 126.21 Z\" fill=\"#000000\" fill-rule=\"evenodd\" fill-opacity=\"1\" /><path clip-path=\"url(#clip420)\" d=\"M1944.67 146.581 L1944.67 162.229 L1940.41 162.229 L1940.41 146.719 Q1940.41 143.039 1938.98 141.21 Q1937.54 139.382 1934.67 139.382 Q1931.22 139.382 1929.23 141.581 Q1927.24 143.78 1927.24 147.576 L1927.24 162.229 L1922.96 162.229 L1922.96 136.303 L1927.24 136.303 L1927.24 140.331 Q1928.77 137.993 1930.83 136.835 Q1932.91 135.678 1935.62 135.678 Q1940.09 135.678 1942.38 138.456 Q1944.67 141.21 1944.67 146.581 Z\" fill=\"#000000\" fill-rule=\"evenodd\" fill-opacity=\"1\" /><path clip-path=\"url(#clip420)\" d=\"M1963.4 126.257 Q1960.29 131.581 1958.79 136.789 Q1957.29 141.997 1957.29 147.344 Q1957.29 152.692 1958.79 157.946 Q1960.32 163.178 1963.4 168.479 L1959.69 168.479 Q1956.22 163.039 1954.48 157.784 Q1952.77 152.53 1952.77 147.344 Q1952.77 142.182 1954.48 136.951 Q1956.2 131.72 1959.69 126.257 L1963.4 126.257 Z\" fill=\"#000000\" fill-rule=\"evenodd\" fill-opacity=\"1\" /><path clip-path=\"url(#clip420)\" d=\"M1993.21 136.303 L1983.84 148.919 L1993.7 162.229 L1988.67 162.229 L1981.13 152.043 L1973.58 162.229 L1968.56 162.229 L1978.63 148.664 L1969.42 136.303 L1974.44 136.303 L1981.31 145.539 L1988.19 136.303 L1993.21 136.303 Z\" fill=\"#000000\" fill-rule=\"evenodd\" fill-opacity=\"1\" /><path clip-path=\"url(#clip420)\" d=\"M1999.04 126.257 L2002.75 126.257 Q2006.22 131.72 2007.93 136.951 Q2009.67 142.182 2009.67 147.344 Q2009.67 152.53 2007.93 157.784 Q2006.22 163.039 2002.75 168.479 L1999.04 168.479 Q2002.12 163.178 2003.63 157.946 Q2005.16 152.692 2005.16 147.344 Q2005.16 141.997 2003.63 136.789 Q2002.12 131.581 1999.04 126.257 Z\" fill=\"#000000\" fill-rule=\"evenodd\" fill-opacity=\"1\" /></svg>\n"
      ]
     },
     "execution_count": 97,
     "metadata": {},
     "output_type": "execute_result"
    }
   ],
   "source": [
    "# same as above, but with a different colormap:\n",
    "x = 0:20:720\n",
    "y = sind.(x)\n",
    "z = abs.(y)\n",
    "scatter(x, y, zcolor = z,\n",
    "    c = :turbo,\n",
    "    xlabel = \"x (degrees)\", \n",
    "    ylabel = \"y \",\n",
    "    label = \"y = sin(x)\")"
   ]
  },
  {
   "cell_type": "markdown",
   "metadata": {},
   "source": [
    "See the [Plots.jl documentation page on colormaps](http://docs.juliaplots.org/latest/generated/colorschemes/#Pre-defined-ColorSchemes) for a wide selection of available colormaps."
   ]
  },
  {
   "cell_type": "code",
   "execution_count": 106,
   "metadata": {},
   "outputs": [
    {
     "data": {
      "image/svg+xml": [
       "<?xml version=\"1.0\" encoding=\"utf-8\"?>\n",
       "<svg xmlns=\"http://www.w3.org/2000/svg\" xmlns:xlink=\"http://www.w3.org/1999/xlink\" width=\"600\" height=\"400\" viewBox=\"0 0 2400 1600\">\n",
       "<defs>\n",
       "  <clipPath id=\"clip780\">\n",
       "    <rect x=\"0\" y=\"0\" width=\"2400\" height=\"1600\"/>\n",
       "  </clipPath>\n",
       "</defs>\n",
       "<path clip-path=\"url(#clip780)\" d=\"\n",
       "M0 1600 L2400 1600 L2400 0 L0 0  Z\n",
       "  \" fill=\"#ffffff\" fill-rule=\"evenodd\" fill-opacity=\"1\"/>\n",
       "<defs>\n",
       "  <clipPath id=\"clip781\">\n",
       "    <rect x=\"480\" y=\"0\" width=\"1681\" height=\"1600\"/>\n",
       "  </clipPath>\n",
       "</defs>\n",
       "<path clip-path=\"url(#clip780)\" d=\"\n",
       "M257.204 1423.18 L2112.76 1423.18 L2112.76 47.2441 L257.204 47.2441  Z\n",
       "  \" fill=\"#ffffff\" fill-rule=\"evenodd\" fill-opacity=\"1\"/>\n",
       "<defs>\n",
       "  <clipPath id=\"clip782\">\n",
       "    <rect x=\"257\" y=\"47\" width=\"1857\" height=\"1377\"/>\n",
       "  </clipPath>\n",
       "</defs>\n",
       "<polyline clip-path=\"url(#clip782)\" style=\"stroke:#000000; stroke-linecap:butt; stroke-linejoin:round; stroke-width:2; stroke-opacity:0.1; fill:none\" points=\"\n",
       "  309.72,1423.18 309.72,47.2441 \n",
       "  \"/>\n",
       "<polyline clip-path=\"url(#clip782)\" style=\"stroke:#000000; stroke-linecap:butt; stroke-linejoin:round; stroke-width:2; stroke-opacity:0.1; fill:none\" points=\"\n",
       "  795.975,1423.18 795.975,47.2441 \n",
       "  \"/>\n",
       "<polyline clip-path=\"url(#clip782)\" style=\"stroke:#000000; stroke-linecap:butt; stroke-linejoin:round; stroke-width:2; stroke-opacity:0.1; fill:none\" points=\"\n",
       "  1282.23,1423.18 1282.23,47.2441 \n",
       "  \"/>\n",
       "<polyline clip-path=\"url(#clip782)\" style=\"stroke:#000000; stroke-linecap:butt; stroke-linejoin:round; stroke-width:2; stroke-opacity:0.1; fill:none\" points=\"\n",
       "  1768.49,1423.18 1768.49,47.2441 \n",
       "  \"/>\n",
       "<polyline clip-path=\"url(#clip780)\" style=\"stroke:#000000; stroke-linecap:butt; stroke-linejoin:round; stroke-width:4; stroke-opacity:1; fill:none\" points=\"\n",
       "  257.204,1423.18 2112.76,1423.18 \n",
       "  \"/>\n",
       "<polyline clip-path=\"url(#clip780)\" style=\"stroke:#000000; stroke-linecap:butt; stroke-linejoin:round; stroke-width:4; stroke-opacity:1; fill:none\" points=\"\n",
       "  309.72,1423.18 309.72,1404.28 \n",
       "  \"/>\n",
       "<polyline clip-path=\"url(#clip780)\" style=\"stroke:#000000; stroke-linecap:butt; stroke-linejoin:round; stroke-width:4; stroke-opacity:1; fill:none\" points=\"\n",
       "  795.975,1423.18 795.975,1404.28 \n",
       "  \"/>\n",
       "<polyline clip-path=\"url(#clip780)\" style=\"stroke:#000000; stroke-linecap:butt; stroke-linejoin:round; stroke-width:4; stroke-opacity:1; fill:none\" points=\"\n",
       "  1282.23,1423.18 1282.23,1404.28 \n",
       "  \"/>\n",
       "<polyline clip-path=\"url(#clip780)\" style=\"stroke:#000000; stroke-linecap:butt; stroke-linejoin:round; stroke-width:4; stroke-opacity:1; fill:none\" points=\"\n",
       "  1768.49,1423.18 1768.49,1404.28 \n",
       "  \"/>\n",
       "<path clip-path=\"url(#clip780)\" d=\"M309.72 1452.37 Q306.109 1452.37 304.28 1455.94 Q302.474 1459.48 302.474 1466.61 Q302.474 1473.71 304.28 1477.28 Q306.109 1480.82 309.72 1480.82 Q313.354 1480.82 315.159 1477.28 Q316.988 1473.71 316.988 1466.61 Q316.988 1459.48 315.159 1455.94 Q313.354 1452.37 309.72 1452.37 M309.72 1448.67 Q315.53 1448.67 318.585 1453.27 Q321.664 1457.86 321.664 1466.61 Q321.664 1475.33 318.585 1479.94 Q315.53 1484.52 309.72 1484.52 Q303.909 1484.52 300.831 1479.94 Q297.775 1475.33 297.775 1466.61 Q297.775 1457.86 300.831 1453.27 Q303.909 1448.67 309.72 1448.67 Z\" fill=\"#000000\" fill-rule=\"evenodd\" fill-opacity=\"1\" /><path clip-path=\"url(#clip780)\" d=\"M759.668 1479.92 L775.987 1479.92 L775.987 1483.85 L754.043 1483.85 L754.043 1479.92 Q756.705 1477.16 761.288 1472.53 Q765.895 1467.88 767.075 1466.54 Q769.32 1464.01 770.2 1462.28 Q771.103 1460.52 771.103 1458.83 Q771.103 1456.07 769.158 1454.34 Q767.237 1452.6 764.135 1452.6 Q761.936 1452.6 759.483 1453.37 Q757.052 1454.13 754.274 1455.68 L754.274 1450.96 Q757.098 1449.82 759.552 1449.25 Q762.006 1448.67 764.043 1448.67 Q769.413 1448.67 772.607 1451.35 Q775.802 1454.04 775.802 1458.53 Q775.802 1460.66 774.992 1462.58 Q774.205 1464.48 772.098 1467.07 Q771.519 1467.74 768.418 1470.96 Q765.316 1474.15 759.668 1479.92 Z\" fill=\"#000000\" fill-rule=\"evenodd\" fill-opacity=\"1\" /><path clip-path=\"url(#clip780)\" d=\"M795.802 1452.37 Q792.191 1452.37 790.362 1455.94 Q788.556 1459.48 788.556 1466.61 Q788.556 1473.71 790.362 1477.28 Q792.191 1480.82 795.802 1480.82 Q799.436 1480.82 801.242 1477.28 Q803.07 1473.71 803.07 1466.61 Q803.07 1459.48 801.242 1455.94 Q799.436 1452.37 795.802 1452.37 M795.802 1448.67 Q801.612 1448.67 804.667 1453.27 Q807.746 1457.86 807.746 1466.61 Q807.746 1475.33 804.667 1479.94 Q801.612 1484.52 795.802 1484.52 Q789.992 1484.52 786.913 1479.94 Q783.857 1475.33 783.857 1466.61 Q783.857 1457.86 786.913 1453.27 Q789.992 1448.67 795.802 1448.67 Z\" fill=\"#000000\" fill-rule=\"evenodd\" fill-opacity=\"1\" /><path clip-path=\"url(#clip780)\" d=\"M825.964 1452.37 Q822.353 1452.37 820.524 1455.94 Q818.718 1459.48 818.718 1466.61 Q818.718 1473.71 820.524 1477.28 Q822.353 1480.82 825.964 1480.82 Q829.598 1480.82 831.403 1477.28 Q833.232 1473.71 833.232 1466.61 Q833.232 1459.48 831.403 1455.94 Q829.598 1452.37 825.964 1452.37 M825.964 1448.67 Q831.774 1448.67 834.829 1453.27 Q837.908 1457.86 837.908 1466.61 Q837.908 1475.33 834.829 1479.94 Q831.774 1484.52 825.964 1484.52 Q820.153 1484.52 817.075 1479.94 Q814.019 1475.33 814.019 1466.61 Q814.019 1457.86 817.075 1453.27 Q820.153 1448.67 825.964 1448.67 Z\" fill=\"#000000\" fill-rule=\"evenodd\" fill-opacity=\"1\" /><path clip-path=\"url(#clip780)\" d=\"M1255.32 1453.37 L1243.52 1471.81 L1255.32 1471.81 L1255.32 1453.37 M1254.09 1449.29 L1259.97 1449.29 L1259.97 1471.81 L1264.9 1471.81 L1264.9 1475.7 L1259.97 1475.7 L1259.97 1483.85 L1255.32 1483.85 L1255.32 1475.7 L1239.72 1475.7 L1239.72 1471.19 L1254.09 1449.29 Z\" fill=\"#000000\" fill-rule=\"evenodd\" fill-opacity=\"1\" /><path clip-path=\"url(#clip780)\" d=\"M1282.64 1452.37 Q1279.03 1452.37 1277.2 1455.94 Q1275.39 1459.48 1275.39 1466.61 Q1275.39 1473.71 1277.2 1477.28 Q1279.03 1480.82 1282.64 1480.82 Q1286.27 1480.82 1288.08 1477.28 Q1289.9 1473.71 1289.9 1466.61 Q1289.9 1459.48 1288.08 1455.94 Q1286.27 1452.37 1282.64 1452.37 M1282.64 1448.67 Q1288.45 1448.67 1291.5 1453.27 Q1294.58 1457.86 1294.58 1466.61 Q1294.58 1475.33 1291.5 1479.94 Q1288.45 1484.52 1282.64 1484.52 Q1276.83 1484.52 1273.75 1479.94 Q1270.69 1475.33 1270.69 1466.61 Q1270.69 1457.86 1273.75 1453.27 Q1276.83 1448.67 1282.64 1448.67 Z\" fill=\"#000000\" fill-rule=\"evenodd\" fill-opacity=\"1\" /><path clip-path=\"url(#clip780)\" d=\"M1312.8 1452.37 Q1309.19 1452.37 1307.36 1455.94 Q1305.55 1459.48 1305.55 1466.61 Q1305.55 1473.71 1307.36 1477.28 Q1309.19 1480.82 1312.8 1480.82 Q1316.43 1480.82 1318.24 1477.28 Q1320.07 1473.71 1320.07 1466.61 Q1320.07 1459.48 1318.24 1455.94 Q1316.43 1452.37 1312.8 1452.37 M1312.8 1448.67 Q1318.61 1448.67 1321.66 1453.27 Q1324.74 1457.86 1324.74 1466.61 Q1324.74 1475.33 1321.66 1479.94 Q1318.61 1484.52 1312.8 1484.52 Q1306.99 1484.52 1303.91 1479.94 Q1300.85 1475.33 1300.85 1466.61 Q1300.85 1457.86 1303.91 1453.27 Q1306.99 1448.67 1312.8 1448.67 Z\" fill=\"#000000\" fill-rule=\"evenodd\" fill-opacity=\"1\" /><path clip-path=\"url(#clip780)\" d=\"M1738.81 1464.71 Q1735.66 1464.71 1733.81 1466.86 Q1731.98 1469.01 1731.98 1472.76 Q1731.98 1476.49 1733.81 1478.67 Q1735.66 1480.82 1738.81 1480.82 Q1741.96 1480.82 1743.79 1478.67 Q1745.64 1476.49 1745.64 1472.76 Q1745.64 1469.01 1743.79 1466.86 Q1741.96 1464.71 1738.81 1464.71 M1748.09 1450.06 L1748.09 1454.31 Q1746.33 1453.48 1744.53 1453.04 Q1742.75 1452.6 1740.99 1452.6 Q1736.36 1452.6 1733.9 1455.73 Q1731.47 1458.85 1731.13 1465.17 Q1732.49 1463.16 1734.55 1462.09 Q1736.61 1461 1739.09 1461 Q1744.3 1461 1747.31 1464.18 Q1750.34 1467.32 1750.34 1472.76 Q1750.34 1478.09 1747.19 1481.31 Q1744.04 1484.52 1738.81 1484.52 Q1732.82 1484.52 1729.64 1479.94 Q1726.47 1475.33 1726.47 1466.61 Q1726.47 1458.41 1730.36 1453.55 Q1734.25 1448.67 1740.8 1448.67 Q1742.56 1448.67 1744.34 1449.01 Q1746.15 1449.36 1748.09 1450.06 Z\" fill=\"#000000\" fill-rule=\"evenodd\" fill-opacity=\"1\" /><path clip-path=\"url(#clip780)\" d=\"M1768.39 1452.37 Q1764.78 1452.37 1762.95 1455.94 Q1761.15 1459.48 1761.15 1466.61 Q1761.15 1473.71 1762.95 1477.28 Q1764.78 1480.82 1768.39 1480.82 Q1772.03 1480.82 1773.83 1477.28 Q1775.66 1473.71 1775.66 1466.61 Q1775.66 1459.48 1773.83 1455.94 Q1772.03 1452.37 1768.39 1452.37 M1768.39 1448.67 Q1774.2 1448.67 1777.26 1453.27 Q1780.34 1457.86 1780.34 1466.61 Q1780.34 1475.33 1777.26 1479.94 Q1774.2 1484.52 1768.39 1484.52 Q1762.58 1484.52 1759.51 1479.94 Q1756.45 1475.33 1756.45 1466.61 Q1756.45 1457.86 1759.51 1453.27 Q1762.58 1448.67 1768.39 1448.67 Z\" fill=\"#000000\" fill-rule=\"evenodd\" fill-opacity=\"1\" /><path clip-path=\"url(#clip780)\" d=\"M1798.56 1452.37 Q1794.95 1452.37 1793.12 1455.94 Q1791.31 1459.48 1791.31 1466.61 Q1791.31 1473.71 1793.12 1477.28 Q1794.95 1480.82 1798.56 1480.82 Q1802.19 1480.82 1804 1477.28 Q1805.82 1473.71 1805.82 1466.61 Q1805.82 1459.48 1804 1455.94 Q1802.19 1452.37 1798.56 1452.37 M1798.56 1448.67 Q1804.37 1448.67 1807.42 1453.27 Q1810.5 1457.86 1810.5 1466.61 Q1810.5 1475.33 1807.42 1479.94 Q1804.37 1484.52 1798.56 1484.52 Q1792.75 1484.52 1789.67 1479.94 Q1786.61 1475.33 1786.61 1466.61 Q1786.61 1457.86 1789.67 1453.27 Q1792.75 1448.67 1798.56 1448.67 Z\" fill=\"#000000\" fill-rule=\"evenodd\" fill-opacity=\"1\" /><path clip-path=\"url(#clip780)\" d=\"M1036.34 1532.4 L1023.45 1549.74 L1037.01 1568.04 L1030.1 1568.04 L1019.73 1554.04 L1009.35 1568.04 L1002.44 1568.04 L1016.29 1549.39 L1003.62 1532.4 L1010.53 1532.4 L1019.98 1545.1 L1029.43 1532.4 L1036.34 1532.4 Z\" fill=\"#000000\" fill-rule=\"evenodd\" fill-opacity=\"1\" /><path clip-path=\"url(#clip780)\" d=\"M1080.07 1518.58 Q1075.81 1525.9 1073.74 1533.06 Q1071.67 1540.23 1071.67 1547.58 Q1071.67 1554.93 1073.74 1562.16 Q1075.84 1569.35 1080.07 1576.64 L1074.98 1576.64 Q1070.21 1569.16 1067.82 1561.93 Q1065.46 1554.71 1065.46 1547.58 Q1065.46 1540.48 1067.82 1533.29 Q1070.17 1526.09 1074.98 1518.58 L1080.07 1518.58 Z\" fill=\"#000000\" fill-rule=\"evenodd\" fill-opacity=\"1\" /><path clip-path=\"url(#clip780)\" d=\"M1114.89 1537.81 L1114.89 1518.52 L1120.75 1518.52 L1120.75 1568.04 L1114.89 1568.04 L1114.89 1562.7 Q1113.05 1565.88 1110.21 1567.44 Q1107.41 1568.97 1103.47 1568.97 Q1097.01 1568.97 1092.93 1563.81 Q1088.89 1558.65 1088.89 1550.25 Q1088.89 1541.85 1092.93 1536.69 Q1097.01 1531.54 1103.47 1531.54 Q1107.41 1531.54 1110.21 1533.1 Q1113.05 1534.62 1114.89 1537.81 M1094.94 1550.25 Q1094.94 1556.71 1097.58 1560.4 Q1100.25 1564.07 1104.9 1564.07 Q1109.55 1564.07 1112.22 1560.4 Q1114.89 1556.71 1114.89 1550.25 Q1114.89 1543.79 1112.22 1540.13 Q1109.55 1536.44 1104.9 1536.44 Q1100.25 1536.44 1097.58 1540.13 Q1094.94 1543.79 1094.94 1550.25 Z\" fill=\"#000000\" fill-rule=\"evenodd\" fill-opacity=\"1\" /><path clip-path=\"url(#clip780)\" d=\"M1163.3 1548.76 L1163.3 1551.62 L1136.38 1551.62 Q1136.76 1557.67 1140.01 1560.85 Q1143.28 1564 1149.11 1564 Q1152.48 1564 1155.63 1563.17 Q1158.82 1562.35 1161.94 1560.69 L1161.94 1566.23 Q1158.79 1567.57 1155.47 1568.27 Q1152.16 1568.97 1148.76 1568.97 Q1140.23 1568.97 1135.23 1564 Q1130.27 1559.04 1130.27 1550.57 Q1130.27 1541.82 1134.98 1536.69 Q1139.72 1531.54 1147.74 1531.54 Q1154.93 1531.54 1159.1 1536.18 Q1163.3 1540.8 1163.3 1548.76 M1157.45 1547.04 Q1157.38 1542.23 1154.74 1539.37 Q1152.13 1536.5 1147.8 1536.5 Q1142.9 1536.5 1139.94 1539.27 Q1137.01 1542.04 1136.57 1547.07 L1157.45 1547.04 Z\" fill=\"#000000\" fill-rule=\"evenodd\" fill-opacity=\"1\" /><path clip-path=\"url(#clip780)\" d=\"M1196.37 1549.81 Q1196.37 1543.44 1193.73 1539.94 Q1191.12 1536.44 1186.38 1536.44 Q1181.67 1536.44 1179.03 1539.94 Q1176.42 1543.44 1176.42 1549.81 Q1176.42 1556.14 1179.03 1559.64 Q1181.67 1563.14 1186.38 1563.14 Q1191.12 1563.14 1193.73 1559.64 Q1196.37 1556.14 1196.37 1549.81 M1202.23 1563.62 Q1202.23 1572.72 1198.19 1577.15 Q1194.15 1581.6 1185.81 1581.6 Q1182.72 1581.6 1179.98 1581.13 Q1177.25 1580.68 1174.67 1579.72 L1174.67 1574.03 Q1177.25 1575.43 1179.76 1576.1 Q1182.27 1576.76 1184.88 1576.76 Q1190.65 1576.76 1193.51 1573.74 Q1196.37 1570.75 1196.37 1564.67 L1196.37 1561.77 Q1194.56 1564.92 1191.73 1566.48 Q1188.89 1568.04 1184.95 1568.04 Q1178.39 1568.04 1174.38 1563.05 Q1170.37 1558.05 1170.37 1549.81 Q1170.37 1541.53 1174.38 1536.53 Q1178.39 1531.54 1184.95 1531.54 Q1188.89 1531.54 1191.73 1533.1 Q1194.56 1534.66 1196.37 1537.81 L1196.37 1532.4 L1202.23 1532.4 L1202.23 1563.62 Z\" fill=\"#000000\" fill-rule=\"evenodd\" fill-opacity=\"1\" /><path clip-path=\"url(#clip780)\" d=\"M1234.95 1537.87 Q1233.96 1537.3 1232.79 1537.04 Q1231.64 1536.76 1230.24 1536.76 Q1225.27 1536.76 1222.6 1540 Q1219.96 1543.22 1219.96 1549.27 L1219.96 1568.04 L1214.07 1568.04 L1214.07 1532.4 L1219.96 1532.4 L1219.96 1537.93 Q1221.81 1534.69 1224.77 1533.13 Q1227.73 1531.54 1231.96 1531.54 Q1232.56 1531.54 1233.3 1531.63 Q1234.03 1531.7 1234.92 1531.85 L1234.95 1537.87 Z\" fill=\"#000000\" fill-rule=\"evenodd\" fill-opacity=\"1\" /><path clip-path=\"url(#clip780)\" d=\"M1270.15 1548.76 L1270.15 1551.62 L1243.23 1551.62 Q1243.61 1557.67 1246.85 1560.85 Q1250.13 1564 1255.96 1564 Q1259.33 1564 1262.48 1563.17 Q1265.67 1562.35 1268.78 1560.69 L1268.78 1566.23 Q1265.63 1567.57 1262.32 1568.27 Q1259.01 1568.97 1255.61 1568.97 Q1247.08 1568.97 1242.08 1564 Q1237.12 1559.04 1237.12 1550.57 Q1237.12 1541.82 1241.83 1536.69 Q1246.57 1531.54 1254.59 1531.54 Q1261.78 1531.54 1265.95 1536.18 Q1270.15 1540.8 1270.15 1548.76 M1264.3 1547.04 Q1264.23 1542.23 1261.59 1539.37 Q1258.98 1536.5 1254.65 1536.5 Q1249.75 1536.5 1246.79 1539.27 Q1243.86 1542.04 1243.42 1547.07 L1264.3 1547.04 Z\" fill=\"#000000\" fill-rule=\"evenodd\" fill-opacity=\"1\" /><path clip-path=\"url(#clip780)\" d=\"M1310.26 1548.76 L1310.26 1551.62 L1283.33 1551.62 Q1283.71 1557.67 1286.96 1560.85 Q1290.24 1564 1296.06 1564 Q1299.44 1564 1302.59 1563.17 Q1305.77 1562.35 1308.89 1560.69 L1308.89 1566.23 Q1305.74 1567.57 1302.43 1568.27 Q1299.12 1568.97 1295.71 1568.97 Q1287.18 1568.97 1282.18 1564 Q1277.22 1559.04 1277.22 1550.57 Q1277.22 1541.82 1281.93 1536.69 Q1286.67 1531.54 1294.69 1531.54 Q1301.89 1531.54 1306.06 1536.18 Q1310.26 1540.8 1310.26 1548.76 M1304.4 1547.04 Q1304.34 1542.23 1301.7 1539.37 Q1299.09 1536.5 1294.76 1536.5 Q1289.85 1536.5 1286.89 1539.27 Q1283.97 1542.04 1283.52 1547.07 L1304.4 1547.04 Z\" fill=\"#000000\" fill-rule=\"evenodd\" fill-opacity=\"1\" /><path clip-path=\"url(#clip780)\" d=\"M1342.59 1533.45 L1342.59 1538.98 Q1340.11 1537.71 1337.44 1537.07 Q1334.77 1536.44 1331.9 1536.44 Q1327.54 1536.44 1325.34 1537.77 Q1323.18 1539.11 1323.18 1541.79 Q1323.18 1543.82 1324.74 1545 Q1326.3 1546.15 1331.01 1547.2 L1333.01 1547.64 Q1339.25 1548.98 1341.86 1551.43 Q1344.5 1553.85 1344.5 1558.21 Q1344.5 1563.17 1340.56 1566.07 Q1336.64 1568.97 1329.77 1568.97 Q1326.9 1568.97 1323.78 1568.39 Q1320.7 1567.85 1317.26 1566.74 L1317.26 1560.69 Q1320.51 1562.38 1323.66 1563.24 Q1326.81 1564.07 1329.9 1564.07 Q1334.03 1564.07 1336.26 1562.66 Q1338.49 1561.23 1338.49 1558.65 Q1338.49 1556.27 1336.87 1554.99 Q1335.27 1553.72 1329.83 1552.54 L1327.79 1552.07 Q1322.35 1550.92 1319.93 1548.56 Q1317.51 1546.18 1317.51 1542.04 Q1317.51 1537.01 1321.08 1534.27 Q1324.64 1531.54 1331.2 1531.54 Q1334.45 1531.54 1337.31 1532.01 Q1340.18 1532.49 1342.59 1533.45 Z\" fill=\"#000000\" fill-rule=\"evenodd\" fill-opacity=\"1\" /><path clip-path=\"url(#clip780)\" d=\"M1352.91 1518.58 L1358 1518.58 Q1362.77 1526.09 1365.13 1533.29 Q1367.52 1540.48 1367.52 1547.58 Q1367.52 1554.71 1365.13 1561.93 Q1362.77 1569.16 1358 1576.64 L1352.91 1576.64 Q1357.14 1569.35 1359.21 1562.16 Q1361.31 1554.93 1361.31 1547.58 Q1361.31 1540.23 1359.21 1533.06 Q1357.14 1525.9 1352.91 1518.58 Z\" fill=\"#000000\" fill-rule=\"evenodd\" fill-opacity=\"1\" /><polyline clip-path=\"url(#clip782)\" style=\"stroke:#000000; stroke-linecap:butt; stroke-linejoin:round; stroke-width:2; stroke-opacity:0.1; fill:none\" points=\"\n",
       "  257.204,1384.24 2112.76,1384.24 \n",
       "  \"/>\n",
       "<polyline clip-path=\"url(#clip782)\" style=\"stroke:#000000; stroke-linecap:butt; stroke-linejoin:round; stroke-width:2; stroke-opacity:0.1; fill:none\" points=\"\n",
       "  257.204,1059.73 2112.76,1059.73 \n",
       "  \"/>\n",
       "<polyline clip-path=\"url(#clip782)\" style=\"stroke:#000000; stroke-linecap:butt; stroke-linejoin:round; stroke-width:2; stroke-opacity:0.1; fill:none\" points=\"\n",
       "  257.204,735.212 2112.76,735.212 \n",
       "  \"/>\n",
       "<polyline clip-path=\"url(#clip782)\" style=\"stroke:#000000; stroke-linecap:butt; stroke-linejoin:round; stroke-width:2; stroke-opacity:0.1; fill:none\" points=\"\n",
       "  257.204,410.699 2112.76,410.699 \n",
       "  \"/>\n",
       "<polyline clip-path=\"url(#clip782)\" style=\"stroke:#000000; stroke-linecap:butt; stroke-linejoin:round; stroke-width:2; stroke-opacity:0.1; fill:none\" points=\"\n",
       "  257.204,86.1857 2112.76,86.1857 \n",
       "  \"/>\n",
       "<polyline clip-path=\"url(#clip780)\" style=\"stroke:#000000; stroke-linecap:butt; stroke-linejoin:round; stroke-width:4; stroke-opacity:1; fill:none\" points=\"\n",
       "  257.204,1423.18 257.204,47.2441 \n",
       "  \"/>\n",
       "<polyline clip-path=\"url(#clip780)\" style=\"stroke:#000000; stroke-linecap:butt; stroke-linejoin:round; stroke-width:4; stroke-opacity:1; fill:none\" points=\"\n",
       "  257.204,1384.24 273.937,1384.24 \n",
       "  \"/>\n",
       "<polyline clip-path=\"url(#clip780)\" style=\"stroke:#000000; stroke-linecap:butt; stroke-linejoin:round; stroke-width:4; stroke-opacity:1; fill:none\" points=\"\n",
       "  257.204,1059.73 273.937,1059.73 \n",
       "  \"/>\n",
       "<polyline clip-path=\"url(#clip780)\" style=\"stroke:#000000; stroke-linecap:butt; stroke-linejoin:round; stroke-width:4; stroke-opacity:1; fill:none\" points=\"\n",
       "  257.204,735.212 273.937,735.212 \n",
       "  \"/>\n",
       "<polyline clip-path=\"url(#clip780)\" style=\"stroke:#000000; stroke-linecap:butt; stroke-linejoin:round; stroke-width:4; stroke-opacity:1; fill:none\" points=\"\n",
       "  257.204,410.699 273.937,410.699 \n",
       "  \"/>\n",
       "<polyline clip-path=\"url(#clip780)\" style=\"stroke:#000000; stroke-linecap:butt; stroke-linejoin:round; stroke-width:4; stroke-opacity:1; fill:none\" points=\"\n",
       "  257.204,86.1857 273.937,86.1857 \n",
       "  \"/>\n",
       "<path clip-path=\"url(#clip780)\" d=\"M114.26 1384.69 L143.936 1384.69 L143.936 1388.62 L114.26 1388.62 L114.26 1384.69 Z\" fill=\"#000000\" fill-rule=\"evenodd\" fill-opacity=\"1\" /><path clip-path=\"url(#clip780)\" d=\"M154.839 1397.58 L162.477 1397.58 L162.477 1371.22 L154.167 1372.88 L154.167 1368.62 L162.431 1366.96 L167.107 1366.96 L167.107 1397.58 L174.746 1397.58 L174.746 1401.52 L154.839 1401.52 L154.839 1397.58 Z\" fill=\"#000000\" fill-rule=\"evenodd\" fill-opacity=\"1\" /><path clip-path=\"url(#clip780)\" d=\"M184.19 1395.64 L189.075 1395.64 L189.075 1401.52 L184.19 1401.52 L184.19 1395.64 Z\" fill=\"#000000\" fill-rule=\"evenodd\" fill-opacity=\"1\" /><path clip-path=\"url(#clip780)\" d=\"M209.26 1370.04 Q205.649 1370.04 203.82 1373.6 Q202.014 1377.14 202.014 1384.27 Q202.014 1391.38 203.82 1394.94 Q205.649 1398.49 209.26 1398.49 Q212.894 1398.49 214.699 1394.94 Q216.528 1391.38 216.528 1384.27 Q216.528 1377.14 214.699 1373.6 Q212.894 1370.04 209.26 1370.04 M209.26 1366.33 Q215.07 1366.33 218.125 1370.94 Q221.204 1375.52 221.204 1384.27 Q221.204 1393 218.125 1397.61 Q215.07 1402.19 209.26 1402.19 Q203.449 1402.19 200.371 1397.61 Q197.315 1393 197.315 1384.27 Q197.315 1375.52 200.371 1370.94 Q203.449 1366.33 209.26 1366.33 Z\" fill=\"#000000\" fill-rule=\"evenodd\" fill-opacity=\"1\" /><path clip-path=\"url(#clip780)\" d=\"M115.256 1060.18 L144.931 1060.18 L144.931 1064.11 L115.256 1064.11 L115.256 1060.18 Z\" fill=\"#000000\" fill-rule=\"evenodd\" fill-opacity=\"1\" /><path clip-path=\"url(#clip780)\" d=\"M165.024 1045.52 Q161.413 1045.52 159.584 1049.09 Q157.778 1052.63 157.778 1059.76 Q157.778 1066.87 159.584 1070.43 Q161.413 1073.97 165.024 1073.97 Q168.658 1073.97 170.464 1070.43 Q172.292 1066.87 172.292 1059.76 Q172.292 1052.63 170.464 1049.09 Q168.658 1045.52 165.024 1045.52 M165.024 1041.82 Q170.834 1041.82 173.889 1046.43 Q176.968 1051.01 176.968 1059.76 Q176.968 1068.49 173.889 1073.09 Q170.834 1077.68 165.024 1077.68 Q159.214 1077.68 156.135 1073.09 Q153.079 1068.49 153.079 1059.76 Q153.079 1051.01 156.135 1046.43 Q159.214 1041.82 165.024 1041.82 Z\" fill=\"#000000\" fill-rule=\"evenodd\" fill-opacity=\"1\" /><path clip-path=\"url(#clip780)\" d=\"M185.186 1071.13 L190.07 1071.13 L190.07 1077.01 L185.186 1077.01 L185.186 1071.13 Z\" fill=\"#000000\" fill-rule=\"evenodd\" fill-opacity=\"1\" /><path clip-path=\"url(#clip780)\" d=\"M200.301 1042.45 L218.658 1042.45 L218.658 1046.38 L204.584 1046.38 L204.584 1054.85 Q205.602 1054.51 206.621 1054.34 Q207.639 1054.16 208.658 1054.16 Q214.445 1054.16 217.824 1057.33 Q221.204 1060.5 221.204 1065.92 Q221.204 1071.5 217.732 1074.6 Q214.26 1077.68 207.94 1077.68 Q205.764 1077.68 203.496 1077.31 Q201.25 1076.94 198.843 1076.19 L198.843 1071.5 Q200.926 1072.63 203.149 1073.19 Q205.371 1073.74 207.848 1073.74 Q211.852 1073.74 214.19 1071.63 Q216.528 1069.53 216.528 1065.92 Q216.528 1062.31 214.19 1060.2 Q211.852 1058.09 207.848 1058.09 Q205.973 1058.09 204.098 1058.51 Q202.246 1058.93 200.301 1059.81 L200.301 1042.45 Z\" fill=\"#000000\" fill-rule=\"evenodd\" fill-opacity=\"1\" /><path clip-path=\"url(#clip780)\" d=\"M164.028 721.011 Q160.417 721.011 158.589 724.575 Q156.783 728.117 156.783 735.247 Q156.783 742.353 158.589 745.918 Q160.417 749.46 164.028 749.46 Q167.663 749.46 169.468 745.918 Q171.297 742.353 171.297 735.247 Q171.297 728.117 169.468 724.575 Q167.663 721.011 164.028 721.011 M164.028 717.307 Q169.839 717.307 172.894 721.913 Q175.973 726.497 175.973 735.247 Q175.973 743.973 172.894 748.58 Q169.839 753.163 164.028 753.163 Q158.218 753.163 155.14 748.58 Q152.084 743.973 152.084 735.247 Q152.084 726.497 155.14 721.913 Q158.218 717.307 164.028 717.307 Z\" fill=\"#000000\" fill-rule=\"evenodd\" fill-opacity=\"1\" /><path clip-path=\"url(#clip780)\" d=\"M184.19 746.612 L189.075 746.612 L189.075 752.492 L184.19 752.492 L184.19 746.612 Z\" fill=\"#000000\" fill-rule=\"evenodd\" fill-opacity=\"1\" /><path clip-path=\"url(#clip780)\" d=\"M209.26 721.011 Q205.649 721.011 203.82 724.575 Q202.014 728.117 202.014 735.247 Q202.014 742.353 203.82 745.918 Q205.649 749.46 209.26 749.46 Q212.894 749.46 214.699 745.918 Q216.528 742.353 216.528 735.247 Q216.528 728.117 214.699 724.575 Q212.894 721.011 209.26 721.011 M209.26 717.307 Q215.07 717.307 218.125 721.913 Q221.204 726.497 221.204 735.247 Q221.204 743.973 218.125 748.58 Q215.07 753.163 209.26 753.163 Q203.449 753.163 200.371 748.58 Q197.315 743.973 197.315 735.247 Q197.315 726.497 200.371 721.913 Q203.449 717.307 209.26 717.307 Z\" fill=\"#000000\" fill-rule=\"evenodd\" fill-opacity=\"1\" /><path clip-path=\"url(#clip780)\" d=\"M165.024 396.498 Q161.413 396.498 159.584 400.062 Q157.778 403.604 157.778 410.734 Q157.778 417.84 159.584 421.405 Q161.413 424.946 165.024 424.946 Q168.658 424.946 170.464 421.405 Q172.292 417.84 172.292 410.734 Q172.292 403.604 170.464 400.062 Q168.658 396.498 165.024 396.498 M165.024 392.794 Q170.834 392.794 173.889 397.4 Q176.968 401.984 176.968 410.734 Q176.968 419.46 173.889 424.067 Q170.834 428.65 165.024 428.65 Q159.214 428.65 156.135 424.067 Q153.079 419.46 153.079 410.734 Q153.079 401.984 156.135 397.4 Q159.214 392.794 165.024 392.794 Z\" fill=\"#000000\" fill-rule=\"evenodd\" fill-opacity=\"1\" /><path clip-path=\"url(#clip780)\" d=\"M185.186 422.099 L190.07 422.099 L190.07 427.979 L185.186 427.979 L185.186 422.099 Z\" fill=\"#000000\" fill-rule=\"evenodd\" fill-opacity=\"1\" /><path clip-path=\"url(#clip780)\" d=\"M200.301 393.419 L218.658 393.419 L218.658 397.354 L204.584 397.354 L204.584 405.826 Q205.602 405.479 206.621 405.317 Q207.639 405.132 208.658 405.132 Q214.445 405.132 217.824 408.303 Q221.204 411.474 221.204 416.891 Q221.204 422.47 217.732 425.571 Q214.26 428.65 207.94 428.65 Q205.764 428.65 203.496 428.28 Q201.25 427.909 198.843 427.169 L198.843 422.47 Q200.926 423.604 203.149 424.159 Q205.371 424.715 207.848 424.715 Q211.852 424.715 214.19 422.608 Q216.528 420.502 216.528 416.891 Q216.528 413.28 214.19 411.173 Q211.852 409.067 207.848 409.067 Q205.973 409.067 204.098 409.484 Q202.246 409.9 200.301 410.78 L200.301 393.419 Z\" fill=\"#000000\" fill-rule=\"evenodd\" fill-opacity=\"1\" /><path clip-path=\"url(#clip780)\" d=\"M154.839 99.5305 L162.477 99.5305 L162.477 73.1649 L154.167 74.8316 L154.167 70.5723 L162.431 68.9057 L167.107 68.9057 L167.107 99.5305 L174.746 99.5305 L174.746 103.466 L154.839 103.466 L154.839 99.5305 Z\" fill=\"#000000\" fill-rule=\"evenodd\" fill-opacity=\"1\" /><path clip-path=\"url(#clip780)\" d=\"M184.19 97.5861 L189.075 97.5861 L189.075 103.466 L184.19 103.466 L184.19 97.5861 Z\" fill=\"#000000\" fill-rule=\"evenodd\" fill-opacity=\"1\" /><path clip-path=\"url(#clip780)\" d=\"M209.26 71.9844 Q205.649 71.9844 203.82 75.5492 Q202.014 79.0908 202.014 86.2204 Q202.014 93.3268 203.82 96.8916 Q205.649 100.433 209.26 100.433 Q212.894 100.433 214.699 96.8916 Q216.528 93.3268 216.528 86.2204 Q216.528 79.0908 214.699 75.5492 Q212.894 71.9844 209.26 71.9844 M209.26 68.2807 Q215.07 68.2807 218.125 72.8871 Q221.204 77.4704 221.204 86.2204 Q221.204 94.9472 218.125 99.5537 Q215.07 104.137 209.26 104.137 Q203.449 104.137 200.371 99.5537 Q197.315 94.9472 197.315 86.2204 Q197.315 77.4704 200.371 72.8871 Q203.449 68.2807 209.26 68.2807 Z\" fill=\"#000000\" fill-rule=\"evenodd\" fill-opacity=\"1\" /><path clip-path=\"url(#clip780)\" d=\"M67.3143 744.856 Q73.68 747.339 75.6216 749.694 Q77.5631 752.049 77.5631 755.996 L77.5631 760.675 L72.6615 760.675 L72.6615 757.237 Q72.6615 754.818 71.5157 753.482 Q70.3699 752.145 66.1048 750.521 L63.4312 749.471 L28.3562 763.889 L28.3562 757.683 L56.238 746.543 L28.3562 735.403 L28.3562 729.196 L67.3143 744.856 Z\" fill=\"#000000\" fill-rule=\"evenodd\" fill-opacity=\"1\" /><circle clip-path=\"url(#clip782)\" style=\"fill:#30123b; stroke:none; fill-opacity:1\" cx=\"309.72\" cy=\"735.212\" r=\"2\"/>\n",
       "<circle clip-path=\"url(#clip782)\" cx=\"321.876\" cy=\"678.646\" r=\"3\" fill=\"#4351bf\" fill-rule=\"evenodd\" fill-opacity=\"1\" stroke=\"#000000\" stroke-opacity=\"1\" stroke-width=\"3.2\"/>\n",
       "<circle clip-path=\"url(#clip782)\" cx=\"334.032\" cy=\"622.51\" r=\"6\" fill=\"#448afc\" fill-rule=\"evenodd\" fill-opacity=\"1\" stroke=\"#000000\" stroke-opacity=\"1\" stroke-width=\"3.2\"/>\n",
       "<circle clip-path=\"url(#clip782)\" cx=\"346.189\" cy=\"567.232\" r=\"9\" fill=\"#25c0e6\" fill-rule=\"evenodd\" fill-opacity=\"1\" stroke=\"#000000\" stroke-opacity=\"1\" stroke-width=\"3.2\"/>\n",
       "<circle clip-path=\"url(#clip782)\" cx=\"358.345\" cy=\"513.232\" r=\"12\" fill=\"#1de7b1\" fill-rule=\"evenodd\" fill-opacity=\"1\" stroke=\"#000000\" stroke-opacity=\"1\" stroke-width=\"3.2\"/>\n",
       "<circle clip-path=\"url(#clip782)\" cx=\"370.502\" cy=\"460.922\" r=\"15\" fill=\"#5cfb70\" fill-rule=\"evenodd\" fill-opacity=\"1\" stroke=\"#000000\" stroke-opacity=\"1\" stroke-width=\"3.2\"/>\n",
       "<circle clip-path=\"url(#clip782)\" cx=\"382.658\" cy=\"410.699\" r=\"18\" fill=\"#a2fc3c\" fill-rule=\"evenodd\" fill-opacity=\"1\" stroke=\"#000000\" stroke-opacity=\"1\" stroke-width=\"3.2\"/>\n",
       "<circle clip-path=\"url(#clip782)\" cx=\"394.814\" cy=\"362.946\" r=\"20\" fill=\"#d2e834\" fill-rule=\"evenodd\" fill-opacity=\"1\" stroke=\"#000000\" stroke-opacity=\"1\" stroke-width=\"3.2\"/>\n",
       "<circle clip-path=\"url(#clip782)\" cx=\"406.971\" cy=\"318.026\" r=\"23\" fill=\"#f3c73a\" fill-rule=\"evenodd\" fill-opacity=\"1\" stroke=\"#000000\" stroke-opacity=\"1\" stroke-width=\"3.2\"/>\n",
       "<circle clip-path=\"url(#clip782)\" cx=\"419.127\" cy=\"276.281\" r=\"25\" fill=\"#fea02f\" fill-rule=\"evenodd\" fill-opacity=\"1\" stroke=\"#000000\" stroke-opacity=\"1\" stroke-width=\"3.2\"/>\n",
       "<circle clip-path=\"url(#clip782)\" cx=\"431.284\" cy=\"238.029\" r=\"27\" fill=\"#f8731c\" fill-rule=\"evenodd\" fill-opacity=\"1\" stroke=\"#000000\" stroke-opacity=\"1\" stroke-width=\"3.2\"/>\n",
       "<circle clip-path=\"url(#clip782)\" cx=\"443.44\" cy=\"203.561\" r=\"29\" fill=\"#e94e0d\" fill-rule=\"evenodd\" fill-opacity=\"1\" stroke=\"#000000\" stroke-opacity=\"1\" stroke-width=\"3.2\"/>\n",
       "<circle clip-path=\"url(#clip782)\" cx=\"455.596\" cy=\"173.139\" r=\"31\" fill=\"#d63405\" fill-rule=\"evenodd\" fill-opacity=\"1\" stroke=\"#000000\" stroke-opacity=\"1\" stroke-width=\"3.2\"/>\n",
       "<circle clip-path=\"url(#clip782)\" cx=\"467.753\" cy=\"146.994\" r=\"32\" fill=\"#c02202\" fill-rule=\"evenodd\" fill-opacity=\"1\" stroke=\"#000000\" stroke-opacity=\"1\" stroke-width=\"3.2\"/>\n",
       "<circle clip-path=\"url(#clip782)\" cx=\"479.909\" cy=\"125.327\" r=\"33\" fill=\"#aa1601\" fill-rule=\"evenodd\" fill-opacity=\"1\" stroke=\"#000000\" stroke-opacity=\"1\" stroke-width=\"3.2\"/>\n",
       "<circle clip-path=\"url(#clip782)\" cx=\"492.066\" cy=\"108.301\" r=\"34\" fill=\"#960d01\" fill-rule=\"evenodd\" fill-opacity=\"1\" stroke=\"#000000\" stroke-opacity=\"1\" stroke-width=\"3.2\"/>\n",
       "<circle clip-path=\"url(#clip782)\" cx=\"504.222\" cy=\"96.0458\" r=\"35\" fill=\"#870701\" fill-rule=\"evenodd\" fill-opacity=\"1\" stroke=\"#000000\" stroke-opacity=\"1\" stroke-width=\"3.2\"/>\n",
       "<circle clip-path=\"url(#clip782)\" cx=\"516.378\" cy=\"88.6554\" r=\"35\" fill=\"#7d0402\" fill-rule=\"evenodd\" fill-opacity=\"1\" stroke=\"#000000\" stroke-opacity=\"1\" stroke-width=\"3.2\"/>\n",
       "<circle clip-path=\"url(#clip782)\" cx=\"528.535\" cy=\"86.1857\" r=\"36\" fill=\"#7a0402\" fill-rule=\"evenodd\" fill-opacity=\"1\" stroke=\"#000000\" stroke-opacity=\"1\" stroke-width=\"3.2\"/>\n",
       "<circle clip-path=\"url(#clip782)\" cx=\"540.691\" cy=\"88.6554\" r=\"35\" fill=\"#7d0402\" fill-rule=\"evenodd\" fill-opacity=\"1\" stroke=\"#000000\" stroke-opacity=\"1\" stroke-width=\"3.2\"/>\n",
       "<circle clip-path=\"url(#clip782)\" cx=\"552.848\" cy=\"96.0458\" r=\"35\" fill=\"#870701\" fill-rule=\"evenodd\" fill-opacity=\"1\" stroke=\"#000000\" stroke-opacity=\"1\" stroke-width=\"3.2\"/>\n",
       "<circle clip-path=\"url(#clip782)\" cx=\"565.004\" cy=\"108.301\" r=\"34\" fill=\"#960d01\" fill-rule=\"evenodd\" fill-opacity=\"1\" stroke=\"#000000\" stroke-opacity=\"1\" stroke-width=\"3.2\"/>\n",
       "<circle clip-path=\"url(#clip782)\" cx=\"577.16\" cy=\"125.327\" r=\"33\" fill=\"#aa1601\" fill-rule=\"evenodd\" fill-opacity=\"1\" stroke=\"#000000\" stroke-opacity=\"1\" stroke-width=\"3.2\"/>\n",
       "<circle clip-path=\"url(#clip782)\" cx=\"589.317\" cy=\"146.994\" r=\"32\" fill=\"#c02202\" fill-rule=\"evenodd\" fill-opacity=\"1\" stroke=\"#000000\" stroke-opacity=\"1\" stroke-width=\"3.2\"/>\n",
       "<circle clip-path=\"url(#clip782)\" cx=\"601.473\" cy=\"173.139\" r=\"31\" fill=\"#d63405\" fill-rule=\"evenodd\" fill-opacity=\"1\" stroke=\"#000000\" stroke-opacity=\"1\" stroke-width=\"3.2\"/>\n",
       "<circle clip-path=\"url(#clip782)\" cx=\"613.629\" cy=\"203.561\" r=\"29\" fill=\"#e94e0d\" fill-rule=\"evenodd\" fill-opacity=\"1\" stroke=\"#000000\" stroke-opacity=\"1\" stroke-width=\"3.2\"/>\n",
       "<circle clip-path=\"url(#clip782)\" cx=\"625.786\" cy=\"238.029\" r=\"27\" fill=\"#f8731c\" fill-rule=\"evenodd\" fill-opacity=\"1\" stroke=\"#000000\" stroke-opacity=\"1\" stroke-width=\"3.2\"/>\n",
       "<circle clip-path=\"url(#clip782)\" cx=\"637.942\" cy=\"276.281\" r=\"25\" fill=\"#fea02f\" fill-rule=\"evenodd\" fill-opacity=\"1\" stroke=\"#000000\" stroke-opacity=\"1\" stroke-width=\"3.2\"/>\n",
       "<circle clip-path=\"url(#clip782)\" cx=\"650.099\" cy=\"318.026\" r=\"23\" fill=\"#f3c73a\" fill-rule=\"evenodd\" fill-opacity=\"1\" stroke=\"#000000\" stroke-opacity=\"1\" stroke-width=\"3.2\"/>\n",
       "<circle clip-path=\"url(#clip782)\" cx=\"662.255\" cy=\"362.946\" r=\"20\" fill=\"#d2e834\" fill-rule=\"evenodd\" fill-opacity=\"1\" stroke=\"#000000\" stroke-opacity=\"1\" stroke-width=\"3.2\"/>\n",
       "<circle clip-path=\"url(#clip782)\" cx=\"674.411\" cy=\"410.699\" r=\"18\" fill=\"#a2fc3c\" fill-rule=\"evenodd\" fill-opacity=\"1\" stroke=\"#000000\" stroke-opacity=\"1\" stroke-width=\"3.2\"/>\n",
       "<circle clip-path=\"url(#clip782)\" cx=\"686.568\" cy=\"460.922\" r=\"15\" fill=\"#5cfb70\" fill-rule=\"evenodd\" fill-opacity=\"1\" stroke=\"#000000\" stroke-opacity=\"1\" stroke-width=\"3.2\"/>\n",
       "<circle clip-path=\"url(#clip782)\" cx=\"698.724\" cy=\"513.232\" r=\"12\" fill=\"#1de7b1\" fill-rule=\"evenodd\" fill-opacity=\"1\" stroke=\"#000000\" stroke-opacity=\"1\" stroke-width=\"3.2\"/>\n",
       "<circle clip-path=\"url(#clip782)\" cx=\"710.881\" cy=\"567.232\" r=\"9\" fill=\"#25c0e6\" fill-rule=\"evenodd\" fill-opacity=\"1\" stroke=\"#000000\" stroke-opacity=\"1\" stroke-width=\"3.2\"/>\n",
       "<circle clip-path=\"url(#clip782)\" cx=\"723.037\" cy=\"622.51\" r=\"6\" fill=\"#448afc\" fill-rule=\"evenodd\" fill-opacity=\"1\" stroke=\"#000000\" stroke-opacity=\"1\" stroke-width=\"3.2\"/>\n",
       "<circle clip-path=\"url(#clip782)\" cx=\"735.193\" cy=\"678.646\" r=\"3\" fill=\"#4351bf\" fill-rule=\"evenodd\" fill-opacity=\"1\" stroke=\"#000000\" stroke-opacity=\"1\" stroke-width=\"3.2\"/>\n",
       "<circle clip-path=\"url(#clip782)\" style=\"fill:#30123b; stroke:none; fill-opacity:1\" cx=\"747.35\" cy=\"735.212\" r=\"2\"/>\n",
       "<circle clip-path=\"url(#clip782)\" cx=\"759.506\" cy=\"791.778\" r=\"3\" fill=\"#4351bf\" fill-rule=\"evenodd\" fill-opacity=\"1\" stroke=\"#000000\" stroke-opacity=\"1\" stroke-width=\"3.2\"/>\n",
       "<circle clip-path=\"url(#clip782)\" cx=\"771.663\" cy=\"847.914\" r=\"6\" fill=\"#448afc\" fill-rule=\"evenodd\" fill-opacity=\"1\" stroke=\"#000000\" stroke-opacity=\"1\" stroke-width=\"3.2\"/>\n",
       "<circle clip-path=\"url(#clip782)\" cx=\"783.819\" cy=\"903.192\" r=\"9\" fill=\"#25c0e6\" fill-rule=\"evenodd\" fill-opacity=\"1\" stroke=\"#000000\" stroke-opacity=\"1\" stroke-width=\"3.2\"/>\n",
       "<circle clip-path=\"url(#clip782)\" cx=\"795.975\" cy=\"957.192\" r=\"12\" fill=\"#1de7b1\" fill-rule=\"evenodd\" fill-opacity=\"1\" stroke=\"#000000\" stroke-opacity=\"1\" stroke-width=\"3.2\"/>\n",
       "<circle clip-path=\"url(#clip782)\" cx=\"808.132\" cy=\"1009.5\" r=\"15\" fill=\"#5cfb70\" fill-rule=\"evenodd\" fill-opacity=\"1\" stroke=\"#000000\" stroke-opacity=\"1\" stroke-width=\"3.2\"/>\n",
       "<circle clip-path=\"url(#clip782)\" cx=\"820.288\" cy=\"1059.73\" r=\"18\" fill=\"#a2fc3c\" fill-rule=\"evenodd\" fill-opacity=\"1\" stroke=\"#000000\" stroke-opacity=\"1\" stroke-width=\"3.2\"/>\n",
       "<circle clip-path=\"url(#clip782)\" cx=\"832.445\" cy=\"1107.48\" r=\"20\" fill=\"#d2e834\" fill-rule=\"evenodd\" fill-opacity=\"1\" stroke=\"#000000\" stroke-opacity=\"1\" stroke-width=\"3.2\"/>\n",
       "<circle clip-path=\"url(#clip782)\" cx=\"844.601\" cy=\"1152.4\" r=\"23\" fill=\"#f3c73a\" fill-rule=\"evenodd\" fill-opacity=\"1\" stroke=\"#000000\" stroke-opacity=\"1\" stroke-width=\"3.2\"/>\n",
       "<circle clip-path=\"url(#clip782)\" cx=\"856.757\" cy=\"1194.14\" r=\"25\" fill=\"#fea02f\" fill-rule=\"evenodd\" fill-opacity=\"1\" stroke=\"#000000\" stroke-opacity=\"1\" stroke-width=\"3.2\"/>\n",
       "<circle clip-path=\"url(#clip782)\" cx=\"868.914\" cy=\"1232.39\" r=\"27\" fill=\"#f8731c\" fill-rule=\"evenodd\" fill-opacity=\"1\" stroke=\"#000000\" stroke-opacity=\"1\" stroke-width=\"3.2\"/>\n",
       "<circle clip-path=\"url(#clip782)\" cx=\"881.07\" cy=\"1266.86\" r=\"29\" fill=\"#e94e0d\" fill-rule=\"evenodd\" fill-opacity=\"1\" stroke=\"#000000\" stroke-opacity=\"1\" stroke-width=\"3.2\"/>\n",
       "<circle clip-path=\"url(#clip782)\" cx=\"893.227\" cy=\"1297.29\" r=\"31\" fill=\"#d63405\" fill-rule=\"evenodd\" fill-opacity=\"1\" stroke=\"#000000\" stroke-opacity=\"1\" stroke-width=\"3.2\"/>\n",
       "<circle clip-path=\"url(#clip782)\" cx=\"905.383\" cy=\"1323.43\" r=\"32\" fill=\"#c02202\" fill-rule=\"evenodd\" fill-opacity=\"1\" stroke=\"#000000\" stroke-opacity=\"1\" stroke-width=\"3.2\"/>\n",
       "<circle clip-path=\"url(#clip782)\" cx=\"917.539\" cy=\"1345.1\" r=\"33\" fill=\"#aa1601\" fill-rule=\"evenodd\" fill-opacity=\"1\" stroke=\"#000000\" stroke-opacity=\"1\" stroke-width=\"3.2\"/>\n",
       "<circle clip-path=\"url(#clip782)\" cx=\"929.696\" cy=\"1362.12\" r=\"34\" fill=\"#960d01\" fill-rule=\"evenodd\" fill-opacity=\"1\" stroke=\"#000000\" stroke-opacity=\"1\" stroke-width=\"3.2\"/>\n",
       "<circle clip-path=\"url(#clip782)\" cx=\"941.852\" cy=\"1374.38\" r=\"35\" fill=\"#870701\" fill-rule=\"evenodd\" fill-opacity=\"1\" stroke=\"#000000\" stroke-opacity=\"1\" stroke-width=\"3.2\"/>\n",
       "<circle clip-path=\"url(#clip782)\" cx=\"954.008\" cy=\"1381.77\" r=\"35\" fill=\"#7d0402\" fill-rule=\"evenodd\" fill-opacity=\"1\" stroke=\"#000000\" stroke-opacity=\"1\" stroke-width=\"3.2\"/>\n",
       "<circle clip-path=\"url(#clip782)\" cx=\"966.165\" cy=\"1384.24\" r=\"36\" fill=\"#7a0402\" fill-rule=\"evenodd\" fill-opacity=\"1\" stroke=\"#000000\" stroke-opacity=\"1\" stroke-width=\"3.2\"/>\n",
       "<circle clip-path=\"url(#clip782)\" cx=\"978.321\" cy=\"1381.77\" r=\"35\" fill=\"#7d0402\" fill-rule=\"evenodd\" fill-opacity=\"1\" stroke=\"#000000\" stroke-opacity=\"1\" stroke-width=\"3.2\"/>\n",
       "<circle clip-path=\"url(#clip782)\" cx=\"990.478\" cy=\"1374.38\" r=\"35\" fill=\"#870701\" fill-rule=\"evenodd\" fill-opacity=\"1\" stroke=\"#000000\" stroke-opacity=\"1\" stroke-width=\"3.2\"/>\n",
       "<circle clip-path=\"url(#clip782)\" cx=\"1002.63\" cy=\"1362.12\" r=\"34\" fill=\"#960d01\" fill-rule=\"evenodd\" fill-opacity=\"1\" stroke=\"#000000\" stroke-opacity=\"1\" stroke-width=\"3.2\"/>\n",
       "<circle clip-path=\"url(#clip782)\" cx=\"1014.79\" cy=\"1345.1\" r=\"33\" fill=\"#aa1601\" fill-rule=\"evenodd\" fill-opacity=\"1\" stroke=\"#000000\" stroke-opacity=\"1\" stroke-width=\"3.2\"/>\n",
       "<circle clip-path=\"url(#clip782)\" cx=\"1026.95\" cy=\"1323.43\" r=\"32\" fill=\"#c02202\" fill-rule=\"evenodd\" fill-opacity=\"1\" stroke=\"#000000\" stroke-opacity=\"1\" stroke-width=\"3.2\"/>\n",
       "<circle clip-path=\"url(#clip782)\" cx=\"1039.1\" cy=\"1297.29\" r=\"31\" fill=\"#d63405\" fill-rule=\"evenodd\" fill-opacity=\"1\" stroke=\"#000000\" stroke-opacity=\"1\" stroke-width=\"3.2\"/>\n",
       "<circle clip-path=\"url(#clip782)\" cx=\"1051.26\" cy=\"1266.86\" r=\"29\" fill=\"#e94e0d\" fill-rule=\"evenodd\" fill-opacity=\"1\" stroke=\"#000000\" stroke-opacity=\"1\" stroke-width=\"3.2\"/>\n",
       "<circle clip-path=\"url(#clip782)\" cx=\"1063.42\" cy=\"1232.39\" r=\"27\" fill=\"#f8731c\" fill-rule=\"evenodd\" fill-opacity=\"1\" stroke=\"#000000\" stroke-opacity=\"1\" stroke-width=\"3.2\"/>\n",
       "<circle clip-path=\"url(#clip782)\" cx=\"1075.57\" cy=\"1194.14\" r=\"25\" fill=\"#fea02f\" fill-rule=\"evenodd\" fill-opacity=\"1\" stroke=\"#000000\" stroke-opacity=\"1\" stroke-width=\"3.2\"/>\n",
       "<circle clip-path=\"url(#clip782)\" cx=\"1087.73\" cy=\"1152.4\" r=\"23\" fill=\"#f3c73a\" fill-rule=\"evenodd\" fill-opacity=\"1\" stroke=\"#000000\" stroke-opacity=\"1\" stroke-width=\"3.2\"/>\n",
       "<circle clip-path=\"url(#clip782)\" cx=\"1099.89\" cy=\"1107.48\" r=\"20\" fill=\"#d2e834\" fill-rule=\"evenodd\" fill-opacity=\"1\" stroke=\"#000000\" stroke-opacity=\"1\" stroke-width=\"3.2\"/>\n",
       "<circle clip-path=\"url(#clip782)\" cx=\"1112.04\" cy=\"1059.73\" r=\"18\" fill=\"#a2fc3c\" fill-rule=\"evenodd\" fill-opacity=\"1\" stroke=\"#000000\" stroke-opacity=\"1\" stroke-width=\"3.2\"/>\n",
       "<circle clip-path=\"url(#clip782)\" cx=\"1124.2\" cy=\"1009.5\" r=\"15\" fill=\"#5cfb70\" fill-rule=\"evenodd\" fill-opacity=\"1\" stroke=\"#000000\" stroke-opacity=\"1\" stroke-width=\"3.2\"/>\n",
       "<circle clip-path=\"url(#clip782)\" cx=\"1136.35\" cy=\"957.192\" r=\"12\" fill=\"#1de7b1\" fill-rule=\"evenodd\" fill-opacity=\"1\" stroke=\"#000000\" stroke-opacity=\"1\" stroke-width=\"3.2\"/>\n",
       "<circle clip-path=\"url(#clip782)\" cx=\"1148.51\" cy=\"903.192\" r=\"9\" fill=\"#25c0e6\" fill-rule=\"evenodd\" fill-opacity=\"1\" stroke=\"#000000\" stroke-opacity=\"1\" stroke-width=\"3.2\"/>\n",
       "<circle clip-path=\"url(#clip782)\" cx=\"1160.67\" cy=\"847.914\" r=\"6\" fill=\"#448afc\" fill-rule=\"evenodd\" fill-opacity=\"1\" stroke=\"#000000\" stroke-opacity=\"1\" stroke-width=\"3.2\"/>\n",
       "<circle clip-path=\"url(#clip782)\" cx=\"1172.82\" cy=\"791.778\" r=\"3\" fill=\"#4351bf\" fill-rule=\"evenodd\" fill-opacity=\"1\" stroke=\"#000000\" stroke-opacity=\"1\" stroke-width=\"3.2\"/>\n",
       "<circle clip-path=\"url(#clip782)\" style=\"fill:#30123b; stroke:none; fill-opacity:1\" cx=\"1184.98\" cy=\"735.212\" r=\"2\"/>\n",
       "<circle clip-path=\"url(#clip782)\" cx=\"1197.14\" cy=\"678.646\" r=\"3\" fill=\"#4351bf\" fill-rule=\"evenodd\" fill-opacity=\"1\" stroke=\"#000000\" stroke-opacity=\"1\" stroke-width=\"3.2\"/>\n",
       "<circle clip-path=\"url(#clip782)\" cx=\"1209.29\" cy=\"622.51\" r=\"6\" fill=\"#448afc\" fill-rule=\"evenodd\" fill-opacity=\"1\" stroke=\"#000000\" stroke-opacity=\"1\" stroke-width=\"3.2\"/>\n",
       "<circle clip-path=\"url(#clip782)\" cx=\"1221.45\" cy=\"567.232\" r=\"9\" fill=\"#25c0e6\" fill-rule=\"evenodd\" fill-opacity=\"1\" stroke=\"#000000\" stroke-opacity=\"1\" stroke-width=\"3.2\"/>\n",
       "<circle clip-path=\"url(#clip782)\" cx=\"1233.61\" cy=\"513.232\" r=\"12\" fill=\"#1de7b1\" fill-rule=\"evenodd\" fill-opacity=\"1\" stroke=\"#000000\" stroke-opacity=\"1\" stroke-width=\"3.2\"/>\n",
       "<circle clip-path=\"url(#clip782)\" cx=\"1245.76\" cy=\"460.922\" r=\"15\" fill=\"#5cfb70\" fill-rule=\"evenodd\" fill-opacity=\"1\" stroke=\"#000000\" stroke-opacity=\"1\" stroke-width=\"3.2\"/>\n",
       "<circle clip-path=\"url(#clip782)\" cx=\"1257.92\" cy=\"410.699\" r=\"18\" fill=\"#a2fc3c\" fill-rule=\"evenodd\" fill-opacity=\"1\" stroke=\"#000000\" stroke-opacity=\"1\" stroke-width=\"3.2\"/>\n",
       "<circle clip-path=\"url(#clip782)\" cx=\"1270.07\" cy=\"362.946\" r=\"20\" fill=\"#d2e834\" fill-rule=\"evenodd\" fill-opacity=\"1\" stroke=\"#000000\" stroke-opacity=\"1\" stroke-width=\"3.2\"/>\n",
       "<circle clip-path=\"url(#clip782)\" cx=\"1282.23\" cy=\"318.026\" r=\"23\" fill=\"#f3c73a\" fill-rule=\"evenodd\" fill-opacity=\"1\" stroke=\"#000000\" stroke-opacity=\"1\" stroke-width=\"3.2\"/>\n",
       "<circle clip-path=\"url(#clip782)\" cx=\"1294.39\" cy=\"276.281\" r=\"25\" fill=\"#fea02f\" fill-rule=\"evenodd\" fill-opacity=\"1\" stroke=\"#000000\" stroke-opacity=\"1\" stroke-width=\"3.2\"/>\n",
       "<circle clip-path=\"url(#clip782)\" cx=\"1306.54\" cy=\"238.029\" r=\"27\" fill=\"#f8731c\" fill-rule=\"evenodd\" fill-opacity=\"1\" stroke=\"#000000\" stroke-opacity=\"1\" stroke-width=\"3.2\"/>\n",
       "<circle clip-path=\"url(#clip782)\" cx=\"1318.7\" cy=\"203.561\" r=\"29\" fill=\"#e94e0d\" fill-rule=\"evenodd\" fill-opacity=\"1\" stroke=\"#000000\" stroke-opacity=\"1\" stroke-width=\"3.2\"/>\n",
       "<circle clip-path=\"url(#clip782)\" cx=\"1330.86\" cy=\"173.139\" r=\"31\" fill=\"#d63405\" fill-rule=\"evenodd\" fill-opacity=\"1\" stroke=\"#000000\" stroke-opacity=\"1\" stroke-width=\"3.2\"/>\n",
       "<circle clip-path=\"url(#clip782)\" cx=\"1343.01\" cy=\"146.994\" r=\"32\" fill=\"#c02202\" fill-rule=\"evenodd\" fill-opacity=\"1\" stroke=\"#000000\" stroke-opacity=\"1\" stroke-width=\"3.2\"/>\n",
       "<circle clip-path=\"url(#clip782)\" cx=\"1355.17\" cy=\"125.327\" r=\"33\" fill=\"#aa1601\" fill-rule=\"evenodd\" fill-opacity=\"1\" stroke=\"#000000\" stroke-opacity=\"1\" stroke-width=\"3.2\"/>\n",
       "<circle clip-path=\"url(#clip782)\" cx=\"1367.33\" cy=\"108.301\" r=\"34\" fill=\"#960d01\" fill-rule=\"evenodd\" fill-opacity=\"1\" stroke=\"#000000\" stroke-opacity=\"1\" stroke-width=\"3.2\"/>\n",
       "<circle clip-path=\"url(#clip782)\" cx=\"1379.48\" cy=\"96.0458\" r=\"35\" fill=\"#870701\" fill-rule=\"evenodd\" fill-opacity=\"1\" stroke=\"#000000\" stroke-opacity=\"1\" stroke-width=\"3.2\"/>\n",
       "<circle clip-path=\"url(#clip782)\" cx=\"1391.64\" cy=\"88.6554\" r=\"35\" fill=\"#7d0402\" fill-rule=\"evenodd\" fill-opacity=\"1\" stroke=\"#000000\" stroke-opacity=\"1\" stroke-width=\"3.2\"/>\n",
       "<circle clip-path=\"url(#clip782)\" cx=\"1403.8\" cy=\"86.1857\" r=\"36\" fill=\"#7a0402\" fill-rule=\"evenodd\" fill-opacity=\"1\" stroke=\"#000000\" stroke-opacity=\"1\" stroke-width=\"3.2\"/>\n",
       "<circle clip-path=\"url(#clip782)\" cx=\"1415.95\" cy=\"88.6554\" r=\"35\" fill=\"#7d0402\" fill-rule=\"evenodd\" fill-opacity=\"1\" stroke=\"#000000\" stroke-opacity=\"1\" stroke-width=\"3.2\"/>\n",
       "<circle clip-path=\"url(#clip782)\" cx=\"1428.11\" cy=\"96.0458\" r=\"35\" fill=\"#870701\" fill-rule=\"evenodd\" fill-opacity=\"1\" stroke=\"#000000\" stroke-opacity=\"1\" stroke-width=\"3.2\"/>\n",
       "<circle clip-path=\"url(#clip782)\" cx=\"1440.26\" cy=\"108.301\" r=\"34\" fill=\"#960d01\" fill-rule=\"evenodd\" fill-opacity=\"1\" stroke=\"#000000\" stroke-opacity=\"1\" stroke-width=\"3.2\"/>\n",
       "<circle clip-path=\"url(#clip782)\" cx=\"1452.42\" cy=\"125.327\" r=\"33\" fill=\"#aa1601\" fill-rule=\"evenodd\" fill-opacity=\"1\" stroke=\"#000000\" stroke-opacity=\"1\" stroke-width=\"3.2\"/>\n",
       "<circle clip-path=\"url(#clip782)\" cx=\"1464.58\" cy=\"146.994\" r=\"32\" fill=\"#c02202\" fill-rule=\"evenodd\" fill-opacity=\"1\" stroke=\"#000000\" stroke-opacity=\"1\" stroke-width=\"3.2\"/>\n",
       "<circle clip-path=\"url(#clip782)\" cx=\"1476.73\" cy=\"173.139\" r=\"31\" fill=\"#d63405\" fill-rule=\"evenodd\" fill-opacity=\"1\" stroke=\"#000000\" stroke-opacity=\"1\" stroke-width=\"3.2\"/>\n",
       "<circle clip-path=\"url(#clip782)\" cx=\"1488.89\" cy=\"203.561\" r=\"29\" fill=\"#e94e0d\" fill-rule=\"evenodd\" fill-opacity=\"1\" stroke=\"#000000\" stroke-opacity=\"1\" stroke-width=\"3.2\"/>\n",
       "<circle clip-path=\"url(#clip782)\" cx=\"1501.05\" cy=\"238.029\" r=\"27\" fill=\"#f8731c\" fill-rule=\"evenodd\" fill-opacity=\"1\" stroke=\"#000000\" stroke-opacity=\"1\" stroke-width=\"3.2\"/>\n",
       "<circle clip-path=\"url(#clip782)\" cx=\"1513.2\" cy=\"276.281\" r=\"25\" fill=\"#fea02f\" fill-rule=\"evenodd\" fill-opacity=\"1\" stroke=\"#000000\" stroke-opacity=\"1\" stroke-width=\"3.2\"/>\n",
       "<circle clip-path=\"url(#clip782)\" cx=\"1525.36\" cy=\"318.026\" r=\"23\" fill=\"#f3c73a\" fill-rule=\"evenodd\" fill-opacity=\"1\" stroke=\"#000000\" stroke-opacity=\"1\" stroke-width=\"3.2\"/>\n",
       "<circle clip-path=\"url(#clip782)\" cx=\"1537.52\" cy=\"362.946\" r=\"20\" fill=\"#d2e834\" fill-rule=\"evenodd\" fill-opacity=\"1\" stroke=\"#000000\" stroke-opacity=\"1\" stroke-width=\"3.2\"/>\n",
       "<circle clip-path=\"url(#clip782)\" cx=\"1549.67\" cy=\"410.699\" r=\"18\" fill=\"#a2fc3c\" fill-rule=\"evenodd\" fill-opacity=\"1\" stroke=\"#000000\" stroke-opacity=\"1\" stroke-width=\"3.2\"/>\n",
       "<circle clip-path=\"url(#clip782)\" cx=\"1561.83\" cy=\"460.922\" r=\"15\" fill=\"#5cfb70\" fill-rule=\"evenodd\" fill-opacity=\"1\" stroke=\"#000000\" stroke-opacity=\"1\" stroke-width=\"3.2\"/>\n",
       "<circle clip-path=\"url(#clip782)\" cx=\"1573.98\" cy=\"513.232\" r=\"12\" fill=\"#1de7b1\" fill-rule=\"evenodd\" fill-opacity=\"1\" stroke=\"#000000\" stroke-opacity=\"1\" stroke-width=\"3.2\"/>\n",
       "<circle clip-path=\"url(#clip782)\" cx=\"1586.14\" cy=\"567.232\" r=\"9\" fill=\"#25c0e6\" fill-rule=\"evenodd\" fill-opacity=\"1\" stroke=\"#000000\" stroke-opacity=\"1\" stroke-width=\"3.2\"/>\n",
       "<circle clip-path=\"url(#clip782)\" cx=\"1598.3\" cy=\"622.51\" r=\"6\" fill=\"#448afc\" fill-rule=\"evenodd\" fill-opacity=\"1\" stroke=\"#000000\" stroke-opacity=\"1\" stroke-width=\"3.2\"/>\n",
       "<circle clip-path=\"url(#clip782)\" cx=\"1610.45\" cy=\"678.646\" r=\"3\" fill=\"#4351bf\" fill-rule=\"evenodd\" fill-opacity=\"1\" stroke=\"#000000\" stroke-opacity=\"1\" stroke-width=\"3.2\"/>\n",
       "<circle clip-path=\"url(#clip782)\" style=\"fill:#30123b; stroke:none; fill-opacity:1\" cx=\"1622.61\" cy=\"735.212\" r=\"2\"/>\n",
       "<circle clip-path=\"url(#clip782)\" cx=\"1634.77\" cy=\"791.778\" r=\"3\" fill=\"#4351bf\" fill-rule=\"evenodd\" fill-opacity=\"1\" stroke=\"#000000\" stroke-opacity=\"1\" stroke-width=\"3.2\"/>\n",
       "<circle clip-path=\"url(#clip782)\" cx=\"1646.92\" cy=\"847.914\" r=\"6\" fill=\"#448afc\" fill-rule=\"evenodd\" fill-opacity=\"1\" stroke=\"#000000\" stroke-opacity=\"1\" stroke-width=\"3.2\"/>\n",
       "<circle clip-path=\"url(#clip782)\" cx=\"1659.08\" cy=\"903.192\" r=\"9\" fill=\"#25c0e6\" fill-rule=\"evenodd\" fill-opacity=\"1\" stroke=\"#000000\" stroke-opacity=\"1\" stroke-width=\"3.2\"/>\n",
       "<circle clip-path=\"url(#clip782)\" cx=\"1671.24\" cy=\"957.192\" r=\"12\" fill=\"#1de7b1\" fill-rule=\"evenodd\" fill-opacity=\"1\" stroke=\"#000000\" stroke-opacity=\"1\" stroke-width=\"3.2\"/>\n",
       "<circle clip-path=\"url(#clip782)\" cx=\"1683.39\" cy=\"1009.5\" r=\"15\" fill=\"#5cfb70\" fill-rule=\"evenodd\" fill-opacity=\"1\" stroke=\"#000000\" stroke-opacity=\"1\" stroke-width=\"3.2\"/>\n",
       "<circle clip-path=\"url(#clip782)\" cx=\"1695.55\" cy=\"1059.73\" r=\"18\" fill=\"#a2fc3c\" fill-rule=\"evenodd\" fill-opacity=\"1\" stroke=\"#000000\" stroke-opacity=\"1\" stroke-width=\"3.2\"/>\n",
       "<circle clip-path=\"url(#clip782)\" cx=\"1707.7\" cy=\"1107.48\" r=\"20\" fill=\"#d2e834\" fill-rule=\"evenodd\" fill-opacity=\"1\" stroke=\"#000000\" stroke-opacity=\"1\" stroke-width=\"3.2\"/>\n",
       "<circle clip-path=\"url(#clip782)\" cx=\"1719.86\" cy=\"1152.4\" r=\"23\" fill=\"#f3c73a\" fill-rule=\"evenodd\" fill-opacity=\"1\" stroke=\"#000000\" stroke-opacity=\"1\" stroke-width=\"3.2\"/>\n",
       "<circle clip-path=\"url(#clip782)\" cx=\"1732.02\" cy=\"1194.14\" r=\"25\" fill=\"#fea02f\" fill-rule=\"evenodd\" fill-opacity=\"1\" stroke=\"#000000\" stroke-opacity=\"1\" stroke-width=\"3.2\"/>\n",
       "<circle clip-path=\"url(#clip782)\" cx=\"1744.17\" cy=\"1232.39\" r=\"27\" fill=\"#f8731c\" fill-rule=\"evenodd\" fill-opacity=\"1\" stroke=\"#000000\" stroke-opacity=\"1\" stroke-width=\"3.2\"/>\n",
       "<circle clip-path=\"url(#clip782)\" cx=\"1756.33\" cy=\"1266.86\" r=\"29\" fill=\"#e94e0d\" fill-rule=\"evenodd\" fill-opacity=\"1\" stroke=\"#000000\" stroke-opacity=\"1\" stroke-width=\"3.2\"/>\n",
       "<circle clip-path=\"url(#clip782)\" cx=\"1768.49\" cy=\"1297.29\" r=\"31\" fill=\"#d63405\" fill-rule=\"evenodd\" fill-opacity=\"1\" stroke=\"#000000\" stroke-opacity=\"1\" stroke-width=\"3.2\"/>\n",
       "<circle clip-path=\"url(#clip782)\" cx=\"1780.64\" cy=\"1323.43\" r=\"32\" fill=\"#c02202\" fill-rule=\"evenodd\" fill-opacity=\"1\" stroke=\"#000000\" stroke-opacity=\"1\" stroke-width=\"3.2\"/>\n",
       "<circle clip-path=\"url(#clip782)\" cx=\"1792.8\" cy=\"1345.1\" r=\"33\" fill=\"#aa1601\" fill-rule=\"evenodd\" fill-opacity=\"1\" stroke=\"#000000\" stroke-opacity=\"1\" stroke-width=\"3.2\"/>\n",
       "<circle clip-path=\"url(#clip782)\" cx=\"1804.96\" cy=\"1362.12\" r=\"34\" fill=\"#960d01\" fill-rule=\"evenodd\" fill-opacity=\"1\" stroke=\"#000000\" stroke-opacity=\"1\" stroke-width=\"3.2\"/>\n",
       "<circle clip-path=\"url(#clip782)\" cx=\"1817.11\" cy=\"1374.38\" r=\"35\" fill=\"#870701\" fill-rule=\"evenodd\" fill-opacity=\"1\" stroke=\"#000000\" stroke-opacity=\"1\" stroke-width=\"3.2\"/>\n",
       "<circle clip-path=\"url(#clip782)\" cx=\"1829.27\" cy=\"1381.77\" r=\"35\" fill=\"#7d0402\" fill-rule=\"evenodd\" fill-opacity=\"1\" stroke=\"#000000\" stroke-opacity=\"1\" stroke-width=\"3.2\"/>\n",
       "<circle clip-path=\"url(#clip782)\" cx=\"1841.43\" cy=\"1384.24\" r=\"36\" fill=\"#7a0402\" fill-rule=\"evenodd\" fill-opacity=\"1\" stroke=\"#000000\" stroke-opacity=\"1\" stroke-width=\"3.2\"/>\n",
       "<circle clip-path=\"url(#clip782)\" cx=\"1853.58\" cy=\"1381.77\" r=\"35\" fill=\"#7d0402\" fill-rule=\"evenodd\" fill-opacity=\"1\" stroke=\"#000000\" stroke-opacity=\"1\" stroke-width=\"3.2\"/>\n",
       "<circle clip-path=\"url(#clip782)\" cx=\"1865.74\" cy=\"1374.38\" r=\"35\" fill=\"#870701\" fill-rule=\"evenodd\" fill-opacity=\"1\" stroke=\"#000000\" stroke-opacity=\"1\" stroke-width=\"3.2\"/>\n",
       "<circle clip-path=\"url(#clip782)\" cx=\"1877.89\" cy=\"1362.12\" r=\"34\" fill=\"#960d01\" fill-rule=\"evenodd\" fill-opacity=\"1\" stroke=\"#000000\" stroke-opacity=\"1\" stroke-width=\"3.2\"/>\n",
       "<circle clip-path=\"url(#clip782)\" cx=\"1890.05\" cy=\"1345.1\" r=\"33\" fill=\"#aa1601\" fill-rule=\"evenodd\" fill-opacity=\"1\" stroke=\"#000000\" stroke-opacity=\"1\" stroke-width=\"3.2\"/>\n",
       "<circle clip-path=\"url(#clip782)\" cx=\"1902.21\" cy=\"1323.43\" r=\"32\" fill=\"#c02202\" fill-rule=\"evenodd\" fill-opacity=\"1\" stroke=\"#000000\" stroke-opacity=\"1\" stroke-width=\"3.2\"/>\n",
       "<circle clip-path=\"url(#clip782)\" cx=\"1914.36\" cy=\"1297.29\" r=\"31\" fill=\"#d63405\" fill-rule=\"evenodd\" fill-opacity=\"1\" stroke=\"#000000\" stroke-opacity=\"1\" stroke-width=\"3.2\"/>\n",
       "<circle clip-path=\"url(#clip782)\" cx=\"1926.52\" cy=\"1266.86\" r=\"29\" fill=\"#e94e0d\" fill-rule=\"evenodd\" fill-opacity=\"1\" stroke=\"#000000\" stroke-opacity=\"1\" stroke-width=\"3.2\"/>\n",
       "<circle clip-path=\"url(#clip782)\" cx=\"1938.68\" cy=\"1232.39\" r=\"27\" fill=\"#f8731c\" fill-rule=\"evenodd\" fill-opacity=\"1\" stroke=\"#000000\" stroke-opacity=\"1\" stroke-width=\"3.2\"/>\n",
       "<circle clip-path=\"url(#clip782)\" cx=\"1950.83\" cy=\"1194.14\" r=\"25\" fill=\"#fea02f\" fill-rule=\"evenodd\" fill-opacity=\"1\" stroke=\"#000000\" stroke-opacity=\"1\" stroke-width=\"3.2\"/>\n",
       "<circle clip-path=\"url(#clip782)\" cx=\"1962.99\" cy=\"1152.4\" r=\"23\" fill=\"#f3c73a\" fill-rule=\"evenodd\" fill-opacity=\"1\" stroke=\"#000000\" stroke-opacity=\"1\" stroke-width=\"3.2\"/>\n",
       "<circle clip-path=\"url(#clip782)\" cx=\"1975.15\" cy=\"1107.48\" r=\"20\" fill=\"#d2e834\" fill-rule=\"evenodd\" fill-opacity=\"1\" stroke=\"#000000\" stroke-opacity=\"1\" stroke-width=\"3.2\"/>\n",
       "<circle clip-path=\"url(#clip782)\" cx=\"1987.3\" cy=\"1059.73\" r=\"18\" fill=\"#a2fc3c\" fill-rule=\"evenodd\" fill-opacity=\"1\" stroke=\"#000000\" stroke-opacity=\"1\" stroke-width=\"3.2\"/>\n",
       "<circle clip-path=\"url(#clip782)\" cx=\"1999.46\" cy=\"1009.5\" r=\"15\" fill=\"#5cfb70\" fill-rule=\"evenodd\" fill-opacity=\"1\" stroke=\"#000000\" stroke-opacity=\"1\" stroke-width=\"3.2\"/>\n",
       "<circle clip-path=\"url(#clip782)\" cx=\"2011.61\" cy=\"957.192\" r=\"12\" fill=\"#1de7b1\" fill-rule=\"evenodd\" fill-opacity=\"1\" stroke=\"#000000\" stroke-opacity=\"1\" stroke-width=\"3.2\"/>\n",
       "<circle clip-path=\"url(#clip782)\" cx=\"2023.77\" cy=\"903.192\" r=\"9\" fill=\"#25c0e6\" fill-rule=\"evenodd\" fill-opacity=\"1\" stroke=\"#000000\" stroke-opacity=\"1\" stroke-width=\"3.2\"/>\n",
       "<circle clip-path=\"url(#clip782)\" cx=\"2035.93\" cy=\"847.914\" r=\"6\" fill=\"#448afc\" fill-rule=\"evenodd\" fill-opacity=\"1\" stroke=\"#000000\" stroke-opacity=\"1\" stroke-width=\"3.2\"/>\n",
       "<circle clip-path=\"url(#clip782)\" cx=\"2048.08\" cy=\"791.778\" r=\"3\" fill=\"#4351bf\" fill-rule=\"evenodd\" fill-opacity=\"1\" stroke=\"#000000\" stroke-opacity=\"1\" stroke-width=\"3.2\"/>\n",
       "<circle clip-path=\"url(#clip782)\" style=\"fill:#30123b; stroke:none; fill-opacity:1\" cx=\"2060.24\" cy=\"735.212\" r=\"2\"/>\n",
       "<defs>\n",
       "  <clipPath id=\"clip783\">\n",
       "    <rect x=\"2160\" y=\"47\" width=\"73\" height=\"1377\"/>\n",
       "  </clipPath>\n",
       "</defs>\n",
       "<g clip-path=\"url(#clip783)\">\n",
       "<image width=\"72\" height=\"1376\" xlink:href=\"data:image/png;base64,\n",
       "iVBORw0KGgoAAAANSUhEUgAAAEgAAAVgCAYAAADsKhu7AAAMF0lEQVR4nO3d25HjShIFQQBMqVfy\n",
       "fTSAleBmfJIf7hLQwo6BrCKn5/zXXO/BP7q+/QJ+nUBBoCBQECjM5/z2S/htFhQECgIFgcKMh/TK\n",
       "goJAQaAgUBAozOd0X7axoCBQECgIFNwHBQsKAgWBgkDBfVCwoCBQECgIFAQKjhrBgoJAQaAgUPCQ\n",
       "DhYUBAoCBYGCh3SwoCBQECgIFAQK3sWCBQWBgkBBoOAhHSwoCBQECgIFgcJ8JFrJEwQKAgWBgqNG\n",
       "sKAgUBAoCBQ8pIMFBYGCQEGgIFBwHxTkCQIFgYJAwVEjWFAQKAgUBAoe0sGCgkBBoCBQECjMJdFK\n",
       "niBQECgIFBw1ggUFgYJAQaAgUPDVc5AnCBQECgKFuRw1VhYUBAoCBYGCT9JBniBQECgIFAQKjhrB\n",
       "goJAQaAgUJiPp/TKgoJAQaAgUPAjziBPECgIFAQKAgW/cg0WFAQKAgWBgqNGkCcIFAQKAgWBwly+\n",
       "1VhZUBAoCBQECn4fFCwoCBQECgIF90FBniBQECgIFAQKfuUaLCgIFAQKAgVHjSBPECgIFAQKc50+\n",
       "SW8sKAgUBAoCBYGCo0aQJwgUBAoCBQ/pIE8QKAgUBAoChTl99byyoCBQECgIFBw1gjxBoCBQECj4\n",
       "R73BgoJAQaAgUBAoOGoEeYJAQaAgUHBpHywoCBQECgIFn6SDPEGgIFAQKAgUfKsRLCgIFAQKAgX3\n",
       "QcGCgkBBoCBQECi4MAvyBIGCQEGgMKf/JnNlQUGgIFAQKLi0DxYUBAoCBYGCQMG3GsGCgkBBoCBQ\n",
       "mPPz7Zfw2ywoCBQECgIF90HBgoJAQaAgUBAo+Oo5WFAQKAgUBAoe0sGCgkBBoCBQECj46jlYUBAo\n",
       "CBQECnN9NNqoEwQKAgWBgvugYEFBoCBQECgIFLyLBQsKAgWBgkDBpX2woCBQECgIFHySDhYUBAoC\n",
       "BYGCQMG7WLCgIFAQKAgU5vT7oJU6QaAgUBAoCBTmcNRYWVAQKAgUBArug4IFBYGCQEGg4D4oqBME\n",
       "CgIFgYJAwVEjWFAQKAgUBAou7YMFBYGCQEGg4D4oqBMECgIFgYJAwVEjWFAQKAgUBAou7YMFBYGC\n",
       "QEGgIFCYw4XZSp0gUBAoCBQcNYIFBYGCQEGg4NI+WFAQKAgUBAoCBe9iwYKCQEGgIFBwaR/UCQIF\n",
       "gYJAwaV9sKAgUBAoCBQECu6DggUFgYJAQaDgIR0sKAgUBAoCBYGCd7FgQUGgIFAQKMx7eUhvLCgI\n",
       "FAQKAgWfpIMFBYGCQEGgIFDwLhYsKAgUBAoChTncB60sKAgUBAoChXl9kl5ZUBAoCBQECgIFR41g\n",
       "QUGgIFAQKDhqBAsKAgWBgkBBoOCoESwoCBQECgKFeSVayRMECgIFgYL7oGBBQaAgUBAoCBTcBwUL\n",
       "CgIFgYJAwX1QkCcIFAQKAgUP6SBPECgIFAQKAgV/BS9YUBAoCBQECvNItJInCBQECgIFgYILsyBP\n",
       "ECgIFAQKHtJBniBQECgIFOb5fPsl/DYLCgIFgYJAQaAw7/V++zX8NAsKAgWBgkDBV89BniBQECgI\n",
       "FFzaB3mCQEGgIFAQKDhqBHmCQEGgIFCYx6X9yoKCQEGgIFAQKLgwC/IEgYJAQaAwj79MsbKgIFAQ\n",
       "KAgU3AcFCwoCBYGCQEGg4KvnIE8QKAgUBAqOGsGCgkBBoCBQ8Ek6yBMECgIFgYJAYW6JVvIEgYJA\n",
       "QaAwz+k+aGNBQaAgUBAoCBRcmAV5gkBBoCBQ8JAO8gSBgkBBoDC3+6CVBQWBgkBBoCBQcNQI8gSB\n",
       "gkBBoOBPUwQLCgIFgYJAYW7/XmxlQUGgIFAQKAgUHDWCBQWBgkBBoDC3h/TKgoJAQaAgUBAo+Oo5\n",
       "yBMECgIFgYKjRrCgIFAQKAgU5jk9pTcWFAQKAgWBgkDBUSNYUBAoCBQECn4fFCwoCBQECgKFuS9P\n",
       "6Y0FBYGCQEGgIFBwHxQsKAgUBAoChXkOT+mNBQWBgkBBoCBQmNsPqFYWFAQKAgWBgq+egwUFgYJA\n",
       "QaAw96nRRp0gUBAoCBQECnP7VmNlQUGgIFAQKPhXz8GCgkBBoCBQmFujlTpBoCBQECgIFPw+KFhQ\n",
       "ECgIFAQKjhpBnSBQECgIFAQKfkAV1AkCBYGCQMFRI6gTBAoCBYGCh3RQJwgUBAoCBYHC/Gm0UicI\n",
       "FAQKAoW5j8+3X8NPs6AgUBAoCBR8kg7qBIGCQEGgIFBw1AgWFAQKAgWBwvx5SK8sKAgUBAoCBYGC\n",
       "d7FgQUGgIFAQKHhIBwsKAgWBgkDBQzpYUBAoCBQECgKFuV/vYhsLCgIFgYJAwVEjWFAQKAgUBAoe\n",
       "0sGCgkBBoCBQECjMn/uglQUFgYJAQaAwf8d8+zX8NAsKAgWBgkBBoOCoESwoCBQECgIF32oECwoC\n",
       "BYGCQGH+XvdBGwsKAgWBgkBBoOA+KFhQECgIFAQK7oOCBQWBgkBBoDC3+6CVBQWBgkBBoCBQcB8U\n",
       "LCgIFAQKAgVfPQcLCgIFgYJAQaDgr+AFCwoCBYGCQMF9ULCgIFAQKAgU5vanKVYWFAQKAgWBgkDB\n",
       "fVCwoCBQECgIFOZ+PKQ3FhQECgIFgYJP0sGCgkBBoCBQECh4FwsWFAQKAgWBgod0sKAgUBAoCBQE\n",
       "CvN4F1tZUBAoCBQECo4awYKCQEGgIFDwSTpYUBAoCBQECgKFefzKdWVBQaAgUBAoOGoECwoCBYGC\n",
       "QGHeV6ONOkGgIFAQKAgU3AcFCwoCBYGCQMFRI6gTBAoCBYGCQMG7WFAnCBQECgKFeR+NNuoEgYJA\n",
       "QaAwh98HrSwoCBQECgIFgYKjRlAnCBQECgKFOfw+aGVBQaAgUBAozOGT9EqdIFAQKAgUBAq+1QgW\n",
       "FAQKAgWBwpzug1YWFAQKAgWBgkDBhVlQJwgUBAoCBUeNYEFBoCBQECh4SAcLCgIFgYJAQaAwp/ug\n",
       "lTpBoCBQECg4agQLCgIFgYJAwUM6WFAQKAgUBAoCBfdBQZ0gUBAoCBTmuh01NhYUBAoCBYGCQMFR\n",
       "I6gTBAoCBYHCXL7VWFlQECgIFAQKc/kkvVInCBQECgIFgcKcvtVYWVAQKAgUBAqOGkGdIFAQKAgU\n",
       "PKSDOkGgIFAQKAgU5rw12qgTBAoCBYGCo0ZQJwgUBAoCBYHCXI4aK3WCQEGgIFBw1AjqBIGCQEGg\n",
       "MNd9fvs1/DQLCgIFgYJAQaDgT1MEdYJAQaAgUJjrcdTYWFAQKAgUBAq+WQ3qBIGCQEGgIFCY07ca\n",
       "KwsKAgWBgkBhrufbL+G3WVAQKAgUBAoCBUeNYEFBoCBQECj46jlYUBAoCBQECnPe334Jv82CgkBB\n",
       "oCBQECjM6VuNlQUFgYJAQaDgqBEsKAgUBAoCBZ+kgwUFgYJAQaAgUJjzfr/9Gn6aBQWBgkBBoOCo\n",
       "ESwoCBQECgIFgYKjRrCgIFAQKAgU5ng8pDcWFAQKAgWBwhy3C6GNBQWBgkBBoCBQmNNRY2VBQaAg\n",
       "UBAoOGoECwoCBYGCQGGOx0N6Y0FBoCBQECgIFBw1ggUFgYJAQaDgqBEsKAgUBAoCBYHCHLe/sLSx\n",
       "oCBQECgIFBw1ggUFgYJAQaDgk3SwoCBQECgIFAQKvnoOFhQECgIFgcIcj6PGxoKCQEGgIFBwHxQs\n",
       "KAgUBAoCBYGCo0awoCBQECgIFOa9/779Gn6aBQWBgkBBoCBQcGEWLCgIFAQKAoU5HkeNjQUFgYJA\n",
       "QaAwh/uglQUFgYJAQaAgUJjXfdDKgoJAQaAgUHAfFCwoCBQECgKFee//ffs1/DQLCgIFgYJAQaDg\n",
       "W41gQUGgIFAQKLgPChYUBAoCBYGCQMGFWbCgIFAQKAgUPKSDBQWBgkBBoDCHh/TKgoJAQaAgUBAo\n",
       "zPt4F9tYUBAoCBQECo4awYKCQEGgIFBwaR8sKAgUBAoCBYHCvPd/v/0afpoFBYGCQEGg4KgRLCgI\n",
       "FAQKAgWBwryPo8bGgoJAQaAgUJjDfdDKgoJAQaAgUHBpHywoCBQECgIFgYJ3sWBBQaAgUBAozHv/\n",
       "59uv4adZUBAoCBQECj5JBwsKAgWBgkBBoOCoESwoCBQECgIFP+IMFhQECgIFgYJAwVEjWFAQKAgU\n",
       "BAoe0sGCgkBBoCBQmMdDemVBQaAgUBAoCBTmvf/97dfw0ywoCBQECgIF90HBgoJAQaAgUPg/bFQh\n",
       "ScMc78MAAAAASUVORK5CYII=\n",
       "\" transform=\"translate(2161, 47)\"/>\n",
       "</g>\n",
       "<path clip-path=\"url(#clip780)\" d=\"M2280.7 1405.35 Q2277.09 1405.35 2275.26 1408.91 Q2273.45 1412.46 2273.45 1419.59 Q2273.45 1426.69 2275.26 1430.26 Q2277.09 1433.8 2280.7 1433.8 Q2284.33 1433.8 2286.14 1430.26 Q2287.97 1426.69 2287.97 1419.59 Q2287.97 1412.46 2286.14 1408.91 Q2284.33 1405.35 2280.7 1405.35 M2280.7 1401.65 Q2286.51 1401.65 2289.57 1406.25 Q2292.64 1410.84 2292.64 1419.59 Q2292.64 1428.31 2289.57 1432.92 Q2286.51 1437.5 2280.7 1437.5 Q2274.89 1437.5 2271.81 1432.92 Q2268.76 1428.31 2268.76 1419.59 Q2268.76 1410.84 2271.81 1406.25 Q2274.89 1401.65 2280.7 1401.65 Z\" fill=\"#000000\" fill-rule=\"evenodd\" fill-opacity=\"1\" /><path clip-path=\"url(#clip780)\" d=\"M2280.7 1267.76 Q2277.09 1267.76 2275.26 1271.32 Q2273.45 1274.86 2273.45 1281.99 Q2273.45 1289.1 2275.26 1292.66 Q2277.09 1296.21 2280.7 1296.21 Q2284.33 1296.21 2286.14 1292.66 Q2287.97 1289.1 2287.97 1281.99 Q2287.97 1274.86 2286.14 1271.32 Q2284.33 1267.76 2280.7 1267.76 M2280.7 1264.05 Q2286.51 1264.05 2289.57 1268.66 Q2292.64 1273.24 2292.64 1281.99 Q2292.64 1290.72 2289.57 1295.33 Q2286.51 1299.91 2280.7 1299.91 Q2274.89 1299.91 2271.81 1295.33 Q2268.76 1290.72 2268.76 1281.99 Q2268.76 1273.24 2271.81 1268.66 Q2274.89 1264.05 2280.7 1264.05 Z\" fill=\"#000000\" fill-rule=\"evenodd\" fill-opacity=\"1\" /><path clip-path=\"url(#clip780)\" d=\"M2300.86 1293.36 L2305.75 1293.36 L2305.75 1299.24 L2300.86 1299.24 L2300.86 1293.36 Z\" fill=\"#000000\" fill-rule=\"evenodd\" fill-opacity=\"1\" /><path clip-path=\"url(#clip780)\" d=\"M2316.74 1295.3 L2324.38 1295.3 L2324.38 1268.94 L2316.07 1270.6 L2316.07 1266.34 L2324.33 1264.68 L2329.01 1264.68 L2329.01 1295.3 L2336.65 1295.3 L2336.65 1299.24 L2316.74 1299.24 L2316.74 1295.3 Z\" fill=\"#000000\" fill-rule=\"evenodd\" fill-opacity=\"1\" /><path clip-path=\"url(#clip780)\" d=\"M2280.7 1130.16 Q2277.09 1130.16 2275.26 1133.73 Q2273.45 1137.27 2273.45 1144.4 Q2273.45 1151.51 2275.26 1155.07 Q2277.09 1158.61 2280.7 1158.61 Q2284.33 1158.61 2286.14 1155.07 Q2287.97 1151.51 2287.97 1144.4 Q2287.97 1137.27 2286.14 1133.73 Q2284.33 1130.16 2280.7 1130.16 M2280.7 1126.46 Q2286.51 1126.46 2289.57 1131.07 Q2292.64 1135.65 2292.64 1144.4 Q2292.64 1153.13 2289.57 1157.73 Q2286.51 1162.32 2280.7 1162.32 Q2274.89 1162.32 2271.81 1157.73 Q2268.76 1153.13 2268.76 1144.4 Q2268.76 1135.65 2271.81 1131.07 Q2274.89 1126.46 2280.7 1126.46 Z\" fill=\"#000000\" fill-rule=\"evenodd\" fill-opacity=\"1\" /><path clip-path=\"url(#clip780)\" d=\"M2300.86 1155.76 L2305.75 1155.76 L2305.75 1161.64 L2300.86 1161.64 L2300.86 1155.76 Z\" fill=\"#000000\" fill-rule=\"evenodd\" fill-opacity=\"1\" /><path clip-path=\"url(#clip780)\" d=\"M2319.96 1157.71 L2336.28 1157.71 L2336.28 1161.64 L2314.33 1161.64 L2314.33 1157.71 Q2317 1154.95 2321.58 1150.32 Q2326.19 1145.67 2327.37 1144.33 Q2329.61 1141.81 2330.49 1140.07 Q2331.39 1138.31 2331.39 1136.62 Q2331.39 1133.87 2329.45 1132.13 Q2327.53 1130.39 2324.43 1130.39 Q2322.23 1130.39 2319.77 1131.16 Q2317.34 1131.92 2314.57 1133.47 L2314.57 1128.75 Q2317.39 1127.62 2319.84 1127.04 Q2322.3 1126.46 2324.33 1126.46 Q2329.7 1126.46 2332.9 1129.14 Q2336.09 1131.83 2336.09 1136.32 Q2336.09 1138.45 2335.28 1140.37 Q2334.5 1142.27 2332.39 1144.86 Q2331.81 1145.53 2328.71 1148.75 Q2325.61 1151.94 2319.96 1157.71 Z\" fill=\"#000000\" fill-rule=\"evenodd\" fill-opacity=\"1\" /><path clip-path=\"url(#clip780)\" d=\"M2280.7 992.569 Q2277.09 992.569 2275.26 996.134 Q2273.45 999.675 2273.45 1006.81 Q2273.45 1013.91 2275.26 1017.48 Q2277.09 1021.02 2280.7 1021.02 Q2284.33 1021.02 2286.14 1017.48 Q2287.97 1013.91 2287.97 1006.81 Q2287.97 999.675 2286.14 996.134 Q2284.33 992.569 2280.7 992.569 M2280.7 988.865 Q2286.51 988.865 2289.57 993.472 Q2292.64 998.055 2292.64 1006.81 Q2292.64 1015.53 2289.57 1020.14 Q2286.51 1024.72 2280.7 1024.72 Q2274.89 1024.72 2271.81 1020.14 Q2268.76 1015.53 2268.76 1006.81 Q2268.76 998.055 2271.81 993.472 Q2274.89 988.865 2280.7 988.865 Z\" fill=\"#000000\" fill-rule=\"evenodd\" fill-opacity=\"1\" /><path clip-path=\"url(#clip780)\" d=\"M2300.86 1018.17 L2305.75 1018.17 L2305.75 1024.05 L2300.86 1024.05 L2300.86 1018.17 Z\" fill=\"#000000\" fill-rule=\"evenodd\" fill-opacity=\"1\" /><path clip-path=\"url(#clip780)\" d=\"M2330.1 1005.42 Q2333.45 1006.13 2335.33 1008.4 Q2337.23 1010.67 2337.23 1014 Q2337.23 1019.12 2333.71 1021.92 Q2330.19 1024.72 2323.71 1024.72 Q2321.53 1024.72 2319.22 1024.28 Q2316.93 1023.87 2314.47 1023.01 L2314.47 1018.49 Q2316.42 1019.63 2318.73 1020.21 Q2321.05 1020.79 2323.57 1020.79 Q2327.97 1020.79 2330.26 1019.05 Q2332.58 1017.31 2332.58 1014 Q2332.58 1010.95 2330.42 1009.24 Q2328.29 1007.5 2324.47 1007.5 L2320.45 1007.5 L2320.45 1003.66 L2324.66 1003.66 Q2328.11 1003.66 2329.94 1002.29 Q2331.76 1000.9 2331.76 998.31 Q2331.76 995.648 2329.87 994.236 Q2327.99 992.8 2324.47 992.8 Q2322.55 992.8 2320.35 993.217 Q2318.15 993.634 2315.51 994.513 L2315.51 990.347 Q2318.18 989.606 2320.49 989.236 Q2322.83 988.865 2324.89 988.865 Q2330.21 988.865 2333.32 991.296 Q2336.42 993.703 2336.42 997.824 Q2336.42 1000.69 2334.77 1002.68 Q2333.13 1004.65 2330.1 1005.42 Z\" fill=\"#000000\" fill-rule=\"evenodd\" fill-opacity=\"1\" /><path clip-path=\"url(#clip780)\" d=\"M2280.7 854.975 Q2277.09 854.975 2275.26 858.54 Q2273.45 862.082 2273.45 869.211 Q2273.45 876.318 2275.26 879.883 Q2277.09 883.424 2280.7 883.424 Q2284.33 883.424 2286.14 879.883 Q2287.97 876.318 2287.97 869.211 Q2287.97 862.082 2286.14 858.54 Q2284.33 854.975 2280.7 854.975 M2280.7 851.272 Q2286.51 851.272 2289.57 855.878 Q2292.64 860.462 2292.64 869.211 Q2292.64 877.938 2289.57 882.545 Q2286.51 887.128 2280.7 887.128 Q2274.89 887.128 2271.81 882.545 Q2268.76 877.938 2268.76 869.211 Q2268.76 860.462 2271.81 855.878 Q2274.89 851.272 2280.7 851.272 Z\" fill=\"#000000\" fill-rule=\"evenodd\" fill-opacity=\"1\" /><path clip-path=\"url(#clip780)\" d=\"M2300.86 880.577 L2305.75 880.577 L2305.75 886.457 L2300.86 886.457 L2300.86 880.577 Z\" fill=\"#000000\" fill-rule=\"evenodd\" fill-opacity=\"1\" /><path clip-path=\"url(#clip780)\" d=\"M2328.78 855.971 L2316.97 874.42 L2328.78 874.42 L2328.78 855.971 M2327.55 851.897 L2333.43 851.897 L2333.43 874.42 L2338.36 874.42 L2338.36 878.309 L2333.43 878.309 L2333.43 886.457 L2328.78 886.457 L2328.78 878.309 L2313.18 878.309 L2313.18 873.795 L2327.55 851.897 Z\" fill=\"#000000\" fill-rule=\"evenodd\" fill-opacity=\"1\" /><path clip-path=\"url(#clip780)\" d=\"M2280.7 717.382 Q2277.09 717.382 2275.26 720.947 Q2273.45 724.488 2273.45 731.618 Q2273.45 738.724 2275.26 742.289 Q2277.09 745.831 2280.7 745.831 Q2284.33 745.831 2286.14 742.289 Q2287.97 738.724 2287.97 731.618 Q2287.97 724.488 2286.14 720.947 Q2284.33 717.382 2280.7 717.382 M2280.7 713.678 Q2286.51 713.678 2289.57 718.285 Q2292.64 722.868 2292.64 731.618 Q2292.64 740.345 2289.57 744.951 Q2286.51 749.534 2280.7 749.534 Q2274.89 749.534 2271.81 744.951 Q2268.76 740.345 2268.76 731.618 Q2268.76 722.868 2271.81 718.285 Q2274.89 713.678 2280.7 713.678 Z\" fill=\"#000000\" fill-rule=\"evenodd\" fill-opacity=\"1\" /><path clip-path=\"url(#clip780)\" d=\"M2300.86 742.984 L2305.75 742.984 L2305.75 748.863 L2300.86 748.863 L2300.86 742.984 Z\" fill=\"#000000\" fill-rule=\"evenodd\" fill-opacity=\"1\" /><path clip-path=\"url(#clip780)\" d=\"M2315.98 714.303 L2334.33 714.303 L2334.33 718.238 L2320.26 718.238 L2320.26 726.711 Q2321.28 726.363 2322.3 726.201 Q2323.32 726.016 2324.33 726.016 Q2330.12 726.016 2333.5 729.187 Q2336.88 732.359 2336.88 737.775 Q2336.88 743.354 2333.41 746.456 Q2329.94 749.534 2323.62 749.534 Q2321.44 749.534 2319.17 749.164 Q2316.93 748.794 2314.52 748.053 L2314.52 743.354 Q2316.6 744.488 2318.83 745.044 Q2321.05 745.599 2323.52 745.599 Q2327.53 745.599 2329.87 743.493 Q2332.2 741.386 2332.2 737.775 Q2332.2 734.164 2329.87 732.058 Q2327.53 729.951 2323.52 729.951 Q2321.65 729.951 2319.77 730.368 Q2317.92 730.785 2315.98 731.664 L2315.98 714.303 Z\" fill=\"#000000\" fill-rule=\"evenodd\" fill-opacity=\"1\" /><path clip-path=\"url(#clip780)\" d=\"M2280.7 579.788 Q2277.09 579.788 2275.26 583.353 Q2273.45 586.895 2273.45 594.024 Q2273.45 601.131 2275.26 604.696 Q2277.09 608.237 2280.7 608.237 Q2284.33 608.237 2286.14 604.696 Q2287.97 601.131 2287.97 594.024 Q2287.97 586.895 2286.14 583.353 Q2284.33 579.788 2280.7 579.788 M2280.7 576.085 Q2286.51 576.085 2289.57 580.691 Q2292.64 585.274 2292.64 594.024 Q2292.64 602.751 2289.57 607.358 Q2286.51 611.941 2280.7 611.941 Q2274.89 611.941 2271.81 607.358 Q2268.76 602.751 2268.76 594.024 Q2268.76 585.274 2271.81 580.691 Q2274.89 576.085 2280.7 576.085 Z\" fill=\"#000000\" fill-rule=\"evenodd\" fill-opacity=\"1\" /><path clip-path=\"url(#clip780)\" d=\"M2300.86 605.39 L2305.75 605.39 L2305.75 611.27 L2300.86 611.27 L2300.86 605.39 Z\" fill=\"#000000\" fill-rule=\"evenodd\" fill-opacity=\"1\" /><path clip-path=\"url(#clip780)\" d=\"M2326.51 592.126 Q2323.36 592.126 2321.51 594.279 Q2319.68 596.432 2319.68 600.182 Q2319.68 603.909 2321.51 606.084 Q2323.36 608.237 2326.51 608.237 Q2329.66 608.237 2331.49 606.084 Q2333.34 603.909 2333.34 600.182 Q2333.34 596.432 2331.49 594.279 Q2329.66 592.126 2326.51 592.126 M2335.79 577.473 L2335.79 581.733 Q2334.03 580.899 2332.23 580.46 Q2330.45 580.02 2328.69 580.02 Q2324.06 580.02 2321.6 583.145 Q2319.17 586.27 2318.83 592.589 Q2320.19 590.575 2322.25 589.51 Q2324.31 588.422 2326.79 588.422 Q2332 588.422 2335.01 591.594 Q2338.04 594.742 2338.04 600.182 Q2338.04 605.506 2334.89 608.723 Q2331.74 611.941 2326.51 611.941 Q2320.51 611.941 2317.34 607.358 Q2314.17 602.751 2314.17 594.024 Q2314.17 585.83 2318.06 580.969 Q2321.95 576.085 2328.5 576.085 Q2330.26 576.085 2332.04 576.432 Q2333.85 576.779 2335.79 577.473 Z\" fill=\"#000000\" fill-rule=\"evenodd\" fill-opacity=\"1\" /><path clip-path=\"url(#clip780)\" d=\"M2280.7 442.195 Q2277.09 442.195 2275.26 445.76 Q2273.45 449.301 2273.45 456.431 Q2273.45 463.537 2275.26 467.102 Q2277.09 470.644 2280.7 470.644 Q2284.33 470.644 2286.14 467.102 Q2287.97 463.537 2287.97 456.431 Q2287.97 449.301 2286.14 445.76 Q2284.33 442.195 2280.7 442.195 M2280.7 438.491 Q2286.51 438.491 2289.57 443.097 Q2292.64 447.681 2292.64 456.431 Q2292.64 465.158 2289.57 469.764 Q2286.51 474.347 2280.7 474.347 Q2274.89 474.347 2271.81 469.764 Q2268.76 465.158 2268.76 456.431 Q2268.76 447.681 2271.81 443.097 Q2274.89 438.491 2280.7 438.491 Z\" fill=\"#000000\" fill-rule=\"evenodd\" fill-opacity=\"1\" /><path clip-path=\"url(#clip780)\" d=\"M2300.86 467.796 L2305.75 467.796 L2305.75 473.676 L2300.86 473.676 L2300.86 467.796 Z\" fill=\"#000000\" fill-rule=\"evenodd\" fill-opacity=\"1\" /><path clip-path=\"url(#clip780)\" d=\"M2314.75 439.116 L2336.97 439.116 L2336.97 441.107 L2324.43 473.676 L2319.54 473.676 L2331.35 443.051 L2314.75 443.051 L2314.75 439.116 Z\" fill=\"#000000\" fill-rule=\"evenodd\" fill-opacity=\"1\" /><path clip-path=\"url(#clip780)\" d=\"M2280.7 304.601 Q2277.09 304.601 2275.26 308.166 Q2273.45 311.708 2273.45 318.837 Q2273.45 325.944 2275.26 329.508 Q2277.09 333.05 2280.7 333.05 Q2284.33 333.05 2286.14 329.508 Q2287.97 325.944 2287.97 318.837 Q2287.97 311.708 2286.14 308.166 Q2284.33 304.601 2280.7 304.601 M2280.7 300.897 Q2286.51 300.897 2289.57 305.504 Q2292.64 310.087 2292.64 318.837 Q2292.64 327.564 2289.57 332.17 Q2286.51 336.754 2280.7 336.754 Q2274.89 336.754 2271.81 332.17 Q2268.76 327.564 2268.76 318.837 Q2268.76 310.087 2271.81 305.504 Q2274.89 300.897 2280.7 300.897 Z\" fill=\"#000000\" fill-rule=\"evenodd\" fill-opacity=\"1\" /><path clip-path=\"url(#clip780)\" d=\"M2300.86 330.203 L2305.75 330.203 L2305.75 336.082 L2300.86 336.082 L2300.86 330.203 Z\" fill=\"#000000\" fill-rule=\"evenodd\" fill-opacity=\"1\" /><path clip-path=\"url(#clip780)\" d=\"M2325.93 319.67 Q2322.6 319.67 2320.68 321.453 Q2318.78 323.235 2318.78 326.36 Q2318.78 329.485 2320.68 331.268 Q2322.6 333.05 2325.93 333.05 Q2329.26 333.05 2331.19 331.268 Q2333.11 329.462 2333.11 326.36 Q2333.11 323.235 2331.19 321.453 Q2329.29 319.67 2325.93 319.67 M2321.26 317.68 Q2318.25 316.939 2316.56 314.879 Q2314.89 312.819 2314.89 309.856 Q2314.89 305.712 2317.83 303.305 Q2320.79 300.897 2325.93 300.897 Q2331.09 300.897 2334.03 303.305 Q2336.97 305.712 2336.97 309.856 Q2336.97 312.819 2335.28 314.879 Q2333.62 316.939 2330.63 317.68 Q2334.01 318.467 2335.89 320.758 Q2337.78 323.05 2337.78 326.36 Q2337.78 331.383 2334.7 334.069 Q2331.65 336.754 2325.93 336.754 Q2320.21 336.754 2317.14 334.069 Q2314.08 331.383 2314.08 326.36 Q2314.08 323.05 2315.98 320.758 Q2317.88 318.467 2321.26 317.68 M2319.54 310.296 Q2319.54 312.981 2321.21 314.485 Q2322.9 315.99 2325.93 315.99 Q2328.94 315.99 2330.63 314.485 Q2332.34 312.981 2332.34 310.296 Q2332.34 307.61 2330.63 306.106 Q2328.94 304.601 2325.93 304.601 Q2322.9 304.601 2321.21 306.106 Q2319.54 307.61 2319.54 310.296 Z\" fill=\"#000000\" fill-rule=\"evenodd\" fill-opacity=\"1\" /><path clip-path=\"url(#clip780)\" d=\"M2280.7 167.008 Q2277.09 167.008 2275.26 170.572 Q2273.45 174.114 2273.45 181.244 Q2273.45 188.35 2275.26 191.915 Q2277.09 195.456 2280.7 195.456 Q2284.33 195.456 2286.14 191.915 Q2287.97 188.35 2287.97 181.244 Q2287.97 174.114 2286.14 170.572 Q2284.33 167.008 2280.7 167.008 M2280.7 163.304 Q2286.51 163.304 2289.57 167.91 Q2292.64 172.494 2292.64 181.244 Q2292.64 189.97 2289.57 194.577 Q2286.51 199.16 2280.7 199.16 Q2274.89 199.16 2271.81 194.577 Q2268.76 189.97 2268.76 181.244 Q2268.76 172.494 2271.81 167.91 Q2274.89 163.304 2280.7 163.304 Z\" fill=\"#000000\" fill-rule=\"evenodd\" fill-opacity=\"1\" /><path clip-path=\"url(#clip780)\" d=\"M2300.86 192.609 L2305.75 192.609 L2305.75 198.489 L2300.86 198.489 L2300.86 192.609 Z\" fill=\"#000000\" fill-rule=\"evenodd\" fill-opacity=\"1\" /><path clip-path=\"url(#clip780)\" d=\"M2316.07 197.771 L2316.07 193.512 Q2317.83 194.345 2319.64 194.785 Q2321.44 195.225 2323.18 195.225 Q2327.81 195.225 2330.24 192.123 Q2332.69 188.998 2333.04 182.656 Q2331.7 184.646 2329.64 185.711 Q2327.58 186.776 2325.08 186.776 Q2319.89 186.776 2316.86 183.651 Q2313.85 180.503 2313.85 175.063 Q2313.85 169.739 2317 166.521 Q2320.14 163.304 2325.38 163.304 Q2331.37 163.304 2334.52 167.91 Q2337.69 172.494 2337.69 181.244 Q2337.69 189.415 2333.8 194.299 Q2329.94 199.16 2323.39 199.16 Q2321.63 199.16 2319.82 198.813 Q2318.01 198.466 2316.07 197.771 M2325.38 183.119 Q2328.52 183.119 2330.35 180.966 Q2332.2 178.813 2332.2 175.063 Q2332.2 171.336 2330.35 169.183 Q2328.52 167.008 2325.38 167.008 Q2322.23 167.008 2320.38 169.183 Q2318.55 171.336 2318.55 175.063 Q2318.55 178.813 2320.38 180.966 Q2322.23 183.119 2325.38 183.119 Z\" fill=\"#000000\" fill-rule=\"evenodd\" fill-opacity=\"1\" /><path clip-path=\"url(#clip780)\" d=\"M2269.43 56.9601 L2277.07 56.9601 L2277.07 30.5945 L2268.76 32.2612 L2268.76 28.002 L2277.02 26.3353 L2281.7 26.3353 L2281.7 56.9601 L2289.33 56.9601 L2289.33 60.8953 L2269.43 60.8953 L2269.43 56.9601 Z\" fill=\"#000000\" fill-rule=\"evenodd\" fill-opacity=\"1\" /><path clip-path=\"url(#clip780)\" d=\"M2298.78 55.0157 L2303.66 55.0157 L2303.66 60.8953 L2298.78 60.8953 L2298.78 55.0157 Z\" fill=\"#000000\" fill-rule=\"evenodd\" fill-opacity=\"1\" /><path clip-path=\"url(#clip780)\" d=\"M2323.85 29.414 Q2320.24 29.414 2318.41 32.9788 Q2316.6 36.5204 2316.6 43.65 Q2316.6 50.7565 2318.41 54.3213 Q2320.24 57.8629 2323.85 57.8629 Q2327.48 57.8629 2329.29 54.3213 Q2331.12 50.7565 2331.12 43.65 Q2331.12 36.5204 2329.29 32.9788 Q2327.48 29.414 2323.85 29.414 M2323.85 25.7103 Q2329.66 25.7103 2332.71 30.3168 Q2335.79 34.9001 2335.79 43.65 Q2335.79 52.3768 2332.71 56.9833 Q2329.66 61.5666 2323.85 61.5666 Q2318.04 61.5666 2314.96 56.9833 Q2311.9 52.3768 2311.9 43.65 Q2311.9 34.9001 2314.96 30.3168 Q2318.04 25.7103 2323.85 25.7103 Z\" fill=\"#000000\" fill-rule=\"evenodd\" fill-opacity=\"1\" /><polyline clip-path=\"url(#clip780)\" style=\"stroke:#000000; stroke-linecap:butt; stroke-linejoin:round; stroke-width:4; stroke-opacity:1; fill:none\" points=\"\n",
       "  2232.76,1423.18 2232.76,1423.18 2256.76,1423.18 2232.76,1423.18 2232.76,1285.59 2256.76,1285.59 2232.76,1285.59 2232.76,1147.99 2256.76,1147.99 2232.76,1147.99 \n",
       "  2232.76,1010.4 2256.76,1010.4 2232.76,1010.4 2232.76,872.806 2256.76,872.806 2232.76,872.806 2232.76,735.212 2256.76,735.212 2232.76,735.212 2232.76,597.618 \n",
       "  2256.76,597.618 2232.76,597.618 2232.76,460.025 2256.76,460.025 2232.76,460.025 2232.76,322.431 2256.76,322.431 2232.76,322.431 2232.76,184.838 2256.76,184.838 \n",
       "  2232.76,184.838 2232.76,47.2441 2256.76,47.2441 2232.76,47.2441 \n",
       "  \"/>\n",
       "<path clip-path=\"url(#clip780)\" d=\"\n",
       "M1619.34 196.789 L2050.9 196.789 L2050.9 93.1086 L1619.34 93.1086  Z\n",
       "  \" fill=\"#ffffff\" fill-rule=\"evenodd\" fill-opacity=\"1\"/>\n",
       "<polyline clip-path=\"url(#clip780)\" style=\"stroke:#000000; stroke-linecap:butt; stroke-linejoin:round; stroke-width:4; stroke-opacity:1; fill:none\" points=\"\n",
       "  1619.34,196.789 2050.9,196.789 2050.9,93.1086 1619.34,93.1086 1619.34,196.789 \n",
       "  \"/>\n",
       "<circle clip-path=\"url(#clip780)\" style=\"fill:#30123b; stroke:none; fill-opacity:1\" cx=\"1701.81\" cy=\"144.949\" r=\"2\"/>\n",
       "<path clip-path=\"url(#clip780)\" d=\"M1798.12 164.636 Q1796.31 169.266 1794.6 170.678 Q1792.89 172.09 1790.02 172.09 L1786.62 172.09 L1786.62 168.525 L1789.12 168.525 Q1790.87 168.525 1791.85 167.692 Q1792.82 166.858 1794 163.756 L1794.76 161.812 L1784.28 136.303 L1788.79 136.303 L1796.89 156.581 L1804.99 136.303 L1809.51 136.303 L1798.12 164.636 Z\" fill=\"#000000\" fill-rule=\"evenodd\" fill-opacity=\"1\" /><path clip-path=\"url(#clip780)\" d=\"M1831.01 140.701 L1860.69 140.701 L1860.69 144.59 L1831.01 144.59 L1831.01 140.701 M1831.01 150.145 L1860.69 150.145 L1860.69 154.081 L1831.01 154.081 L1831.01 150.145 Z\" fill=\"#000000\" fill-rule=\"evenodd\" fill-opacity=\"1\" /><path clip-path=\"url(#clip780)\" d=\"M1901.78 137.067 L1901.78 141.094 Q1899.97 140.169 1898.03 139.706 Q1896.08 139.243 1894 139.243 Q1890.83 139.243 1889.23 140.215 Q1887.66 141.187 1887.66 143.131 Q1887.66 144.613 1888.79 145.469 Q1889.92 146.303 1893.35 147.067 L1894.81 147.391 Q1899.35 148.363 1901.24 150.145 Q1903.17 151.905 1903.17 155.076 Q1903.17 158.687 1900.3 160.793 Q1897.45 162.9 1892.45 162.9 Q1890.36 162.9 1888.1 162.483 Q1885.85 162.09 1883.35 161.28 L1883.35 156.881 Q1885.71 158.108 1888 158.733 Q1890.3 159.335 1892.54 159.335 Q1895.55 159.335 1897.17 158.317 Q1898.79 157.275 1898.79 155.4 Q1898.79 153.664 1897.61 152.738 Q1896.45 151.812 1892.49 150.956 L1891.01 150.608 Q1887.05 149.775 1885.3 148.062 Q1883.54 146.326 1883.54 143.317 Q1883.54 139.659 1886.13 137.669 Q1888.72 135.678 1893.49 135.678 Q1895.85 135.678 1897.93 136.025 Q1900.02 136.372 1901.78 137.067 Z\" fill=\"#000000\" fill-rule=\"evenodd\" fill-opacity=\"1\" /><path clip-path=\"url(#clip780)\" d=\"M1909.95 136.303 L1914.21 136.303 L1914.21 162.229 L1909.95 162.229 L1909.95 136.303 M1909.95 126.21 L1914.21 126.21 L1914.21 131.604 L1909.95 131.604 L1909.95 126.21 Z\" fill=\"#000000\" fill-rule=\"evenodd\" fill-opacity=\"1\" /><path clip-path=\"url(#clip780)\" d=\"M1944.67 146.581 L1944.67 162.229 L1940.41 162.229 L1940.41 146.719 Q1940.41 143.039 1938.98 141.21 Q1937.54 139.382 1934.67 139.382 Q1931.22 139.382 1929.23 141.581 Q1927.24 143.78 1927.24 147.576 L1927.24 162.229 L1922.96 162.229 L1922.96 136.303 L1927.24 136.303 L1927.24 140.331 Q1928.77 137.993 1930.83 136.835 Q1932.91 135.678 1935.62 135.678 Q1940.09 135.678 1942.38 138.456 Q1944.67 141.21 1944.67 146.581 Z\" fill=\"#000000\" fill-rule=\"evenodd\" fill-opacity=\"1\" /><path clip-path=\"url(#clip780)\" d=\"M1963.4 126.257 Q1960.29 131.581 1958.79 136.789 Q1957.29 141.997 1957.29 147.344 Q1957.29 152.692 1958.79 157.946 Q1960.32 163.178 1963.4 168.479 L1959.69 168.479 Q1956.22 163.039 1954.48 157.784 Q1952.77 152.53 1952.77 147.344 Q1952.77 142.182 1954.48 136.951 Q1956.2 131.72 1959.69 126.257 L1963.4 126.257 Z\" fill=\"#000000\" fill-rule=\"evenodd\" fill-opacity=\"1\" /><path clip-path=\"url(#clip780)\" d=\"M1993.21 136.303 L1983.84 148.919 L1993.7 162.229 L1988.67 162.229 L1981.13 152.043 L1973.58 162.229 L1968.56 162.229 L1978.63 148.664 L1969.42 136.303 L1974.44 136.303 L1981.31 145.539 L1988.19 136.303 L1993.21 136.303 Z\" fill=\"#000000\" fill-rule=\"evenodd\" fill-opacity=\"1\" /><path clip-path=\"url(#clip780)\" d=\"M1999.04 126.257 L2002.75 126.257 Q2006.22 131.72 2007.93 136.951 Q2009.67 142.182 2009.67 147.344 Q2009.67 152.53 2007.93 157.784 Q2006.22 163.039 2002.75 168.479 L1999.04 168.479 Q2002.12 163.178 2003.63 157.946 Q2005.16 152.692 2005.16 147.344 Q2005.16 141.997 2003.63 136.789 Q2002.12 131.581 1999.04 126.257 Z\" fill=\"#000000\" fill-rule=\"evenodd\" fill-opacity=\"1\" /></svg>\n"
      ]
     },
     "execution_count": 106,
     "metadata": {},
     "output_type": "execute_result"
    }
   ],
   "source": [
    "# same as above, but with the markersize set to be the y value:\n",
    "x = 0:5:720\n",
    "y = sind.(x)\n",
    "z = abs.(y)\n",
    "scatter(x, y, zcolor = z, markersize=z*10,\n",
    "    c = :turbo,\n",
    "    xlabel = \"x (degrees)\", \n",
    "    ylabel = \"y \",\n",
    "    label = \"y = sin(x)\")\n"
   ]
  }
 ],
 "metadata": {
  "kernelspec": {
   "display_name": "Julia 1.6.2",
   "language": "julia",
   "name": "julia-1.6"
  },
  "language_info": {
   "file_extension": ".jl",
   "mimetype": "application/julia",
   "name": "julia",
   "version": "1.6.2"
  }
 },
 "nbformat": 4,
 "nbformat_minor": 4
}
